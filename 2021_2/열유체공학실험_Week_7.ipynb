{
  "nbformat": 4,
  "nbformat_minor": 0,
  "metadata": {
    "colab": {
      "name": "열유체공학실험_Week_7.ipynb",
      "provenance": [],
      "collapsed_sections": [],
      "authorship_tag": "ABX9TyNUngjQFRfYxXAPmLpp4gbp",
      "include_colab_link": true
    },
    "kernelspec": {
      "name": "python3",
      "display_name": "Python 3"
    },
    "language_info": {
      "name": "python"
    }
  },
  "cells": [
    {
      "cell_type": "markdown",
      "metadata": {
        "id": "view-in-github",
        "colab_type": "text"
      },
      "source": [
        "<a href=\"https://colab.research.google.com/github/JK-the-Ko/Thermo_Fluid_Dynamics_Experiment/blob/main/2021_2/%EC%97%B4%EC%9C%A0%EC%B2%B4%EA%B3%B5%ED%95%99%EC%8B%A4%ED%97%98_Week_7.ipynb\" target=\"_parent\"><img src=\"https://colab.research.google.com/assets/colab-badge.svg\" alt=\"Open In Colab\"/></a>"
      ]
    },
    {
      "cell_type": "markdown",
      "metadata": {
        "id": "7gwxyxhlsk94"
      },
      "source": [
        "**Finite Difference Formulations**"
      ]
    },
    {
      "cell_type": "markdown",
      "metadata": {
        "id": "1xyiOPVGsoVG"
      },
      "source": [
        "**Import Library**"
      ]
    },
    {
      "cell_type": "code",
      "metadata": {
        "id": "LtrLT9DxdfuS"
      },
      "source": [
        "# Import Library\n",
        "import numpy as np\n",
        "import matplotlib.pyplot as plt"
      ],
      "execution_count": null,
      "outputs": []
    },
    {
      "cell_type": "markdown",
      "metadata": {
        "id": "ZYT3Y9romF12"
      },
      "source": [
        "**First Order Derivative**"
      ]
    },
    {
      "cell_type": "markdown",
      "metadata": {
        "id": "PUl2Gf9omHpz"
      },
      "source": [
        "**First Forward Difference Approximation**"
      ]
    },
    {
      "cell_type": "code",
      "metadata": {
        "id": "dYfFlrEsl7NL"
      },
      "source": [
        "def function(x) :\n",
        "  return 3*x**2 + 2*x + 1"
      ],
      "execution_count": null,
      "outputs": []
    },
    {
      "cell_type": "code",
      "metadata": {
        "id": "Tj7x2WhnmfZb"
      },
      "source": [
        "x = np.arange(0, 10)\n",
        "y = function(x)"
      ],
      "execution_count": null,
      "outputs": []
    },
    {
      "cell_type": "code",
      "metadata": {
        "id": "nt_LXUKhmk2K"
      },
      "source": [
        "plt.plot(x, y)\n",
        "plt.show()"
      ],
      "execution_count": null,
      "outputs": []
    },
    {
      "cell_type": "code",
      "metadata": {
        "id": "-g9ynhBFmnxk"
      },
      "source": [
        "x_input, delta = 5, 1e-3"
      ],
      "execution_count": null,
      "outputs": []
    },
    {
      "cell_type": "code",
      "metadata": {
        "id": "KaGzLIkRm51J"
      },
      "source": [
        "f_i, f_i_p_1 = function(x_input), function(x_input + delta)"
      ],
      "execution_count": null,
      "outputs": []
    },
    {
      "cell_type": "code",
      "metadata": {
        "id": "fKn59wZTnecN"
      },
      "source": [
        "def FFDA(f_i, f_i_p_1, delta) :\n",
        "  gradient = (f_i_p_1 - f_i) / delta\n",
        "  return gradient"
      ],
      "execution_count": null,
      "outputs": []
    },
    {
      "cell_type": "code",
      "metadata": {
        "id": "9zSrA6agnuzw"
      },
      "source": [
        "gradient = FFDA(f_i, f_i_p_1, delta)"
      ],
      "execution_count": null,
      "outputs": []
    },
    {
      "cell_type": "code",
      "metadata": {
        "id": "3Qu9tKRQqQGz"
      },
      "source": [
        "gradient"
      ],
      "execution_count": null,
      "outputs": []
    },
    {
      "cell_type": "code",
      "metadata": {
        "id": "IL5zmtpvon89"
      },
      "source": [
        "y_intercept = f_i - gradient * x_input"
      ],
      "execution_count": null,
      "outputs": []
    },
    {
      "cell_type": "code",
      "metadata": {
        "id": "_Vz7Bs_yow-g"
      },
      "source": [
        "def linear(x, m, n) :\n",
        "  return m*x + n"
      ],
      "execution_count": null,
      "outputs": []
    },
    {
      "cell_type": "code",
      "metadata": {
        "id": "Pj-09Sy5o2Mj"
      },
      "source": [
        "y_linear = linear(x, gradient, y_intercept)"
      ],
      "execution_count": null,
      "outputs": []
    },
    {
      "cell_type": "code",
      "metadata": {
        "id": "mICoEKzTo7z4"
      },
      "source": [
        "plt.plot(x, y)\n",
        "plt.plot(x, y_linear)\n",
        "plt.show()"
      ],
      "execution_count": null,
      "outputs": []
    },
    {
      "cell_type": "markdown",
      "metadata": {
        "id": "TMksCMLQpNl3"
      },
      "source": [
        "**First Backward Difference Approximation**"
      ]
    },
    {
      "cell_type": "code",
      "metadata": {
        "id": "9FfeWHC4p8SF"
      },
      "source": [
        "x_input, delta = 5, 1e-3"
      ],
      "execution_count": null,
      "outputs": []
    },
    {
      "cell_type": "code",
      "metadata": {
        "id": "vFu9tWUlpP46"
      },
      "source": [
        "f_i, f_i_m_1 = function(x_input), function(x_input - delta)"
      ],
      "execution_count": null,
      "outputs": []
    },
    {
      "cell_type": "code",
      "metadata": {
        "id": "g_WGBXNUpbKJ"
      },
      "source": [
        "def FBDA(f_i, f_i_m_1, delta) :\n",
        "  gradient = (f_i - f_i_m_1) / delta\n",
        "  return gradient"
      ],
      "execution_count": null,
      "outputs": []
    },
    {
      "cell_type": "code",
      "metadata": {
        "id": "o2Ct60Y1pkAF"
      },
      "source": [
        "gradient = FBDA(f_i, f_i_m_1, delta)"
      ],
      "execution_count": null,
      "outputs": []
    },
    {
      "cell_type": "code",
      "metadata": {
        "id": "zbNyV9-LqKGM"
      },
      "source": [
        "gradient"
      ],
      "execution_count": null,
      "outputs": []
    },
    {
      "cell_type": "code",
      "metadata": {
        "id": "wQH-h32FpuUo"
      },
      "source": [
        "y_intercept = f_i - gradient * x_input"
      ],
      "execution_count": null,
      "outputs": []
    },
    {
      "cell_type": "code",
      "metadata": {
        "id": "9wNFDna2pwDj"
      },
      "source": [
        "y_linear = linear(x, gradient, y_intercept)"
      ],
      "execution_count": null,
      "outputs": []
    },
    {
      "cell_type": "code",
      "metadata": {
        "id": "kk2JkGOhpwiV"
      },
      "source": [
        "plt.plot(x, y)\n",
        "plt.plot(x, y_linear)\n",
        "plt.show()"
      ],
      "execution_count": null,
      "outputs": []
    },
    {
      "cell_type": "markdown",
      "metadata": {
        "id": "YUQyGF3kqX5N"
      },
      "source": [
        "**Central Difference Approximation**"
      ]
    },
    {
      "cell_type": "code",
      "metadata": {
        "id": "JSuQ1TilqU-H"
      },
      "source": [
        "x_input, delta = 5, 1e-3"
      ],
      "execution_count": null,
      "outputs": []
    },
    {
      "cell_type": "code",
      "metadata": {
        "id": "Z-VpWHwHqZyk"
      },
      "source": [
        "f_i_p_1, f_i_m_1 = function(x_input + delta), function(x_input - delta)"
      ],
      "execution_count": null,
      "outputs": []
    },
    {
      "cell_type": "code",
      "metadata": {
        "id": "ag8ofPr7qc2w"
      },
      "source": [
        "def CDA(f_i_p_1, f_i_m_1, delta) :\n",
        "  gradient = (f_i_p_1 - f_i_m_1) / (2*delta)\n",
        "  return gradient "
      ],
      "execution_count": null,
      "outputs": []
    },
    {
      "cell_type": "code",
      "metadata": {
        "id": "GzT3yFBSqlA1"
      },
      "source": [
        "gradient = CDA(f_i_p_1, f_i_m_1, delta)"
      ],
      "execution_count": null,
      "outputs": []
    },
    {
      "cell_type": "code",
      "metadata": {
        "id": "tFZfM7GGqpSI"
      },
      "source": [
        "gradient"
      ],
      "execution_count": null,
      "outputs": []
    },
    {
      "cell_type": "code",
      "metadata": {
        "id": "-H_VL9aXqtg8"
      },
      "source": [
        "y_intercept = f_i - gradient * x_input"
      ],
      "execution_count": null,
      "outputs": []
    },
    {
      "cell_type": "code",
      "metadata": {
        "id": "UV8gSM9Xqvbd"
      },
      "source": [
        "y_linear = linear(x, gradient, y_intercept)"
      ],
      "execution_count": null,
      "outputs": []
    },
    {
      "cell_type": "code",
      "metadata": {
        "id": "f9BdgIv1qwmX"
      },
      "source": [
        "plt.plot(x, y)\n",
        "plt.plot(x, y_linear)\n",
        "plt.show()"
      ],
      "execution_count": null,
      "outputs": []
    },
    {
      "cell_type": "markdown",
      "metadata": {
        "id": "MR_4Ni7vrAbY"
      },
      "source": [
        "**Harmonic Function**"
      ]
    },
    {
      "cell_type": "code",
      "metadata": {
        "id": "V0oPQooKq8qH"
      },
      "source": [
        "delta = 1e-2\n",
        "x = np.arange(0, 10, delta)\n",
        "y = np.sin(x)"
      ],
      "execution_count": null,
      "outputs": []
    },
    {
      "cell_type": "code",
      "metadata": {
        "id": "sYAQGiZXrNs9"
      },
      "source": [
        "plt.plot(x, y)\n",
        "plt.show()"
      ],
      "execution_count": null,
      "outputs": []
    },
    {
      "cell_type": "code",
      "metadata": {
        "id": "lj-qw8-krsV_"
      },
      "source": [
        "x_p_1, x_m_1 = x + delta, x - delta\n",
        "y_p_1, y_m_1 = np.sin(x_p_1), np.sin(x_m_1)"
      ],
      "execution_count": null,
      "outputs": []
    },
    {
      "cell_type": "code",
      "metadata": {
        "id": "NyFU2G1MrP2T"
      },
      "source": [
        "gradient_ffda = FFDA(y, y_p_1, delta)\n",
        "gradient_fbda = FBDA(y, y_m_1, delta)\n",
        "gradient_cda = CDA(y_p_1, y_m_1, delta)"
      ],
      "execution_count": null,
      "outputs": []
    },
    {
      "cell_type": "code",
      "metadata": {
        "id": "_xHv9GB_sF22"
      },
      "source": [
        "plt.plot(x, gradient_ffda)\n",
        "plt.plot(x, gradient_fbda)\n",
        "plt.plot(x, gradient_cda)\n",
        "plt.show()"
      ],
      "execution_count": null,
      "outputs": []
    },
    {
      "cell_type": "code",
      "metadata": {
        "id": "zp3ovcWzv6gI"
      },
      "source": [
        "np.max(abs(gradient_ffda - np.cos(x)))"
      ],
      "execution_count": null,
      "outputs": []
    },
    {
      "cell_type": "code",
      "metadata": {
        "id": "fFzwhLslwbta"
      },
      "source": [
        "np.max(abs(gradient_fbda - np.cos(x)))"
      ],
      "execution_count": null,
      "outputs": []
    },
    {
      "cell_type": "code",
      "metadata": {
        "id": "1-9lARQuwb9L"
      },
      "source": [
        "np.max(abs(gradient_cda - np.cos(x)))"
      ],
      "execution_count": null,
      "outputs": []
    },
    {
      "cell_type": "markdown",
      "metadata": {
        "id": "Z_BUIZxguOkB"
      },
      "source": [
        "**Second Derivation with Forward Difference Approximation**"
      ]
    },
    {
      "cell_type": "code",
      "metadata": {
        "id": "fCv2rqEGuSQP"
      },
      "source": [
        "def function(x) :\n",
        "  return 3*x**2 + 2*x + 1"
      ],
      "execution_count": null,
      "outputs": []
    },
    {
      "cell_type": "code",
      "metadata": {
        "id": "yJzoFz30uTAN"
      },
      "source": [
        "x = np.arange(0, 10)\n",
        "y = function(x)"
      ],
      "execution_count": null,
      "outputs": []
    },
    {
      "cell_type": "code",
      "metadata": {
        "id": "IbjfrbHjubD6"
      },
      "source": [
        "plt.plot(x, y)\n",
        "plt.show()"
      ],
      "execution_count": null,
      "outputs": []
    },
    {
      "cell_type": "code",
      "metadata": {
        "id": "Eo5UMgxJueoX"
      },
      "source": [
        "x_input, delta = 5, 1e-3"
      ],
      "execution_count": null,
      "outputs": []
    },
    {
      "cell_type": "code",
      "metadata": {
        "id": "MuFLRUhiuiIN"
      },
      "source": [
        "f_i_p_2, f_i_p_1, f_i = function(x_input + 2 * delta), function(x_input + delta), function(x_input)"
      ],
      "execution_count": null,
      "outputs": []
    },
    {
      "cell_type": "code",
      "metadata": {
        "id": "QcHbYkedupMB"
      },
      "source": [
        "def SDFDA(f_i_p_2, f_i_p_1, f_i, delta) :\n",
        "  gradient = (f_i_p_2 - 2*f_i_p_1 + f_i) / delta**2\n",
        "  return gradient"
      ],
      "execution_count": null,
      "outputs": []
    },
    {
      "cell_type": "code",
      "metadata": {
        "id": "p3SG-oHHu3r5"
      },
      "source": [
        "gradient = SDFDA(f_i_p_2, f_i_p_1, f_i, delta)"
      ],
      "execution_count": null,
      "outputs": []
    },
    {
      "cell_type": "code",
      "metadata": {
        "id": "r4pXUEkvvBTD"
      },
      "source": [
        "gradient"
      ],
      "execution_count": null,
      "outputs": []
    },
    {
      "cell_type": "markdown",
      "metadata": {
        "id": "DGoH15kKvRTt"
      },
      "source": [
        "**Harmonic Function**"
      ]
    },
    {
      "cell_type": "code",
      "metadata": {
        "id": "LDpuXv_SvS2g"
      },
      "source": [
        "delta = 1e-2\n",
        "x = np.arange(0, 10, delta)\n",
        "y = np.sin(x)"
      ],
      "execution_count": null,
      "outputs": []
    },
    {
      "cell_type": "code",
      "metadata": {
        "id": "qmbJaHL2vVSb"
      },
      "source": [
        "plt.plot(x, y)\n",
        "plt.show()"
      ],
      "execution_count": null,
      "outputs": []
    },
    {
      "cell_type": "code",
      "metadata": {
        "id": "uo-pe1mrvXYr"
      },
      "source": [
        "x_p_2, x_p_1 = x + 2*delta, x + delta\n",
        "y_p_2, y_p_1 = np.sin(x_p_2), np.sin(x_p_1)"
      ],
      "execution_count": null,
      "outputs": []
    },
    {
      "cell_type": "code",
      "metadata": {
        "id": "0pDFuwd6vkeh"
      },
      "source": [
        "gradient = SDFDA(y_p_2, y_p_1, y, delta)"
      ],
      "execution_count": null,
      "outputs": []
    },
    {
      "cell_type": "code",
      "metadata": {
        "id": "-Y6LMgpSvsD5"
      },
      "source": [
        "plt.plot(x, y)\n",
        "plt.plot(x, gradient)\n",
        "plt.show()"
      ],
      "execution_count": null,
      "outputs": []
    },
    {
      "cell_type": "code",
      "metadata": {
        "id": "IDmPErUgwlq7"
      },
      "source": [
        "np.max(abs(gradient + np.sin(x)))"
      ],
      "execution_count": null,
      "outputs": []
    },
    {
      "cell_type": "markdown",
      "metadata": {
        "id": "IrLnb0f5ppTZ"
      },
      "source": [
        "**Week 7 Assignment**"
      ]
    },
    {
      "cell_type": "markdown",
      "metadata": {
        "id": "OWHCwdOxtZbn"
      },
      "source": [
        "유한 차분법을 사용하여 sine 함수의 미분 값을 구하세요."
      ]
    },
    {
      "cell_type": "markdown",
      "metadata": {
        "id": "W9g3jS9Kt8uz"
      },
      "source": [
        "**하단과 같은 파일명으로 ipynb 생성 후 과제 진행 및 제출**\n",
        "\n",
        "* 파일명\n",
        "  * 학번_수강생성함_Week_7.ipynb\n",
        "  * 예시) 2021345678_홍길동_Week_7.ipynb"
      ]
    },
    {
      "cell_type": "code",
      "metadata": {
        "id": "JWi7B95euW3x"
      },
      "source": [
        "# Import Library\n",
        "import numpy as np\n",
        "import pandas as pd\n",
        "import matplotlib.pyplot as plt"
      ],
      "execution_count": null,
      "outputs": []
    },
    {
      "cell_type": "code",
      "metadata": {
        "id": "Amyp8NNPe_S0"
      },
      "source": [
        "# Define Function\n",
        "def sine(x) :\n",
        "  return np.sin(2 * np.pi * x) # Sine Function\n",
        "\n",
        "def second_order(f_i_p_1, f_i_m_1, delta) :  \n",
        "  return # Second Order Central Difference\n",
        "\n",
        "def fourth_order(f_i_p_1, f_i_m_1, f_i_p_2, f_i_m_2, delta) :\n",
        "  return # Fourth Order Central Difference\n",
        "\n",
        "def error(numerical_value, exact_value) :\n",
        "  return abs((numerical_value - exact_value) / exact_value) * 100"
      ],
      "execution_count": null,
      "outputs": []
    },
    {
      "cell_type": "code",
      "metadata": {
        "id": "ylQhJVKveQc8"
      },
      "source": [
        "# Initialize Variables\n",
        "x = 0.375\n",
        "delta = [0.01, 0.1, 0.25]"
      ],
      "execution_count": null,
      "outputs": []
    },
    {
      "cell_type": "code",
      "metadata": {
        "id": "iC7Bh4AqhgIl"
      },
      "source": [
        "# Initialize Dictionary\n",
        "comparison = dict()"
      ],
      "execution_count": null,
      "outputs": []
    },
    {
      "cell_type": "code",
      "metadata": {
        "id": "DNhFHtmUdvXm"
      },
      "source": [
        "# Calculate Derivations\n",
        "for d in delta : \n",
        "  exact_value = # Derivation of Sine Function\n",
        "  \n",
        "  f_i_p_1, f_i_m_1, f_i_p_2, f_i_m_2 = sine(x + d), sine(x - d), sine(x + 2 * d), sine(x - 2 * d)\n",
        "\n",
        "  second_order_value = second_order(f_i_p_1, f_i_m_1, d)\n",
        "  second_order_error = error(second_order_value, exact_value)\n",
        "  \n",
        "  fourth_order_value = fourth_order(f_i_p_1, f_i_m_1, f_i_p_2, f_i_m_2, d)\n",
        "  fourth_order_error = error(fourth_order_value, exact_value)\n",
        "  \n",
        "  comparison[d] = [second_order_value, second_order_error, fourth_order_value, fourth_order_error, exact_value]"
      ],
      "execution_count": null,
      "outputs": []
    },
    {
      "cell_type": "code",
      "metadata": {
        "id": "_FAkJBEAmMQi"
      },
      "source": [
        "# Create DataFrame\n",
        "df = pd.DataFrame(data = comparison)\n",
        "df.index = [\"Second Order\", \"Error (%)\", \"Fourth Order\", \"Error (%)\", \"Exact\"]"
      ],
      "execution_count": null,
      "outputs": []
    },
    {
      "cell_type": "code",
      "metadata": {
        "colab": {
          "base_uri": "https://localhost:8080/",
          "height": 204
        },
        "id": "7RPSWaCBnEOe",
        "outputId": "00c21e7e-b7b7-4e73-d37b-1e119f7e82d7"
      },
      "source": [
        "# Get Result\n",
        "df"
      ],
      "execution_count": null,
      "outputs": [
        {
          "output_type": "execute_result",
          "data": {
            "text/html": [
              "<div>\n",
              "<style scoped>\n",
              "    .dataframe tbody tr th:only-of-type {\n",
              "        vertical-align: middle;\n",
              "    }\n",
              "\n",
              "    .dataframe tbody tr th {\n",
              "        vertical-align: top;\n",
              "    }\n",
              "\n",
              "    .dataframe thead th {\n",
              "        text-align: right;\n",
              "    }\n",
              "</style>\n",
              "<table border=\"1\" class=\"dataframe\">\n",
              "  <thead>\n",
              "    <tr style=\"text-align: right;\">\n",
              "      <th></th>\n",
              "      <th>0.01</th>\n",
              "      <th>0.10</th>\n",
              "      <th>0.25</th>\n",
              "    </tr>\n",
              "  </thead>\n",
              "  <tbody>\n",
              "    <tr>\n",
              "      <th>Second Order</th>\n",
              "      <td>-4.439960</td>\n",
              "      <td>-4.156269</td>\n",
              "      <td>-2.828427</td>\n",
              "    </tr>\n",
              "    <tr>\n",
              "      <th>Error (%)</th>\n",
              "      <td>0.065784</td>\n",
              "      <td>6.451072</td>\n",
              "      <td>36.338023</td>\n",
              "    </tr>\n",
              "    <tr>\n",
              "      <th>Fourth Order</th>\n",
              "      <td>-4.442881</td>\n",
              "      <td>-4.420862</td>\n",
              "      <td>-3.771236</td>\n",
              "    </tr>\n",
              "    <tr>\n",
              "      <th>Error (%)</th>\n",
              "      <td>0.000052</td>\n",
              "      <td>0.495653</td>\n",
              "      <td>15.117364</td>\n",
              "    </tr>\n",
              "    <tr>\n",
              "      <th>Exact</th>\n",
              "      <td>-4.442883</td>\n",
              "      <td>-4.442883</td>\n",
              "      <td>-4.442883</td>\n",
              "    </tr>\n",
              "  </tbody>\n",
              "</table>\n",
              "</div>"
            ],
            "text/plain": [
              "                  0.01      0.10       0.25\n",
              "Second Order -4.439960 -4.156269  -2.828427\n",
              "Error (%)     0.065784  6.451072  36.338023\n",
              "Fourth Order -4.442881 -4.420862  -3.771236\n",
              "Error (%)     0.000052  0.495653  15.117364\n",
              "Exact        -4.442883 -4.442883  -4.442883"
            ]
          },
          "metadata": {
            "tags": []
          },
          "execution_count": 100
        }
      ]
    }
  ]
}