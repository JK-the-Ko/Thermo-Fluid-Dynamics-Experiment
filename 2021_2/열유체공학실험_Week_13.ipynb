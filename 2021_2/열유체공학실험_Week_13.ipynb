{
  "nbformat": 4,
  "nbformat_minor": 0,
  "metadata": {
    "colab": {
      "name": "열유체공학실험_Week_13.ipynb",
      "provenance": [],
      "collapsed_sections": [],
      "authorship_tag": "ABX9TyPYktN+8RvA1L1gjEnv/NJb",
      "include_colab_link": true
    },
    "kernelspec": {
      "name": "python3",
      "display_name": "Python 3"
    },
    "language_info": {
      "name": "python"
    },
    "accelerator": "GPU"
  },
  "cells": [
    {
      "cell_type": "markdown",
      "metadata": {
        "id": "view-in-github",
        "colab_type": "text"
      },
      "source": [
        "<a href=\"https://colab.research.google.com/github/JK-the-Ko/Thermo_Fluid_Dynamics_Experiment/blob/main/2021_2/%EC%97%B4%EC%9C%A0%EC%B2%B4%EA%B3%B5%ED%95%99%EC%8B%A4%ED%97%98_Week_13.ipynb\" target=\"_parent\"><img src=\"https://colab.research.google.com/assets/colab-badge.svg\" alt=\"Open In Colab\"/></a>"
      ]
    },
    {
      "cell_type": "markdown",
      "metadata": {
        "id": "TFT1NIjIAJ6X"
      },
      "source": [
        "**Check GPU Connection**"
      ]
    },
    {
      "cell_type": "code",
      "metadata": {
        "id": "AEWRTjkgAMSk"
      },
      "source": [
        "!nvidia-smi"
      ],
      "execution_count": null,
      "outputs": []
    },
    {
      "cell_type": "markdown",
      "metadata": {
        "id": "pS3sw48k3MK6"
      },
      "source": [
        "**Import Library**"
      ]
    },
    {
      "cell_type": "code",
      "metadata": {
        "id": "4grqzoHK2OAw"
      },
      "source": [
        "import numpy as np\n",
        "import matplotlib.pyplot as plt\n",
        "from tensorflow import keras"
      ],
      "execution_count": null,
      "outputs": []
    },
    {
      "cell_type": "markdown",
      "metadata": {
        "id": "bNgKcfEB3ORF"
      },
      "source": [
        "**Load Fashion CIFAR10 Dataset**"
      ]
    },
    {
      "cell_type": "code",
      "metadata": {
        "id": "D73B3MDV2fKP"
      },
      "source": [
        "(x_train, y_train), (x_test, y_test) = keras.datasets.cifar10.load_data()"
      ],
      "execution_count": null,
      "outputs": []
    },
    {
      "cell_type": "code",
      "metadata": {
        "id": "Zs9xPWEw6omL"
      },
      "source": [
        "num_classes = 10\n",
        "input_shape = (32, 32, 3)"
      ],
      "execution_count": null,
      "outputs": []
    },
    {
      "cell_type": "markdown",
      "metadata": {
        "id": "QjXLym-T3QZ-"
      },
      "source": [
        "**Check Number of Train Data**"
      ]
    },
    {
      "cell_type": "code",
      "metadata": {
        "id": "0roudyFc20ai"
      },
      "source": [
        "print(x_train.shape)\n",
        "print(y_train.shape)"
      ],
      "execution_count": null,
      "outputs": []
    },
    {
      "cell_type": "markdown",
      "metadata": {
        "id": "KtYTQf6W3TLJ"
      },
      "source": [
        "**Check Number of Test Data**"
      ]
    },
    {
      "cell_type": "code",
      "metadata": {
        "id": "5hbfahHN28fU"
      },
      "source": [
        "print(x_test.shape)\n",
        "print(y_test.shape)"
      ],
      "execution_count": null,
      "outputs": []
    },
    {
      "cell_type": "markdown",
      "metadata": {
        "id": "HxmToO_a3Vgb"
      },
      "source": [
        "**Show Sample**"
      ]
    },
    {
      "cell_type": "code",
      "metadata": {
        "id": "lwT2__Td3EUO"
      },
      "source": [
        "sample_image = x_train[0, :, :]"
      ],
      "execution_count": null,
      "outputs": []
    },
    {
      "cell_type": "code",
      "metadata": {
        "id": "pLmEqin93JBT"
      },
      "source": [
        "sample_image.shape"
      ],
      "execution_count": null,
      "outputs": []
    },
    {
      "cell_type": "code",
      "metadata": {
        "id": "sRq9BloX3t-f"
      },
      "source": [
        "sample_image.dtype"
      ],
      "execution_count": null,
      "outputs": []
    },
    {
      "cell_type": "code",
      "metadata": {
        "id": "EwLsiqQU3Kxr"
      },
      "source": [
        "plt.rcParams[\"figure.figsize\"] = (5, 5)\n",
        "plt.imshow(sample_image)\n",
        "plt.axis(\"off\")\n",
        "plt.show()"
      ],
      "execution_count": null,
      "outputs": []
    },
    {
      "cell_type": "code",
      "metadata": {
        "id": "k9PiGI9o3d_a"
      },
      "source": [
        "sample_label = y_train[0]"
      ],
      "execution_count": null,
      "outputs": []
    },
    {
      "cell_type": "code",
      "metadata": {
        "id": "WJ-_5_TV3j2g"
      },
      "source": [
        "sample_label"
      ],
      "execution_count": null,
      "outputs": []
    },
    {
      "cell_type": "markdown",
      "metadata": {
        "id": "NXunmfZK380i"
      },
      "source": [
        "**Data Processing**"
      ]
    },
    {
      "cell_type": "markdown",
      "metadata": {
        "id": "nLGKihOU3_S5"
      },
      "source": [
        "* Min-Max Normalization"
      ]
    },
    {
      "cell_type": "code",
      "metadata": {
        "id": "269w0T8M3kd4"
      },
      "source": [
        "x_train = x_train / 255\n",
        "x_test = x_test / 255"
      ],
      "execution_count": null,
      "outputs": []
    },
    {
      "cell_type": "code",
      "metadata": {
        "id": "KyNUG85m489b"
      },
      "source": [
        "x_train.dtype"
      ],
      "execution_count": null,
      "outputs": []
    },
    {
      "cell_type": "code",
      "metadata": {
        "id": "ya-WiiLn4-Wd"
      },
      "source": [
        "print(np.max(x_train))\n",
        "print(np.min(x_train))"
      ],
      "execution_count": null,
      "outputs": []
    },
    {
      "cell_type": "markdown",
      "metadata": {
        "id": "kWkA0grU54q5"
      },
      "source": [
        "* One-Hot Encoding"
      ]
    },
    {
      "cell_type": "code",
      "metadata": {
        "id": "Oao3koM45zXA"
      },
      "source": [
        "y_train = keras.utils.to_categorical(y_train, num_classes)\n",
        "y_test = keras.utils.to_categorical(y_test, num_classes)"
      ],
      "execution_count": null,
      "outputs": []
    },
    {
      "cell_type": "code",
      "metadata": {
        "id": "g4litaw36x-x"
      },
      "source": [
        "y_train[0]"
      ],
      "execution_count": null,
      "outputs": []
    },
    {
      "cell_type": "markdown",
      "metadata": {
        "id": "4bXxAmHZbBsr"
      },
      "source": [
        "**Learning Rate Decay**"
      ]
    },
    {
      "cell_type": "code",
      "metadata": {
        "id": "AAX1TiVsbbcs"
      },
      "source": [
        "from tensorflow.keras.callbacks import LearningRateScheduler"
      ],
      "execution_count": null,
      "outputs": []
    },
    {
      "cell_type": "markdown",
      "metadata": {
        "id": "ujw9qpTZDMI8"
      },
      "source": [
        "* Scheduler Function"
      ]
    },
    {
      "cell_type": "code",
      "metadata": {
        "id": "pk2nOeb1bDBj"
      },
      "source": [
        "def scheduler(epoch, lr) :\n",
        "  if epoch < 10 :\n",
        "    return 1e-3\n",
        "  \n",
        "  elif 10 <= epoch < 20 :\n",
        "    return 1e-4\n",
        "\n",
        "  else :\n",
        "    return 1e-5"
      ],
      "execution_count": null,
      "outputs": []
    },
    {
      "cell_type": "code",
      "metadata": {
        "id": "buU6BLd9b4SE"
      },
      "source": [
        "callback = LearningRateScheduler(scheduler)"
      ],
      "execution_count": null,
      "outputs": []
    },
    {
      "cell_type": "markdown",
      "metadata": {
        "id": "I_Qtcpf8cEjF"
      },
      "source": [
        "* Make CNN Model"
      ]
    },
    {
      "cell_type": "code",
      "metadata": {
        "id": "8VzHAU1t2kYR"
      },
      "source": [
        "from tensorflow.keras import layers"
      ],
      "execution_count": null,
      "outputs": []
    },
    {
      "cell_type": "code",
      "metadata": {
        "id": "XE-TSFCqcDF1"
      },
      "source": [
        "model = keras.Sequential()"
      ],
      "execution_count": null,
      "outputs": []
    },
    {
      "cell_type": "code",
      "metadata": {
        "id": "RWWIMpeKcDF1"
      },
      "source": [
        "model.add(layers.Conv2D(32, (3, 3), padding = \"same\", activation = \"relu\", input_shape = input_shape))\n",
        "model.add(layers.BatchNormalization())\n",
        "\n",
        "model.add(layers.Conv2D(32, (3, 3), padding = \"same\", activation = \"relu\"))\n",
        "model.add(layers.BatchNormalization())\n",
        "\n",
        "model.add(layers.MaxPooling2D((2, 2)))\n",
        "\n",
        "model.add(layers.Conv2D(64, (3, 3), padding = \"same\", activation = \"relu\"))\n",
        "model.add(layers.BatchNormalization())\n",
        "\n",
        "model.add(layers.Conv2D(64, (3, 3), padding = \"same\", activation = \"relu\"))\n",
        "model.add(layers.BatchNormalization())\n",
        "\n",
        "model.add(layers.MaxPooling2D((2, 2)))\n",
        "\n",
        "model.add(layers.Conv2D(128, (3, 3), padding = \"same\", activation = \"relu\"))\n",
        "model.add(layers.BatchNormalization())\n",
        "\n",
        "model.add(layers.Conv2D(128, (3, 3), padding = \"same\", activation = \"relu\"))\n",
        "model.add(layers.BatchNormalization())\n",
        "\n",
        "model.add(layers.GlobalAveragePooling2D())\n",
        "model.add(layers.Dense(128, activation = \"relu\"))\n",
        "model.add(layers.Dense(128, activation = \"relu\"))\n",
        "model.add(layers.Dense(num_classes, \"softmax\"))"
      ],
      "execution_count": null,
      "outputs": []
    },
    {
      "cell_type": "markdown",
      "metadata": {
        "id": "klK9XwgXcJLa"
      },
      "source": [
        "* Compile Model"
      ]
    },
    {
      "cell_type": "code",
      "metadata": {
        "id": "ZmwoE9O8y6Lr"
      },
      "source": [
        "from tensorflow.keras import optimizers"
      ],
      "execution_count": null,
      "outputs": []
    },
    {
      "cell_type": "code",
      "metadata": {
        "id": "KRdQaZfacORv"
      },
      "source": [
        "model.compile(optimizer = optimizers.Adam(learning_rate = 1e-3), loss = \"categorical_crossentropy\", metrics = [\"accuracy\"])"
      ],
      "execution_count": null,
      "outputs": []
    },
    {
      "cell_type": "markdown",
      "metadata": {
        "id": "dxqewaoDcGTh"
      },
      "source": [
        "* Train Model"
      ]
    },
    {
      "cell_type": "code",
      "metadata": {
        "id": "qzAQuZCkEMgx"
      },
      "source": [
        "batch_size = 256\n",
        "epochs = 30"
      ],
      "execution_count": null,
      "outputs": []
    },
    {
      "cell_type": "code",
      "metadata": {
        "id": "Bz4mXuD1bgYE"
      },
      "source": [
        "hist = model.fit(x_train, y_train, batch_size = batch_size, epochs = epochs, validation_split = 0.2, callbacks = [callback])"
      ],
      "execution_count": null,
      "outputs": []
    },
    {
      "cell_type": "code",
      "metadata": {
        "id": "mDS7UcIQsG56"
      },
      "source": [
        "plt.rcParams[\"figure.figsize\"] = (10, 5)"
      ],
      "execution_count": null,
      "outputs": []
    },
    {
      "cell_type": "code",
      "metadata": {
        "id": "dSx1IAgOjjvv"
      },
      "source": [
        "plt.plot(np.arange(0, epochs), hist.history[\"loss\"], label = \"Train Loss\")\n",
        "plt.plot(np.arange(0, epochs), hist.history[\"val_loss\"], label = \"Validation Loss\")\n",
        "plt.legend()\n",
        "plt.show()"
      ],
      "execution_count": null,
      "outputs": []
    },
    {
      "cell_type": "code",
      "metadata": {
        "id": "GPMosvXZqGX6"
      },
      "source": [
        "plt.plot(np.arange(0, epochs), hist.history[\"accuracy\"], label = \"Train Accuracy\")\n",
        "plt.plot(np.arange(0, epochs), hist.history[\"val_accuracy\"], label = \"Validation Accuracy\")\n",
        "plt.legend()\n",
        "plt.show()"
      ],
      "execution_count": null,
      "outputs": []
    },
    {
      "cell_type": "markdown",
      "metadata": {
        "id": "OuCufNTXsmfj"
      },
      "source": [
        "**ResNet**"
      ]
    },
    {
      "cell_type": "markdown",
      "metadata": {
        "id": "Xphgu0A36KBb"
      },
      "source": [
        "* ResNet Block"
      ]
    },
    {
      "cell_type": "code",
      "metadata": {
        "id": "qYVUNFCPu_Y_"
      },
      "source": [
        "class ResNet_Block(keras.Model) :\n",
        "  def __init__(self, num_channels) :\n",
        "    super(ResNet_Block, self).__init__()\n",
        "\n",
        "    self.conv_1 = layers.Conv2D(num_channels, (3, 3), padding = \"same\")\n",
        "    self.conv_2 = layers.Conv2D(num_channels, (3, 3), padding = \"same\")\n",
        "    self.bn_1 = layers.BatchNormalization()\n",
        "    self.bn_2 = layers.BatchNormalization()\n",
        "    self.relu = layers.Activation(\"relu\")\n",
        "\n",
        "  def call(self, x) :\n",
        "    out = self.conv_1(x)\n",
        "    out = self.bn_1(out)\n",
        "    out = self.relu(out)\n",
        "    out = self.conv_2(out)\n",
        "    out = self.bn_2(out)\n",
        "    out = x + out\n",
        "    out = self.relu(out)\n",
        "\n",
        "    return out"
      ],
      "execution_count": null,
      "outputs": []
    },
    {
      "cell_type": "markdown",
      "metadata": {
        "id": "Zh6C3kQx6LVW"
      },
      "source": [
        "* Make ResNet Model"
      ]
    },
    {
      "cell_type": "code",
      "metadata": {
        "id": "8OQ-AMYIucKx"
      },
      "source": [
        "model = keras.Sequential()"
      ],
      "execution_count": null,
      "outputs": []
    },
    {
      "cell_type": "code",
      "metadata": {
        "id": "TpKzPm5Z0iEp"
      },
      "source": [
        "model.add(layers.Conv2D(32, (3, 3), padding = \"same\", activation = \"relu\", input_shape = input_shape))\n",
        "model.add(ResNet_Block(32))\n",
        "model.add(layers.MaxPool2D(2, 2))\n",
        "\n",
        "model.add(layers.Conv2D(64, (3, 3), padding = \"same\", activation = \"relu\"))\n",
        "model.add(ResNet_Block(64))\n",
        "model.add(layers.MaxPool2D(2, 2))\n",
        "model.add(ResNet_Block(64))\n",
        "model.add(layers.MaxPool2D(2, 2))\n",
        "\n",
        "model.add(layers.Conv2D(128, (3, 3), padding = \"same\", activation = \"relu\"))\n",
        "model.add(ResNet_Block(128))\n",
        "\n",
        "model.add(layers.GlobalAveragePooling2D())\n",
        "model.add(layers.Dense(128, activation = \"relu\"))\n",
        "model.add(layers.Dense(128, activation = \"relu\"))\n",
        "model.add(layers.Dense(num_classes, \"softmax\"))"
      ],
      "execution_count": null,
      "outputs": []
    },
    {
      "cell_type": "code",
      "metadata": {
        "id": "FKWFUGPx016a"
      },
      "source": [
        "model.summary()"
      ],
      "execution_count": null,
      "outputs": []
    },
    {
      "cell_type": "markdown",
      "metadata": {
        "id": "KS-s4sww1YcJ"
      },
      "source": [
        "* Model Visualization"
      ]
    },
    {
      "cell_type": "code",
      "metadata": {
        "id": "NIUUvDUh1B9S"
      },
      "source": [
        "from tensorflow.keras.utils import plot_model"
      ],
      "execution_count": null,
      "outputs": []
    },
    {
      "cell_type": "code",
      "metadata": {
        "id": "vcEV_Be21Eao"
      },
      "source": [
        "plot_model(model, \"/content/model.png\")"
      ],
      "execution_count": null,
      "outputs": []
    },
    {
      "cell_type": "markdown",
      "metadata": {
        "id": "M0hCy1776GFk"
      },
      "source": [
        "* Train ResNet"
      ]
    },
    {
      "cell_type": "code",
      "metadata": {
        "id": "VjmJd5H6xzBE"
      },
      "source": [
        "model.compile(optimizer = \"adam\", loss = \"categorical_crossentropy\", metrics = [\"accuracy\"])"
      ],
      "execution_count": null,
      "outputs": []
    },
    {
      "cell_type": "code",
      "metadata": {
        "id": "Xzuf_Q6vydq1"
      },
      "source": [
        "hist = model.fit(x_train, y_train, batch_size = batch_size, epochs = epochs, validation_split = 0.2, callbacks = [callback])"
      ],
      "execution_count": null,
      "outputs": []
    },
    {
      "cell_type": "code",
      "metadata": {
        "id": "WFJif1Tj2gSx"
      },
      "source": [
        "plt.plot(np.arange(0, epochs), hist.history[\"loss\"], label = \"Train Loss\")\n",
        "plt.plot(np.arange(0, epochs), hist.history[\"val_loss\"], label = \"Validation Loss\")\n",
        "plt.legend()\n",
        "plt.show()"
      ],
      "execution_count": null,
      "outputs": []
    },
    {
      "cell_type": "code",
      "metadata": {
        "id": "ZkgiNGpG2gSy"
      },
      "source": [
        "plt.plot(np.arange(0, epochs), hist.history[\"accuracy\"], label = \"Train Accuracy\")\n",
        "plt.plot(np.arange(0, epochs), hist.history[\"val_accuracy\"], label = \"Validation Accuracy\")\n",
        "plt.legend()\n",
        "plt.show()"
      ],
      "execution_count": null,
      "outputs": []
    },
    {
      "cell_type": "markdown",
      "metadata": {
        "id": "KKmBNXvw9_xz"
      },
      "source": [
        "**Inception Module**"
      ]
    },
    {
      "cell_type": "code",
      "metadata": {
        "id": "U_2fflD5-BB5"
      },
      "source": [
        "class Inception_Module(keras.Model) :\n",
        "  def __init__(self, num_channels) :\n",
        "    super(Inception_Module, self).__init__()\n",
        "\n",
        "    self.conv_1 = layers.Conv2D(num_channels // 4, (1, 1), activation = \"relu\")\n",
        "    self.conv_2 = keras.Sequential([layers.Conv2D(num_channels // 4, (1, 1)),\n",
        "                                    layers.Conv2D(num_channels // 4, (3, 3), padding = \"same\", activation = \"relu\")])\n",
        "    self.conv_3 = keras.Sequential([layers.Conv2D(num_channels // 4, (1, 1)),\n",
        "                                    layers.Conv2D(num_channels // 4, (5, 5), padding = \"same\", activation = \"relu\")])\n",
        "    self.conv_4 = keras.Sequential([layers.MaxPool2D((3, 3), strides = 1, padding = \"same\"),\n",
        "                                    layers.Conv2D(num_channels // 4, (1, 1), activation = \"relu\")])\n",
        "\n",
        "  def call(self, x) :\n",
        "    out = keras.layers.Concatenate()([self.conv_1(x), self.conv_2(x), self.conv_3(x), self.conv_4(x)])\n",
        "\n",
        "    return out"
      ],
      "execution_count": null,
      "outputs": []
    },
    {
      "cell_type": "markdown",
      "metadata": {
        "id": "-FTsdoWZ_TLi"
      },
      "source": [
        "* Make GoogLeNet Model"
      ]
    },
    {
      "cell_type": "code",
      "metadata": {
        "id": "9sVyOFAn_TLo"
      },
      "source": [
        "model = keras.Sequential()"
      ],
      "execution_count": null,
      "outputs": []
    },
    {
      "cell_type": "code",
      "metadata": {
        "id": "Ir6J_Hl6_TLo"
      },
      "source": [
        "model.add(layers.Conv2D(32, (3, 3), padding = \"same\", activation = \"relu\", input_shape = input_shape))\n",
        "model.add(Inception_Module(32))\n",
        "model.add(layers.MaxPool2D(2, 2))\n",
        "\n",
        "model.add(layers.Conv2D(64, (3, 3), padding = \"same\", activation = \"relu\"))\n",
        "model.add(Inception_Module(64))\n",
        "model.add(layers.MaxPool2D(2, 2))\n",
        "model.add(Inception_Module(64))\n",
        "model.add(layers.MaxPool2D(2, 2))\n",
        "\n",
        "model.add(layers.Conv2D(128, (3, 3), padding = \"same\", activation = \"relu\"))\n",
        "model.add(Inception_Module(128))\n",
        "\n",
        "model.add(layers.GlobalAveragePooling2D())\n",
        "model.add(layers.Dense(128, activation = \"relu\"))\n",
        "model.add(layers.Dense(128, activation = \"relu\"))\n",
        "model.add(layers.Dense(num_classes, \"softmax\"))"
      ],
      "execution_count": null,
      "outputs": []
    },
    {
      "cell_type": "code",
      "metadata": {
        "id": "nZ9TVslt_TLo"
      },
      "source": [
        "model.summary()"
      ],
      "execution_count": null,
      "outputs": []
    },
    {
      "cell_type": "markdown",
      "metadata": {
        "id": "EWz-IZpIAd8c"
      },
      "source": [
        "* Model Visualization"
      ]
    },
    {
      "cell_type": "code",
      "metadata": {
        "id": "eS5ZFkfJAd8f"
      },
      "source": [
        "from tensorflow.keras.utils import plot_model"
      ],
      "execution_count": null,
      "outputs": []
    },
    {
      "cell_type": "code",
      "metadata": {
        "id": "JRR64rIkAd8f"
      },
      "source": [
        "plot_model(model, \"/content/model.png\")"
      ],
      "execution_count": null,
      "outputs": []
    },
    {
      "cell_type": "markdown",
      "metadata": {
        "id": "6vFMzRvGAd8f"
      },
      "source": [
        "* Train GoogLeNet"
      ]
    },
    {
      "cell_type": "code",
      "metadata": {
        "id": "sj-BjjpzAd8f"
      },
      "source": [
        "model.compile(optimizer = \"adam\", loss = \"categorical_crossentropy\", metrics = [\"accuracy\"])"
      ],
      "execution_count": null,
      "outputs": []
    },
    {
      "cell_type": "code",
      "metadata": {
        "id": "8G74c-Z2Ad8f"
      },
      "source": [
        "hist = model.fit(x_train, y_train, batch_size = batch_size, epochs = epochs, validation_split = 0.2, callbacks = [callback])"
      ],
      "execution_count": null,
      "outputs": []
    },
    {
      "cell_type": "code",
      "metadata": {
        "id": "tGPdeZa5Ad8g"
      },
      "source": [
        "plt.plot(np.arange(0, epochs), hist.history[\"loss\"], label = \"Train Loss\")\n",
        "plt.plot(np.arange(0, epochs), hist.history[\"val_loss\"], label = \"Validation Loss\")\n",
        "plt.legend()\n",
        "plt.show()"
      ],
      "execution_count": null,
      "outputs": []
    },
    {
      "cell_type": "code",
      "metadata": {
        "id": "uwj3NtM2Ad8g"
      },
      "source": [
        "plt.plot(np.arange(0, epochs), hist.history[\"accuracy\"], label = \"Train Accuracy\")\n",
        "plt.plot(np.arange(0, epochs), hist.history[\"val_accuracy\"], label = \"Validation Accuracy\")\n",
        "plt.legend()\n",
        "plt.show()"
      ],
      "execution_count": null,
      "outputs": []
    },
    {
      "cell_type": "markdown",
      "metadata": {
        "id": "-G6HHQPPDUVI"
      },
      "source": [
        "**Custom Data Set Training**"
      ]
    },
    {
      "cell_type": "markdown",
      "metadata": {
        "id": "oalKxFcpDXBd"
      },
      "source": [
        "* Google Drive Connection"
      ]
    },
    {
      "cell_type": "code",
      "metadata": {
        "id": "f8xOxfR3DZcE"
      },
      "source": [
        "from google.colab import drive\n",
        "drive.mount('/content/drive')"
      ],
      "execution_count": null,
      "outputs": []
    },
    {
      "cell_type": "markdown",
      "metadata": {
        "id": "-jq8-huXEV3E"
      },
      "source": [
        "* Create Folder"
      ]
    },
    {
      "cell_type": "code",
      "metadata": {
        "id": "Uyt7wK6TEAxb"
      },
      "source": [
        "!mkdir dataset"
      ],
      "execution_count": null,
      "outputs": []
    },
    {
      "cell_type": "markdown",
      "metadata": {
        "id": "xLqcqWgLEXSs"
      },
      "source": [
        "* Unzip Custom Data Set"
      ]
    },
    {
      "cell_type": "code",
      "metadata": {
        "id": "v3Q98ZF9DjQF"
      },
      "source": [
        "!unzip \"/content/drive/MyDrive/dataset/dataset.zip\" -d \"/content/dataset/\""
      ],
      "execution_count": null,
      "outputs": []
    },
    {
      "cell_type": "code",
      "metadata": {
        "id": "zl_smtuyEKJf"
      },
      "source": [
        "%cd \"/content/dataset\""
      ],
      "execution_count": null,
      "outputs": []
    },
    {
      "cell_type": "code",
      "metadata": {
        "id": "GPs0OyXLEL6B"
      },
      "source": [
        "!ls"
      ],
      "execution_count": null,
      "outputs": []
    },
    {
      "cell_type": "markdown",
      "metadata": {
        "id": "CN5a-lHREZ-A"
      },
      "source": [
        "* Check Data Set"
      ]
    },
    {
      "cell_type": "code",
      "metadata": {
        "id": "okhi0YRZEa_p"
      },
      "source": [
        "import cv2"
      ],
      "execution_count": null,
      "outputs": []
    },
    {
      "cell_type": "code",
      "metadata": {
        "id": "6iXQEH3mEb-3"
      },
      "source": [
        "image = cv2.imread(\"/content/dataset/train/airplane/airplane_001.jpg\", cv2.IMREAD_UNCHANGED)"
      ],
      "execution_count": null,
      "outputs": []
    },
    {
      "cell_type": "code",
      "metadata": {
        "id": "1EEMvtEmEkzK"
      },
      "source": [
        "image = cv2.cvtColor(image, cv2.COLOR_BGR2RGB)"
      ],
      "execution_count": null,
      "outputs": []
    },
    {
      "cell_type": "code",
      "metadata": {
        "id": "WKYLdma6EhPu"
      },
      "source": [
        "plt.imshow(image)"
      ],
      "execution_count": null,
      "outputs": []
    },
    {
      "cell_type": "markdown",
      "metadata": {
        "id": "03A86ZZ_E5CP"
      },
      "source": [
        "* Get Image Shape"
      ]
    },
    {
      "cell_type": "code",
      "metadata": {
        "id": "CafQl4pME2Pk"
      },
      "source": [
        "input_shape = (64, 64, 3)"
      ],
      "execution_count": null,
      "outputs": []
    },
    {
      "cell_type": "markdown",
      "metadata": {
        "id": "dN5vpnItKCi2"
      },
      "source": [
        "* Set Training Setting"
      ]
    },
    {
      "cell_type": "code",
      "metadata": {
        "id": "hVMzFfrDJVlc"
      },
      "source": [
        "batch_size = 32\n",
        "epochs = 5"
      ],
      "execution_count": null,
      "outputs": []
    },
    {
      "cell_type": "markdown",
      "metadata": {
        "id": "5nmbiNTRG6BO"
      },
      "source": [
        "* Data Augmentation"
      ]
    },
    {
      "cell_type": "code",
      "metadata": {
        "id": "AzDOKyT2G8DO"
      },
      "source": [
        "from tensorflow.keras.preprocessing.image import ImageDataGenerator"
      ],
      "execution_count": null,
      "outputs": []
    },
    {
      "cell_type": "code",
      "metadata": {
        "id": "dvgDaOp6G0Ih"
      },
      "source": [
        "train_datagen = ImageDataGenerator(\n",
        "                rescale = 1/255,\n",
        "                rotation_range = 10,\n",
        "                width_shift_range = 0.2,\n",
        "                height_shift_range = 0.2,\n",
        "                horizontal_flip = True,\n",
        "                vertical_flip = True)"
      ],
      "execution_count": null,
      "outputs": []
    },
    {
      "cell_type": "code",
      "metadata": {
        "id": "oRZODgG6IplH"
      },
      "source": [
        "valid_datagen = ImageDataGenerator(\n",
        "                rescale = 1/255)"
      ],
      "execution_count": null,
      "outputs": []
    },
    {
      "cell_type": "code",
      "metadata": {
        "id": "6UJEwpKqIvuP"
      },
      "source": [
        "test_datagen = ImageDataGenerator(\n",
        "                rescale = 1/255)"
      ],
      "execution_count": null,
      "outputs": []
    },
    {
      "cell_type": "markdown",
      "metadata": {
        "id": "GDQ7IrQzIyLU"
      },
      "source": [
        "* Load Custom Data Set"
      ]
    },
    {
      "cell_type": "code",
      "metadata": {
        "id": "7b6Y_naLIze9"
      },
      "source": [
        "train_loader = train_datagen.flow_from_directory(\n",
        "                \"/content/dataset/train\", \n",
        "                target_size = (64, 64), \n",
        "                color_mode = \"rgb\", \n",
        "                classes = None,\n",
        "                class_mode = \"categorical\", \n",
        "                batch_size = batch_size, \n",
        "                shuffle = True, \n",
        "                seed = None,\n",
        "                interpolation = \"bicubic\"\n",
        "                )"
      ],
      "execution_count": null,
      "outputs": []
    },
    {
      "cell_type": "code",
      "metadata": {
        "id": "oJmLw-fHJdiz"
      },
      "source": [
        "valid_loader = valid_datagen.flow_from_directory(\n",
        "                \"/content/dataset/valid\", \n",
        "                target_size = (64, 64), \n",
        "                color_mode = \"rgb\", \n",
        "                classes = None,\n",
        "                class_mode = \"categorical\", \n",
        "                batch_size = batch_size, \n",
        "                shuffle = True, \n",
        "                seed = None,\n",
        "                interpolation = \"bicubic\"\n",
        "                )"
      ],
      "execution_count": null,
      "outputs": []
    },
    {
      "cell_type": "code",
      "metadata": {
        "id": "96ajIy8GJd57"
      },
      "source": [
        "test_loader = test_datagen.flow_from_directory(\n",
        "              \"/content/dataset/test\", \n",
        "              target_size = (64, 64), \n",
        "              color_mode = \"rgb\", \n",
        "              classes = None,\n",
        "              class_mode = \"categorical\", \n",
        "              batch_size = batch_size, \n",
        "              shuffle = True, \n",
        "              seed = None,\n",
        "              interpolation = \"bicubic\"\n",
        "              )"
      ],
      "execution_count": null,
      "outputs": []
    },
    {
      "cell_type": "markdown",
      "metadata": {
        "id": "jO5UB569HQWD"
      },
      "source": [
        "* Get Number of Classes"
      ]
    },
    {
      "cell_type": "code",
      "metadata": {
        "id": "i-aly_6bHHEA"
      },
      "source": [
        "num_classes = train_loader.num_classes"
      ],
      "execution_count": null,
      "outputs": []
    },
    {
      "cell_type": "code",
      "metadata": {
        "id": "D0NlDzIGHRuF"
      },
      "source": [
        "num_classes"
      ],
      "execution_count": null,
      "outputs": []
    },
    {
      "cell_type": "markdown",
      "metadata": {
        "id": "P8J_19DQHT07"
      },
      "source": [
        "* Assign CNN Model"
      ]
    },
    {
      "cell_type": "code",
      "metadata": {
        "id": "3wOhAi5THYTw"
      },
      "source": [
        "model = keras.Sequential()"
      ],
      "execution_count": null,
      "outputs": []
    },
    {
      "cell_type": "code",
      "metadata": {
        "id": "zp3QGXQwHYTw"
      },
      "source": [
        "model.add(layers.Conv2D(32, (3, 3), padding = \"same\", activation = \"relu\", input_shape = input_shape))\n",
        "model.add(layers.BatchNormalization())\n",
        "\n",
        "model.add(layers.Conv2D(32, (3, 3), padding = \"same\", activation = \"relu\"))\n",
        "model.add(layers.BatchNormalization())\n",
        "\n",
        "model.add(layers.MaxPooling2D((2, 2)))\n",
        "\n",
        "model.add(layers.Conv2D(64, (3, 3), padding = \"same\", activation = \"relu\"))\n",
        "model.add(layers.BatchNormalization())\n",
        "\n",
        "model.add(layers.Conv2D(64, (3, 3), padding = \"same\", activation = \"relu\"))\n",
        "model.add(layers.BatchNormalization())\n",
        "\n",
        "model.add(layers.MaxPooling2D((2, 2)))\n",
        "\n",
        "model.add(layers.Conv2D(128, (3, 3), padding = \"same\", activation = \"relu\"))\n",
        "model.add(layers.BatchNormalization())\n",
        "\n",
        "model.add(layers.Conv2D(128, (3, 3), padding = \"same\", activation = \"relu\"))\n",
        "model.add(layers.BatchNormalization())\n",
        "\n",
        "model.add(layers.GlobalAveragePooling2D())\n",
        "model.add(layers.Dense(128, activation = \"relu\"))\n",
        "model.add(layers.Dense(128, activation = \"relu\"))\n",
        "model.add(layers.Dense(num_classes, \"softmax\"))"
      ],
      "execution_count": null,
      "outputs": []
    },
    {
      "cell_type": "markdown",
      "metadata": {
        "id": "c9TBPrqFHazV"
      },
      "source": [
        "* Train Model"
      ]
    },
    {
      "cell_type": "code",
      "metadata": {
        "id": "nRRzmTgnJ5u5"
      },
      "source": [
        "model.compile(optimizer = \"adam\", loss = \"categorical_crossentropy\", metrics = [\"accuracy\"])"
      ],
      "execution_count": null,
      "outputs": []
    },
    {
      "cell_type": "code",
      "metadata": {
        "id": "w4AUH9ACJzBd"
      },
      "source": [
        "hist = model.fit(train_loader, epochs = epochs, callbacks = [callback], validation_data = valid_loader)"
      ],
      "execution_count": null,
      "outputs": []
    },
    {
      "cell_type": "code",
      "metadata": {
        "id": "-SDfpYqqKknX"
      },
      "source": [
        "plt.plot(np.arange(0, epochs), hist.history[\"loss\"], label = \"Train Loss\")\n",
        "plt.plot(np.arange(0, epochs), hist.history[\"val_loss\"], label = \"Validation Loss\")\n",
        "plt.legend()\n",
        "plt.show()"
      ],
      "execution_count": null,
      "outputs": []
    },
    {
      "cell_type": "code",
      "metadata": {
        "id": "qISAOzxHKknX"
      },
      "source": [
        "plt.plot(np.arange(0, epochs), hist.history[\"accuracy\"], label = \"Train Accuracy\")\n",
        "plt.plot(np.arange(0, epochs), hist.history[\"val_accuracy\"], label = \"Validation Accuracy\")\n",
        "plt.legend()\n",
        "plt.show()"
      ],
      "execution_count": null,
      "outputs": []
    }
  ]
}