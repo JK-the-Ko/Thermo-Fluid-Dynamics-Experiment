{
  "nbformat": 4,
  "nbformat_minor": 0,
  "metadata": {
    "colab": {
      "name": "열유체공학실험_Week_1.ipynb",
      "provenance": [],
      "collapsed_sections": [],
      "mount_file_id": "1AXr5jdEG-Q4x3Vh3DQ6eHaRNBaZ4-wTc",
      "authorship_tag": "ABX9TyNzljzwrAjE1AFX1pYQb2qm",
      "include_colab_link": true
    },
    "kernelspec": {
      "name": "python3",
      "display_name": "Python 3"
    },
    "language_info": {
      "name": "python"
    }
  },
  "cells": [
    {
      "cell_type": "markdown",
      "metadata": {
        "id": "view-in-github",
        "colab_type": "text"
      },
      "source": [
        "<a href=\"https://colab.research.google.com/github/JK-the-Ko/Thermo_Fluid_Dynamics_Experiment/blob/main/2021_2/%EC%97%B4%EC%9C%A0%EC%B2%B4%EA%B3%B5%ED%95%99%EC%8B%A4%ED%97%98_Week_1.ipynb\" target=\"_parent\"><img src=\"https://colab.research.google.com/assets/colab-badge.svg\" alt=\"Open In Colab\"/></a>"
      ]
    },
    {
      "cell_type": "markdown",
      "metadata": {
        "id": "wwefJiLYf0Qd"
      },
      "source": [
        "**열유체공학실험 Week 1**\n",
        "\n",
        "오리엔테이션"
      ]
    },
    {
      "cell_type": "markdown",
      "metadata": {
        "id": "6KrxKm0ePjGU"
      },
      "source": [
        "**이상환 교수님 열유체공학실험1**\n",
        "\n",
        "* 수업번호: 12914\n",
        "* 학수번호: DME3063"
      ]
    },
    {
      "cell_type": "markdown",
      "metadata": {
        "id": "wDaggJvGS1VT"
      },
      "source": [
        "**조교 인적사항**\n",
        "\n",
        "* 성함: 고재균\n",
        "* 이메일: rhworbs1124@naver.com"
      ]
    },
    {
      "cell_type": "markdown",
      "metadata": {
        "id": "grQ7gvh7Q2iI"
      },
      "source": [
        "**수업목표**\n",
        "\n",
        "* Python 언어를 사용한 코딩 능력 강화\n",
        "* 편미분 (PDE) 지배방정식 해석\n",
        "* CUDA를 통한 병렬처리 기법 실습"
      ]
    },
    {
      "cell_type": "markdown",
      "metadata": {
        "id": "fNZCqcvCRQkt"
      },
      "source": [
        "**선수과목안내**\n",
        "\n",
        "* 공학도를 위한 창의적 컴퓨팅\n",
        "* 유체역학1\n",
        "* 수치해석"
      ]
    },
    {
      "cell_type": "markdown",
      "metadata": {
        "id": "5wS4QFWbSNMn"
      },
      "source": [
        "**평가항목**\n",
        "\n",
        "* 출석: 20%\n",
        "* 과제: 80%\n",
        "\n",
        "*(과제의 경우 매주 또는 격 주로 전달될 예정)* "
      ]
    },
    {
      "cell_type": "markdown",
      "metadata": {
        "id": "XQlfgZDXRlWc"
      },
      "source": [
        "**강의계획서**\n",
        "\n",
        "\n",
        "\n",
        "1. 오리엔테이션\n",
        "2. Python 기초(1)\n",
        "3. Python 기초(2)\n",
        "4. Python 주요 라이브러리\n",
        "5. Finite Difference Formulations\n",
        "6. Vibration ODE\n",
        "7. Parabolic PDE\n",
        "8. Elliptic PDE\n",
        "9. Hyperbolic PDE(1)\n",
        "10. Hyperbolic PDE(2)\n",
        "11. Linear Regression(Analytic)\n",
        "12. Gradient Descent Optimization\n",
        "13. Linear Regression(Deep Learning)\n",
        "14. CUDA Python DLI(1)\n",
        "15. CUDA Python DLI(2)\n",
        "16. 기말고사(휴강)\n",
        "\n",
        "*(강의 내용은 학기 중간에 변경될 수 있음)*\n"
      ]
    },
    {
      "cell_type": "markdown",
      "metadata": {
        "id": "t4ipsaD5cP8Y"
      },
      "source": [
        "**강의자료**\n",
        "* PPT 파일\n",
        "* ipynb (주피터 노트북) 파일"
      ]
    },
    {
      "cell_type": "markdown",
      "metadata": {
        "id": "XNIn9R2VTLGr"
      },
      "source": [
        "**Google Colaboratory**"
      ]
    },
    {
      "cell_type": "markdown",
      "metadata": {
        "id": "ja-Vzty3TVUc"
      },
      "source": [
        "<p><img alt=\"Colaboratory logo\" height=\"45px\" src=\"/img/colab_favicon.ico\" align=\"left\" hspace=\"10px\" vspace=\"0px\"></p>\n",
        "\n",
        "<h1>Colaboratory란?</h1>\n",
        "\n",
        "줄여서 'Colab'이라고도 하는 Colaboratory를 사용하면 브라우저에서 Python을 작성하고 실행할 수 있습니다. Colab은 다음과 같은 이점을 자랑합니다.\n",
        "- 구성이 필요하지 않음\n",
        "- GPU 무료 액세스\n",
        "- 간편한 공유\n",
        "\n",
        "<strong>학생</strong>이든, <strong>데이터 과학자</strong>든, <strong>AI 연구원</strong>이든 Colab으로 업무를 더욱 간편하게 처리할 수 있습니다. <a href=\"https://www.youtube.com/watch?v=inN8seMm7UI\">Colab 소개 영상</a>에서 자세한 내용을 확인하거나 아래에서 시작해 보세요."
      ]
    },
    {
      "cell_type": "markdown",
      "metadata": {
        "id": "mW4NdH4dVkhf"
      },
      "source": [
        "**Colab 사용 시 Google 계정 필요**"
      ]
    },
    {
      "cell_type": "markdown",
      "metadata": {
        "id": "QRIXSfK0_0K-"
      },
      "source": [
        "**Operating System**"
      ]
    },
    {
      "cell_type": "code",
      "metadata": {
        "id": "RmnzIsMr_zTT"
      },
      "source": [
        "!lsb_release -a"
      ],
      "execution_count": null,
      "outputs": []
    },
    {
      "cell_type": "markdown",
      "metadata": {
        "id": "d6UPGqCCAT3q"
      },
      "source": [
        "**!shell_command → Bash와 동일하게 실행**"
      ]
    },
    {
      "cell_type": "markdown",
      "metadata": {
        "id": "CMeO2egiTm-H"
      },
      "source": [
        "**Python2 버전 확인**"
      ]
    },
    {
      "cell_type": "code",
      "metadata": {
        "id": "76RDzpDwTDBQ"
      },
      "source": [
        "!python2 --version"
      ],
      "execution_count": null,
      "outputs": []
    },
    {
      "cell_type": "markdown",
      "metadata": {
        "id": "vPYqEsfCTzvm"
      },
      "source": [
        "**Python3 버전 확인**"
      ]
    },
    {
      "cell_type": "code",
      "metadata": {
        "id": "M6ru0NyzTXT3"
      },
      "source": [
        "!python3 --version"
      ],
      "execution_count": null,
      "outputs": []
    },
    {
      "cell_type": "markdown",
      "metadata": {
        "id": "izYu42YeT8_O"
      },
      "source": [
        "**Google Drive 연동**"
      ]
    },
    {
      "cell_type": "code",
      "metadata": {
        "id": "qeqvwuNsTc2Z"
      },
      "source": [
        "from google.colab import drive\n",
        "drive.mount('/content/drive')"
      ],
      "execution_count": null,
      "outputs": []
    },
    {
      "cell_type": "markdown",
      "metadata": {
        "id": "C12whSNBUTx2"
      },
      "source": [
        "**다음 주 강의**\n",
        "\n",
        "Python 기초(1)\n",
        "\n",
        "\n",
        "* Data Type \n",
        "  * Boolean\n",
        "  * Integer / Float / String\n",
        "  * List\n",
        "  * Dictionary\n",
        "* if / elif / else\n",
        "* for loop\n",
        "* while loop"
      ]
    },
    {
      "cell_type": "markdown",
      "metadata": {
        "id": "2GbXoT3OoJAU"
      },
      "source": [
        "**참고 자료**\n",
        "\n",
        "* Python Programming And Numerical Methods: A Guide For Engineers And Scientists\n",
        "  * https://pythonnumericalmethods.berkeley.edu/notebooks/Index.html"
      ]
    }
  ]
}