{
  "nbformat": 4,
  "nbformat_minor": 0,
  "metadata": {
    "colab": {
      "name": "열유체공학실험_Week_6.ipynb",
      "provenance": [],
      "collapsed_sections": [],
      "authorship_tag": "ABX9TyNqRIj0f6xIIQF6A5v2ol5Z",
      "include_colab_link": true
    },
    "kernelspec": {
      "name": "python3",
      "display_name": "Python 3"
    },
    "language_info": {
      "name": "python"
    }
  },
  "cells": [
    {
      "cell_type": "markdown",
      "metadata": {
        "id": "view-in-github",
        "colab_type": "text"
      },
      "source": [
        "<a href=\"https://colab.research.google.com/github/JK-the-Ko/Thermo_Fluid_Dynamics_Experiment/blob/main/2021_2/%EC%97%B4%EC%9C%A0%EC%B2%B4%EA%B3%B5%ED%95%99%EC%8B%A4%ED%97%98_Week_6.ipynb\" target=\"_parent\"><img src=\"https://colab.research.google.com/assets/colab-badge.svg\" alt=\"Open In Colab\"/></a>"
      ]
    },
    {
      "cell_type": "markdown",
      "metadata": {
        "id": "d_MhILSfy5tv"
      },
      "source": [
        "**Optimization**"
      ]
    },
    {
      "cell_type": "markdown",
      "metadata": {
        "id": "vD4qMLaYy8SK"
      },
      "source": [
        "**Searching for Minimum Point**"
      ]
    },
    {
      "cell_type": "code",
      "metadata": {
        "id": "91gTVAMSDNRo"
      },
      "source": [
        "import numpy as np\n",
        "import matplotlib.pyplot as plt"
      ],
      "execution_count": null,
      "outputs": []
    },
    {
      "cell_type": "code",
      "metadata": {
        "id": "VbtUzwEoxfb5"
      },
      "source": [
        " def function(x) :\n",
        "  return x**2 + 1"
      ],
      "execution_count": null,
      "outputs": []
    },
    {
      "cell_type": "code",
      "metadata": {
        "id": "d89v1xPWxjUt"
      },
      "source": [
        "dx = 1e-6\n",
        "x = np.arange(-2, 2, dx)\n",
        "y = function(x)"
      ],
      "execution_count": null,
      "outputs": []
    },
    {
      "cell_type": "code",
      "metadata": {
        "id": "7lLfEP_KxmNZ"
      },
      "source": [
        "plt.plot(x, y)\n",
        "plt.show()"
      ],
      "execution_count": null,
      "outputs": []
    },
    {
      "cell_type": "markdown",
      "metadata": {
        "id": "exaoRnVVycDo"
      },
      "source": [
        "**Derivative Calculation with Scipy**"
      ]
    },
    {
      "cell_type": "markdown",
      "metadata": {
        "id": "NFeZtBiRyh18"
      },
      "source": [
        "* scipy.misc.derivative(function, x, dx)\n",
        "  * function → Python Function\n",
        "  * x → Integer or Float\n",
        "  * dx → Integer or Float\n",
        "  * **Returns Derivate**"
      ]
    },
    {
      "cell_type": "code",
      "metadata": {
        "id": "l0qd9qm8EvYY"
      },
      "source": [
        "from scipy.misc import derivative"
      ],
      "execution_count": null,
      "outputs": []
    },
    {
      "cell_type": "code",
      "metadata": {
        "id": "TPo_xNqFyGYg"
      },
      "source": [
        "derivative(function, 0, dx = dx)"
      ],
      "execution_count": null,
      "outputs": []
    },
    {
      "cell_type": "code",
      "metadata": {
        "id": "sMkpvO9uyRSC"
      },
      "source": [
        "plt.plot(x, y)\n",
        "plt.scatter(0, function(0))\n",
        "plt.show()"
      ],
      "execution_count": null,
      "outputs": []
    },
    {
      "cell_type": "markdown",
      "metadata": {
        "id": "r5fc--GBzKnY"
      },
      "source": [
        "**Gradient Descent Optimization**"
      ]
    },
    {
      "cell_type": "markdown",
      "metadata": {
        "id": "3WGnv1DY3Gdi"
      },
      "source": [
        "* Example with Second-Order Polynomial Function"
      ]
    },
    {
      "cell_type": "code",
      "metadata": {
        "id": "Z4NoOa-F0Gbf"
      },
      "source": [
        "def gradient_descent(function, x, lr) :\n",
        "  gradient = derivative(function, x, dx = dx)\n",
        "  new_x = x - lr * gradient\n",
        "  return new_x"
      ],
      "execution_count": null,
      "outputs": []
    },
    {
      "cell_type": "code",
      "metadata": {
        "id": "dOQlBEae0JeN"
      },
      "source": [
        "plt.plot(x, y)\n",
        "plt.scatter(-1.5, function(-1.5))\n",
        "plt.show()"
      ],
      "execution_count": null,
      "outputs": []
    },
    {
      "cell_type": "code",
      "metadata": {
        "id": "_PjiMhFi0O33"
      },
      "source": [
        "initial_x = -1.5\n",
        "new_x_list = list()\n",
        "\n",
        "for i in range(10) :\n",
        "  lr = 0.1\n",
        "  new_x = gradient_descent(function, initial_x, lr)\n",
        "  new_x_list.append(new_x)\n",
        "  initial_x = new_x"
      ],
      "execution_count": null,
      "outputs": []
    },
    {
      "cell_type": "code",
      "metadata": {
        "id": "nAsZvDnX0dYs"
      },
      "source": [
        "plt.plot(x, y)\n",
        "plt.scatter(np.array(new_x_list), function(np.array(new_x_list)))\n",
        "plt.show()"
      ],
      "execution_count": null,
      "outputs": []
    },
    {
      "cell_type": "code",
      "metadata": {
        "id": "MV1RiSj61YfM"
      },
      "source": [
        "initial_x = -1.5\n",
        "new_x_list = list()\n",
        "\n",
        "for i in range(500) :\n",
        "  lr = 0.1\n",
        "  new_x = gradient_descent(function, initial_x, lr)\n",
        "  new_x_list.append(new_x)\n",
        "  initial_x = new_x"
      ],
      "execution_count": null,
      "outputs": []
    },
    {
      "cell_type": "code",
      "metadata": {
        "id": "ZAydhr6V1aK3"
      },
      "source": [
        "plt.plot(x, y)\n",
        "plt.scatter(np.array(new_x_list), function(np.array(new_x_list)))\n",
        "plt.show()"
      ],
      "execution_count": null,
      "outputs": []
    },
    {
      "cell_type": "code",
      "metadata": {
        "id": "78axR27A1bpa"
      },
      "source": [
        "min_x = new_x_list[-1]\n",
        "min_x"
      ],
      "execution_count": null,
      "outputs": []
    },
    {
      "cell_type": "code",
      "metadata": {
        "id": "Tzkcq_Si1zow"
      },
      "source": [
        "derivative(function, min_x, dx = dx)"
      ],
      "execution_count": null,
      "outputs": []
    },
    {
      "cell_type": "markdown",
      "metadata": {
        "id": "fVq4gIK219-7"
      },
      "source": [
        "* Gradient Descent Optimization with Smaller Learning Rate"
      ]
    },
    {
      "cell_type": "code",
      "metadata": {
        "id": "R7coPDcI2D2v"
      },
      "source": [
        "initial_x = -1.5\n",
        "new_x_list = list()\n",
        "\n",
        "for i in range(10) :\n",
        "  lr = 0.05\n",
        "  new_x = gradient_descent(function, initial_x, lr)\n",
        "  new_x_list.append(new_x)\n",
        "  initial_x = new_x"
      ],
      "execution_count": null,
      "outputs": []
    },
    {
      "cell_type": "code",
      "metadata": {
        "id": "Vd6Pfvs92Rxs"
      },
      "source": [
        "plt.plot(x, y)\n",
        "plt.scatter(np.array(new_x_list), function(np.array(new_x_list)))\n",
        "plt.show()"
      ],
      "execution_count": null,
      "outputs": []
    },
    {
      "cell_type": "code",
      "metadata": {
        "id": "7U7GPDxk2XW5"
      },
      "source": [
        "initial_x = -1.5\n",
        "new_x_list = list()\n",
        "\n",
        "for i in range(1000) :\n",
        "  lr = 0.05\n",
        "  new_x = gradient_descent(function, initial_x, lr)\n",
        "  new_x_list.append(new_x)\n",
        "  initial_x = new_x"
      ],
      "execution_count": null,
      "outputs": []
    },
    {
      "cell_type": "code",
      "metadata": {
        "id": "tYEaUOB72ZCs"
      },
      "source": [
        "plt.plot(x, y)\n",
        "plt.scatter(np.array(new_x_list), function(np.array(new_x_list)))\n",
        "plt.show()"
      ],
      "execution_count": null,
      "outputs": []
    },
    {
      "cell_type": "code",
      "metadata": {
        "id": "k3uraALb2fJ8"
      },
      "source": [
        "min_x = new_x_list[-1]\n",
        "min_x"
      ],
      "execution_count": null,
      "outputs": []
    },
    {
      "cell_type": "code",
      "metadata": {
        "id": "JPbRWSjP2h9Z"
      },
      "source": [
        "derivative(function, min_x, dx = dx)"
      ],
      "execution_count": null,
      "outputs": []
    },
    {
      "cell_type": "markdown",
      "metadata": {
        "id": "5zCHEgw23bq8"
      },
      "source": [
        "**Gradient Descent Optimization with Higher-Order Polynomial Function**"
      ]
    },
    {
      "cell_type": "code",
      "metadata": {
        "id": "VSjw9A35DRAL"
      },
      "source": [
        "def function(x) :\n",
        "  return x**6 - 4*x**5 - 5*x**4 - 7*x**3 - x**2 - x + 1"
      ],
      "execution_count": null,
      "outputs": []
    },
    {
      "cell_type": "code",
      "metadata": {
        "id": "UnhK88ieDY-p"
      },
      "source": [
        "dx = 1e-6\n",
        "x = np.arange(2, 6, dx)\n",
        "y = function(x)"
      ],
      "execution_count": null,
      "outputs": []
    },
    {
      "cell_type": "code",
      "metadata": {
        "id": "EDtGEdZwDdaV"
      },
      "source": [
        "plt.plot(x, y)\n",
        "plt.show()"
      ],
      "execution_count": null,
      "outputs": []
    },
    {
      "cell_type": "code",
      "metadata": {
        "id": "WwL5XAR535AD"
      },
      "source": [
        "plt.plot(x, y)\n",
        "plt.scatter(5.5, function(5.5))\n",
        "plt.show()"
      ],
      "execution_count": null,
      "outputs": []
    },
    {
      "cell_type": "code",
      "metadata": {
        "id": "vzyudeLq3o4a"
      },
      "source": [
        "initial_x = 5.5\n",
        "new_x_list = list()\n",
        "\n",
        "for i in range(1000) :\n",
        "  lr = 0.001\n",
        "  new_x = gradient_descent(function, initial_x, lr)\n",
        "  new_x_list.append(new_x)\n",
        "  initial_x = new_x"
      ],
      "execution_count": null,
      "outputs": []
    },
    {
      "cell_type": "code",
      "metadata": {
        "id": "tgMVzn9j4QLT"
      },
      "source": [
        "plt.plot(x, y)\n",
        "plt.scatter(np.array(new_x_list), function(np.array(new_x_list)))\n",
        "plt.show()"
      ],
      "execution_count": null,
      "outputs": []
    },
    {
      "cell_type": "code",
      "metadata": {
        "id": "BWSuzn_w4dsp"
      },
      "source": [
        "min_x = new_x_list[-1]\n",
        "min_x"
      ],
      "execution_count": null,
      "outputs": []
    },
    {
      "cell_type": "code",
      "metadata": {
        "id": "7cV1EKcQ4eZR"
      },
      "source": [
        "derivative(function, min_x, dx = dx)"
      ],
      "execution_count": null,
      "outputs": []
    },
    {
      "cell_type": "markdown",
      "metadata": {
        "id": "43M09oVN4ywp"
      },
      "source": [
        "* Gradient Descent Optimization with Smaller Learning Rate"
      ]
    },
    {
      "cell_type": "code",
      "metadata": {
        "id": "4Zc07TgL4iLb"
      },
      "source": [
        "initial_x = 5.5\n",
        "new_x_list = list()\n",
        "\n",
        "for i in range(5000) :\n",
        "  lr = 0.0001\n",
        "  new_x = gradient_descent(function, initial_x, lr)\n",
        "  new_x_list.append(new_x)\n",
        "  initial_x = new_x"
      ],
      "execution_count": null,
      "outputs": []
    },
    {
      "cell_type": "code",
      "metadata": {
        "id": "4-j5oSSj4jb1"
      },
      "source": [
        "plt.plot(x, y)\n",
        "plt.scatter(np.array(new_x_list), function(np.array(new_x_list)))\n",
        "plt.show()"
      ],
      "execution_count": null,
      "outputs": []
    },
    {
      "cell_type": "code",
      "metadata": {
        "id": "UHHhZ9044r8W"
      },
      "source": [
        "min_x = new_x_list[-1]\n",
        "min_x"
      ],
      "execution_count": null,
      "outputs": []
    },
    {
      "cell_type": "code",
      "metadata": {
        "id": "JyG3eyJC4muP"
      },
      "source": [
        "derivative(function, min_x, dx = dx)"
      ],
      "execution_count": null,
      "outputs": []
    },
    {
      "cell_type": "markdown",
      "metadata": {
        "id": "KejVU72T457U"
      },
      "source": [
        "**Solution to Faster Convergence**\n",
        "\n",
        "* Learning Rate Decay"
      ]
    },
    {
      "cell_type": "code",
      "metadata": {
        "id": "CY3sFyMbGK8r"
      },
      "source": [
        "initial_x = 5\n",
        "lr_list = [1e-3, 1e-4, 1e-5, 1e-6]\n",
        "\n",
        "new_x_list = list()\n",
        "\n",
        "for i in range(1000) :\n",
        "  lr = lr_list[i // 250]\n",
        "  new_x = gradient_descent(function, initial_x, lr)\n",
        "  new_x_list.append(new_x)\n",
        "  initial_x = new_x"
      ],
      "execution_count": null,
      "outputs": []
    },
    {
      "cell_type": "code",
      "metadata": {
        "id": "hYjTTiAm5Pjo"
      },
      "source": [
        "plt.plot(x, y)\n",
        "plt.scatter(np.array(new_x_list), function(np.array(new_x_list)))\n",
        "plt.show()"
      ],
      "execution_count": null,
      "outputs": []
    },
    {
      "cell_type": "code",
      "metadata": {
        "id": "8Fb1oU1q5TEn"
      },
      "source": [
        "min_x = new_x_list[-1]\n",
        "min_x"
      ],
      "execution_count": null,
      "outputs": []
    },
    {
      "cell_type": "code",
      "metadata": {
        "id": "T9YVAmpY5TO8"
      },
      "source": [
        "derivative(function, min_x, dx = dx)"
      ],
      "execution_count": null,
      "outputs": []
    },
    {
      "cell_type": "markdown",
      "metadata": {
        "id": "0ccVFoNBC8Cj"
      },
      "source": [
        "**Linear Regression with Gradient Descent Optimization**"
      ]
    },
    {
      "cell_type": "code",
      "metadata": {
        "id": "S9GHDyyNKRwa"
      },
      "source": [
        "from sklearn.metrics import r2_score"
      ],
      "execution_count": null,
      "outputs": []
    },
    {
      "cell_type": "code",
      "metadata": {
        "id": "xwxM7HpLC_U_"
      },
      "source": [
        "def function(x) :\n",
        "  return 10*x + 5"
      ],
      "execution_count": null,
      "outputs": []
    },
    {
      "cell_type": "code",
      "metadata": {
        "id": "WRV_agklDZha"
      },
      "source": [
        "x = np.arange(0, 10, 1)\n",
        "y = function(x)"
      ],
      "execution_count": null,
      "outputs": []
    },
    {
      "cell_type": "code",
      "metadata": {
        "id": "LPO7Y-YZDei8"
      },
      "source": [
        "plt.scatter(x, y)\n",
        "plt.show()"
      ],
      "execution_count": null,
      "outputs": []
    },
    {
      "cell_type": "code",
      "metadata": {
        "id": "lcuS_wK5DgC4"
      },
      "source": [
        "def gradient_descent(x, y, a, b, lr) :\n",
        "    gradient_a = 2 * np.sum(a*x**2 + b*x - x*y)\n",
        "    gradient_b = 2 * np.sum(a*x + b - y)\n",
        "    \n",
        "    new_a = a - lr * gradient_a\n",
        "    new_b = b - lr * gradient_b\n",
        "\n",
        "    return new_a, new_b"
      ],
      "execution_count": null,
      "outputs": []
    },
    {
      "cell_type": "code",
      "metadata": {
        "id": "vlAUuHtDGs9q"
      },
      "source": [
        "a, b = 0, 0\n",
        "iter, lr = 500, 0.001"
      ],
      "execution_count": null,
      "outputs": []
    },
    {
      "cell_type": "code",
      "metadata": {
        "id": "f9Q5pOHqGuRV"
      },
      "source": [
        "list_a, list_b = list(), list()\n",
        "for i in range(iter) :\n",
        "  list_a.append(a)\n",
        "  list_b.append(b)\n",
        "\n",
        "  a, b = gradient_descent(x, y, a, b, lr)"
      ],
      "execution_count": null,
      "outputs": []
    },
    {
      "cell_type": "code",
      "metadata": {
        "id": "I2EKbQpMIzVW"
      },
      "source": [
        "plt.scatter(np.arange(0, iter, 1), np.array(list_a))\n",
        "plt.show()"
      ],
      "execution_count": null,
      "outputs": []
    },
    {
      "cell_type": "code",
      "metadata": {
        "id": "_QGi12wqJK98"
      },
      "source": [
        "plt.scatter(np.arange(0, iter, 1), np.array(list_b))\n",
        "plt.show()"
      ],
      "execution_count": null,
      "outputs": []
    },
    {
      "cell_type": "code",
      "metadata": {
        "id": "xBQwDredG8Cs"
      },
      "source": [
        "a, b"
      ],
      "execution_count": null,
      "outputs": []
    },
    {
      "cell_type": "code",
      "metadata": {
        "id": "_h3uvvL_JYjk"
      },
      "source": [
        "def regression_model(x, a, b) :\n",
        "  return a*x + b"
      ],
      "execution_count": null,
      "outputs": []
    },
    {
      "cell_type": "code",
      "metadata": {
        "id": "8m9OGKXkJd8H"
      },
      "source": [
        "y_pred = regression_model(x, a, b)"
      ],
      "execution_count": null,
      "outputs": []
    },
    {
      "cell_type": "code",
      "metadata": {
        "id": "mW7QTD_DJg7m"
      },
      "source": [
        "plt.scatter(x, y)\n",
        "plt.plot(x, y_pred)\n",
        "plt.show()"
      ],
      "execution_count": null,
      "outputs": []
    },
    {
      "cell_type": "code",
      "metadata": {
        "id": "VZaUfC2sJmZH"
      },
      "source": [
        "r2_score(y, y_pred)"
      ],
      "execution_count": null,
      "outputs": []
    },
    {
      "cell_type": "markdown",
      "metadata": {
        "id": "8oIasJvDboRw"
      },
      "source": [
        "**Complex Model Regression with Gradient Descent Optimization**"
      ]
    },
    {
      "cell_type": "code",
      "metadata": {
        "id": "5jlbIQsxbsem"
      },
      "source": [
        "def function(x) :\n",
        "  return 4*x**2 + 2*x + 1"
      ],
      "execution_count": null,
      "outputs": []
    },
    {
      "cell_type": "code",
      "metadata": {
        "id": "3gUgi6pqb5WG"
      },
      "source": [
        "x = np.arange(0, 10, 1)\n",
        "y = function(x)"
      ],
      "execution_count": null,
      "outputs": []
    },
    {
      "cell_type": "code",
      "metadata": {
        "id": "TgtdmroOb-vT"
      },
      "source": [
        "plt.scatter(x, y)\n",
        "plt.show()"
      ],
      "execution_count": null,
      "outputs": []
    },
    {
      "cell_type": "code",
      "metadata": {
        "id": "ETb2Qim1cEWP"
      },
      "source": [
        "def f(x, a, b) :\n",
        "  return a*x + b\n",
        "\n",
        "def g(function, x, c, d) :\n",
        "  return c*x*function[x] + d"
      ],
      "execution_count": null,
      "outputs": []
    },
    {
      "cell_type": "code",
      "metadata": {
        "id": "BpItM-07c89W"
      },
      "source": [
        "def gradient_descent(x, y, a, b, c, d, lr) :\n",
        "    gradient_a = 2 * np.sum((g(f(x, a, b), x, c, d) - y) * (c*x + d) * x)\n",
        "    gradient_b = 2 * np.sum((g(f(x, a, b), x, c, d) - y) * (c*x + d))\n",
        "    gradient_c = 2 * np.sum((g(f(x, a, b), x, c, d) - y) * x * f(x, a, b))\n",
        "    gradient_d = 2 * np.sum((g(f(x, a, b), x, c, d) - y))\n",
        "    \n",
        "    new_a = a - lr * gradient_a\n",
        "    new_b = b - lr * gradient_b\n",
        "    new_c = c - lr * gradient_c\n",
        "    new_d = d - lr * gradient_d\n",
        "\n",
        "    return new_a, new_b, new_c, new_d"
      ],
      "execution_count": null,
      "outputs": []
    },
    {
      "cell_type": "code",
      "metadata": {
        "id": "RDLw2regcNcF"
      },
      "source": [
        "a, b, c, d, = 0, 0, 0, 0\n",
        "iter, lr = 2000, 1e-7"
      ],
      "execution_count": null,
      "outputs": []
    },
    {
      "cell_type": "code",
      "metadata": {
        "id": "7XQWSou7dy_4"
      },
      "source": [
        "list_a, list_b, list_c, list_d = list(), list(), list(), list()\n",
        "for i in range(iter) :\n",
        "  list_a.append(a)\n",
        "  list_b.append(b)\n",
        "  list_c.append(c)\n",
        "  list_d.append(d)\n",
        "\n",
        "  a, b, c, d = gradient_descent(x, y, a, b, c, d, lr)"
      ],
      "execution_count": null,
      "outputs": []
    },
    {
      "cell_type": "code",
      "metadata": {
        "id": "wfwmd_oafgLZ"
      },
      "source": [
        "plt.scatter(np.arange(0, iter, 1), np.array(list_a))\n",
        "plt.show()"
      ],
      "execution_count": null,
      "outputs": []
    },
    {
      "cell_type": "code",
      "metadata": {
        "id": "C6Gy7C-5fgca"
      },
      "source": [
        "plt.scatter(np.arange(0, iter, 1), np.array(list_b))\n",
        "plt.show()"
      ],
      "execution_count": null,
      "outputs": []
    },
    {
      "cell_type": "code",
      "metadata": {
        "id": "jhSWjFyNfgv5"
      },
      "source": [
        "plt.scatter(np.arange(0, iter, 1), np.array(list_c))\n",
        "plt.show()"
      ],
      "execution_count": null,
      "outputs": []
    },
    {
      "cell_type": "code",
      "metadata": {
        "id": "Q1Y465_afg9V"
      },
      "source": [
        "plt.scatter(np.arange(0, iter, 1), np.array(list_d))\n",
        "plt.show()"
      ],
      "execution_count": null,
      "outputs": []
    },
    {
      "cell_type": "code",
      "metadata": {
        "id": "twLv9NxFeJot"
      },
      "source": [
        "a, b, c, d"
      ],
      "execution_count": null,
      "outputs": []
    },
    {
      "cell_type": "code",
      "metadata": {
        "id": "3943OCJdht-F"
      },
      "source": [
        "def regression_model(x, a, b, c, d) :\n",
        "  pred_1 = a*x + b\n",
        "  pred_2 = c*x*pred_1 + d\n",
        "  return pred_2"
      ],
      "execution_count": null,
      "outputs": []
    },
    {
      "cell_type": "code",
      "metadata": {
        "id": "ZTgDLV1_fn8G"
      },
      "source": [
        "y_pred = regression_model(x, a, b, c, d)"
      ],
      "execution_count": null,
      "outputs": []
    },
    {
      "cell_type": "code",
      "metadata": {
        "id": "GwveocuefyMe"
      },
      "source": [
        "plt.scatter(x, y)\n",
        "plt.plot(x, y_pred)\n",
        "plt.show()"
      ],
      "execution_count": null,
      "outputs": []
    },
    {
      "cell_type": "code",
      "metadata": {
        "id": "Y6xDbscSf0RL"
      },
      "source": [
        "r2_score(y, y_pred)"
      ],
      "execution_count": null,
      "outputs": []
    },
    {
      "cell_type": "markdown",
      "metadata": {
        "id": "0WH5ZigfhgKn"
      },
      "source": [
        "**Week 6 Assignment**\n",
        "\n",
        "주어진 Train(x, y) 값을 기반으로 회귀 모델을 만들고, 이를 Test(x, y) 값을 기반으로 분석하세요.\n",
        "\n",
        "**조건**\n",
        "\n",
        "적절한 매개변수 초기 값 및 학습률을 설정하여,\n",
        "\n",
        "50 Iteration 내 0.95 이상의 R 제곱 값을 얻으셔야 됩니다."
      ]
    },
    {
      "cell_type": "markdown",
      "metadata": {
        "id": "NjOUzLL8hkpT"
      },
      "source": [
        "**하단과 같은 파일명으로 ipynb 생성 후 과제 진행 및 제출**\n",
        "\n",
        "* 파일명\n",
        "  * 학번_수강생성함_Week_6.ipynb\n",
        "  * 예시) 2021345678_홍길동_Week_6.ipynb"
      ]
    },
    {
      "cell_type": "code",
      "metadata": {
        "id": "aRZoMEWVknm1"
      },
      "source": [
        "import numpy as np\n",
        "import matplotlib.pyplot as plt\n",
        "from scipy.optimize import curve_fit\n",
        "from sklearn.metrics import r2_score"
      ],
      "execution_count": null,
      "outputs": []
    },
    {
      "cell_type": "code",
      "metadata": {
        "id": "ay8UmNx5dVQj"
      },
      "source": [
        "x_train = np.array([ 0,  1,  2,  3,  4,  5,  6,  7,  8,  9, 10, 11, 12, 13, 14, 15, 16,\n",
        "       17, 18, 19, 20, 21, 22, 23, 24, 25, 26, 27, 28, 29, 30, 31, 32, 33,\n",
        "       34, 35, 36, 37, 38, 39, 40, 41, 42, 43, 44, 45, 46, 47, 48, 49])\n",
        "\n",
        "y_train = np.array([   -19.04914853,    -20.97238282,    -37.65807032,    -70.25358507,\n",
        "         -119.5882817 ,   -184.96555406,   -265.65467374,   -362.67233946,\n",
        "         -475.07011295,   -604.75078885,   -749.1121659 ,   -910.63828058,\n",
        "        -1087.17983575,  -1280.72301653,  -1489.64685732,  -1714.73693583,\n",
        "        -1955.76498208,  -2212.07478555,  -2485.09137936,  -2774.47910029,\n",
        "        -3079.77234072,  -3400.54816513,  -3737.17835426,  -4090.36913308,\n",
        "        -4459.27207489,  -4844.77027243,  -5245.10571794,  -5662.92527446,\n",
        "        -6095.86488188,  -6544.3085332 ,  -7009.44148456,  -7490.55489252,\n",
        "        -7987.77518496,  -8500.59732378,  -9029.83933756,  -9574.69060017,\n",
        "       -10135.40539701, -10712.47418876, -11305.29708712, -11914.09341388,\n",
        "       -12539.69520303, -13180.67447838, -13837.58815825, -14510.02568551,\n",
        "       -15199.62125755, -15904.12993833, -16625.36305756, -17362.56092575,\n",
        "       -18115.841242  , -18884.23866564])"
      ],
      "execution_count": null,
      "outputs": []
    },
    {
      "cell_type": "code",
      "metadata": {
        "id": "LyO9QtAYdac2"
      },
      "source": [
        "x_test = np.array([ 51,  52,  53,  54,  55,  56,  57,  58,  59,  60,  61,  62,  63,\n",
        "        64,  65,  66,  67,  68,  69,  70,  71,  72,  73,  74,  75,  76,\n",
        "        77,  78,  79,  80,  81,  82,  83,  84,  85,  86,  87,  88,  89,\n",
        "        90,  91,  92,  93,  94,  95,  96,  97,  98,  99, 100])\n",
        "\n",
        "y_test = np.array([-20470.74892512, -21287.39549913, -22120.18483298, -22969.27658269,\n",
        "       -23834.64970433, -24715.602125  , -25612.85783376, -26525.76946898,\n",
        "       -27454.22290202, -28399.05320348, -29360.29795899, -30337.67482428,\n",
        "       -31330.61577404, -32339.30900067, -33364.05045674, -34405.25160421,\n",
        "       -35462.84652263, -36535.37067607, -37624.57494432, -38729.0058773 ,\n",
        "       -39850.79974608, -40987.97551176, -42140.34705209, -43309.39456553,\n",
        "       -44494.72123345, -45695.04377085, -46912.97614015, -48145.307986  ,\n",
        "       -49394.74450786, -50659.66059421, -51940.1282243 , -53237.0628409 ,\n",
        "       -54550.98292047, -55879.3451564 , -57224.52489083, -58585.88685019,\n",
        "       -59962.11897157, -61355.95819468, -62764.35024469, -64189.25782614,\n",
        "       -65630.03276726, -67087.17109222, -68560.12344316, -70049.52838347,\n",
        "       -71554.30277683, -73075.51144319, -74612.87174106, -76165.60250577,\n",
        "       -77734.54031065, -79319.03450889])"
      ],
      "execution_count": null,
      "outputs": []
    },
    {
      "cell_type": "code",
      "metadata": {
        "id": "yKeRjXxMdc37"
      },
      "source": [
        "def f(x, a, b) :\n",
        "  return a*x + b\n",
        "\n",
        "def g(function, x, c, d) :\n",
        "  return c*x*function[x] + d"
      ],
      "execution_count": null,
      "outputs": []
    },
    {
      "cell_type": "code",
      "metadata": {
        "id": "9vmHOb88d0Ux"
      },
      "source": [
        "def gradient_descent(x, y, a, b, c, d, lr) :\n",
        "    gradient_a = 2 * np.sum((g(f(x, a, b), x, c, d) - y) * (c*x + d) * x)\n",
        "    gradient_b = 2 * np.sum((g(f(x, a, b), x, c, d) - y) * (c*x + d))\n",
        "    gradient_c = 2 * np.sum((g(f(x, a, b), x, c, d) - y) * x * f(x, a, b))\n",
        "    gradient_d = 2 * np.sum((g(f(x, a, b), x, c, d) - y))\n",
        "    \n",
        "    new_a = a - lr * gradient_a\n",
        "    new_b = b - lr * gradient_b\n",
        "    new_c = c - lr * gradient_c\n",
        "    new_d = d - lr * gradient_d\n",
        "\n",
        "    return new_a, new_b, new_c, new_d"
      ],
      "execution_count": null,
      "outputs": []
    },
    {
      "cell_type": "code",
      "metadata": {
        "id": "17Luvvqxd2Y2"
      },
      "source": [
        "a, b, c, d, = # Fill Here\n",
        "iter, lr = # Fill Here"
      ],
      "execution_count": null,
      "outputs": []
    },
    {
      "cell_type": "code",
      "metadata": {
        "id": "D44Rw16Fd7Rb"
      },
      "source": [
        "list_a, list_b, list_c, list_d = list(), list(), list(), list()\n",
        "for i in range(iter) :\n",
        "  list_a.append(a)\n",
        "  list_b.append(b)\n",
        "  list_c.append(c)\n",
        "  list_d.append(d)\n",
        "\n",
        "  a, b, c, d = gradient_descent(x_train, y_train, a, b, c, d, lr)"
      ],
      "execution_count": null,
      "outputs": []
    },
    {
      "cell_type": "code",
      "metadata": {
        "id": "aLjFPtp7h80u"
      },
      "source": [
        "plt.scatter(np.arange(0, iter, 1), np.array(list_a))\n",
        "plt.show()"
      ],
      "execution_count": null,
      "outputs": []
    },
    {
      "cell_type": "code",
      "metadata": {
        "id": "35L0qYy5h9Gn"
      },
      "source": [
        "plt.scatter(np.arange(0, iter, 1), np.array(list_b))\n",
        "plt.show()"
      ],
      "execution_count": null,
      "outputs": []
    },
    {
      "cell_type": "code",
      "metadata": {
        "id": "BM8o56bNh9YD"
      },
      "source": [
        "plt.scatter(np.arange(0, iter, 1), np.array(list_c))\n",
        "plt.show()"
      ],
      "execution_count": null,
      "outputs": []
    },
    {
      "cell_type": "code",
      "metadata": {
        "id": "f4lmSfPFh9nM"
      },
      "source": [
        "plt.scatter(np.arange(0, iter, 1), np.array(list_d))\n",
        "plt.show()"
      ],
      "execution_count": null,
      "outputs": []
    },
    {
      "cell_type": "code",
      "metadata": {
        "id": "J8J2GndPd7q0"
      },
      "source": [
        "def regression_model(x, a, b, c, d) :\n",
        "  pred_1 = a*x + b\n",
        "  pred_2 = c*x*pred_1 + d\n",
        "  return pred_2"
      ],
      "execution_count": null,
      "outputs": []
    },
    {
      "cell_type": "code",
      "metadata": {
        "id": "u7A2ILx1fuUw"
      },
      "source": [
        "y_pred = regression_model(x_test, a, b, c, d)"
      ],
      "execution_count": null,
      "outputs": []
    },
    {
      "cell_type": "code",
      "metadata": {
        "id": "Bosdgarufx_w"
      },
      "source": [
        "plt.scatter(x_test, y_test)\n",
        "plt.plot(x_test, y_pred)\n",
        "plt.show()"
      ],
      "execution_count": null,
      "outputs": []
    },
    {
      "cell_type": "code",
      "metadata": {
        "id": "XdvlfBj6hHny"
      },
      "source": [
        "r2_score(y_test, y_pred)"
      ],
      "execution_count": null,
      "outputs": []
    }
  ]
}