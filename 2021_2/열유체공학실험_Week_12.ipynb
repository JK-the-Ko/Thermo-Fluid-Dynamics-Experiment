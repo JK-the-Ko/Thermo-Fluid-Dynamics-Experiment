{
  "nbformat": 4,
  "nbformat_minor": 0,
  "metadata": {
    "colab": {
      "name": "열유체공학실험_Week_12.ipynb",
      "provenance": [],
      "collapsed_sections": [],
      "authorship_tag": "ABX9TyOogeUA6OyrJKoecGVCoOb+",
      "include_colab_link": true
    },
    "kernelspec": {
      "name": "python3",
      "display_name": "Python 3"
    },
    "language_info": {
      "name": "python"
    },
    "accelerator": "GPU"
  },
  "cells": [
    {
      "cell_type": "markdown",
      "metadata": {
        "id": "view-in-github",
        "colab_type": "text"
      },
      "source": [
        "<a href=\"https://colab.research.google.com/github/JK-the-Ko/Thermo_Fluid_Dynamics_Experiment/blob/main/2021_2/%EC%97%B4%EC%9C%A0%EC%B2%B4%EA%B3%B5%ED%95%99%EC%8B%A4%ED%97%98_Week_12.ipynb\" target=\"_parent\"><img src=\"https://colab.research.google.com/assets/colab-badge.svg\" alt=\"Open In Colab\"/></a>"
      ]
    },
    {
      "cell_type": "markdown",
      "metadata": {
        "id": "TFT1NIjIAJ6X"
      },
      "source": [
        "**Check GPU Connection**"
      ]
    },
    {
      "cell_type": "code",
      "metadata": {
        "id": "AEWRTjkgAMSk"
      },
      "source": [
        "!nvidia-smi"
      ],
      "execution_count": null,
      "outputs": []
    },
    {
      "cell_type": "markdown",
      "metadata": {
        "id": "pS3sw48k3MK6"
      },
      "source": [
        "**Import Library**"
      ]
    },
    {
      "cell_type": "code",
      "metadata": {
        "id": "4grqzoHK2OAw"
      },
      "source": [
        "import numpy as np\n",
        "import matplotlib.pyplot as plt\n",
        "from tensorflow import keras"
      ],
      "execution_count": null,
      "outputs": []
    },
    {
      "cell_type": "markdown",
      "metadata": {
        "id": "bNgKcfEB3ORF"
      },
      "source": [
        "**Load Fashion MNIST Dataset**"
      ]
    },
    {
      "cell_type": "code",
      "metadata": {
        "id": "D73B3MDV2fKP"
      },
      "source": [
        "(x_train, y_train), (x_test, y_test) = keras.datasets.fashion_mnist.load_data()"
      ],
      "execution_count": null,
      "outputs": []
    },
    {
      "cell_type": "code",
      "metadata": {
        "id": "Zs9xPWEw6omL"
      },
      "source": [
        "num_classes = 10\n",
        "input_shape = (28, 28, 1)"
      ],
      "execution_count": null,
      "outputs": []
    },
    {
      "cell_type": "markdown",
      "metadata": {
        "id": "QjXLym-T3QZ-"
      },
      "source": [
        "**Check Number of Train Data**"
      ]
    },
    {
      "cell_type": "code",
      "metadata": {
        "id": "0roudyFc20ai"
      },
      "source": [
        "print(x_train.shape)\n",
        "print(y_train.shape)"
      ],
      "execution_count": null,
      "outputs": []
    },
    {
      "cell_type": "markdown",
      "metadata": {
        "id": "KtYTQf6W3TLJ"
      },
      "source": [
        "**Check Number of Test Data**"
      ]
    },
    {
      "cell_type": "code",
      "metadata": {
        "id": "5hbfahHN28fU"
      },
      "source": [
        "print(x_test.shape)\n",
        "print(y_test.shape)"
      ],
      "execution_count": null,
      "outputs": []
    },
    {
      "cell_type": "markdown",
      "metadata": {
        "id": "HxmToO_a3Vgb"
      },
      "source": [
        "**Show Sample**"
      ]
    },
    {
      "cell_type": "code",
      "metadata": {
        "id": "lwT2__Td3EUO"
      },
      "source": [
        "sample_image = x_train[0, :, :]"
      ],
      "execution_count": null,
      "outputs": []
    },
    {
      "cell_type": "code",
      "metadata": {
        "id": "pLmEqin93JBT"
      },
      "source": [
        "sample_image.shape"
      ],
      "execution_count": null,
      "outputs": []
    },
    {
      "cell_type": "code",
      "metadata": {
        "id": "sRq9BloX3t-f"
      },
      "source": [
        "sample_image.dtype"
      ],
      "execution_count": null,
      "outputs": []
    },
    {
      "cell_type": "code",
      "metadata": {
        "id": "EwLsiqQU3Kxr"
      },
      "source": [
        "plt.rcParams[\"figure.figsize\"] = (5, 5)\n",
        "plt.imshow(sample_image, cmap = \"gray\")\n",
        "plt.axis(\"off\")\n",
        "plt.show()"
      ],
      "execution_count": null,
      "outputs": []
    },
    {
      "cell_type": "code",
      "metadata": {
        "id": "k9PiGI9o3d_a"
      },
      "source": [
        "sample_label = y_train[0]"
      ],
      "execution_count": null,
      "outputs": []
    },
    {
      "cell_type": "code",
      "metadata": {
        "id": "WJ-_5_TV3j2g"
      },
      "source": [
        "sample_label"
      ],
      "execution_count": null,
      "outputs": []
    },
    {
      "cell_type": "markdown",
      "metadata": {
        "id": "NXunmfZK380i"
      },
      "source": [
        "**Data Processing**"
      ]
    },
    {
      "cell_type": "markdown",
      "metadata": {
        "id": "nLGKihOU3_S5"
      },
      "source": [
        "* Min-Max Normalization"
      ]
    },
    {
      "cell_type": "code",
      "metadata": {
        "id": "269w0T8M3kd4"
      },
      "source": [
        "x_train = x_train / 255\n",
        "x_test = x_test / 255"
      ],
      "execution_count": null,
      "outputs": []
    },
    {
      "cell_type": "code",
      "metadata": {
        "id": "KyNUG85m489b"
      },
      "source": [
        "x_train.dtype"
      ],
      "execution_count": null,
      "outputs": []
    },
    {
      "cell_type": "code",
      "metadata": {
        "id": "ya-WiiLn4-Wd"
      },
      "source": [
        "print(np.max(x_train))\n",
        "print(np.min(x_train))"
      ],
      "execution_count": null,
      "outputs": []
    },
    {
      "cell_type": "markdown",
      "metadata": {
        "id": "kWkA0grU54q5"
      },
      "source": [
        "* One-Hot Encoding"
      ]
    },
    {
      "cell_type": "code",
      "metadata": {
        "id": "Oao3koM45zXA"
      },
      "source": [
        "y_train = keras.utils.to_categorical(y_train, num_classes)\n",
        "y_test = keras.utils.to_categorical(y_test, num_classes)"
      ],
      "execution_count": null,
      "outputs": []
    },
    {
      "cell_type": "code",
      "metadata": {
        "id": "g4litaw36x-x"
      },
      "source": [
        "y_train[0]"
      ],
      "execution_count": null,
      "outputs": []
    },
    {
      "cell_type": "markdown",
      "metadata": {
        "id": "1-3Kp0hI7mbj"
      },
      "source": [
        "**Convolutional Neural Network (CNN)**"
      ]
    },
    {
      "cell_type": "code",
      "metadata": {
        "id": "VAWEuEre7ocl"
      },
      "source": [
        "from tensorflow.keras import layers"
      ],
      "execution_count": null,
      "outputs": []
    },
    {
      "cell_type": "markdown",
      "metadata": {
        "id": "XScb2uPv74Ae"
      },
      "source": [
        "* Assign Sequential Model"
      ]
    },
    {
      "cell_type": "code",
      "metadata": {
        "id": "I-P3P5Hf7rqG"
      },
      "source": [
        "model = keras.Sequential()"
      ],
      "execution_count": null,
      "outputs": []
    },
    {
      "cell_type": "markdown",
      "metadata": {
        "id": "uiudoJGs79mz"
      },
      "source": [
        "* Convolutional Layer"
      ]
    },
    {
      "cell_type": "code",
      "metadata": {
        "id": "prm_zmBF8AnE"
      },
      "source": [
        "model.add(layers.Conv2D(32, (3, 3), padding = \"same\", activation = \"relu\", input_shape = input_shape))\n",
        "model.add(layers.Conv2D(32, (3, 3), activation = \"relu\"))\n",
        "model.add(layers.MaxPooling2D((2, 2)))\n",
        "model.add(layers.Conv2D(64, (3, 3), padding = \"same\", activation = \"relu\"))\n",
        "model.add(layers.Conv2D(64, (3, 3), padding = \"same\", activation = \"relu\"))\n",
        "model.add(layers.MaxPooling2D((2, 2)))\n",
        "model.add(layers.Conv2D(128, (3, 3), padding = \"same\", activation = \"relu\"))\n",
        "model.add(layers.Conv2D(128, (3, 3), padding = \"same\", activation = \"relu\"))"
      ],
      "execution_count": null,
      "outputs": []
    },
    {
      "cell_type": "markdown",
      "metadata": {
        "id": "pgkv2j289LGk"
      },
      "source": [
        "* Summarize Model"
      ]
    },
    {
      "cell_type": "code",
      "metadata": {
        "id": "LvBKnIKV8yVe"
      },
      "source": [
        "model.summary()"
      ],
      "execution_count": null,
      "outputs": []
    },
    {
      "cell_type": "markdown",
      "metadata": {
        "id": "vhCmr8QI9Ojq"
      },
      "source": [
        "* Flattening Layer"
      ]
    },
    {
      "cell_type": "code",
      "metadata": {
        "id": "XyvKr5Dx9S8Z"
      },
      "source": [
        "model.add(layers.Flatten())"
      ],
      "execution_count": null,
      "outputs": []
    },
    {
      "cell_type": "markdown",
      "metadata": {
        "id": "NSj4nMVtV4ix"
      },
      "source": [
        "* Fully Connected Layer (Multi Layer Perceptron)"
      ]
    },
    {
      "cell_type": "code",
      "metadata": {
        "id": "Wi2Y3lCt88Pn"
      },
      "source": [
        "model.add(layers.Dense(128, \"relu\"))\n",
        "model.add(layers.Dense(128, \"relu\"))\n",
        "model.add(layers.Dense(num_classes, \"softmax\"))"
      ],
      "execution_count": null,
      "outputs": []
    },
    {
      "cell_type": "code",
      "metadata": {
        "id": "6-VtOPdQ9Tkf"
      },
      "source": [
        "model.layers"
      ],
      "execution_count": null,
      "outputs": []
    },
    {
      "cell_type": "markdown",
      "metadata": {
        "id": "3jBfWMbl9YuX"
      },
      "source": [
        "* Summarize Model"
      ]
    },
    {
      "cell_type": "code",
      "metadata": {
        "id": "mI7upcy29Ux8"
      },
      "source": [
        "model.summary()"
      ],
      "execution_count": null,
      "outputs": []
    },
    {
      "cell_type": "markdown",
      "metadata": {
        "id": "imqn0mW0D3j-"
      },
      "source": [
        "* Compile Model"
      ]
    },
    {
      "cell_type": "code",
      "metadata": {
        "id": "8GjeXDBJ9boN"
      },
      "source": [
        "model.compile(optimizer = \"adam\", loss = \"categorical_crossentropy\", metrics = [\"accuracy\"])"
      ],
      "execution_count": null,
      "outputs": []
    },
    {
      "cell_type": "markdown",
      "metadata": {
        "id": "Z2kqjIT5D4_v"
      },
      "source": [
        "* Train Model"
      ]
    },
    {
      "cell_type": "code",
      "metadata": {
        "id": "qzAQuZCkEMgx"
      },
      "source": [
        "batch_size = 128\n",
        "epochs = 30"
      ],
      "execution_count": null,
      "outputs": []
    },
    {
      "cell_type": "code",
      "metadata": {
        "id": "H_pA1B-4D1dY"
      },
      "source": [
        "hist = model.fit(x_train, y_train, batch_size = batch_size, epochs = epochs, validation_split = 0.2)"
      ],
      "execution_count": null,
      "outputs": []
    },
    {
      "cell_type": "markdown",
      "metadata": {
        "id": "mK8wKD1tF0Li"
      },
      "source": [
        "* Show Training Process"
      ]
    },
    {
      "cell_type": "code",
      "metadata": {
        "id": "mHvTlLRzEZGw"
      },
      "source": [
        "hist.history.keys()"
      ],
      "execution_count": null,
      "outputs": []
    },
    {
      "cell_type": "code",
      "metadata": {
        "id": "6rgVPEhJFyzq"
      },
      "source": [
        "plt.rcParams[\"figure.figsize\"] = (10, 5)"
      ],
      "execution_count": null,
      "outputs": []
    },
    {
      "cell_type": "code",
      "metadata": {
        "id": "WchpzCibFAmn"
      },
      "source": [
        "plt.plot(np.arange(0, epochs), hist.history[\"loss\"], label = \"Train Loss\")\n",
        "plt.plot(np.arange(0, epochs), hist.history[\"val_loss\"], label = \"Validation Loss\")\n",
        "plt.legend()\n",
        "plt.show()"
      ],
      "execution_count": null,
      "outputs": []
    },
    {
      "cell_type": "code",
      "metadata": {
        "id": "7Yi4qm9AFSZW"
      },
      "source": [
        "plt.plot(np.arange(0, epochs), hist.history[\"accuracy\"], label = \"Train Accuracy\")\n",
        "plt.plot(np.arange(0, epochs), hist.history[\"val_accuracy\"], label = \"Validation Accuracy\")\n",
        "plt.legend()\n",
        "plt.show()"
      ],
      "execution_count": null,
      "outputs": []
    },
    {
      "cell_type": "markdown",
      "metadata": {
        "id": "REs90PZHGTMG"
      },
      "source": [
        "* Evaluate Model"
      ]
    },
    {
      "cell_type": "code",
      "metadata": {
        "id": "2vwT3fiaGUtn"
      },
      "source": [
        "score = model.evaluate(x_test, y_test)"
      ],
      "execution_count": null,
      "outputs": []
    },
    {
      "cell_type": "code",
      "metadata": {
        "id": "jEzol5spGXaF"
      },
      "source": [
        "print(\"Test loss:\", score[0])\n",
        "print(\"Test accuracy:\", score[1])"
      ],
      "execution_count": null,
      "outputs": []
    },
    {
      "cell_type": "markdown",
      "metadata": {
        "id": "6lHMWP2QB-3p"
      },
      "source": [
        "**Global Average Pooling**"
      ]
    },
    {
      "cell_type": "markdown",
      "metadata": {
        "id": "9KYttokYHi3N"
      },
      "source": [
        "Flattening → Global Average Pooling"
      ]
    },
    {
      "cell_type": "code",
      "metadata": {
        "id": "5VvNCi5nCCcZ"
      },
      "source": [
        "model = keras.Sequential()"
      ],
      "execution_count": null,
      "outputs": []
    },
    {
      "cell_type": "code",
      "metadata": {
        "id": "FQ05sFSRCGDl"
      },
      "source": [
        "model.add(layers.Conv2D(32, (3, 3), padding = \"same\", activation = \"relu\", input_shape = input_shape))\n",
        "model.add(layers.Conv2D(32, (3, 3), activation = \"relu\"))\n",
        "model.add(layers.MaxPooling2D((2, 2)))\n",
        "model.add(layers.Conv2D(64, (3, 3), padding = \"same\", activation = \"relu\"))\n",
        "model.add(layers.Conv2D(64, (3, 3), padding = \"same\", activation = \"relu\"))\n",
        "model.add(layers.MaxPooling2D((2, 2)))\n",
        "model.add(layers.Conv2D(128, (3, 3), padding = \"same\", activation = \"relu\"))\n",
        "model.add(layers.Conv2D(128, (3, 3), padding = \"same\", activation = \"relu\"))"
      ],
      "execution_count": null,
      "outputs": []
    },
    {
      "cell_type": "code",
      "metadata": {
        "id": "znbnGkccCGi6"
      },
      "source": [
        "model.add(layers.GlobalAveragePooling2D())"
      ],
      "execution_count": null,
      "outputs": []
    },
    {
      "cell_type": "code",
      "metadata": {
        "id": "90weYU4BCGzJ"
      },
      "source": [
        "model.add(layers.Dense(128, \"relu\"))\n",
        "model.add(layers.Dense(128, \"relu\"))\n",
        "model.add(layers.Dense(num_classes, \"softmax\"))"
      ],
      "execution_count": null,
      "outputs": []
    },
    {
      "cell_type": "code",
      "metadata": {
        "id": "6f2KcQy0CQaD"
      },
      "source": [
        "model.summary()"
      ],
      "execution_count": null,
      "outputs": []
    },
    {
      "cell_type": "markdown",
      "metadata": {
        "id": "i7N6kvPVCZi3"
      },
      "source": [
        "* Compile Model"
      ]
    },
    {
      "cell_type": "code",
      "metadata": {
        "id": "HSpBii1BCSy7"
      },
      "source": [
        "model.compile(optimizer = \"adam\", loss = \"categorical_crossentropy\", metrics = [\"accuracy\"])"
      ],
      "execution_count": null,
      "outputs": []
    },
    {
      "cell_type": "markdown",
      "metadata": {
        "id": "3okwZ7hZCa84"
      },
      "source": [
        "* Train Model"
      ]
    },
    {
      "cell_type": "code",
      "metadata": {
        "id": "YR3MslpLCXbh"
      },
      "source": [
        "batch_size = 128\n",
        "epochs = 30"
      ],
      "execution_count": null,
      "outputs": []
    },
    {
      "cell_type": "code",
      "metadata": {
        "id": "TXGNsgbuCeoK"
      },
      "source": [
        "hist = model.fit(x_train, y_train, batch_size = batch_size, epochs = epochs, validation_split = 0.2)"
      ],
      "execution_count": null,
      "outputs": []
    },
    {
      "cell_type": "markdown",
      "metadata": {
        "id": "xV1b7ph5CmOV"
      },
      "source": [
        "* Show Training Process"
      ]
    },
    {
      "cell_type": "code",
      "metadata": {
        "id": "uQF44LMJCmOX"
      },
      "source": [
        "hist.history.keys()"
      ],
      "execution_count": null,
      "outputs": []
    },
    {
      "cell_type": "code",
      "metadata": {
        "id": "nWAlWqfvCmOY"
      },
      "source": [
        "plt.rcParams[\"figure.figsize\"] = (10, 5)"
      ],
      "execution_count": null,
      "outputs": []
    },
    {
      "cell_type": "code",
      "metadata": {
        "id": "bs4znxkmCmOY"
      },
      "source": [
        "plt.plot(np.arange(0, epochs), hist.history[\"loss\"], label = \"Train Loss\")\n",
        "plt.plot(np.arange(0, epochs), hist.history[\"val_loss\"], label = \"Validation Loss\")\n",
        "plt.legend()\n",
        "plt.show()"
      ],
      "execution_count": null,
      "outputs": []
    },
    {
      "cell_type": "code",
      "metadata": {
        "id": "tYfbbidLCmOZ"
      },
      "source": [
        "plt.plot(np.arange(0, epochs), hist.history[\"accuracy\"], label = \"Train Accuracy\")\n",
        "plt.plot(np.arange(0, epochs), hist.history[\"val_accuracy\"], label = \"Validation Accuracy\")\n",
        "plt.legend()\n",
        "plt.show()"
      ],
      "execution_count": null,
      "outputs": []
    },
    {
      "cell_type": "markdown",
      "metadata": {
        "id": "W07o_HSVCmOa"
      },
      "source": [
        "* Evaluate Model"
      ]
    },
    {
      "cell_type": "code",
      "metadata": {
        "id": "CjPaTWcuCmOa"
      },
      "source": [
        "score = model.evaluate(x_test, y_test)"
      ],
      "execution_count": null,
      "outputs": []
    },
    {
      "cell_type": "code",
      "metadata": {
        "id": "kkMrrseKCmOb"
      },
      "source": [
        "print(\"Test loss:\", score[0])\n",
        "print(\"Test accuracy:\", score[1])"
      ],
      "execution_count": null,
      "outputs": []
    },
    {
      "cell_type": "markdown",
      "metadata": {
        "id": "llegGEK6Gpfc"
      },
      "source": [
        "**Regularizer**"
      ]
    },
    {
      "cell_type": "markdown",
      "metadata": {
        "id": "wUNBNJ7LGvN1"
      },
      "source": [
        "* Batch Normalization"
      ]
    },
    {
      "cell_type": "code",
      "metadata": {
        "id": "wV0UpqI3Hjr4"
      },
      "source": [
        "model = keras.Sequential()"
      ],
      "execution_count": null,
      "outputs": []
    },
    {
      "cell_type": "code",
      "metadata": {
        "id": "bhp3_9N4Hxjg"
      },
      "source": [
        "model.add(layers.Conv2D(32, (3, 3), padding = \"same\", activation = \"relu\", input_shape = input_shape))\n",
        "model.add(layers.BatchNormalization())\n",
        "\n",
        "model.add(layers.Conv2D(32, (3, 3), padding = \"same\", activation = \"relu\"))\n",
        "model.add(layers.BatchNormalization())\n",
        "\n",
        "model.add(layers.MaxPooling2D((2, 2)))\n",
        "\n",
        "model.add(layers.Conv2D(64, (3, 3), padding = \"same\", activation = \"relu\"))\n",
        "model.add(layers.BatchNormalization())\n",
        "\n",
        "model.add(layers.Conv2D(64, (3, 3), padding = \"same\", activation = \"relu\"))\n",
        "model.add(layers.BatchNormalization())\n",
        "\n",
        "model.add(layers.MaxPooling2D((2, 2)))\n",
        "\n",
        "model.add(layers.Conv2D(128, (3, 3), padding = \"same\", activation = \"relu\"))\n",
        "model.add(layers.BatchNormalization())\n",
        "\n",
        "model.add(layers.Conv2D(128, (3, 3), padding = \"same\", activation = \"relu\"))\n",
        "model.add(layers.BatchNormalization())\n",
        "\n",
        "model.add(layers.GlobalAveragePooling2D())\n",
        "model.add(layers.Dense(128, activation = \"relu\"))\n",
        "model.add(layers.Dense(128, activation = \"relu\"))\n",
        "model.add(layers.Dense(num_classes, \"softmax\"))"
      ],
      "execution_count": null,
      "outputs": []
    },
    {
      "cell_type": "code",
      "metadata": {
        "id": "3pAjn_lJIPpa"
      },
      "source": [
        "model.summary()"
      ],
      "execution_count": null,
      "outputs": []
    },
    {
      "cell_type": "code",
      "metadata": {
        "id": "D0YKG9NhIV6Z"
      },
      "source": [
        "model.compile(optimizer = \"adam\", loss = \"categorical_crossentropy\", metrics = [\"accuracy\"])\n",
        "hist_reg = model.fit(x_train, y_train, batch_size = batch_size, epochs = epochs, validation_split = 0.2)"
      ],
      "execution_count": null,
      "outputs": []
    },
    {
      "cell_type": "code",
      "metadata": {
        "id": "Tk8LceENIiBA"
      },
      "source": [
        "plt.plot(np.arange(0, epochs), hist_reg.history[\"loss\"], label = \"Train Loss\")\n",
        "plt.plot(np.arange(0, epochs), hist_reg.history[\"val_loss\"], label = \"Validation Loss\")\n",
        "plt.legend()\n",
        "plt.show()"
      ],
      "execution_count": null,
      "outputs": []
    },
    {
      "cell_type": "code",
      "metadata": {
        "id": "HWO4T1T_JqWZ"
      },
      "source": [
        "plt.plot(np.arange(0, epochs), hist_reg.history[\"accuracy\"], label = \"Train Accuracy\")\n",
        "plt.plot(np.arange(0, epochs), hist_reg.history[\"val_accuracy\"], label = \"Validation Accuracy\")\n",
        "plt.legend()\n",
        "plt.show()"
      ],
      "execution_count": null,
      "outputs": []
    },
    {
      "cell_type": "code",
      "metadata": {
        "id": "WDBkcO8CTZQ9"
      },
      "source": [
        "score = model.evaluate(x_test, y_test)\n",
        "print(\"Test loss:\", score[0])\n",
        "print(\"Test accuracy:\", score[1])"
      ],
      "execution_count": null,
      "outputs": []
    },
    {
      "cell_type": "markdown",
      "metadata": {
        "id": "_sPr48o4JtpJ"
      },
      "source": [
        "**Data Augmentation**"
      ]
    },
    {
      "cell_type": "markdown",
      "metadata": {
        "id": "c04vqd66Kokz"
      },
      "source": [
        "https://www.tensorflow.org/api_docs/python/tf/keras/preprocessing/image/ImageDataGenerator"
      ]
    },
    {
      "cell_type": "code",
      "metadata": {
        "id": "tgqFY_mvOlBy"
      },
      "source": [
        "from tensorflow.keras.preprocessing.image import ImageDataGenerator"
      ],
      "execution_count": null,
      "outputs": []
    },
    {
      "cell_type": "markdown",
      "metadata": {
        "id": "GVsmPgDDO2Gd"
      },
      "source": [
        "* ImageDataGenerator"
      ]
    },
    {
      "cell_type": "code",
      "metadata": {
        "id": "UvvhOahHO1BT"
      },
      "source": [
        "datagen = ImageDataGenerator(\n",
        "    rotation_range = 20,\n",
        "    width_shift_range = 0.2,\n",
        "    height_shift_range = 0.2,\n",
        "    horizontal_flip = True,\n",
        "    validation_split = 0.2)"
      ],
      "execution_count": null,
      "outputs": []
    },
    {
      "cell_type": "markdown",
      "metadata": {
        "id": "wpz1lE1ecAlb"
      },
      "source": [
        "* Assign Model"
      ]
    },
    {
      "cell_type": "code",
      "metadata": {
        "id": "-TTYXdiPPLFB"
      },
      "source": [
        "model = keras.Sequential()"
      ],
      "execution_count": null,
      "outputs": []
    },
    {
      "cell_type": "code",
      "metadata": {
        "id": "L8BtrxZiPMz8"
      },
      "source": [
        "model.add(layers.Conv2D(32, (3, 3), padding = \"same\", activation = \"relu\", input_shape = input_shape))\n",
        "model.add(layers.BatchNormalization())\n",
        "\n",
        "model.add(layers.Conv2D(32, (3, 3), padding = \"same\", activation = \"relu\"))\n",
        "model.add(layers.BatchNormalization())\n",
        "\n",
        "model.add(layers.MaxPooling2D((2, 2)))\n",
        "\n",
        "model.add(layers.Conv2D(64, (3, 3), padding = \"same\", activation = \"relu\"))\n",
        "model.add(layers.BatchNormalization())\n",
        "\n",
        "model.add(layers.Conv2D(64, (3, 3), padding = \"same\", activation = \"relu\"))\n",
        "model.add(layers.BatchNormalization())\n",
        "\n",
        "model.add(layers.MaxPooling2D((2, 2)))\n",
        "\n",
        "model.add(layers.Conv2D(128, (3, 3), padding = \"same\", activation = \"relu\"))\n",
        "model.add(layers.BatchNormalization())\n",
        "\n",
        "model.add(layers.Conv2D(128, (3, 3), padding = \"same\", activation = \"relu\"))\n",
        "model.add(layers.BatchNormalization())\n",
        "\n",
        "model.add(layers.GlobalAveragePooling2D())\n",
        "model.add(layers.Dense(128, activation = \"relu\"))\n",
        "model.add(layers.Dense(128, activation = \"relu\"))\n",
        "model.add(layers.Dense(num_classes, \"softmax\"))"
      ],
      "execution_count": null,
      "outputs": []
    },
    {
      "cell_type": "code",
      "metadata": {
        "id": "V1N5m7WNPOyL"
      },
      "source": [
        "model.summary()"
      ],
      "execution_count": null,
      "outputs": []
    },
    {
      "cell_type": "markdown",
      "metadata": {
        "id": "HjdX4RoRQ1iF"
      },
      "source": [
        "* Expand Dimension"
      ]
    },
    {
      "cell_type": "markdown",
      "metadata": {
        "id": "2hwNyuulcMhU"
      },
      "source": [
        "2D Tensor → 3D Tensor"
      ]
    },
    {
      "cell_type": "code",
      "metadata": {
        "id": "2anReyShQJ_n"
      },
      "source": [
        "x_train = np.expand_dims(x_train, -1)"
      ],
      "execution_count": null,
      "outputs": []
    },
    {
      "cell_type": "code",
      "metadata": {
        "id": "VD6mDXemQxRf"
      },
      "source": [
        "x_test = np.expand_dims(x_test, -1)"
      ],
      "execution_count": null,
      "outputs": []
    },
    {
      "cell_type": "markdown",
      "metadata": {
        "id": "mtdLLl2iRHaT"
      },
      "source": [
        "* Train Model with Data Augmentation"
      ]
    },
    {
      "cell_type": "code",
      "metadata": {
        "id": "fOWpE4h1PTIb"
      },
      "source": [
        "model.compile(optimizer = \"adam\", loss = \"categorical_crossentropy\", metrics = [\"accuracy\"])\n",
        "hist = model.fit(datagen.flow(x_train, y_train, batch_size = batch_size, subset=\"training\"), \n",
        "          validation_data = datagen.flow(x_train, y_train, batch_size = batch_size, subset = \"validation\"),\n",
        "          epochs = epochs)"
      ],
      "execution_count": null,
      "outputs": []
    },
    {
      "cell_type": "code",
      "metadata": {
        "id": "6pzR2YQSTEFl"
      },
      "source": [
        "plt.plot(np.arange(0, epochs), hist.history[\"loss\"], label = \"Train Loss\")\n",
        "plt.plot(np.arange(0, epochs), hist.history[\"val_loss\"], label = \"Validation Loss\")\n",
        "plt.legend()\n",
        "plt.show()"
      ],
      "execution_count": null,
      "outputs": []
    },
    {
      "cell_type": "code",
      "metadata": {
        "id": "BSGax4JPTEFo"
      },
      "source": [
        "plt.plot(np.arange(0, epochs), hist.history[\"accuracy\"], label = \"Train Accuracy\")\n",
        "plt.plot(np.arange(0, epochs), hist.history[\"val_accuracy\"], label = \"Validation Accuracy\")\n",
        "plt.legend()\n",
        "plt.show()"
      ],
      "execution_count": null,
      "outputs": []
    },
    {
      "cell_type": "code",
      "metadata": {
        "id": "t-z2_epaTEFo"
      },
      "source": [
        "score = model.evaluate(x_test, y_test)\n",
        "print(\"Test loss:\", score[0])\n",
        "print(\"Test accuracy:\", score[1])"
      ],
      "execution_count": null,
      "outputs": []
    },
    {
      "cell_type": "markdown",
      "metadata": {
        "id": "q-2RhvDGBunz"
      },
      "source": [
        "**Week 12 Assignment**"
      ]
    },
    {
      "cell_type": "markdown",
      "metadata": {
        "id": "rAt7Yc4oB2aL"
      },
      "source": [
        "Keras에서 제공하는 CIFAR10 데이터셋을 불러와 이미지 분류 모델을 학습하고 하단과 같은 결과를 출력하세요."
      ]
    },
    {
      "cell_type": "markdown",
      "metadata": {
        "id": "39Nc2SKYDA97"
      },
      "source": [
        "\n",
        "\n",
        "1.   훈련 결과 그래프 (Loss 및 Accuracy)\n",
        "2.   모델 검증 결과\n",
        "\n"
      ]
    },
    {
      "cell_type": "markdown",
      "metadata": {
        "id": "bRabLiUYCMyi"
      },
      "source": [
        "**Test 데이터로 모델을 검증하였을 시 정확도가 85% 이상 나와야 합니다.**\n",
        "\n"
      ]
    },
    {
      "cell_type": "markdown",
      "metadata": {
        "id": "Rb_dMYToCB92"
      },
      "source": [
        "**하단과 같은 파일명으로 .ipynb 생성 후 과제 진행 및 제출**"
      ]
    },
    {
      "cell_type": "markdown",
      "metadata": {
        "id": "Ukydy-OLCHdn"
      },
      "source": [
        "* 파일명\n",
        "  * 학번_수강생성함_Week_12.ipynb\n",
        "  * 예시) 2021345678_홍길동_Week_12.ipynb"
      ]
    },
    {
      "cell_type": "code",
      "metadata": {
        "id": "N2Jgyq1iCkaF"
      },
      "source": [
        "import numpy as np\n",
        "import matplotlib.pyplot as plt\n",
        "from tensorflow import keras\n",
        "from tensorflow.keras import layers"
      ],
      "execution_count": null,
      "outputs": []
    },
    {
      "cell_type": "code",
      "metadata": {
        "id": "AhaX0dF-D5sm"
      },
      "source": [
        "(x_train, y_train), (x_test, y_test) = keras.datasets.cifar10.load_data()"
      ],
      "execution_count": null,
      "outputs": []
    },
    {
      "cell_type": "code",
      "metadata": {
        "id": "PLIJXi-pJjDB"
      },
      "source": [
        "input_shape = (32, 32, 3)\n",
        "num_classes = 10"
      ],
      "execution_count": null,
      "outputs": []
    }
  ]
}