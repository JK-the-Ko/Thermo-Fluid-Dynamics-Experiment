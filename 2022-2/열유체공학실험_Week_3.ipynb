{
  "nbformat": 4,
  "nbformat_minor": 0,
  "metadata": {
    "colab": {
      "provenance": [],
      "collapsed_sections": [],
      "authorship_tag": "ABX9TyOTBXAjfl8E8HonP56/R43s",
      "include_colab_link": true
    },
    "kernelspec": {
      "name": "python3",
      "display_name": "Python 3"
    },
    "language_info": {
      "name": "python"
    }
  },
  "cells": [
    {
      "cell_type": "markdown",
      "metadata": {
        "id": "view-in-github",
        "colab_type": "text"
      },
      "source": [
        "<a href=\"https://colab.research.google.com/github/JK-the-Ko/Thermo_Fluid_Dynamics_Experiment/blob/main/2022_2/%EC%97%B4%EC%9C%A0%EC%B2%B4%EA%B3%B5%ED%95%99%EC%8B%A4%ED%97%98_Week_3.ipynb\" target=\"_parent\"><img src=\"https://colab.research.google.com/assets/colab-badge.svg\" alt=\"Open In Colab\"/></a>"
      ]
    },
    {
      "cell_type": "markdown",
      "metadata": {
        "id": "6CsQZl8Yo6AZ"
      },
      "source": [
        "# List (Array)"
      ]
    },
    {
      "cell_type": "markdown",
      "metadata": {
        "id": "CJXvsGLrsoP8"
      },
      "source": [
        "## 1-D List (Array)"
      ]
    },
    {
      "cell_type": "markdown",
      "metadata": {
        "id": "c3xcB1PZq0N4"
      },
      "source": [
        "![KakaoTalk_20210804_143757552.png](data:image/png;base64,iVBORw0KGgoAAAANSUhEUgAAA1wAAAC2CAYAAADN0oy9AAAAAXNSR0IArs4c6QAAAARnQU1BAACxjwv8YQUAAAAJcEhZcwAADsMAAA7DAcdvqGQAABJVSURBVHhe7d0/bmNlG8bhFJRfQUGNKFgABdVpQGIBFFRUICG5QxQsgC14B5SUdG5ZAgtwQUk55ZTn80n879jHyXMzOclr57qkVyJxnJmE5Hn8GzvOXU9z/vnnn/6vv/7avsRT/vzzz/7du3fbl3jM8HkaPl/UDN+Hw/cjNb///vv2v3jK33//fX+o+eOPP/r3799vX+Ix5nzGnK8bvgeH70Vqjue84GrQp59+2t/d3TmO4ziO4ziOc6Xnf//7332oCq4GDf9K/OOPP25f4ilff/21ewSLhs/T8PmiZvg+dK9N3bBcqPntt9/uDzWfffaZeyGKzPmMOV83fA8O34vUHM9527FBgisjuOos4oxFnBFcdYIrI7jqzPmMOV8nuDKCq3GCKyO46izijEWcEVx1gisjuOrM+Yw5Xye4MoKrcYIrI7jqLOKMRZwRXHWCKyO46sz5jDlfJ7gygqtxgisjuOos4oxFnBFcdYIrI7jqzPmMOV8nuDKCq3GCKyO46izijEWcEVx1gisjuOrM+Yw5Xye4MoKrcYIrI7jqLOKMRZwRXHWCKyO46sz5jDlfJ7gygqtxgisjuOos4oxFnBFcdYIrI7jqzPmMOV8nuDKCq3GCKyO46izijEWcEVx1gisjuOrM+Yw5Xye4MoKrcYIrI7jqLOKMRZwRXHWCKyO46sz5jDlfJ7gygqtxgisjuOos4oxFnBFcdYIrI7jqzPmMOV8nuDKCq3GCKyO46izijEWcEVx1gisjuOrM+Yw5Xye4MoKrcYIrI7jqLOKMRZwRXHWCKyO46sz5jDlfJ7gygqtxgisjuOos4oxFnBFcdYIrI7jqzPmMOV8nuDKCq3GCKyO46izijEWcEVx1gisjuOrM+Yw5Xye4MoKrcYIrI7jqLOKMRZwRXHWCKyO46sz5jDlfJ7gygqtxgisjuOos4oxFnBFcdYIrI7jqzPmMOV8nuDKCq3GCKyO46izijEWcEVx1gisjuOrM+Yw5Xye4MoKrcYIrI7jqLOKMRZwRXHWCKyO46sz5jDlfJ7gygqtxgisjuOos4oxFnBFcdYIrI7jqzPmMOV8nuDKCq3GCKyO46izijEWcEVx1gisjuOrM+Yw5Xye4MoKrcYIrI7jqLOKMRZwRXHWCKyO46sz5jDlfJ7gygqtxgisjuOos4oxFnBFcdYIrI7jqzPmMOV8nuDKCq3GCKyO46izijEWcEVx1gisjuOrM+Yw5Xye4MoKrcYIrI7jqLOKMRZwRXHWCKyO46sz5jDlfJ7gygqtxgisjuOos4oxFnBFcdYIrI7jqzPmMOV8nuDKCq3GCKyO46izijEWcEVx1gisjuOrM+Yw5Xye4MoKrcYIrI7jqLOKMRZwRXHWCKyO46sz5jDlfJ7gygqtxgisjuOos4oxFnBFcdYIrI7jqzPmMOV8nuDI3EFzrfrno7pf7XbfcvHRbBFdGcNVZxBmLOCO46gRXRnDVmfMZc75OcGUaDK5VvxjiaXsWq+2rL1kt9m87nG55W8kluDKCq84izljEmWEeUyO4MoKrzpzPmPN1gisjuE6s16v7e8y6Ru4tE1wZwVVnEWcs4swwj6kRXBnBVWfOZ8z5OsGVuf7g2lg900MK18vt+3mG9/VcBFdGcNVZxBmLODPMUWoEV0Zw1ZnzGXO+TnBlbiK4novgun6Cq84izljEGcFVJ7gygqvOnM+Y83WCKyO4jgiu6ye46izijEWcEVx1gisjuOrM+Yw5Xye4MtcfXOtl3+3fvuunfoRrvVr2i+4opjZv123e8e5NR6E1dV6y+k4IrozgqrOIMxZxZpid1AiujOCqM+cz5nyd4MrceHCt+2V3eF9nZ3svluC6HYKrziLOWMSZYXZSI7gygqvOnM+Y83WCK3PTwTUOqUW/2t+ltXoIMcF1cwRXnUWcsYgzw+ykRnBlBFedOZ8x5+sEV+amg2u1OLyf82ha96vl+Oe0/AzX9RNcdRZxxiLODHOUGsGVEVx15nzGnK8TXJm3E1zDZfu7uKYJrusnuOos4oxFnBnmKDWCKyO46sz5jDlfJ7gyNx1cp78Uefc290+YMVFTguv6Ca46izhjEWeGOUqN4MoIrjpzPmPO1wmuzG0H18Z6E12Hy8dnCK9jguv6Ca46izhjEWeGOUqN4MoIrjpzPmPO1wmuzM0H14P19qnhD+936v0LrusnuOos4oxFnBnmKDWCKyO46sz5jDlfJ7gybyS4jqzH7787usIouCrv6wUIrozgqrOIMxZxZpij1AiujOCqM+cz5nyd4Mo0H1wXz67EHn3SjImf19q8/aWgGwfX0Xmy+uYjuDKCq84izljEmWF2UiO4MoKrzpzPmPN1gitz48F19PZT5yykLvzZgutqCK46izhjEWeG2UmN4MoIrjpzPmPO1wmuzI0HV3d02eFtum5x+Snih4ccdif3dAmuqyG46izijEWcGWYnNYIrI7jqzPmMOV8nuDINBhfHBFdGcNVZxBmLOCO46gRXRnDVmfMZc75OcGUEV+MEV0Zw1VnEGYs4I7jqBFdGcNWZ8xlzvk5wZQRX4wRXRnDVWcQZizgjuOoEV0Zw1ZnzGXO+TnBlBFfjBFdGcNVZxBmLOCO46gRXRnDVmfMZc75OcGUEV+MEV0Zw1VnEGYs4I7jqBFdGcNWZ8xlzvk5wZQRX4wRXRnDVWcQZizgjuOoEV0Zw1ZnzGXO+TnBlBFfjBFdGcNVZxBmLOCO46gRXRnDVmfMZc75OcGUEV+MEV0Zw1VnEGYs4I7jqBFdGcNWZ8xlzvk5wZQRX4wRXRnDVWcQZizgjuOoEV0Zw1ZnzGXO+TnBlBFfjBFdGcNVZxBmLOCO46gRXRnDVmfMZc75OcGUEV+MEV0Zw1VnEGYs4I7jqBFdGcNWZ8xlzvk5wZQRX4wRXRnDVWcQZizgjuOoEV0Zw1ZnzGXO+TnBlBFfjBFdGcNVZxBmLOCO46gRXRnDVmfMZc75OcGUEV+MEV0Zw1VnEGYs4I7jqBFdGcNWZ8xlzvk5wZQRX4wRXRnDVWcQZizgjuOoEV0Zw1ZnzGXO+TnBlBFfjBFdGcNVZxBmLOCO46gRXRnDVmfMZc75OcGUEV+MEV0Zw1VnEGYs4I7jqBFdGcNWZ8xlzvk5wZQRX4wRXRnDVWcQZizgjuOoEV0Zw1ZnzGXO+TnBlBFfjBFdGcNVZxBmLOCO46gRXRnDVmfMZc75OcGUEV+MEV0Zw1VnEGYs4I7jqBFdGcNWZ8xlzvk5wZQRX4wRXRnDVWcQZizgjuOoEV0Zw1ZnzGXO+TnBlBFfjBFdGcNVZxBmLOCO46gRXRnDVmfMZc75OcGUEV+MEV0Zw1VnEGYs4I7jqBFdGcNWZ8xlzvk5wZQRX4wRXRnDVWcQZizgjuOoEV0Zw1ZnzGXO+TnBlBFfjBFdGcNVZxBmLOCO46gRXRnDVmfMZc75OcGUEV+MEV0Zw1VnEGYs4I7jqBFdGcNWZ8xlzvk5wZQRX4wRXRnDVWcQZizgjuOoEV0Zw1ZnzGXO+TnBlBFfjfv755/6LL77Y/49yHj/DN/8PP/wweZkzPsPnafh8TV3mnJ/h+/Dbb7+dvMw5P0NwTb3eOT9fffXV/Zm6zDk/H3/8cf/LL79MXuaMjzmfHXO+fobvweF7ceoy5/wMM3742hoIrgZ9//33/Zdffjn5P885P8Ni+emnnyYvc8Zn+DxZxPUzfB9axPXz0UcfTb7eOT/ffPON4ArOJ598IriKZwiuzz//fPIy5/wMwfXdd99NXuaMz6+//iq4gjPM+eG8f/9ecLVo+B/z7t277Us85d9//93+FxU+X3XD9+Hw/UiNr606cz7jayvj81Xnc5Xx+ao7nvOCCwAAYCaCCwAAYCaCCwAAYCaCCwAAYCaCCwAAYCaCCwAAYCaCCwAAYCaCCwAAYCaCCwAAYCaCCwAAYCaCiyes+9Wi67u7u/5ue7pu0a/W24sZW6/6RXfXL1bblwEAaM8L3mYTXDzi4QtxF1rj0/VL0XVkE6bLxT5MBRcAQIte/jab4OKi1WIbV93y6B6t4R6vw+s11/ibdncEFwBAS17vNpvgYtp6uf2CXPTnX4frfrm95+uth8U+Pjen23wyltuXBRcAQDte8zab4GLSetk9fEFeetzgavHwRfvGy2L45u0Wh3sAd9/MggsAoB2veZtNcDHp4YvwkZ/T2t0D5mGFI4ILACC16hdHtyvXq+X4eQS6Rb985mdsE1y8st1DBqceTriz/cZ49G3eHsEFAJA6BNdq+yirqfOct68EF6+sElOVKHt7BBcAQGp32/PhDD9jtb8/a73aP3fAcz6ySnDxysZ3604TXFMEFwBA6hBc088fsLv8+X4tkeDilbmH678SXAAAqadvez7cxjoJrt2TuE2ci0/8tiW4eGXBz3B50owRwQUAkHr6dqXg4sbsgsuzFKYEFwBA6j8G1wcQXLy63e/huvhFuP0Xhaf+9eCtEVwAACnBxVu0u4t28gu/cA/YGyW4AABSgos3aRdVD1/8h981t95/gd6pijOCC/gwmxsdw+w9u9Hx1Os9gRFwzQQXb9Xu57SmjuU+SXABH2T/A+AnNyqOfjB8NF8uvR7gqggu3rLhl80tjn/jdzf+ZXSMCC7gw6T3ZLmHC7gFggsAAID/QHABAADMRHABAADMRHABAADMRHABAADMRHABAADMRHABAADMRHABAADMRHABAADMRHABAADMRHABAADMRHABAADMRHABAADMRHABAADMRHABAADMRHABAADMRHABAADM5IaCa90vu7v+7u7hLFbbVwMAALySGYJr1S+20fOy4SO4AACAtgguAACAmQguAACAmQguAACAmQguAACAmbxscK2Xfbe/rOuX6/tX9stFt3/74fWL5Wrz2gvWq/u3P7yfu77rFv1ytXn9k8G17lcn173rNi9v3vj4z1stji7f/z3H1svjv/Ni81EDAACMvXJwjd92dKaKaXT9x8/Z1Z+87nFYnfy9Tt/ZanHhegAAAAevGlzd0T1S5+c0ZB6Js4kzbqTj63abyw7veH0cT93ycE/X5L1xg0c+PgAAgCOvGFzD2YTMPn6Gh/sdXza+7vghfHd9d/yww+Fhhifxdum63dndUcc/+zWOvNGfuY2x47/j+fsCAAA4eNXgOr93aHzdQ9CMnxBj8uGGF//ck+s+cU7f9XFgLRZH94ZN/h0AAAAOGnjSjGPjODoE1yPvc2983cPbjK/71Dl/3xPXP37oIQAAwAVvLrimr/uYqXvIPCshAADwtCsJrkuvP3Lx4Yon91CFxTX6ma3u6Ge68nIDAADemCsJrnH4DGexuWx/6fD08if3Qh3/uafXPf29W+vt7/Y6bajzJ80ohB8AAMDW1QTXppr2r58+46eZv/znXj6PXWd/2ZMfAwAAwIPrCa6N06eGPz7D79Y6vu7oz9147Lq7c7jO4w9DHN9j5ue5AACAaVcVXIP1ajl++GC32P4ur8eD6972oYPje7s2Ly+W/dHvQi4E1eNBBgAAMJghuAAAABgILgAAgJkILgAAgJkILgAAgJkILrgW29835zlaAAAKGrntJLigeet+tVzsn11TcAEAPKat206CC5o1Hha7I7gAAKa0edtJcEGjjn8fXLeZFMvty4ILAOBcq7edBBe8lO0v/q5+0w9D4/iXcu+GiOACADjX6m0nwUXBql9svljvumU/fP2uV8v7H0Dc/QvCXbfol7uv7JvyzB93GFynBBcAQJ3g4oocwmO17A7BcXJuLwSe+eMWXAAAL0ZwcUW24bE9w2Ni9/frrFf9cnevz/aeoNvxzB+34AIAeDGCiytyCI9uOZUWu8u7fvLiq/XMH7fgAgB4MYKL17da3H8RTp1xYOzCYrH5r2kPX9BXElwv8XFv42rqzzg/tc+b4AIA3pzy7bZzgovXl4bHIw+du+ng+i8ft+ACAPhwgou34caCq+yZP24PKQQAeDGCiysiuAQXAMB1EVxcEcEluAAArovg4ooILsEFvIzN3Bl+5cTZ3Hnq9Zef3AfgrRJcXBHB9Swft+ACnrL/4fCTuXL0Q+OjGXDp9QA0c9tJcFEguFr4uAUXvAW7e6yq92Rdej0AggsAAODGCS4AAICZCC4AAICZCC4AAICZCC4AAICZCC4AAICZCC4AAICZCC4AAICZCC4AAICZCC4AAICZCC4AAICZCC4AAICZCC4AAICZCC4AAICZCC4AAICZCC4AAICZCC4AAICZCC4AAICZCC4AAICZCC4AAIBZ9P3/Ac18I7k/AUUbAAAAAElFTkSuQmCC)"
      ]
    },
    {
      "cell_type": "code",
      "metadata": {
        "id": "kOiVvdbTnvLm"
      },
      "source": [
        "list1 = []\n",
        "list2 = list()"
      ],
      "execution_count": null,
      "outputs": []
    },
    {
      "cell_type": "code",
      "metadata": {
        "id": "-mYpNhkFpELu"
      },
      "source": [
        "list1 = [1, 2, 3.0, 4.55, \"five\"]"
      ],
      "execution_count": null,
      "outputs": []
    },
    {
      "cell_type": "code",
      "metadata": {
        "id": "M6zmrpxLpH2c"
      },
      "source": [
        "list1[0]"
      ],
      "execution_count": null,
      "outputs": []
    },
    {
      "cell_type": "code",
      "metadata": {
        "id": "VVjMD72dqZBn"
      },
      "source": [
        "list1[4]"
      ],
      "execution_count": null,
      "outputs": []
    },
    {
      "cell_type": "code",
      "metadata": {
        "id": "zjcxvlyXqcBz"
      },
      "source": [
        "list1[-1]"
      ],
      "execution_count": null,
      "outputs": []
    },
    {
      "cell_type": "code",
      "metadata": {
        "id": "peWVN5-Uqc-0"
      },
      "source": [
        "list1[-3]"
      ],
      "execution_count": null,
      "outputs": []
    },
    {
      "cell_type": "markdown",
      "metadata": {
        "id": "NgravTRHssLt"
      },
      "source": [
        "### List Attribute (Method)\n",
        "  * Python List Method Document : https://docs.python.org/3/tutorial/datastructures.html"
      ]
    },
    {
      "cell_type": "code",
      "metadata": {
        "id": "ePioWGbFqnyR"
      },
      "source": [
        "list2.append(1)\n",
        "list2"
      ],
      "execution_count": null,
      "outputs": []
    },
    {
      "cell_type": "code",
      "metadata": {
        "id": "wE1LK8miBwI3"
      },
      "source": [
        "list2.extend([2, 3])\n",
        "list2"
      ],
      "execution_count": null,
      "outputs": []
    },
    {
      "cell_type": "code",
      "metadata": {
        "id": "TFTvxjEvB1KB"
      },
      "source": [
        "list2.insert(0, 0)\n",
        "list2"
      ],
      "execution_count": null,
      "outputs": []
    },
    {
      "cell_type": "code",
      "metadata": {
        "id": "-ErQm2TVB5ja"
      },
      "source": [
        "list2.remove(5)\n",
        "list2"
      ],
      "execution_count": null,
      "outputs": []
    },
    {
      "cell_type": "code",
      "metadata": {
        "id": "9MRPz6HtrE1T"
      },
      "source": [
        "lastElement = list1.pop()\n",
        "print(lastElement, list1)"
      ],
      "execution_count": null,
      "outputs": []
    },
    {
      "cell_type": "code",
      "metadata": {
        "id": "uKZYhN0HCLAH"
      },
      "source": [
        "list1.sort(reverse = True)\n",
        "list1"
      ],
      "execution_count": null,
      "outputs": []
    },
    {
      "cell_type": "markdown",
      "metadata": {
        "id": "q0gyNQv4CNUw"
      },
      "source": [
        "### del function"
      ]
    },
    {
      "cell_type": "code",
      "metadata": {
        "id": "QHx8qd7wB8Tu"
      },
      "source": [
        "del list2[0]\n",
        "list2"
      ],
      "execution_count": null,
      "outputs": []
    },
    {
      "cell_type": "markdown",
      "metadata": {
        "id": "bZ_0Caeb2fyF"
      },
      "source": [
        "### len() Function"
      ]
    },
    {
      "cell_type": "code",
      "metadata": {
        "id": "_Ku1Kui_2kfz"
      },
      "source": [
        "list1 = [1, 2, 3, 4, 5]\n",
        "len(list1)"
      ],
      "execution_count": null,
      "outputs": []
    },
    {
      "cell_type": "markdown",
      "metadata": {
        "id": "CTmx221DswPN"
      },
      "source": [
        "### Call by Memory"
      ]
    },
    {
      "cell_type": "code",
      "metadata": {
        "id": "rnKfKxZsrMvI"
      },
      "source": [
        "list3 = list1"
      ],
      "execution_count": null,
      "outputs": []
    },
    {
      "cell_type": "code",
      "metadata": {
        "id": "mWC7G_Je5sJt"
      },
      "source": [
        "hex(id(list1))"
      ],
      "execution_count": null,
      "outputs": []
    },
    {
      "cell_type": "code",
      "metadata": {
        "id": "UCQwNlPW5uX5"
      },
      "source": [
        "hex(id(list3))"
      ],
      "execution_count": null,
      "outputs": []
    },
    {
      "cell_type": "code",
      "metadata": {
        "id": "xyDU-sVgrPPo"
      },
      "source": [
        "list3.pop()\n",
        "list1"
      ],
      "execution_count": null,
      "outputs": []
    },
    {
      "cell_type": "markdown",
      "metadata": {
        "id": "vKg80Tsfsyzk"
      },
      "source": [
        "### Slicing"
      ]
    },
    {
      "cell_type": "code",
      "metadata": {
        "id": "Kc7pzRD_rQjo"
      },
      "source": [
        "list1[:]"
      ],
      "execution_count": null,
      "outputs": []
    },
    {
      "cell_type": "code",
      "metadata": {
        "id": "mXYkNtocrbhg"
      },
      "source": [
        "list1[:2]"
      ],
      "execution_count": null,
      "outputs": []
    },
    {
      "cell_type": "code",
      "metadata": {
        "id": "vUHgWaj2rc2T"
      },
      "source": [
        "list1[1:]"
      ],
      "execution_count": null,
      "outputs": []
    },
    {
      "cell_type": "markdown",
      "metadata": {
        "id": "ie_u_dBu3XCS"
      },
      "source": [
        "### Extension"
      ]
    },
    {
      "cell_type": "code",
      "metadata": {
        "id": "g2jV6-fz3YMc"
      },
      "source": [
        "list1 = [1, 2, 3]\n",
        "list2 = [4, 5, 6]\n",
        "list3 = list1 + list2"
      ],
      "execution_count": null,
      "outputs": []
    },
    {
      "cell_type": "code",
      "metadata": {
        "id": "eb8CwYZX3dKe"
      },
      "source": [
        "list3"
      ],
      "execution_count": null,
      "outputs": []
    },
    {
      "cell_type": "markdown",
      "metadata": {
        "id": "VjbScQAXENGG"
      },
      "source": [
        "### Finding Item and Index"
      ]
    },
    {
      "cell_type": "code",
      "metadata": {
        "id": "c_b2nfHsEM2t"
      },
      "source": [
        "list1 = [1, 2, 3, 4, 5, 6, 7, 8, 9, 10]"
      ],
      "execution_count": null,
      "outputs": []
    },
    {
      "cell_type": "code",
      "metadata": {
        "id": "VByzVjNKEaT7"
      },
      "source": [
        "1 in list1"
      ],
      "execution_count": null,
      "outputs": []
    },
    {
      "cell_type": "code",
      "metadata": {
        "id": "FOQTupCaEclp"
      },
      "source": [
        "11 in list1"
      ],
      "execution_count": null,
      "outputs": []
    },
    {
      "cell_type": "code",
      "metadata": {
        "id": "5nsznujJEgvB"
      },
      "source": [
        "list1.index(10)"
      ],
      "execution_count": null,
      "outputs": []
    },
    {
      "cell_type": "markdown",
      "metadata": {
        "id": "k-P4GOj7s0t5"
      },
      "source": [
        "## 2-D List (Array)"
      ]
    },
    {
      "cell_type": "markdown",
      "metadata": {
        "id": "vlTTSSvltby0"
      },
      "source": [
        "![KakaoTalk_20210804_144922969.png](data:image/png;base64,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)"
      ]
    },
    {
      "cell_type": "code",
      "metadata": {
        "id": "ZkXWcC3_s_r9"
      },
      "source": [
        "list1 = [[1, 2, 3], [4, 5, 6]]\n",
        "list1"
      ],
      "execution_count": null,
      "outputs": []
    },
    {
      "cell_type": "code",
      "metadata": {
        "id": "OuWOUd_PrfAg"
      },
      "source": [
        "list1[0][0]"
      ],
      "execution_count": null,
      "outputs": []
    },
    {
      "cell_type": "code",
      "metadata": {
        "id": "2DWt7io9tNsQ"
      },
      "source": [
        "list1[0][1]"
      ],
      "execution_count": null,
      "outputs": []
    },
    {
      "cell_type": "code",
      "metadata": {
        "id": "xCnRVGCztO--"
      },
      "source": [
        "list1[1][1]"
      ],
      "execution_count": null,
      "outputs": []
    },
    {
      "cell_type": "markdown",
      "metadata": {
        "id": "loEJd3TgazSR"
      },
      "source": [
        "### len() Function"
      ]
    },
    {
      "cell_type": "code",
      "metadata": {
        "id": "tBxBDY0da0eU"
      },
      "source": [
        "len(list1)"
      ],
      "execution_count": null,
      "outputs": []
    },
    {
      "cell_type": "code",
      "metadata": {
        "id": "pW9FbPyta66O"
      },
      "source": [
        "len(list1[0])"
      ],
      "execution_count": null,
      "outputs": []
    },
    {
      "cell_type": "markdown",
      "metadata": {
        "id": "uZQ3LsxNtpPF"
      },
      "source": [
        "### List (Array) Element Modification"
      ]
    },
    {
      "cell_type": "code",
      "metadata": {
        "id": "XRtp3IUvtlTS"
      },
      "source": [
        "list1[1][1] = 100"
      ],
      "execution_count": null,
      "outputs": []
    },
    {
      "cell_type": "code",
      "metadata": {
        "id": "rVXgM0brtm2q"
      },
      "source": [
        "list1"
      ],
      "execution_count": null,
      "outputs": []
    },
    {
      "cell_type": "markdown",
      "source": [
        "### List Comprehension"
      ],
      "metadata": {
        "id": "eaRp0x3lNFrz"
      }
    },
    {
      "cell_type": "code",
      "source": [
        "numSampleList = list(range(1, 11))"
      ],
      "metadata": {
        "id": "y6hXInXiNJwS"
      },
      "execution_count": null,
      "outputs": []
    },
    {
      "cell_type": "code",
      "source": [
        "numEven = 0\n",
        "for i in numSampleList :\n",
        "  if i % 2 == 0 :\n",
        "    numEven += 1"
      ],
      "metadata": {
        "id": "1AnDKu1cNROI"
      },
      "execution_count": null,
      "outputs": []
    },
    {
      "cell_type": "code",
      "source": [
        "numEven"
      ],
      "metadata": {
        "id": "imRYdfI0NRam"
      },
      "execution_count": null,
      "outputs": []
    },
    {
      "cell_type": "code",
      "source": [
        "numEven = len([i for i in numSampleList if i % 2 == 0])"
      ],
      "metadata": {
        "id": "wKwZhBhsNXJI"
      },
      "execution_count": null,
      "outputs": []
    },
    {
      "cell_type": "code",
      "source": [
        "numEven"
      ],
      "metadata": {
        "id": "mQZ8cqOPNXYJ"
      },
      "execution_count": null,
      "outputs": []
    },
    {
      "cell_type": "markdown",
      "metadata": {
        "id": "ku5EaJO8EDee"
      },
      "source": [
        "# Tuple"
      ]
    },
    {
      "cell_type": "code",
      "metadata": {
        "id": "sKOk-OJdEEzy"
      },
      "source": [
        "tuple1 = (1, 2, 3, 4)"
      ],
      "execution_count": null,
      "outputs": []
    },
    {
      "cell_type": "code",
      "metadata": {
        "id": "jgs09_8QEIhe"
      },
      "source": [
        "tuple1[0]"
      ],
      "execution_count": null,
      "outputs": []
    },
    {
      "cell_type": "code",
      "metadata": {
        "id": "fOjCXDZoEqUU"
      },
      "source": [
        "tuple1[0] = 0"
      ],
      "execution_count": null,
      "outputs": []
    },
    {
      "cell_type": "code",
      "metadata": {
        "id": "6WpHtsI-Esv_"
      },
      "source": [
        "tuple1.index(4)"
      ],
      "execution_count": null,
      "outputs": []
    },
    {
      "cell_type": "code",
      "metadata": {
        "id": "H2qQraPKEwW9"
      },
      "source": [
        "list1 = list(tuple1)\n",
        "list1"
      ],
      "execution_count": null,
      "outputs": []
    },
    {
      "cell_type": "markdown",
      "metadata": {
        "id": "oa3jyL92BYQP"
      },
      "source": [
        "# Elements Unpacking"
      ]
    },
    {
      "cell_type": "markdown",
      "metadata": {
        "id": "3_S1iUbDCA-u"
      },
      "source": [
        "## List"
      ]
    },
    {
      "cell_type": "code",
      "metadata": {
        "id": "XpUC97d1BdQZ"
      },
      "source": [
        "list1 = [1, 2, 3, 4, 5]"
      ],
      "execution_count": null,
      "outputs": []
    },
    {
      "cell_type": "code",
      "metadata": {
        "id": "dLxLds_0CUvF"
      },
      "source": [
        "num1, num2, num3, num4, num5 = list1[0], list1[1], list1[2], list1[3], list1[4]"
      ],
      "execution_count": null,
      "outputs": []
    },
    {
      "cell_type": "code",
      "metadata": {
        "id": "RSUz5244CVPr"
      },
      "source": [
        "print(num1, num2, num3, num4, num5)"
      ],
      "execution_count": null,
      "outputs": []
    },
    {
      "cell_type": "code",
      "metadata": {
        "id": "98jBAqfPB5de"
      },
      "source": [
        "num1, num2, num3, num4, num5 = list1"
      ],
      "execution_count": null,
      "outputs": []
    },
    {
      "cell_type": "code",
      "metadata": {
        "id": "nBbz_AoKB9EH"
      },
      "source": [
        "print(num1, num2, num3, num4, num5)"
      ],
      "execution_count": null,
      "outputs": []
    },
    {
      "cell_type": "markdown",
      "metadata": {
        "id": "J0LypTKkCCt9"
      },
      "source": [
        "## Tuple"
      ]
    },
    {
      "cell_type": "code",
      "metadata": {
        "id": "wA-SsrPHB_gh"
      },
      "source": [
        "tuple1 = (1, 2, 3, 4, 5)"
      ],
      "execution_count": null,
      "outputs": []
    },
    {
      "cell_type": "code",
      "metadata": {
        "id": "VdevRTmLCav7"
      },
      "source": [
        "num1, num2, num3, num4, num5 = tuple1[0], tuple1[1], tuple1[2], tuple1[3], tuple1[4]"
      ],
      "execution_count": null,
      "outputs": []
    },
    {
      "cell_type": "code",
      "metadata": {
        "id": "MJPhktB6Caoh"
      },
      "source": [
        "print(num1, num2, num3, num4, num5)"
      ],
      "execution_count": null,
      "outputs": []
    },
    {
      "cell_type": "code",
      "metadata": {
        "id": "H00hDaj9CHqp"
      },
      "source": [
        "num1, num2, num3, num4, num5 = tuple1"
      ],
      "execution_count": null,
      "outputs": []
    },
    {
      "cell_type": "code",
      "metadata": {
        "id": "wHApgYXGCJ41"
      },
      "source": [
        "print(num1, num2, num3, num4, num5)"
      ],
      "execution_count": null,
      "outputs": []
    },
    {
      "cell_type": "markdown",
      "metadata": {
        "id": "-Fq7gfKLuNNa"
      },
      "source": [
        "# Dictionary"
      ]
    },
    {
      "cell_type": "code",
      "metadata": {
        "id": "PA8skIebuPgm"
      },
      "source": [
        "dict1 = {}\n",
        "dict1 = dict()"
      ],
      "execution_count": null,
      "outputs": []
    },
    {
      "cell_type": "code",
      "metadata": {
        "id": "z6RdtmdcuRuI"
      },
      "source": [
        "dict1[\"Apple\"] = 10\n",
        "dict1[\"Banana\"] = 20\n",
        "dict1[\"Mango\"] = 20"
      ],
      "execution_count": null,
      "outputs": []
    },
    {
      "cell_type": "code",
      "metadata": {
        "id": "PyCkyvkCuZFK"
      },
      "source": [
        "dict1"
      ],
      "execution_count": null,
      "outputs": []
    },
    {
      "cell_type": "code",
      "metadata": {
        "id": "fBMupiIauZnf"
      },
      "source": [
        "dict1.keys()"
      ],
      "execution_count": null,
      "outputs": []
    },
    {
      "cell_type": "code",
      "metadata": {
        "id": "tPKHeTU8ubA0"
      },
      "source": [
        "dict1.values()"
      ],
      "execution_count": null,
      "outputs": []
    },
    {
      "cell_type": "code",
      "metadata": {
        "id": "1CVSKwz1ucL8"
      },
      "source": [
        "dict1[\"Apple\"]"
      ],
      "execution_count": null,
      "outputs": []
    },
    {
      "cell_type": "code",
      "metadata": {
        "id": "5X20zu5PueKs"
      },
      "source": [
        "dict1[\"Banana\"] + dict1[\"Mango\"]"
      ],
      "execution_count": null,
      "outputs": []
    },
    {
      "cell_type": "markdown",
      "source": [
        "# Function"
      ],
      "metadata": {
        "id": "EDt25757_Ss0"
      }
    },
    {
      "cell_type": "markdown",
      "metadata": {
        "id": "H4s7d4_Nf3oJ"
      },
      "source": [
        "![KakaoTalk_20210805_130813304.png](data:image/png;base64,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)"
      ]
    },
    {
      "cell_type": "markdown",
      "metadata": {
        "id": "tW0fBrhZgAZ-"
      },
      "source": [
        "* Input \n",
        "* Parameter\n",
        "* Output"
      ]
    },
    {
      "cell_type": "code",
      "source": [
        "def add(num1, num2) :\n",
        "  return num1 + num2"
      ],
      "metadata": {
        "id": "pCjTgXAm_ThU"
      },
      "execution_count": null,
      "outputs": []
    },
    {
      "cell_type": "markdown",
      "source": [
        "## Function Calling"
      ],
      "metadata": {
        "id": "JvLAKOKL_b0U"
      }
    },
    {
      "cell_type": "code",
      "source": [
        "result = add(1, 2)\n",
        "result"
      ],
      "metadata": {
        "id": "eOdqQ_9C_acw"
      },
      "execution_count": null,
      "outputs": []
    },
    {
      "cell_type": "code",
      "source": [
        "def findMaximum(num1, num2, num3) :\n",
        "  numList = [num1, num2, num3]\n",
        "  maximum = 0\n",
        "\n",
        "  for num in numList :\n",
        "    if maximum < num :\n",
        "      maximum = num\n",
        "\n",
        "  return maximum "
      ],
      "metadata": {
        "id": "Ogm097S8_dTz"
      },
      "execution_count": null,
      "outputs": []
    },
    {
      "cell_type": "code",
      "source": [
        "maximum = findMaximum(10, 100, 1000)\n",
        "maximum"
      ],
      "metadata": {
        "id": "cGMHg9JY_lSo"
      },
      "execution_count": null,
      "outputs": []
    },
    {
      "cell_type": "code",
      "source": [
        "def getName() :\n",
        "  name = input(\"Type in your name: \")\n",
        "  print(f\"Your name is {name}\")"
      ],
      "metadata": {
        "id": "QWlXEYjt_n8b"
      },
      "execution_count": null,
      "outputs": []
    },
    {
      "cell_type": "code",
      "source": [
        "getName()"
      ],
      "metadata": {
        "id": "rcz09IPz_ySb"
      },
      "execution_count": null,
      "outputs": []
    },
    {
      "cell_type": "markdown",
      "source": [
        "## Recursive Function"
      ],
      "metadata": {
        "id": "akyqTXJW_7sG"
      }
    },
    {
      "cell_type": "markdown",
      "metadata": {
        "id": "2CR0CmgomGWA"
      },
      "source": [
        "![KakaoTalk_20210805_133529935.png](data:image/png;base64,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)"
      ]
    },
    {
      "cell_type": "code",
      "metadata": {
        "id": "AF79oVWxlHqf"
      },
      "source": [
        "def factorial(num) :\n",
        "  if num > 0 :\n",
        "    return num * factorial(num - 1)\n",
        "  else :\n",
        "    return 1"
      ],
      "execution_count": null,
      "outputs": []
    },
    {
      "cell_type": "code",
      "metadata": {
        "id": "ykD6g0bs4dNA"
      },
      "source": [
        "num = 5"
      ],
      "execution_count": null,
      "outputs": []
    },
    {
      "cell_type": "code",
      "metadata": {
        "id": "N6LMSNqzleVL"
      },
      "source": [
        "result = factorial(num)\n",
        "result"
      ],
      "execution_count": null,
      "outputs": []
    },
    {
      "cell_type": "markdown",
      "source": [
        "### Factorial with For Loop"
      ],
      "metadata": {
        "id": "3mCg7Br0AFuF"
      }
    },
    {
      "cell_type": "code",
      "metadata": {
        "id": "UE1OhK6nmPC4"
      },
      "source": [
        "result = 1\n",
        "\n",
        "for i in range(1, num + 1) :\n",
        "  result *= i\n",
        "\n",
        "result"
      ],
      "execution_count": null,
      "outputs": []
    },
    {
      "cell_type": "markdown",
      "metadata": {
        "id": "C8D3R7VhmkY2"
      },
      "source": [
        "### 여러 변수 반환"
      ]
    },
    {
      "cell_type": "code",
      "metadata": {
        "id": "8jPeH-2gmnOP"
      },
      "source": [
        "def getName(firstName, lastName) :\n",
        "  wholeName = firstName + lastName\n",
        "  return firstName, lastName, wholeName"
      ],
      "execution_count": null,
      "outputs": []
    },
    {
      "cell_type": "code",
      "metadata": {
        "id": "nJtnzhXznCzA"
      },
      "source": [
        "firstName, lastName, wholeName = getName(\"Jaekyun\", \"Ko\")\n",
        "print(f\"First Name : {firstName}, Last Name : {lastName}, Whole Name : {wholeName}\")"
      ],
      "execution_count": null,
      "outputs": []
    },
    {
      "cell_type": "markdown",
      "metadata": {
        "id": "-RGniDc4IKXj"
      },
      "source": [
        "### 입력 변수 고정"
      ]
    },
    {
      "cell_type": "code",
      "metadata": {
        "id": "bxa2szczIMG5"
      },
      "source": [
        "def getValue(x, a, b, c = 0) :\n",
        "  return c * x**2 + b * x + a"
      ],
      "execution_count": null,
      "outputs": []
    },
    {
      "cell_type": "code",
      "metadata": {
        "id": "4HObkbExIUsY"
      },
      "source": [
        "value1 = getValue(10, 1, 1)\n",
        "value1"
      ],
      "execution_count": null,
      "outputs": []
    },
    {
      "cell_type": "code",
      "metadata": {
        "id": "bxUGZuhIIcpP"
      },
      "source": [
        "value2 = getValue(10, 1, 1, 1)\n",
        "value2"
      ],
      "execution_count": null,
      "outputs": []
    },
    {
      "cell_type": "markdown",
      "metadata": {
        "id": "hAyP-LumDEJM"
      },
      "source": [
        "### 반환 변수 타입 명확적 표현"
      ]
    },
    {
      "cell_type": "code",
      "metadata": {
        "id": "nSD3JAF5DG6z"
      },
      "source": [
        "def addInteger(num1, num2) -> int :\n",
        "  return int(num1) + int(num2)"
      ],
      "execution_count": null,
      "outputs": []
    },
    {
      "cell_type": "code",
      "metadata": {
        "id": "umEo4v1lDSrk"
      },
      "source": [
        "def addString(str1, str2) -> str :\n",
        "  return str(num1) + str(num2)"
      ],
      "execution_count": null,
      "outputs": []
    },
    {
      "cell_type": "markdown",
      "metadata": {
        "id": "bEJHQJq2J1mH"
      },
      "source": [
        "# Bubble Sort\n",
        "  * 시간 복잡도 (Time Complexity) → O(N^2)"
      ]
    },
    {
      "cell_type": "markdown",
      "metadata": {
        "id": "ea3aZa7XqgOC"
      },
      "source": [
        "https://www.youtube.com/watch?v=xli_FI7CuzA"
      ]
    },
    {
      "cell_type": "code",
      "metadata": {
        "id": "nhPmGGWwJ5Qh"
      },
      "source": [
        "def bubbleSort(inputList) :\n",
        "  listLength = len(inputList)\n",
        "  returnList = list(inputList)\n",
        "  for i in range(listLength - 1) :\n",
        "    for j in range(i + 1, listLength) :\n",
        "      if returnList[j] < returnList[i] :\n",
        "        currentValue = returnList[i]\n",
        "        returnList[i] = returnList[j]\n",
        "        returnList[j] = currentValue\n",
        "  \n",
        "  return returnList  "
      ],
      "execution_count": null,
      "outputs": []
    },
    {
      "cell_type": "code",
      "metadata": {
        "id": "Ih-mK-8YJ1VQ"
      },
      "source": [
        "list1 = [10, 0, 1, 9, 8, -1, 5]\n",
        "listNew = bubbleSort(list1)\n",
        "listNew"
      ],
      "execution_count": null,
      "outputs": []
    },
    {
      "cell_type": "markdown",
      "metadata": {
        "id": "sI382Q8STSZr"
      },
      "source": [
        "### Bubble Sort Algorithm [O(N^2)] v.s Timsort Algorithm (Python List .sort Method) [O(NlogN)]"
      ]
    },
    {
      "cell_type": "code",
      "metadata": {
        "id": "X5lft7NuThNt"
      },
      "source": [
        "from random import randint"
      ],
      "execution_count": null,
      "outputs": []
    },
    {
      "cell_type": "code",
      "metadata": {
        "id": "ubmt7cj7TrPD"
      },
      "source": [
        "randomList = list()\n",
        "\n",
        "for i in range(10000) :\n",
        "  randomList.append(randint(0, 10000))\n",
        "\n",
        "len(randomList)"
      ],
      "execution_count": null,
      "outputs": []
    },
    {
      "cell_type": "code",
      "metadata": {
        "id": "ay2Om1rKT_rm"
      },
      "source": [
        "%%timeit\n",
        "bsList = bubbleSort(randomList)"
      ],
      "execution_count": null,
      "outputs": []
    },
    {
      "cell_type": "code",
      "metadata": {
        "id": "KOIqla2uUjVh"
      },
      "source": [
        "%%timeit\n",
        "tsList = randomList.sort()"
      ],
      "execution_count": null,
      "outputs": []
    },
    {
      "cell_type": "markdown",
      "metadata": {
        "id": "vJBPdx26VbXT"
      },
      "source": [
        "![image.png](data:image/png;base64,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)"
      ]
    },
    {
      "cell_type": "markdown",
      "metadata": {
        "id": "8eaAbHg6VcAn"
      },
      "source": [
        "![image.png](data:image/png;base64,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)"
      ]
    },
    {
      "cell_type": "markdown",
      "metadata": {
        "id": "G0ajd-NAVeou"
      },
      "source": [
        "https://www.hackerearth.com/practice/notes/sorting-and-searching-algorithms-time-complexities-cheat-sheet/"
      ]
    },
    {
      "cell_type": "markdown",
      "metadata": {
        "id": "N7SIczcADyfO"
      },
      "source": [
        "# 실습\n"
      ]
    },
    {
      "cell_type": "markdown",
      "source": [
        "### 1) 1단부터 9까지 각 숫자별 Key를 만든 후 해당 Key에 해당하는 구구단을 List 형태로 저장하시오."
      ],
      "metadata": {
        "id": "Xgbr7V_vTMtN"
      }
    },
    {
      "cell_type": "code",
      "source": [],
      "metadata": {
        "id": "k-qI04LDTY7_"
      },
      "execution_count": null,
      "outputs": []
    },
    {
      "cell_type": "markdown",
      "metadata": {
        "id": "RXV5dsPbnhCC"
      },
      "source": [
        "### 2) 입력 List의 평균과 분산을 계산하는 함수를 만드시오."
      ]
    },
    {
      "cell_type": "markdown",
      "metadata": {
        "id": "aRDRTkIFn3EQ"
      },
      "source": [
        "![image.png](data:image/png;base64,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)"
      ]
    },
    {
      "cell_type": "markdown",
      "metadata": {
        "id": "BDRB8I7pVkDG"
      },
      "source": [
        "https://dp-story.tistory.com/10"
      ]
    },
    {
      "cell_type": "code",
      "metadata": {
        "id": "X0bXSLuYnl7J"
      },
      "source": [
        "def calculateStatistic(inputList) :\n",
        "  # Code Block\n",
        "  return mean, var"
      ],
      "execution_count": null,
      "outputs": []
    },
    {
      "cell_type": "code",
      "metadata": {
        "id": "1mWRU4g8oHro"
      },
      "source": [
        "inputList = [1, 2, 3, 4, 5, 6, 7, 8, 9, 10]\n",
        "mean, var = calculateStatistic(inputList)\n",
        "print(mean, var)"
      ],
      "execution_count": null,
      "outputs": []
    }
  ]
}
