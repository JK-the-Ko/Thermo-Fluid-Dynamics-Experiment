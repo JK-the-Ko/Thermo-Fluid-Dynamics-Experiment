{
  "nbformat": 4,
  "nbformat_minor": 0,
  "metadata": {
    "colab": {
      "provenance": [],
      "include_colab_link": true
    },
    "kernelspec": {
      "name": "python3",
      "display_name": "Python 3"
    },
    "language_info": {
      "name": "python"
    },
    "gpuClass": "standard",
    "accelerator": "GPU"
  },
  "cells": [
    {
      "cell_type": "markdown",
      "metadata": {
        "id": "view-in-github",
        "colab_type": "text"
      },
      "source": [
        "<a href=\"https://colab.research.google.com/github/JK-the-Ko/Thermo-Fluid-Dynamics-Experiment/blob/main/2022-2/%EC%97%B4%EC%9C%A0%EC%B2%B4%EA%B3%B5%ED%95%99%EC%8B%A4%ED%97%98_Week_14.ipynb\" target=\"_parent\"><img src=\"https://colab.research.google.com/assets/colab-badge.svg\" alt=\"Open In Colab\"/></a>"
      ]
    },
    {
      "cell_type": "markdown",
      "source": [
        "# Time Series Data Analysis"
      ],
      "metadata": {
        "id": "ewR4dzqSBEBh"
      }
    },
    {
      "cell_type": "markdown",
      "source": [
        "## Import Library"
      ],
      "metadata": {
        "id": "9sYRT_gaBF64"
      }
    },
    {
      "cell_type": "code",
      "source": [
        "import numpy as np\n",
        "import pandas as pd\n",
        "import matplotlib.pyplot as plt"
      ],
      "metadata": {
        "id": "BI7MKZZV3_iP"
      },
      "execution_count": null,
      "outputs": []
    },
    {
      "cell_type": "markdown",
      "source": [
        "## Harmonic Function"
      ],
      "metadata": {
        "id": "b73l0IHsXvTK"
      }
    },
    {
      "cell_type": "code",
      "source": [
        "x = np.sin(np.arange(0, 1e3, 1e-1))"
      ],
      "metadata": {
        "id": "sZbuuweQX3UA"
      },
      "execution_count": null,
      "outputs": []
    },
    {
      "cell_type": "markdown",
      "source": [
        "## Data Processing for Neural Network"
      ],
      "metadata": {
        "id": "zC1t77meX11y"
      }
    },
    {
      "cell_type": "markdown",
      "source": [
        "### Get Number of Input"
      ],
      "metadata": {
        "id": "w0QAQw3xX11y"
      }
    },
    {
      "cell_type": "code",
      "source": [
        "numInput = 50\n",
        "numOutput = 25"
      ],
      "metadata": {
        "id": "3QArIZsAX11y"
      },
      "execution_count": null,
      "outputs": []
    },
    {
      "cell_type": "markdown",
      "source": [
        "### Add Data"
      ],
      "metadata": {
        "id": "5XAlIwhSX11z"
      }
    },
    {
      "cell_type": "code",
      "source": [
        "inputData, targetData = [], []\n",
        "\n",
        "for i in range(len(x)-numInput-numOutput) :\n",
        "  inputData.append(x[i:i+numInput])\n",
        "  targetData.append(x[i+numInput:i+numInput+numOutput])"
      ],
      "metadata": {
        "id": "PUun1WkTX11z"
      },
      "execution_count": null,
      "outputs": []
    },
    {
      "cell_type": "code",
      "source": [
        "inputData, targetData = np.array(inputData), np.array(targetData)"
      ],
      "metadata": {
        "id": "l8o17x2eX11z"
      },
      "execution_count": null,
      "outputs": []
    },
    {
      "cell_type": "markdown",
      "source": [
        "### Show Dataset"
      ],
      "metadata": {
        "id": "JXarjNo6X11z"
      }
    },
    {
      "cell_type": "code",
      "source": [
        "inputDF = pd.DataFrame(data=inputData, columns=[f\"Input_{i}\" for i in range(numInput)])\n",
        "targetDF = pd.DataFrame(data=targetData, columns=[f\"Target{i}\" for i in range(numOutput)])"
      ],
      "metadata": {
        "id": "pbLq-6xBX11z"
      },
      "execution_count": null,
      "outputs": []
    },
    {
      "cell_type": "code",
      "source": [
        "inputDF.head(5)"
      ],
      "metadata": {
        "id": "KcEzUg0iX11z"
      },
      "execution_count": null,
      "outputs": []
    },
    {
      "cell_type": "code",
      "source": [
        "targetDF.head(5)"
      ],
      "metadata": {
        "id": "eRCtu7LiX110"
      },
      "execution_count": null,
      "outputs": []
    },
    {
      "cell_type": "markdown",
      "source": [
        "### Split Dataset"
      ],
      "metadata": {
        "id": "3S8iCnL2X110"
      }
    },
    {
      "cell_type": "code",
      "source": [
        "trainRatio = 0.8\n",
        "trainSize = int(inputData.shape[0]*trainRatio)\n",
        "validSize = (inputData.shape[0]-trainSize)//2"
      ],
      "metadata": {
        "id": "uUNrVpOmX110"
      },
      "execution_count": null,
      "outputs": []
    },
    {
      "cell_type": "code",
      "source": [
        "trainSize"
      ],
      "metadata": {
        "id": "rc7G8QYwX110"
      },
      "execution_count": null,
      "outputs": []
    },
    {
      "cell_type": "code",
      "source": [
        "xTrain, yTrain = inputData[:trainSize], targetData[:trainSize]\n",
        "xValid, yValid = inputData[trainSize:trainSize+validSize], targetData[trainSize:trainSize+validSize]\n",
        "xTest, yTest = inputData[trainSize+validSize:], targetData[trainSize+validSize:]"
      ],
      "metadata": {
        "id": "LJbcfw-4X110"
      },
      "execution_count": null,
      "outputs": []
    },
    {
      "cell_type": "markdown",
      "source": [
        "## Recurrent Neural Network (RNN)"
      ],
      "metadata": {
        "id": "fgkqw2GzYEM3"
      }
    },
    {
      "cell_type": "markdown",
      "source": [
        "### Import Keras Library"
      ],
      "metadata": {
        "id": "-kS82st_YEM4"
      }
    },
    {
      "cell_type": "code",
      "source": [
        "from tensorflow import keras"
      ],
      "metadata": {
        "id": "pVanUNB7YEM4"
      },
      "execution_count": null,
      "outputs": []
    },
    {
      "cell_type": "markdown",
      "source": [
        "### Fix Seed"
      ],
      "metadata": {
        "id": "HzIp9pJfYEM5"
      }
    },
    {
      "cell_type": "code",
      "source": [
        "import tensorflow as tf\n",
        "from keras import backend as K\n",
        "import random\n",
        "\n",
        "def fixSeed(numSeed = 42) :\n",
        "  np.random.seed(numSeed)\n",
        "  random.seed(numSeed)\n",
        "  tf.random.set_seed(numSeed)\n",
        "\n",
        "  sessionConf = tf.compat.v1.ConfigProto(intra_op_parallelism_threads=1, inter_op_parallelism_threads=1)\n",
        "  sess = tf.compat.v1.Session(graph=tf.compat.v1.get_default_graph(), config=sessionConf)\n",
        "  K.set_session(sess)"
      ],
      "metadata": {
        "id": "9ASYVpwvYEM5"
      },
      "execution_count": null,
      "outputs": []
    },
    {
      "cell_type": "markdown",
      "source": [
        "### Create RNN Network"
      ],
      "metadata": {
        "id": "Fp1UJo8aYEM6"
      }
    },
    {
      "cell_type": "code",
      "source": [
        "K.clear_session()\n",
        "fixSeed()\n",
        "\n",
        "model = keras.Sequential()\n",
        "\n",
        "model.add(keras.layers.SimpleRNN(50, input_shape=(numInput, 1)))\n",
        "model.add(keras.layers.Dense(numOutput))"
      ],
      "metadata": {
        "id": "YJhyqfxhYEM6"
      },
      "execution_count": null,
      "outputs": []
    },
    {
      "cell_type": "markdown",
      "source": [
        "### Summarize Model"
      ],
      "metadata": {
        "id": "GZ1YnQFxYEM6"
      }
    },
    {
      "cell_type": "code",
      "source": [
        "model.summary()"
      ],
      "metadata": {
        "id": "kKMnhZBPYEM7"
      },
      "execution_count": null,
      "outputs": []
    },
    {
      "cell_type": "markdown",
      "source": [
        "### Visualize Model"
      ],
      "metadata": {
        "id": "UihxdpHnYEM7"
      }
    },
    {
      "cell_type": "code",
      "source": [
        "from keras.utils import plot_model\n",
        "plot_model(model, to_file=\"model.png\")"
      ],
      "metadata": {
        "id": "qLX0jEiaYEM7"
      },
      "execution_count": null,
      "outputs": []
    },
    {
      "cell_type": "markdown",
      "source": [
        "### Compile Model"
      ],
      "metadata": {
        "id": "NDFEoDj3YEM8"
      }
    },
    {
      "cell_type": "code",
      "source": [
        "lr, batchSize, epoch = 1e-3, 1024, 100"
      ],
      "metadata": {
        "id": "wGWXgN5VYEM8"
      },
      "execution_count": null,
      "outputs": []
    },
    {
      "cell_type": "code",
      "source": [
        "model.compile(loss=\"mean_absolute_error\", optimizer=keras.optimizers.Adam(learning_rate=lr))"
      ],
      "metadata": {
        "id": "J459rNTAYEM8"
      },
      "execution_count": null,
      "outputs": []
    },
    {
      "cell_type": "markdown",
      "source": [
        "### Train Model"
      ],
      "metadata": {
        "id": "WSo0jUN7YEM8"
      }
    },
    {
      "cell_type": "code",
      "source": [
        "history = model.fit(xTrain, yTrain, batch_size=batchSize, epochs=epoch, validation_data=(xValid, yValid))"
      ],
      "metadata": {
        "id": "PBBSEJ2nYEM9"
      },
      "execution_count": null,
      "outputs": []
    },
    {
      "cell_type": "markdown",
      "source": [
        "### Visualize Training Procedure"
      ],
      "metadata": {
        "id": "WYiK7JJKYEM9"
      }
    },
    {
      "cell_type": "code",
      "source": [
        "plt.subplots(figsize = (20,5))\n",
        "plt.plot(np.arange(epoch), history.history[\"loss\"], label=\"Training MAE Loss\")\n",
        "plt.plot(np.arange(epoch), history.history[\"val_loss\"], label=\"Validation MAE Loss\")\n",
        "plt.xlabel(\"# Epoch\")\n",
        "plt.ylabel(\"MAE Loss\")\n",
        "plt.title(\"Loss\")\n",
        "plt.legend(loc=\"best\")\n",
        "plt.show()"
      ],
      "metadata": {
        "id": "SGIgXmG-YEM9"
      },
      "execution_count": null,
      "outputs": []
    },
    {
      "cell_type": "markdown",
      "source": [
        "### Inference Result"
      ],
      "metadata": {
        "id": "TdsAdCQPYEM9"
      }
    },
    {
      "cell_type": "code",
      "source": [
        "yPred = model.predict(xTest)"
      ],
      "metadata": {
        "id": "31g6xgjJYEM-"
      },
      "execution_count": null,
      "outputs": []
    },
    {
      "cell_type": "code",
      "source": [
        "yPred.shape"
      ],
      "metadata": {
        "id": "Ozq-__sKYEM-"
      },
      "execution_count": null,
      "outputs": []
    },
    {
      "cell_type": "markdown",
      "source": [
        "### Visualize Result"
      ],
      "metadata": {
        "id": "35KPpDWzYEM-"
      }
    },
    {
      "cell_type": "code",
      "source": [
        "plt.subplots(figsize = (20,5))\n",
        "plt.scatter(np.arange(numInput), xTest[-1].reshape(-1), label=\"Input\", marker=\".\")\n",
        "plt.scatter(np.arange(numInput, numInput+numOutput), yTest[-1].reshape(-1), label=\"Ground Truth\", marker=\"x\")\n",
        "plt.scatter(np.arange(numInput, numInput+numOutput), yPred[-1].reshape(-1), label=\"Prediction\", marker=\"^\")\n",
        "plt.xlabel(\"Time Step (0.1s)\")\n",
        "plt.ylabel(\"Output\")\n",
        "plt.title(\"Result Comparison\")\n",
        "plt.legend(loc=\"best\")\n",
        "plt.show()"
      ],
      "metadata": {
        "id": "nFrbpCMxYEM-"
      },
      "execution_count": null,
      "outputs": []
    },
    {
      "cell_type": "markdown",
      "source": [
        "### Model Evaluation"
      ],
      "metadata": {
        "id": "1ftRxvlmYEM_"
      }
    },
    {
      "cell_type": "code",
      "source": [
        "def computeMAE(pred, target) :\n",
        "  return np.abs(pred-target).mean()"
      ],
      "metadata": {
        "id": "1RiZPURLYEM_"
      },
      "execution_count": null,
      "outputs": []
    },
    {
      "cell_type": "code",
      "source": [
        "computeMAE(yPred, yTest)"
      ],
      "metadata": {
        "id": "o1Vx4aFrYEM_"
      },
      "execution_count": null,
      "outputs": []
    },
    {
      "cell_type": "markdown",
      "source": [
        "## Create MCK System Class"
      ],
      "metadata": {
        "id": "4IP_c242BG8P"
      }
    },
    {
      "cell_type": "code",
      "source": [
        "class MCKSystem :\n",
        "  def __init__(self, mass, springStiffness, dampingCoefficient) :\n",
        "    # Initialize Variable\n",
        "    self.mass = mass\n",
        "    self.springStiffness = springStiffness\n",
        "    self.dampingCoefficient = dampingCoefficient\n",
        "    \n",
        "    # Compute Varaible\n",
        "    self.naturalFrequency = self.computeNaturalFrequency()\n",
        "    self.dampingRatio = self.computeDampingRatio()\n",
        "    self.dampedNaturalFrequency = self.computeDampedNaturalFrequency()\n",
        "\n",
        "  def computeNaturalFrequency(self) :\n",
        "    return np.sqrt(self.springStiffness/self.mass)  \n",
        "\n",
        "  def computeDampingRatio(self) :\n",
        "    return self.dampingCoefficient/(2*self.mass*self.naturalFrequency)\n",
        "\n",
        "  def computeDampedNaturalFrequency(self) :\n",
        "    return self.naturalFrequency*np.sqrt(1-np.power(self.dampingRatio, 2))\n",
        "\n",
        "  def computeDisplacement(self, x0, v0, t) :\n",
        "    return np.exp(-self.dampingRatio*self.naturalFrequency*t)*(x0*np.cos(self.dampedNaturalFrequency*t) + ((v0+self.dampingRatio*self.naturalFrequency*x0)/self.dampedNaturalFrequency)*np.sin(self.dampedNaturalFrequency*t))"
      ],
      "metadata": {
        "id": "SlPKSDDu-vn8"
      },
      "execution_count": null,
      "outputs": []
    },
    {
      "cell_type": "markdown",
      "source": [
        "## Create Object Instance"
      ],
      "metadata": {
        "id": "7q2hYA46BI5E"
      }
    },
    {
      "cell_type": "code",
      "source": [
        "m, c, k = 1e3, 10, 10\n",
        "mySystem = MCKSystem(m, c, k)"
      ],
      "metadata": {
        "id": "sQsw4Huz_wly"
      },
      "execution_count": null,
      "outputs": []
    },
    {
      "cell_type": "markdown",
      "source": [
        "## Get Initial Condition and Time"
      ],
      "metadata": {
        "id": "aIjHgMO9BOYn"
      }
    },
    {
      "cell_type": "code",
      "source": [
        "x0, v0 = 0, 1\n",
        "t = np.arange(0, 1e3, 1e-1)"
      ],
      "metadata": {
        "id": "SPLHmIGKAXTR"
      },
      "execution_count": null,
      "outputs": []
    },
    {
      "cell_type": "markdown",
      "source": [
        "## Compute Displacement"
      ],
      "metadata": {
        "id": "0UEu5iRABS8t"
      }
    },
    {
      "cell_type": "code",
      "source": [
        "x = mySystem.computeDisplacement(x0, v0, t)"
      ],
      "metadata": {
        "id": "tSxkv8XUAUGE"
      },
      "execution_count": null,
      "outputs": []
    },
    {
      "cell_type": "markdown",
      "source": [
        "## Plot Graph"
      ],
      "metadata": {
        "id": "W-PPnMKSBUcs"
      }
    },
    {
      "cell_type": "code",
      "source": [
        "plt.subplots(figsize = (20,5))\n",
        "plt.plot(t, x)\n",
        "plt.xlabel(\"Time (0.1s)\")\n",
        "plt.ylabel(\"Displacement (m)\")\n",
        "plt.title(\"MCK System\")\n",
        "plt.show()"
      ],
      "metadata": {
        "id": "-9xlnxaBAZHx"
      },
      "execution_count": null,
      "outputs": []
    },
    {
      "cell_type": "markdown",
      "source": [
        "## Data Processing for Neural Network"
      ],
      "metadata": {
        "id": "dXXDw3xfCR4M"
      }
    },
    {
      "cell_type": "markdown",
      "source": [
        "### Get Number of Input"
      ],
      "metadata": {
        "id": "YldOi8woDlxv"
      }
    },
    {
      "cell_type": "code",
      "source": [
        "numInput = 500\n",
        "numOutput = 500"
      ],
      "metadata": {
        "id": "TRQQV7WjCUKU"
      },
      "execution_count": null,
      "outputs": []
    },
    {
      "cell_type": "markdown",
      "source": [
        "### Add Data"
      ],
      "metadata": {
        "id": "PjlEM3MPDVPu"
      }
    },
    {
      "cell_type": "code",
      "source": [
        "inputData, targetData = [], []\n",
        "\n",
        "for i in range(len(x)-numInput-numOutput) :\n",
        "  inputData.append(x[i:i+numInput])\n",
        "  targetData.append(x[i+numInput:i+numInput+numOutput])"
      ],
      "metadata": {
        "id": "6vhqsZMfC7kT"
      },
      "execution_count": null,
      "outputs": []
    },
    {
      "cell_type": "code",
      "source": [
        "inputData, targetData = np.array(inputData), np.array(targetData)"
      ],
      "metadata": {
        "id": "4P7oXsYaDqgq"
      },
      "execution_count": null,
      "outputs": []
    },
    {
      "cell_type": "markdown",
      "source": [
        "### Show Dataset"
      ],
      "metadata": {
        "id": "s2Xr6K10DuWL"
      }
    },
    {
      "cell_type": "code",
      "source": [
        "inputDF = pd.DataFrame(data=inputData, columns=[f\"Input_{i}\" for i in range(numInput)])\n",
        "targetDF = pd.DataFrame(data=targetData, columns=[f\"Target{i}\" for i in range(numOutput)])"
      ],
      "metadata": {
        "id": "CvFukKcSDxI-"
      },
      "execution_count": null,
      "outputs": []
    },
    {
      "cell_type": "code",
      "source": [
        "inputDF.head(5)"
      ],
      "metadata": {
        "id": "0QbTj7Q8EWEf"
      },
      "execution_count": null,
      "outputs": []
    },
    {
      "cell_type": "code",
      "source": [
        "targetDF.head(5)"
      ],
      "metadata": {
        "id": "uK2AEIJhpAut"
      },
      "execution_count": null,
      "outputs": []
    },
    {
      "cell_type": "markdown",
      "source": [
        "### Split Dataset"
      ],
      "metadata": {
        "id": "bXgWpzySFmlm"
      }
    },
    {
      "cell_type": "code",
      "source": [
        "trainRatio = 0.8\n",
        "trainSize = int(inputData.shape[0]*trainRatio)\n",
        "validSize = (inputData.shape[0]-trainSize)//2"
      ],
      "metadata": {
        "id": "YLov3fwtK4r4"
      },
      "execution_count": null,
      "outputs": []
    },
    {
      "cell_type": "code",
      "source": [
        "trainSize"
      ],
      "metadata": {
        "id": "34D_JPIMLhbK"
      },
      "execution_count": null,
      "outputs": []
    },
    {
      "cell_type": "code",
      "source": [
        "xTrain, yTrain = inputData[:trainSize], targetData[:trainSize]\n",
        "xValid, yValid = inputData[trainSize:trainSize+validSize], targetData[trainSize:trainSize+validSize]\n",
        "xTest, yTest = inputData[trainSize+validSize:], targetData[trainSize+validSize:]"
      ],
      "metadata": {
        "id": "sDiAzdKDLPnw"
      },
      "execution_count": null,
      "outputs": []
    },
    {
      "cell_type": "markdown",
      "source": [
        "## Recurrent Neural Network (RNN)"
      ],
      "metadata": {
        "id": "xw-T1YWAB7Mp"
      }
    },
    {
      "cell_type": "markdown",
      "source": [
        "### Create RNN Network"
      ],
      "metadata": {
        "id": "h7AAV9yHEhCs"
      }
    },
    {
      "cell_type": "code",
      "source": [
        "K.clear_session()\n",
        "fixSeed()\n",
        "\n",
        "model = keras.Sequential()\n",
        "\n",
        "model.add(keras.layers.SimpleRNN(50, input_shape=(numInput, 1)))\n",
        "model.add(keras.layers.Dense(numOutput))"
      ],
      "metadata": {
        "id": "qbXELi-zEzhJ"
      },
      "execution_count": null,
      "outputs": []
    },
    {
      "cell_type": "markdown",
      "source": [
        "### Summarize Model"
      ],
      "metadata": {
        "id": "bcVVU25RGIPh"
      }
    },
    {
      "cell_type": "code",
      "source": [
        "model.summary()"
      ],
      "metadata": {
        "id": "lmvAsxiEGHGO"
      },
      "execution_count": null,
      "outputs": []
    },
    {
      "cell_type": "markdown",
      "source": [
        "### Visualize Model"
      ],
      "metadata": {
        "id": "sl1oRu9LGTKm"
      }
    },
    {
      "cell_type": "code",
      "source": [
        "plot_model(model, to_file=\"model.png\")"
      ],
      "metadata": {
        "id": "MYVGWd71GKV_"
      },
      "execution_count": null,
      "outputs": []
    },
    {
      "cell_type": "markdown",
      "source": [
        "### Compile Model"
      ],
      "metadata": {
        "id": "c_Uu4DP3GUQK"
      }
    },
    {
      "cell_type": "code",
      "source": [
        "lr, batchSize, epoch = 1e-3, 1024, 50"
      ],
      "metadata": {
        "id": "Z7Ie7YTPGWVy"
      },
      "execution_count": null,
      "outputs": []
    },
    {
      "cell_type": "code",
      "source": [
        "model.compile(loss=\"mean_absolute_error\", optimizer=keras.optimizers.Adam(learning_rate=lr))"
      ],
      "metadata": {
        "id": "aO5h7vF9GXho"
      },
      "execution_count": null,
      "outputs": []
    },
    {
      "cell_type": "markdown",
      "source": [
        "### Train Model"
      ],
      "metadata": {
        "id": "KPp9vs38Ga2o"
      }
    },
    {
      "cell_type": "code",
      "source": [
        "history = model.fit(xTrain, yTrain, batch_size=batchSize, epochs=epoch, validation_data=(xValid, yValid))"
      ],
      "metadata": {
        "id": "GdtLr_FUGZ6v"
      },
      "execution_count": null,
      "outputs": []
    },
    {
      "cell_type": "markdown",
      "source": [
        "### Visualize Training Procedure"
      ],
      "metadata": {
        "id": "7u52_rL7OyDt"
      }
    },
    {
      "cell_type": "code",
      "source": [
        "plt.subplots(figsize = (20,5))\n",
        "plt.plot(np.arange(epoch), history.history[\"loss\"], label=\"Training MAE Loss\")\n",
        "plt.plot(np.arange(epoch), history.history[\"val_loss\"], label=\"Validation MAE Loss\")\n",
        "plt.xlabel(\"# Epoch\")\n",
        "plt.ylabel(\"MAE Loss\")\n",
        "plt.title(\"Loss\")\n",
        "plt.legend(loc=\"best\")\n",
        "plt.show()"
      ],
      "metadata": {
        "id": "Kypm9df4HGFJ"
      },
      "execution_count": null,
      "outputs": []
    },
    {
      "cell_type": "markdown",
      "source": [
        "### Inference Result"
      ],
      "metadata": {
        "id": "RQa-hTVKOzMR"
      }
    },
    {
      "cell_type": "code",
      "source": [
        "yPred = model.predict(xTest)"
      ],
      "metadata": {
        "id": "rJgRAkBBKWF1"
      },
      "execution_count": null,
      "outputs": []
    },
    {
      "cell_type": "code",
      "source": [
        "yPred.shape"
      ],
      "metadata": {
        "id": "Jmpv_3VSKfEA"
      },
      "execution_count": null,
      "outputs": []
    },
    {
      "cell_type": "markdown",
      "source": [
        "### Visualize Result"
      ],
      "metadata": {
        "id": "dTu1E2fyO1sN"
      }
    },
    {
      "cell_type": "code",
      "source": [
        "plt.subplots(figsize = (20,5))\n",
        "plt.scatter(np.arange(numInput), xTest[-1].reshape(-1), label=\"Input\", marker=\".\")\n",
        "plt.scatter(np.arange(numInput, numInput+numOutput), yTest[-1].reshape(-1), label=\"Ground Truth\", marker=\"x\")\n",
        "plt.scatter(np.arange(numInput, numInput+numOutput), yPred[-1].reshape(-1), label=\"Prediction\", marker=\"^\")\n",
        "plt.xlabel(\"Time Step (0.1s)\")\n",
        "plt.ylabel(\"Displacement (m)\")\n",
        "plt.title(\"Result Comparison\")\n",
        "plt.legend(loc=\"best\")\n",
        "plt.show()"
      ],
      "metadata": {
        "id": "Xa89FCIJKkgP"
      },
      "execution_count": null,
      "outputs": []
    },
    {
      "cell_type": "markdown",
      "source": [
        "### Model Evaluation"
      ],
      "metadata": {
        "id": "EUjj10GIO22c"
      }
    },
    {
      "cell_type": "code",
      "source": [
        "computeMAE(yPred, yTest)"
      ],
      "metadata": {
        "id": "R2vWzUfmO-BC"
      },
      "execution_count": null,
      "outputs": []
    },
    {
      "cell_type": "markdown",
      "source": [
        "## Long Short-Term Memory (LSTM)"
      ],
      "metadata": {
        "id": "sPFx6bLOQjC8"
      }
    },
    {
      "cell_type": "markdown",
      "source": [
        "### Create LSTM Network"
      ],
      "metadata": {
        "id": "r1smPLHePYqb"
      }
    },
    {
      "cell_type": "code",
      "source": [
        "K.clear_session()\n",
        "fixSeed()\n",
        "\n",
        "model = keras.Sequential()\n",
        "\n",
        "model.add(keras.layers.LSTM(50, input_shape=(numInput, 1)))\n",
        "model.add(keras.layers.Dense(numOutput))"
      ],
      "metadata": {
        "id": "2wJgXrLEPYqc"
      },
      "execution_count": null,
      "outputs": []
    },
    {
      "cell_type": "markdown",
      "source": [
        "### Summarize Model"
      ],
      "metadata": {
        "id": "AwJs6eXIPYqc"
      }
    },
    {
      "cell_type": "code",
      "source": [
        "model.summary()"
      ],
      "metadata": {
        "id": "FWWiamiSPYqc"
      },
      "execution_count": null,
      "outputs": []
    },
    {
      "cell_type": "markdown",
      "source": [
        "### Visualize Model"
      ],
      "metadata": {
        "id": "UUEOhPayPYqc"
      }
    },
    {
      "cell_type": "code",
      "source": [
        "plot_model(model, to_file=\"model.png\")"
      ],
      "metadata": {
        "id": "_omb-BuXPYqc"
      },
      "execution_count": null,
      "outputs": []
    },
    {
      "cell_type": "markdown",
      "source": [
        "### Compile Model"
      ],
      "metadata": {
        "id": "cxjHEMQIPYqd"
      }
    },
    {
      "cell_type": "code",
      "source": [
        "lr, batchSize, epoch = 1e-3, 1024, 50"
      ],
      "metadata": {
        "id": "eRgdKbnDPYqd"
      },
      "execution_count": null,
      "outputs": []
    },
    {
      "cell_type": "code",
      "source": [
        "model.compile(loss=\"mean_absolute_error\", optimizer=keras.optimizers.Adam(learning_rate=lr))"
      ],
      "metadata": {
        "id": "xMLKFqSqPYqd"
      },
      "execution_count": null,
      "outputs": []
    },
    {
      "cell_type": "markdown",
      "source": [
        "### Train Model"
      ],
      "metadata": {
        "id": "UaZ3GiE1PYqd"
      }
    },
    {
      "cell_type": "code",
      "source": [
        "history = model.fit(xTrain, yTrain, batch_size=batchSize, epochs=epoch, validation_data=(xValid, yValid))"
      ],
      "metadata": {
        "id": "qpVlI_t8PYqd"
      },
      "execution_count": null,
      "outputs": []
    },
    {
      "cell_type": "markdown",
      "source": [
        "### Visualize Training Procedure"
      ],
      "metadata": {
        "id": "omN65FzkPYqd"
      }
    },
    {
      "cell_type": "code",
      "source": [
        "plt.subplots(figsize = (20,5))\n",
        "plt.plot(np.arange(epoch), history.history[\"loss\"], label=\"Training MAE Loss\")\n",
        "plt.plot(np.arange(epoch), history.history[\"val_loss\"], label=\"Validation MAE Loss\")\n",
        "plt.xlabel(\"# Epoch\")\n",
        "plt.ylabel(\"MAE Loss\")\n",
        "plt.title(\"Loss\")\n",
        "plt.legend(loc=\"best\")\n",
        "plt.show()"
      ],
      "metadata": {
        "id": "LfscFBQWPYqd"
      },
      "execution_count": null,
      "outputs": []
    },
    {
      "cell_type": "markdown",
      "source": [
        "### Inference Result"
      ],
      "metadata": {
        "id": "Yz9eOkoQPYqd"
      }
    },
    {
      "cell_type": "code",
      "source": [
        "yPred = model.predict(xTest)"
      ],
      "metadata": {
        "id": "yjr8CBR_PYqd"
      },
      "execution_count": null,
      "outputs": []
    },
    {
      "cell_type": "code",
      "source": [
        "yPred.shape"
      ],
      "metadata": {
        "id": "8ijQ-xqDPYqe"
      },
      "execution_count": null,
      "outputs": []
    },
    {
      "cell_type": "markdown",
      "source": [
        "### Visualize Result"
      ],
      "metadata": {
        "id": "UGuwvVmoPYqe"
      }
    },
    {
      "cell_type": "code",
      "source": [
        "plt.subplots(figsize = (20,5))\n",
        "plt.scatter(np.arange(numInput), xTest[-1].reshape(-1), label=\"Input\", marker=\".\")\n",
        "plt.scatter(np.arange(numInput, numInput+numOutput), yTest[-1].reshape(-1), label=\"Ground Truth\", marker=\"x\")\n",
        "plt.scatter(np.arange(numInput, numInput+numOutput), yPred[-1].reshape(-1), label=\"Prediction\", marker=\"^\")\n",
        "plt.xlabel(\"Time Step (0.1s)\")\n",
        "plt.ylabel(\"Displacement (m)\")\n",
        "plt.title(\"Result Comparison\")\n",
        "plt.legend(loc=\"best\")\n",
        "plt.show()"
      ],
      "metadata": {
        "id": "q0tspLEwPYqe"
      },
      "execution_count": null,
      "outputs": []
    },
    {
      "cell_type": "markdown",
      "source": [
        "### Model Evaluation"
      ],
      "metadata": {
        "id": "QMAcx7tLPYqe"
      }
    },
    {
      "cell_type": "code",
      "source": [
        "computeMAE(yPred, yTest)"
      ],
      "metadata": {
        "id": "gJb_83AUPYqe"
      },
      "execution_count": null,
      "outputs": []
    },
    {
      "cell_type": "markdown",
      "source": [
        "## Gated Recurrent Unit (GRU)"
      ],
      "metadata": {
        "id": "y7UKcIuGXD34"
      }
    },
    {
      "cell_type": "markdown",
      "source": [
        "### Create GRU Network"
      ],
      "metadata": {
        "id": "kaN4W99CXD35"
      }
    },
    {
      "cell_type": "code",
      "source": [
        "K.clear_session()\n",
        "fixSeed()\n",
        "\n",
        "model = keras.Sequential()\n",
        "\n",
        "model.add(keras.layers.GRU(50, input_shape=(numInput, 1)))\n",
        "model.add(keras.layers.Dense(numOutput))"
      ],
      "metadata": {
        "id": "HFh2Vd_ZXD35"
      },
      "execution_count": null,
      "outputs": []
    },
    {
      "cell_type": "markdown",
      "source": [
        "### Summarize Model"
      ],
      "metadata": {
        "id": "_d1a6QqXXD36"
      }
    },
    {
      "cell_type": "code",
      "source": [
        "model.summary()"
      ],
      "metadata": {
        "id": "pbaQDdl0XD36"
      },
      "execution_count": null,
      "outputs": []
    },
    {
      "cell_type": "markdown",
      "source": [
        "### Visualize Model"
      ],
      "metadata": {
        "id": "ttOeeyrMXD36"
      }
    },
    {
      "cell_type": "code",
      "source": [
        "plot_model(model, to_file=\"model.png\")"
      ],
      "metadata": {
        "id": "tvG2b2MOXD36"
      },
      "execution_count": null,
      "outputs": []
    },
    {
      "cell_type": "markdown",
      "source": [
        "### Compile Model"
      ],
      "metadata": {
        "id": "AYwJKLJOXD37"
      }
    },
    {
      "cell_type": "code",
      "source": [
        "lr, batchSize, epoch = 1e-3, 1024, 50"
      ],
      "metadata": {
        "id": "TT23eDBQXD37"
      },
      "execution_count": null,
      "outputs": []
    },
    {
      "cell_type": "code",
      "source": [
        "model.compile(loss=\"mean_absolute_error\", optimizer=keras.optimizers.Adam(learning_rate=lr))"
      ],
      "metadata": {
        "id": "_tOaEAYMXD37"
      },
      "execution_count": null,
      "outputs": []
    },
    {
      "cell_type": "markdown",
      "source": [
        "### Train Model"
      ],
      "metadata": {
        "id": "l4oZfWdqXD38"
      }
    },
    {
      "cell_type": "code",
      "source": [
        "history = model.fit(xTrain, yTrain, batch_size=batchSize, epochs=epoch, validation_data=(xValid, yValid))"
      ],
      "metadata": {
        "id": "2-R6_o6ZXD38"
      },
      "execution_count": null,
      "outputs": []
    },
    {
      "cell_type": "markdown",
      "source": [
        "### Visualize Training Procedure"
      ],
      "metadata": {
        "id": "7ujTaO2jXD38"
      }
    },
    {
      "cell_type": "code",
      "source": [
        "plt.subplots(figsize = (20,5))\n",
        "plt.plot(np.arange(epoch), history.history[\"loss\"], label=\"Training MAE Loss\")\n",
        "plt.plot(np.arange(epoch), history.history[\"val_loss\"], label=\"Validation MAE Loss\")\n",
        "plt.xlabel(\"# Epoch\")\n",
        "plt.ylabel(\"MAE Loss\")\n",
        "plt.title(\"Loss\")\n",
        "plt.legend(loc=\"best\")\n",
        "plt.show()"
      ],
      "metadata": {
        "id": "lFul24sMXD39"
      },
      "execution_count": null,
      "outputs": []
    },
    {
      "cell_type": "markdown",
      "source": [
        "### Inference Result"
      ],
      "metadata": {
        "id": "lDaQGJfLXD39"
      }
    },
    {
      "cell_type": "code",
      "source": [
        "yPred = model.predict(xTest)"
      ],
      "metadata": {
        "id": "C6LNU0nLXD3-"
      },
      "execution_count": null,
      "outputs": []
    },
    {
      "cell_type": "code",
      "source": [
        "yPred.shape"
      ],
      "metadata": {
        "id": "MDHidWGeXD3-"
      },
      "execution_count": null,
      "outputs": []
    },
    {
      "cell_type": "markdown",
      "source": [
        "### Visualize Result"
      ],
      "metadata": {
        "id": "ggrmh54mXD3-"
      }
    },
    {
      "cell_type": "code",
      "source": [
        "plt.subplots(figsize = (20,5))\n",
        "plt.scatter(np.arange(numInput), xTest[-1].reshape(-1), label=\"Input\", marker=\".\")\n",
        "plt.scatter(np.arange(numInput, numInput+numOutput), yTest[-1].reshape(-1), label=\"Ground Truth\", marker=\"x\")\n",
        "plt.scatter(np.arange(numInput, numInput+numOutput), yPred[-1].reshape(-1), label=\"Prediction\", marker=\"^\")\n",
        "plt.xlabel(\"Time Step (0.1s)\")\n",
        "plt.ylabel(\"Displacement (m)\")\n",
        "plt.title(\"Result Comparison\")\n",
        "plt.legend(loc=\"best\")\n",
        "plt.show()"
      ],
      "metadata": {
        "id": "apmyKn9PXD3_"
      },
      "execution_count": null,
      "outputs": []
    },
    {
      "cell_type": "markdown",
      "source": [
        "### Model Evaluation"
      ],
      "metadata": {
        "id": "Rj-2yIycXD3_"
      }
    },
    {
      "cell_type": "code",
      "source": [
        "computeMAE(yPred, yTest)"
      ],
      "metadata": {
        "id": "CXtDiUqZXD4A"
      },
      "execution_count": null,
      "outputs": []
    },
    {
      "cell_type": "markdown",
      "source": [
        "## Deeper Long Short-Term Memory (LSTM)"
      ],
      "metadata": {
        "id": "nHH5GL5vLSMq"
      }
    },
    {
      "cell_type": "markdown",
      "source": [
        "### Create LSTM Network"
      ],
      "metadata": {
        "id": "czDPil18LSMr"
      }
    },
    {
      "cell_type": "code",
      "source": [
        "K.clear_session()\n",
        "fixSeed()\n",
        "\n",
        "model = keras.Sequential()\n",
        "\n",
        "model.add(keras.layers.LSTM(100, input_shape=(numInput, 1)))\n",
        "model.add(keras.layers.Dense(numOutput))"
      ],
      "metadata": {
        "id": "gRR_gll5LSMr"
      },
      "execution_count": null,
      "outputs": []
    },
    {
      "cell_type": "markdown",
      "source": [
        "### Summarize Model"
      ],
      "metadata": {
        "id": "3mB-c8gDLSMr"
      }
    },
    {
      "cell_type": "code",
      "source": [
        "model.summary()"
      ],
      "metadata": {
        "id": "Ln5kaBZqLSMr"
      },
      "execution_count": null,
      "outputs": []
    },
    {
      "cell_type": "markdown",
      "source": [
        "### Visualize Model"
      ],
      "metadata": {
        "id": "puuXQeuoLSMr"
      }
    },
    {
      "cell_type": "code",
      "source": [
        "plot_model(model, to_file=\"model.png\")"
      ],
      "metadata": {
        "id": "ekPMVYgTLSMs"
      },
      "execution_count": null,
      "outputs": []
    },
    {
      "cell_type": "markdown",
      "source": [
        "### Compile Model"
      ],
      "metadata": {
        "id": "i2trqOVLLSMs"
      }
    },
    {
      "cell_type": "code",
      "source": [
        "lr, batchSize, epoch = 1e-3, 1024, 50"
      ],
      "metadata": {
        "id": "rZ8qlQYoLSMs"
      },
      "execution_count": null,
      "outputs": []
    },
    {
      "cell_type": "code",
      "source": [
        "model.compile(loss=\"mean_absolute_error\", optimizer=keras.optimizers.Adam(learning_rate=lr))"
      ],
      "metadata": {
        "id": "Vd9qEmX6LSMs"
      },
      "execution_count": null,
      "outputs": []
    },
    {
      "cell_type": "markdown",
      "source": [
        "### Train Model"
      ],
      "metadata": {
        "id": "z9_MmDbXLSMs"
      }
    },
    {
      "cell_type": "code",
      "source": [
        "history = model.fit(xTrain, yTrain, batch_size=batchSize, epochs=epoch, validation_data=(xValid, yValid))"
      ],
      "metadata": {
        "id": "Aw-JcgLULSMs"
      },
      "execution_count": null,
      "outputs": []
    },
    {
      "cell_type": "markdown",
      "source": [
        "### Visualize Training Procedure"
      ],
      "metadata": {
        "id": "5oHHekEaLSMt"
      }
    },
    {
      "cell_type": "code",
      "source": [
        "plt.subplots(figsize = (20,5))\n",
        "plt.plot(np.arange(epoch), history.history[\"loss\"], label=\"Training MAE Loss\")\n",
        "plt.plot(np.arange(epoch), history.history[\"val_loss\"], label=\"Validation MAE Loss\")\n",
        "plt.xlabel(\"# Epoch\")\n",
        "plt.ylabel(\"MAE Loss\")\n",
        "plt.title(\"Loss\")\n",
        "plt.legend(loc=\"best\")\n",
        "plt.show()"
      ],
      "metadata": {
        "id": "l0QHd59-LSMt"
      },
      "execution_count": null,
      "outputs": []
    },
    {
      "cell_type": "markdown",
      "source": [
        "### Inference Result"
      ],
      "metadata": {
        "id": "1T_LwbGvLSMt"
      }
    },
    {
      "cell_type": "code",
      "source": [
        "yPred = model.predict(xTest)"
      ],
      "metadata": {
        "id": "Nx7lk4qXLSMt"
      },
      "execution_count": null,
      "outputs": []
    },
    {
      "cell_type": "code",
      "source": [
        "yPred.shape"
      ],
      "metadata": {
        "id": "sPy0RTWwLSMt"
      },
      "execution_count": null,
      "outputs": []
    },
    {
      "cell_type": "markdown",
      "source": [
        "### Visualize Result"
      ],
      "metadata": {
        "id": "4vLcnLp4LSMt"
      }
    },
    {
      "cell_type": "code",
      "source": [
        "plt.subplots(figsize = (20,5))\n",
        "plt.scatter(np.arange(numInput), xTest[-1].reshape(-1), label=\"Input\", marker=\".\")\n",
        "plt.scatter(np.arange(numInput, numInput+numOutput), yTest[-1].reshape(-1), label=\"Ground Truth\", marker=\"x\")\n",
        "plt.scatter(np.arange(numInput, numInput+numOutput), yPred[-1].reshape(-1), label=\"Prediction\", marker=\"^\")\n",
        "plt.xlabel(\"Time Step (0.1s)\")\n",
        "plt.ylabel(\"Displacement (m)\")\n",
        "plt.title(\"Result Comparison\")\n",
        "plt.legend(loc=\"best\")\n",
        "plt.show()"
      ],
      "metadata": {
        "id": "oXmvXJSfLSMt"
      },
      "execution_count": null,
      "outputs": []
    },
    {
      "cell_type": "markdown",
      "source": [
        "### Model Evaluation"
      ],
      "metadata": {
        "id": "V5Td9GQbLSMt"
      }
    },
    {
      "cell_type": "code",
      "source": [
        "computeMAE(yPred, yTest)"
      ],
      "metadata": {
        "id": "UDZz9swuLSMt"
      },
      "execution_count": null,
      "outputs": []
    },
    {
      "cell_type": "markdown",
      "source": [
        "# 실습\n",
        "## **AirQualityUCI.csv를 기반으로 시계열 분석을 진행하세요.**\n",
        "### **1) 데이터 셋을 불러온 후 훈련, 검증, 시험 데이터 셋으로 분리하세요.**\n",
        "### 1.1) 24개의 데이터를 사용하여 향후 6개의 데이터를 예측\n",
        "### 1.2) 입력 데이터 → [\"Date\", \"Time\"]을 제외한 모든 Feature\n",
        "### 1.3) 목표 데이터 → [\"C6H6(GT)\"]\n",
        "### 1.4) 훈련 데이터 셋 비율 → 0.8\n",
        "### 1.5) 검증 데이터 셋 비율 → 0.1\n",
        "### 1.6) 시험 데이터 셋 비율 → 0.1\n",
        "### **2) Unit이 50인 RNN 모델을 만드세요.**\n",
        "### **3) 다음과 같은 하이퍼파라미터를 사용하여 모델을 훈련하세요.**\n",
        "### 3.1) Learning Rate → 1e-3\n",
        "### 3.2) Batch Size → 256\n",
        "### 3.3) Epochs → 50\n",
        "### **4) 시험 데이터 셋을 사용하여 모델을 평가하세요**\n"
      ],
      "metadata": {
        "id": "Kpj0QT5bNGIU"
      }
    }
  ]
}