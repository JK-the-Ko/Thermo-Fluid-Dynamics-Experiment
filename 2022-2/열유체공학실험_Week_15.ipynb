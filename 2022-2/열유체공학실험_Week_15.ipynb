{
  "cells": [
    {
      "cell_type": "markdown",
      "metadata": {
        "id": "view-in-github",
        "colab_type": "text"
      },
      "source": [
        "<a href=\"https://colab.research.google.com/github/JK-the-Ko/Thermo-Fluid-Dynamics-Experiment/blob/main/2022-2/%EC%97%B4%EC%9C%A0%EC%B2%B4%EA%B3%B5%ED%95%99%EC%8B%A4%ED%97%98_Week_15.ipynb\" target=\"_parent\"><img src=\"https://colab.research.google.com/assets/colab-badge.svg\" alt=\"Open In Colab\"/></a>"
      ]
    },
    {
      "cell_type": "markdown",
      "metadata": {
        "id": "FN4UOzUgry82"
      },
      "source": [
        "# CFD Analysis with Deep Neural Network (DNN)"
      ]
    },
    {
      "cell_type": "markdown",
      "metadata": {
        "id": "c2TN2v3MtTI6"
      },
      "source": [
        "# Dataset"
      ]
    },
    {
      "cell_type": "markdown",
      "metadata": {
        "id": "dTaOdNrgr3e-"
      },
      "source": [
        "## Download Dataset"
      ]
    },
    {
      "cell_type": "code",
      "execution_count": null,
      "metadata": {
        "id": "C5I9LPqCrscm"
      },
      "outputs": [],
      "source": [
        "!wget https://zenodo.org/record/3666056/files/DeepCFD.zip?download=1"
      ]
    },
    {
      "cell_type": "markdown",
      "metadata": {
        "id": "NokjVkvzuJJQ"
      },
      "source": [
        "## Unzip Dataset"
      ]
    },
    {
      "cell_type": "code",
      "execution_count": null,
      "metadata": {
        "colab": {
          "background_save": true
        },
        "id": "yQfiZHrmr5rI"
      },
      "outputs": [],
      "source": [
        "!mv \"/content/DeepCFD.zip?download=1\" \"/content/DeepCFD.zip\""
      ]
    },
    {
      "cell_type": "code",
      "execution_count": null,
      "metadata": {
        "id": "zuq5Hhlbtjpt"
      },
      "outputs": [],
      "source": [
        "!unzip \"/content/DeepCFD.zip\" -d \"/content\""
      ]
    },
    {
      "cell_type": "markdown",
      "metadata": {
        "id": "JuAm7mBQtRfI"
      },
      "source": [
        "## Analyze Dataset"
      ]
    },
    {
      "cell_type": "code",
      "execution_count": null,
      "metadata": {
        "id": "VNnepflZuLRE"
      },
      "outputs": [],
      "source": [
        "import pickle"
      ]
    },
    {
      "cell_type": "code",
      "execution_count": null,
      "metadata": {
        "id": "AD0FB_AOuL3v"
      },
      "outputs": [],
      "source": [
        "x = pickle.load(open(\"/content/dataX.pkl\", \"rb\"))\n",
        "y = pickle.load(open(\"/content/dataY.pkl\", \"rb\"))"
      ]
    },
    {
      "cell_type": "code",
      "execution_count": null,
      "metadata": {
        "id": "ioOYEsKTv3z2"
      },
      "outputs": [],
      "source": [
        "type(x)"
      ]
    },
    {
      "cell_type": "code",
      "execution_count": null,
      "metadata": {
        "id": "J-cKuh1guY9i"
      },
      "outputs": [],
      "source": [
        "x.shape"
      ]
    },
    {
      "cell_type": "code",
      "execution_count": null,
      "metadata": {
        "id": "paDz4sqQuaS9"
      },
      "outputs": [],
      "source": [
        "y.shape"
      ]
    },
    {
      "cell_type": "markdown",
      "metadata": {
        "id": "onqc7M7YudZ7"
      },
      "source": [
        "### Preprocess Dataset"
      ]
    },
    {
      "cell_type": "code",
      "execution_count": null,
      "metadata": {
        "id": "1CJdWPZCupkO"
      },
      "outputs": [],
      "source": [
        "import numpy as np"
      ]
    },
    {
      "cell_type": "code",
      "execution_count": null,
      "metadata": {
        "id": "m4bEDDabub9e"
      },
      "outputs": [],
      "source": [
        "x = np.transpose(x, (0, 3, 2, 1))\n",
        "y = np.transpose(y, (0, 3, 2, 1))"
      ]
    },
    {
      "cell_type": "code",
      "execution_count": null,
      "metadata": {
        "id": "ZuCzzK1HuoRs"
      },
      "outputs": [],
      "source": [
        "x.shape"
      ]
    },
    {
      "cell_type": "code",
      "execution_count": null,
      "metadata": {
        "id": "CoYFU60furJN"
      },
      "outputs": [],
      "source": [
        "y.shape"
      ]
    },
    {
      "cell_type": "markdown",
      "metadata": {
        "id": "BX81p99Bu6lR"
      },
      "source": [
        "## Visualize Dataset"
      ]
    },
    {
      "cell_type": "code",
      "execution_count": null,
      "metadata": {
        "id": "6fDfhCBlu5Sf"
      },
      "outputs": [],
      "source": [
        "import matplotlib.pyplot as plt"
      ]
    },
    {
      "cell_type": "markdown",
      "metadata": {
        "id": "Bz17gJ1mvzaF"
      },
      "source": [
        "### Input Data"
      ]
    },
    {
      "cell_type": "code",
      "execution_count": null,
      "metadata": {
        "id": "N0k5EdgRu9Lw"
      },
      "outputs": [],
      "source": [
        "plt.figure(figsize=(30, 60))\n",
        "\n",
        "plt.subplot(131)\n",
        "plt.imshow(x[0,:,:,0])\n",
        "\n",
        "plt.subplot(132)\n",
        "plt.imshow(x[0,:,:,1])\n",
        "\n",
        "plt.subplot(133)\n",
        "plt.imshow(x[0,:,:,2])\n",
        "\n",
        "plt.show()"
      ]
    },
    {
      "cell_type": "markdown",
      "metadata": {
        "id": "6i-j5L55v0hj"
      },
      "source": [
        "### Target Data"
      ]
    },
    {
      "cell_type": "code",
      "execution_count": null,
      "metadata": {
        "id": "yDD41vayvDIK"
      },
      "outputs": [],
      "source": [
        "plt.figure(figsize=(30, 60))\n",
        "\n",
        "plt.subplot(131)\n",
        "plt.imshow(y[0,:,:,0])\n",
        "\n",
        "plt.subplot(132)\n",
        "plt.imshow(y[0,:,:,1])\n",
        "\n",
        "plt.subplot(133)\n",
        "plt.imshow(y[0,:,:,2])\n",
        "\n",
        "plt.show()"
      ]
    },
    {
      "cell_type": "markdown",
      "metadata": {
        "id": "_CLNFhyZ2W4l"
      },
      "source": [
        "### Input Data"
      ]
    },
    {
      "cell_type": "code",
      "execution_count": null,
      "metadata": {
        "id": "EdMMKvNJ2W4m"
      },
      "outputs": [],
      "source": [
        "plt.figure(figsize=(30, 60))\n",
        "\n",
        "plt.subplot(131)\n",
        "plt.imshow(x[-1,:,:,0])\n",
        "\n",
        "plt.subplot(132)\n",
        "plt.imshow(x[-1,:,:,1])\n",
        "\n",
        "plt.subplot(133)\n",
        "plt.imshow(x[-1,:,:,2])\n",
        "\n",
        "plt.show()"
      ]
    },
    {
      "cell_type": "markdown",
      "metadata": {
        "id": "TM6v2Ku_2W4m"
      },
      "source": [
        "### Target Data"
      ]
    },
    {
      "cell_type": "code",
      "execution_count": null,
      "metadata": {
        "id": "juWjjSKX2W4m"
      },
      "outputs": [],
      "source": [
        "plt.figure(figsize=(30, 60))\n",
        "\n",
        "plt.subplot(131)\n",
        "plt.imshow(y[-1,:,:,0])\n",
        "\n",
        "plt.subplot(132)\n",
        "plt.imshow(y[-1,:,:,1])\n",
        "\n",
        "plt.subplot(133)\n",
        "plt.imshow(y[-1,:,:,2])\n",
        "\n",
        "plt.show()"
      ]
    },
    {
      "cell_type": "markdown",
      "metadata": {
        "id": "xQxpUU5ezI6h"
      },
      "source": [
        "### Split Dataset"
      ]
    },
    {
      "cell_type": "code",
      "execution_count": null,
      "metadata": {
        "id": "6JdGU5bfzN9F"
      },
      "outputs": [],
      "source": [
        "from sklearn.model_selection import train_test_split"
      ]
    },
    {
      "cell_type": "code",
      "execution_count": null,
      "metadata": {
        "id": "HWq43gk7zJ2k"
      },
      "outputs": [],
      "source": [
        "xTrain, xTest, yTrain, yTest = train_test_split(x, y, test_size=0.1, random_state=42)"
      ]
    },
    {
      "cell_type": "code",
      "execution_count": null,
      "metadata": {
        "id": "0vjjzyGF6DVT"
      },
      "outputs": [],
      "source": [
        "xTrain, xValid, yTrain, yValid = train_test_split(xTrain, yTrain, test_size=0.1, random_state=42)"
      ]
    },
    {
      "cell_type": "code",
      "execution_count": null,
      "metadata": {
        "id": "KfWMkmGMzXBM"
      },
      "outputs": [],
      "source": [
        "xTrain.shape"
      ]
    },
    {
      "cell_type": "code",
      "execution_count": null,
      "metadata": {
        "id": "7ouabwvLzZNH"
      },
      "outputs": [],
      "source": [
        "xTest.shape"
      ]
    },
    {
      "cell_type": "code",
      "execution_count": null,
      "metadata": {
        "id": "P80L6_2dzanC"
      },
      "outputs": [],
      "source": [
        "yTrain.shape"
      ]
    },
    {
      "cell_type": "code",
      "execution_count": null,
      "metadata": {
        "id": "5_z9j4aWzcTF"
      },
      "outputs": [],
      "source": [
        "yTest.shape"
      ]
    },
    {
      "cell_type": "markdown",
      "metadata": {
        "id": "x7vcCs95wMPF"
      },
      "source": [
        "## Build Convolutional Neural Network (CNN)"
      ]
    },
    {
      "cell_type": "markdown",
      "metadata": {
        "id": "CXOvsqoUwt6r"
      },
      "source": [
        "### Import Keras"
      ]
    },
    {
      "cell_type": "code",
      "execution_count": null,
      "metadata": {
        "id": "Jn4oIhJzv_dF"
      },
      "outputs": [],
      "source": [
        "import keras\n",
        "from keras.models import Model, load_model\n",
        "from keras.layers import Input, concatenate, Resizing\n",
        "from keras.layers.core import Dropout, Lambda\n",
        "from keras.layers.convolutional import Conv2D, Conv2DTranspose\n",
        "from keras.layers.pooling import MaxPooling2D"
      ]
    },
    {
      "cell_type": "markdown",
      "metadata": {
        "id": "s74y2-gswfsW"
      },
      "source": [
        "### Fix Seed"
      ]
    },
    {
      "cell_type": "code",
      "execution_count": null,
      "metadata": {
        "id": "k66f2GJZwg6Z"
      },
      "outputs": [],
      "source": [
        "import tensorflow as tf\n",
        "from keras import backend as K\n",
        "import random\n",
        "\n",
        "def fixSeed(numSeed = 42) :\n",
        "  np.random.seed(numSeed)\n",
        "  random.seed(numSeed)\n",
        "  tf.random.set_seed(numSeed)\n",
        "\n",
        "  sessionConf = tf.compat.v1.ConfigProto(intra_op_parallelism_threads=1, inter_op_parallelism_threads=1)\n",
        "  sess = tf.compat.v1.Session(graph=tf.compat.v1.get_default_graph(), config=sessionConf)\n",
        "  K.set_session(sess)"
      ]
    },
    {
      "cell_type": "markdown",
      "metadata": {
        "id": "xqwhdbovw-3u"
      },
      "source": [
        "### Build U-Net Network"
      ]
    },
    {
      "cell_type": "code",
      "execution_count": null,
      "metadata": {
        "id": "SKDKZlEJxBVz"
      },
      "outputs": [],
      "source": [
        "inputs = Input((x.shape[1], x.shape[2], x.shape[3]))\n",
        "\n",
        "c1 = Conv2D(16, (3, 3), activation=\"elu\", kernel_initializer=\"he_normal\", padding=\"same\")(inputs)\n",
        "c1 = Dropout(0.1)(c1)\n",
        "c1 = Conv2D(16, (3, 3), activation=\"elu\", kernel_initializer=\"he_normal\", padding=\"same\")(c1)\n",
        "p1 = MaxPooling2D((2, 2))(c1)\n",
        "\n",
        "c2 = Conv2D(32, (3, 3), activation=\"elu\", kernel_initializer=\"he_normal\", padding=\"same\")(p1)\n",
        "c2 = Dropout(0.1)(c2)\n",
        "c2 = Conv2D(32, (3, 3), activation=\"elu\", kernel_initializer=\"he_normal\", padding=\"same\")(c2)\n",
        "p2 = MaxPooling2D((2, 2))(c2)\n",
        "\n",
        "c3 = Conv2D(64, (3, 3), activation=\"elu\", kernel_initializer=\"he_normal\", padding=\"same\")(p2)\n",
        "c3 = Dropout(0.2)(c3)\n",
        "c3 = Conv2D(64, (3, 3), activation=\"elu\", kernel_initializer=\"he_normal\", padding=\"same\")(c3)\n",
        "p3 = MaxPooling2D((2, 2))(c3)\n",
        "\n",
        "c4 = Conv2D(128, (3, 3), activation=\"elu\", kernel_initializer=\"he_normal\", padding=\"same\")(p3)\n",
        "c4 = Dropout(0.2)(c4)\n",
        "c4 = Conv2D(128, (3, 3), activation=\"elu\", kernel_initializer=\"he_normal\", padding=\"same\")(c4)\n",
        "p4 = MaxPooling2D(pool_size=(2, 2))(c4)\n",
        "\n",
        "c5 = Conv2D(256, (3, 3), activation=\"elu\", kernel_initializer=\"he_normal\", padding=\"same\")(p4)\n",
        "c5 = Dropout(0.3)(c5)\n",
        "c5 = Conv2D(256, (3, 3), activation=\"elu\", kernel_initializer=\"he_normal\", padding=\"same\")(c5)\n",
        "\n",
        "u6 = Resizing(c4.shape[1], c4.shape[2], \"nearest\")(c5)\n",
        "u6 = Conv2D(128, (3, 3), activation=\"elu\", kernel_initializer=\"he_normal\", padding=\"same\")(u6)\n",
        "u6 = concatenate([u6, c4])\n",
        "c6 = Conv2D(128, (3, 3), activation=\"elu\", kernel_initializer=\"he_normal\", padding=\"same\")(u6)\n",
        "c6 = Dropout(0.2)(c6)\n",
        "c6 = Conv2D(128, (3, 3), activation=\"elu\", kernel_initializer=\"he_normal\", padding=\"same\")(c6)\n",
        "\n",
        "u7 = Resizing(c3.shape[1], c3.shape[2], \"nearest\")(c6)\n",
        "u7 = Conv2D(64, (3, 3), activation=\"elu\", kernel_initializer=\"he_normal\", padding=\"same\")(u7)\n",
        "u7 = concatenate([u7, c3])\n",
        "c7 = Conv2D(64, (3, 3), activation=\"elu\", kernel_initializer=\"he_normal\", padding=\"same\")(u7)\n",
        "c7 = Dropout(0.2)(c7)\n",
        "c7 = Conv2D(64, (3, 3), activation=\"elu\", kernel_initializer=\"he_normal\", padding=\"same\")(c7)\n",
        "\n",
        "u8 = Resizing(c2.shape[1], c2.shape[2], \"nearest\")(c7)\n",
        "u8 = Conv2D(32, (3, 3), activation=\"elu\", kernel_initializer=\"he_normal\", padding=\"same\")(u8)\n",
        "u8 = concatenate([u8, c2])\n",
        "c8 = Conv2D(32, (3, 3), activation=\"elu\", kernel_initializer=\"he_normal\", padding=\"same\")(u8)\n",
        "c8 = Dropout(0.1)(c8)\n",
        "c8 = Conv2D(32, (3, 3), activation=\"elu\", kernel_initializer=\"he_normal\", padding=\"same\")(c8)\n",
        "\n",
        "u9 = Resizing(c1.shape[1], c1.shape[2], \"nearest\")(c8)\n",
        "u8 = Conv2D(16, (3, 3), activation=\"elu\", kernel_initializer=\"he_normal\", padding=\"same\")(u9)\n",
        "u9 = concatenate([u9, c1], axis=3)\n",
        "c9 = Conv2D(16, (3, 3), activation=\"elu\", kernel_initializer=\"he_normal\", padding=\"same\")(u9)\n",
        "c9 = Dropout(0.1)(c9)\n",
        "c9 = Conv2D(16, (3, 3), activation=\"elu\", kernel_initializer=\"he_normal\", padding=\"same\")(c9)\n",
        "\n",
        "outputs = Conv2D(y.shape[-1], (1, 1))(c9)"
      ]
    },
    {
      "cell_type": "markdown",
      "metadata": {
        "id": "iwX36XsMypXh"
      },
      "source": [
        "### Create Model Instance"
      ]
    },
    {
      "cell_type": "code",
      "execution_count": null,
      "metadata": {
        "id": "nE7H9BxdxTW-"
      },
      "outputs": [],
      "source": [
        "K.clear_session()\n",
        "fixSeed()\n",
        "\n",
        "model = Model(inputs=[inputs], outputs=[outputs])"
      ]
    },
    {
      "cell_type": "markdown",
      "metadata": {
        "id": "n_fb9wQMyv_D"
      },
      "source": [
        "### Summarize Model"
      ]
    },
    {
      "cell_type": "code",
      "execution_count": null,
      "metadata": {
        "id": "hEhqapfFyvPo"
      },
      "outputs": [],
      "source": [
        "model.summary()"
      ]
    },
    {
      "cell_type": "markdown",
      "metadata": {
        "id": "TgK-92TO2gaP"
      },
      "source": [
        "### Visualize Model"
      ]
    },
    {
      "cell_type": "code",
      "execution_count": null,
      "metadata": {
        "id": "7kt43qqs2iAk"
      },
      "outputs": [],
      "source": [
        "from keras.utils import plot_model\n",
        "plot_model(model, to_file=\"model.png\")"
      ]
    },
    {
      "cell_type": "markdown",
      "metadata": {
        "id": "EhFgsIaLy1L_"
      },
      "source": [
        "### Compile Model"
      ]
    },
    {
      "cell_type": "code",
      "execution_count": null,
      "metadata": {
        "id": "Dk-yuBe6yxsx"
      },
      "outputs": [],
      "source": [
        "lr, batchSize, epoch = 1e-3, 8, 50"
      ]
    },
    {
      "cell_type": "code",
      "execution_count": null,
      "metadata": {
        "id": "FXELb3pVy6wJ"
      },
      "outputs": [],
      "source": [
        "model.compile(loss=\"mean_absolute_error\", optimizer=keras.optimizers.Adam(learning_rate=lr))"
      ]
    },
    {
      "cell_type": "markdown",
      "metadata": {
        "id": "eLDqfZg8zf1m"
      },
      "source": [
        "### Train Model"
      ]
    },
    {
      "cell_type": "code",
      "execution_count": null,
      "metadata": {
        "id": "6uKqTI9Cy9M9"
      },
      "outputs": [],
      "source": [
        "history = model.fit(xTrain, yTrain, batch_size=batchSize, epochs=epoch, validation_data=(xValid, yValid))"
      ]
    },
    {
      "cell_type": "markdown",
      "metadata": {
        "id": "4eMlV-Fd0ivc"
      },
      "source": [
        "### Visualize Training Procedure"
      ]
    },
    {
      "cell_type": "code",
      "execution_count": null,
      "metadata": {
        "id": "7gYbTp3zzm4T"
      },
      "outputs": [],
      "source": [
        "plt.subplots(figsize = (20,5))\n",
        "plt.plot(np.arange(epoch), history.history[\"loss\"], label=\"Training MAE Loss\")\n",
        "plt.plot(np.arange(epoch), history.history[\"val_loss\"], label=\"Validation MAE Loss\")\n",
        "plt.xlabel(\"# Epoch\")\n",
        "plt.ylabel(\"MAE Loss\")\n",
        "plt.title(\"Loss\")\n",
        "plt.legend(loc=\"best\")\n",
        "plt.show()"
      ]
    },
    {
      "cell_type": "markdown",
      "metadata": {
        "id": "GOtivnsm0pju"
      },
      "source": [
        "### Inference Result"
      ]
    },
    {
      "cell_type": "code",
      "execution_count": null,
      "metadata": {
        "id": "8Lnf_G7J0mOB"
      },
      "outputs": [],
      "source": [
        "yPred = model.predict(xTest)"
      ]
    },
    {
      "cell_type": "code",
      "execution_count": null,
      "metadata": {
        "id": "gJJURjcP0rlX"
      },
      "outputs": [],
      "source": [
        "yPred.shape"
      ]
    },
    {
      "cell_type": "markdown",
      "metadata": {
        "id": "N16lM-m51l2w"
      },
      "source": [
        "### Reshape Array"
      ]
    },
    {
      "cell_type": "code",
      "execution_count": null,
      "metadata": {
        "id": "N92FA6uD1pW5"
      },
      "outputs": [],
      "source": [
        "yTest = np.transpose(yTest, (0, 3, 2, 1))\n",
        "yPred = np.transpose(yPred, (0, 3, 2, 1))"
      ]
    },
    {
      "cell_type": "code",
      "execution_count": null,
      "metadata": {
        "id": "4voAuMRg1v9I"
      },
      "outputs": [],
      "source": [
        "yTest.shape"
      ]
    },
    {
      "cell_type": "code",
      "execution_count": null,
      "metadata": {
        "id": "B04XIs7y1xJ8"
      },
      "outputs": [],
      "source": [
        "yPred.shape"
      ]
    },
    {
      "cell_type": "markdown",
      "metadata": {
        "id": "TM8N_Y4U0xCy"
      },
      "source": [
        "### Visualize Result"
      ]
    },
    {
      "cell_type": "code",
      "execution_count": null,
      "metadata": {
        "id": "qUfl7qC30s9S"
      },
      "outputs": [],
      "source": [
        "def visualize(sample_y, out_y, error, s) :\n",
        "    minu = np.min(sample_y[s, 0, :, :])\n",
        "    maxu = np.max(sample_y[s, 0, :, :])\n",
        "    \n",
        "    minv = np.min(sample_y[s, 1, :, :])\n",
        "    maxv = np.max(sample_y[s, 1, :, :])\n",
        "    \n",
        "    minp = np.min(sample_y[s, 2, :, :])\n",
        "    maxp = np.max(sample_y[s, 2, :, :])\n",
        "    \n",
        "    mineu = np.min(error[s, 0, :, :])\n",
        "    maxeu = np.max(error[s, 0, :, :])\n",
        "    \n",
        "    minev = np.min(error[s, 1, :, :])\n",
        "    maxev = np.max(error[s, 1, :, :])\n",
        "    \n",
        "    minep = np.min(error[s, 2, :, :])\n",
        "    maxep = np.max(error[s, 2, :, :])\n",
        "           \n",
        "    plt.figure()\n",
        "    fig = plt.gcf()\n",
        "    fig.set_size_inches(15, 10)\n",
        "    plt.subplot(3, 3, 1)\n",
        "    plt.title(\"CFD\", fontsize=18)\n",
        "    plt.imshow(np.transpose(sample_y[s, 0, :, :]), cmap=\"jet\", vmin = minu, vmax = maxu, origin=\"lower\", extent=[0,260,0,120])\n",
        "    plt.colorbar(orientation=\"horizontal\")\n",
        "    plt.ylabel(\"Ux\", fontsize=18)\n",
        "    plt.subplot(3, 3, 2)\n",
        "    plt.title(\"CNN\", fontsize=18)\n",
        "    plt.imshow(np.transpose(out_y[s, 0, :, :]), cmap=\"jet\", vmin = minu, vmax = maxu, origin=\"lower\", extent=[0,260,0,120])\n",
        "    plt.colorbar(orientation=\"horizontal\")\n",
        "    plt.subplot(3, 3, 3)\n",
        "    plt.title(\"Error\", fontsize=18)\n",
        "    plt.imshow(np.transpose(error[s, 0, :, :]), cmap=\"jet\", vmin = mineu, vmax = maxeu, origin=\"lower\", extent=[0,260,0,120])\n",
        "    plt.colorbar(orientation=\"horizontal\")\n",
        "\n",
        "    plt.subplot(3, 3, 4)\n",
        "    plt.imshow(np.transpose(sample_y[s, 1, :, :]), cmap=\"jet\", vmin = minv, vmax = maxv, origin=\"lower\", extent=[0,260,0,120])\n",
        "    plt.colorbar(orientation=\"horizontal\")\n",
        "    plt.ylabel(\"Uy\", fontsize=18)\n",
        "    plt.subplot(3, 3, 5)\n",
        "    plt.imshow(np.transpose(out_y[s, 1, :, :]), cmap=\"jet\", vmin = minv, vmax = maxv, origin=\"lower\", extent=[0,260,0,120])\n",
        "    plt.colorbar(orientation=\"horizontal\")\n",
        "    plt.subplot(3, 3, 6)\n",
        "    plt.imshow(np.transpose(error[s, 1, :, :]), cmap=\"jet\", vmin = minev, vmax = maxev, origin=\"lower\", extent=[0,260,0,120])\n",
        "    plt.colorbar(orientation=\"horizontal\")\n",
        "\n",
        "    plt.subplot(3, 3, 7)\n",
        "    plt.imshow(np.transpose(sample_y[s, 2, :, :]), cmap=\"jet\", vmin = minp, vmax = maxp, origin=\"lower\", extent=[0,260,0,120])\n",
        "    plt.colorbar(orientation=\"horizontal\")\n",
        "    plt.ylabel(\"p\", fontsize=18)\n",
        "    plt.subplot(3, 3, 8)\n",
        "    plt.imshow(np.transpose(out_y[s, 2, :, :]), cmap=\"jet\", vmin = minp, vmax = maxp, origin=\"lower\", extent=[0,260,0,120])\n",
        "    plt.colorbar(orientation=\"horizontal\")\n",
        "    plt.subplot(3, 3, 9)\n",
        "    plt.imshow(np.transpose(error[s, 2, :, :]), cmap=\"jet\", vmin = minep, vmax = maxep, origin=\"lower\", extent=[0,260,0,120])\n",
        "    plt.colorbar(orientation=\"horizontal\")\n",
        "    plt.tight_layout()\n",
        "    plt.show()"
      ]
    },
    {
      "cell_type": "code",
      "execution_count": null,
      "metadata": {
        "id": "ECLnz7yn0430"
      },
      "outputs": [],
      "source": [
        "error = np.abs(yPred-yTest)"
      ]
    },
    {
      "cell_type": "code",
      "execution_count": null,
      "metadata": {
        "id": "CHmdEuHs0-ai"
      },
      "outputs": [],
      "source": [
        "visualize(yTest, yPred, error, 0)"
      ]
    },
    {
      "cell_type": "code",
      "execution_count": null,
      "metadata": {
        "id": "Ibrg4zgn1KfJ"
      },
      "outputs": [],
      "source": [
        "visualize(yTest, yPred, error, 30)"
      ]
    },
    {
      "cell_type": "code",
      "execution_count": null,
      "metadata": {
        "id": "dCvng6H91LBw"
      },
      "outputs": [],
      "source": [
        "visualize(yTest, yPred, error, -1)"
      ]
    }
  ],
  "metadata": {
    "accelerator": "GPU",
    "colab": {
      "provenance": [],
      "include_colab_link": true
    },
    "gpuClass": "standard",
    "kernelspec": {
      "display_name": "Python 3",
      "name": "python3"
    },
    "language_info": {
      "name": "python"
    }
  },
  "nbformat": 4,
  "nbformat_minor": 0
}