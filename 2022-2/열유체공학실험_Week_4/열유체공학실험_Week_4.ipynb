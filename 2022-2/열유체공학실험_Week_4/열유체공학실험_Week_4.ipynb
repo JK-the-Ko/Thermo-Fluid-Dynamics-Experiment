{
  "nbformat": 4,
  "nbformat_minor": 0,
  "metadata": {
    "colab": {
      "provenance": [],
      "collapsed_sections": [],
      "include_colab_link": true
    },
    "kernelspec": {
      "name": "python3",
      "display_name": "Python 3"
    },
    "language_info": {
      "name": "python"
    }
  },
  "cells": [
    {
      "cell_type": "markdown",
      "metadata": {
        "id": "view-in-github",
        "colab_type": "text"
      },
      "source": [
        "<a href=\"https://colab.research.google.com/github/JK-the-Ko/Thermo-Fluid-Dynamics-Experiment/blob/main/2022-2/%EC%97%B4%EC%9C%A0%EC%B2%B4%EA%B3%B5%ED%95%99%EC%8B%A4%ED%97%98_Week_4/%EC%97%B4%EC%9C%A0%EC%B2%B4%EA%B3%B5%ED%95%99%EC%8B%A4%ED%97%98_Week_4.ipynb\" target=\"_parent\"><img src=\"https://colab.research.google.com/assets/colab-badge.svg\" alt=\"Open In Colab\"/></a>"
      ]
    },
    {
      "cell_type": "markdown",
      "metadata": {
        "id": "x2OiT0Emqad1"
      },
      "source": [
        "# Class"
      ]
    },
    {
      "cell_type": "markdown",
      "metadata": {
        "id": "aj0tjo4b5SZs"
      },
      "source": [
        "![KakaoTalk_20210805_145916906.png](data:image/png;base64,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)"
      ]
    },
    {
      "cell_type": "markdown",
      "metadata": {
        "id": "WVZ6oVCfNjSu"
      },
      "source": [
        "##Constructor\n"
      ]
    },
    {
      "cell_type": "code",
      "metadata": {
        "id": "Wf6sOAnyNh7b"
      },
      "source": [
        "class sample :\n",
        "  def __init__(self) :\n",
        "    print(\"Class Instantiation Done\")"
      ],
      "execution_count": null,
      "outputs": []
    },
    {
      "cell_type": "code",
      "metadata": {
        "id": "477_dULYN7DG"
      },
      "source": [
        "class1 = sample()"
      ],
      "execution_count": null,
      "outputs": []
    },
    {
      "cell_type": "code",
      "metadata": {
        "id": "KUNlcl4sRoRK"
      },
      "source": [
        "print(class1)"
      ],
      "execution_count": null,
      "outputs": []
    },
    {
      "cell_type": "markdown",
      "metadata": {
        "id": "pd0z7kvyRwvB"
      },
      "source": [
        "##Attribute and Method\n",
        "###Attribute → Variable\n",
        "###Method → Function"
      ]
    },
    {
      "cell_type": "code",
      "metadata": {
        "id": "fMbx8mpFRzQd"
      },
      "source": [
        "class cartesianCoordinate :\n",
        "  def __init__(self, x, y, z) : \n",
        "    self.x = x\n",
        "    self.y = y\n",
        "    self.z = z\n",
        "        \n",
        "  def move(self, delta) :\n",
        "    self.x += delta\n",
        "    self.y += delta\n",
        "    self.z += delta\n",
        "\n",
        "  def getCoordinates(self) :\n",
        "    return self.x, self.y, self.z"
      ],
      "execution_count": null,
      "outputs": []
    },
    {
      "cell_type": "code",
      "metadata": {
        "id": "GeaabHpzR-C-"
      },
      "source": [
        "foo = cartesianCoordinate(10, 11 ,12)"
      ],
      "execution_count": null,
      "outputs": []
    },
    {
      "cell_type": "code",
      "metadata": {
        "id": "45tC0VgjSAU7"
      },
      "source": [
        "print(foo.x)\n",
        "print(foo.y)\n",
        "print(foo.z)"
      ],
      "execution_count": null,
      "outputs": []
    },
    {
      "cell_type": "code",
      "metadata": {
        "id": "0ZdxMQ1OSEB1"
      },
      "source": [
        "foo.move(10)"
      ],
      "execution_count": null,
      "outputs": []
    },
    {
      "cell_type": "code",
      "metadata": {
        "id": "Pvk6qZ2NSF8v"
      },
      "source": [
        "x, y, z = foo.getCoordinates()"
      ],
      "execution_count": null,
      "outputs": []
    },
    {
      "cell_type": "code",
      "metadata": {
        "id": "-QWwT7CaSHyR"
      },
      "source": [
        "print(x, y, z)"
      ],
      "execution_count": null,
      "outputs": []
    },
    {
      "cell_type": "markdown",
      "metadata": {
        "id": "L7tU7Mq4BSsj"
      },
      "source": [
        "##Example 1 - Calculator"
      ]
    },
    {
      "cell_type": "code",
      "metadata": {
        "id": "tlRb5Kinrdv3"
      },
      "source": [
        "class calculator :\n",
        "  def __init__(self, num1, num2) :\n",
        "    self.num1 = num1\n",
        "    self.num2 = num2\n",
        "  \n",
        "  def add(self) :\n",
        "    return self.num1 + self.num2\n",
        "  \n",
        "  def subtract(self) :\n",
        "    return self.num1 - self.num2\n",
        "  \n",
        "  def multiply(self) :\n",
        "    return self.num1 * self.num2\n",
        "  \n",
        "  def divide(self) :\n",
        "    return self.num1 / self.num2"
      ],
      "execution_count": null,
      "outputs": []
    },
    {
      "cell_type": "markdown",
      "metadata": {
        "id": "kp_y23jesWTw"
      },
      "source": [
        "###Create __Instance__ to Use Designed __Class__"
      ]
    },
    {
      "cell_type": "code",
      "metadata": {
        "id": "c2LqbVcmsTzz"
      },
      "source": [
        "num1, num2 = 10, 11"
      ],
      "execution_count": null,
      "outputs": []
    },
    {
      "cell_type": "code",
      "metadata": {
        "id": "yu3JgErLyp9r"
      },
      "source": [
        "calc = calculator(num1, num2)"
      ],
      "execution_count": null,
      "outputs": []
    },
    {
      "cell_type": "markdown",
      "metadata": {
        "id": "lMFuetuiwvFr"
      },
      "source": [
        "###Method\n",
        "\n",
        "instanceName.methodName\n",
        "\n",
        "* Example\n",
        "  * calc.add() → add method\n",
        "  * calc.subtract() → subtract method\n",
        "  * calc.mutiply() → multiply method\n",
        "  * calc.divide() → divide method"
      ]
    },
    {
      "cell_type": "code",
      "metadata": {
        "id": "ywCG15_lskMg"
      },
      "source": [
        "result = calc.add()\n",
        "result"
      ],
      "execution_count": null,
      "outputs": []
    },
    {
      "cell_type": "code",
      "metadata": {
        "id": "CEIRD7ErvqoJ"
      },
      "source": [
        "result = calc.subtract()\n",
        "result"
      ],
      "execution_count": null,
      "outputs": []
    },
    {
      "cell_type": "code",
      "metadata": {
        "id": "z31q_p2Sv0lN"
      },
      "source": [
        "result = calc.multiply()\n",
        "result"
      ],
      "execution_count": null,
      "outputs": []
    },
    {
      "cell_type": "code",
      "metadata": {
        "id": "tSbIDxaQv1DW"
      },
      "source": [
        "result = calc.divide()\n",
        "result"
      ],
      "execution_count": null,
      "outputs": []
    },
    {
      "cell_type": "markdown",
      "metadata": {
        "id": "3i-lumu25bp5"
      },
      "source": [
        "##Object Memory Allocation"
      ]
    },
    {
      "cell_type": "code",
      "metadata": {
        "id": "teZeRaZ-5YHm"
      },
      "source": [
        "calc1 = calculator(num1, num2)\n",
        "calc2 = calculator(num1, num2)"
      ],
      "execution_count": null,
      "outputs": []
    },
    {
      "cell_type": "code",
      "metadata": {
        "id": "IDtzeCnf5e25"
      },
      "source": [
        "hex(id(calc1))"
      ],
      "execution_count": null,
      "outputs": []
    },
    {
      "cell_type": "code",
      "metadata": {
        "id": "zznVV0cX5gfz"
      },
      "source": [
        "hex(id(calc2))"
      ],
      "execution_count": null,
      "outputs": []
    },
    {
      "cell_type": "markdown",
      "metadata": {
        "id": "P2MZji3wBWF-"
      },
      "source": [
        "##Example 2 - Name List Tool"
      ]
    },
    {
      "cell_type": "code",
      "metadata": {
        "id": "ABHQaz8N1MvT"
      },
      "source": [
        "class studentNameList :\n",
        "  def __init__(self) :\n",
        "    self.nameList = list()\n",
        "\n",
        "  def addName(self, name) :\n",
        "    self.nameList.append(name)\n",
        "\n",
        "  def getName(self) :\n",
        "    for name in self.nameList :\n",
        "      print(name)\n",
        "\n",
        "  def removeName(self, name) :\n",
        "    if name in self.nameList :\n",
        "      self.nameList.remove(name)\n",
        "      print(f\"{name} removed!\")\n",
        "    \n",
        "    else :\n",
        "      print(f\"{name} not in list!\")\n",
        "  \n",
        "  def getStudentNumber(self) :\n",
        "    print(len(self.nameList))"
      ],
      "execution_count": null,
      "outputs": []
    },
    {
      "cell_type": "code",
      "metadata": {
        "id": "q-pDXyzD2N_C"
      },
      "source": [
        "snl = studentNameList()"
      ],
      "execution_count": null,
      "outputs": []
    },
    {
      "cell_type": "code",
      "metadata": {
        "id": "p592cKcK22vK"
      },
      "source": [
        "snl.getName()"
      ],
      "execution_count": null,
      "outputs": []
    },
    {
      "cell_type": "code",
      "metadata": {
        "id": "Ml9w1QMq23sC"
      },
      "source": [
        "snl.getStudentNumber()"
      ],
      "execution_count": null,
      "outputs": []
    },
    {
      "cell_type": "code",
      "metadata": {
        "id": "lLYoN9Yf2Tc1"
      },
      "source": [
        "snl.addName(\"Jake\")\n",
        "snl.addName(\"Mike\")\n",
        "snl.addName(\"Julie\")\n",
        "snl.addName(\"Stacy\")"
      ],
      "execution_count": null,
      "outputs": []
    },
    {
      "cell_type": "code",
      "metadata": {
        "id": "YGX9D1uF2ZP0"
      },
      "source": [
        "snl.getName()"
      ],
      "execution_count": null,
      "outputs": []
    },
    {
      "cell_type": "code",
      "metadata": {
        "id": "XxJVOESq4ELb"
      },
      "source": [
        "snl.getStudentNumber()"
      ],
      "execution_count": null,
      "outputs": []
    },
    {
      "cell_type": "code",
      "metadata": {
        "id": "DmsNohY833xS"
      },
      "source": [
        "snl.removeName(\"Jake\")"
      ],
      "execution_count": null,
      "outputs": []
    },
    {
      "cell_type": "code",
      "metadata": {
        "id": "cm9KvS1w35e_"
      },
      "source": [
        "snl.removeName(\"Charlie\")"
      ],
      "execution_count": null,
      "outputs": []
    },
    {
      "cell_type": "code",
      "metadata": {
        "id": "TZ_JqBhY4C60"
      },
      "source": [
        "snl.getName()"
      ],
      "execution_count": null,
      "outputs": []
    },
    {
      "cell_type": "code",
      "metadata": {
        "id": "kLu4cQSK2x4s"
      },
      "source": [
        "snl.getStudentNumber()"
      ],
      "execution_count": null,
      "outputs": []
    },
    {
      "cell_type": "markdown",
      "metadata": {
        "id": "k35ZRJDW7_sx"
      },
      "source": [
        "#Object-Oriented Programming (OOP)"
      ]
    },
    {
      "cell_type": "markdown",
      "metadata": {
        "id": "1Mm8JzUdaRVB"
      },
      "source": [
        "##Polymorphism"
      ]
    },
    {
      "cell_type": "code",
      "metadata": {
        "id": "TcS-zQrbaVXS"
      },
      "source": [
        "class integerOperation :\n",
        "  def __init__(self, num1, num2) :\n",
        "    self.num1 = num1\n",
        "    self.num2 = num2\n",
        "  \n",
        "  def add(self) :\n",
        "    return self.num1 + self.num2"
      ],
      "execution_count": null,
      "outputs": []
    },
    {
      "cell_type": "code",
      "metadata": {
        "id": "dx822chAamI_"
      },
      "source": [
        "class listOperation :\n",
        "  def __init__(self, list1, list2) :\n",
        "    self.list1 = list1\n",
        "    self.list2 = list2\n",
        "\n",
        "  def add(self) :\n",
        "    listNew = list()\n",
        "    for i in range(len(self.list1)) :\n",
        "      listNew.append(self.list1[i] + self.list2[i])\n",
        "    return listNew"
      ],
      "execution_count": null,
      "outputs": []
    },
    {
      "cell_type": "code",
      "metadata": {
        "id": "TLfU6oEBa3zw"
      },
      "source": [
        "io = integerOperation(10, 11)\n",
        "io.add()"
      ],
      "execution_count": null,
      "outputs": []
    },
    {
      "cell_type": "code",
      "metadata": {
        "id": "u5NAiEbDa_Ry"
      },
      "source": [
        "lo = listOperation([1,2,3], [4,5,6])\n",
        "lo.add()"
      ],
      "execution_count": null,
      "outputs": []
    },
    {
      "cell_type": "markdown",
      "metadata": {
        "id": "y-8PwJEfbY2G"
      },
      "source": [
        "##Inheritance"
      ]
    },
    {
      "cell_type": "code",
      "metadata": {
        "id": "e01PR_C9bel2"
      },
      "source": [
        "class Polygon :\n",
        "  def __init__(self, numEdge) :\n",
        "    self.numEdge = numEdge\n",
        "    \n",
        "  def countEdge(self) :\n",
        "    print(f\"This Polygon Has {self.numEdge} Edges\")"
      ],
      "execution_count": null,
      "outputs": []
    },
    {
      "cell_type": "code",
      "metadata": {
        "id": "WwzBs9d_cIEN"
      },
      "source": [
        "class Triangle(Polygon) :\n",
        "  def __init__(self, numEdge) :\n",
        "    super(Triangle, self).__init__(numEdge)"
      ],
      "execution_count": null,
      "outputs": []
    },
    {
      "cell_type": "code",
      "metadata": {
        "id": "HNSEr-hIccY2"
      },
      "source": [
        "triangle = Triangle(3)\n",
        "triangle.countEdge()"
      ],
      "execution_count": null,
      "outputs": []
    },
    {
      "cell_type": "markdown",
      "metadata": {
        "id": "Jdui8W5rqzQb"
      },
      "source": [
        "#Module"
      ]
    },
    {
      "cell_type": "markdown",
      "metadata": {
        "id": "gBw6BHEY_W2L"
      },
      "source": [
        "![KakaoTalk_20210805_152535951.png](data:image/png;base64,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)"
      ]
    },
    {
      "cell_type": "code",
      "metadata": {
        "id": "-8U8vtYQ1v91"
      },
      "source": [
        "!pwd"
      ],
      "execution_count": null,
      "outputs": []
    },
    {
      "cell_type": "code",
      "metadata": {
        "id": "ALO7ezPs82cp"
      },
      "source": [
        "import module"
      ],
      "execution_count": null,
      "outputs": []
    },
    {
      "cell_type": "code",
      "metadata": {
        "id": "RNy1Hazs-MGx"
      },
      "source": [
        "num1, num2 = 10, 20"
      ],
      "execution_count": null,
      "outputs": []
    },
    {
      "cell_type": "code",
      "metadata": {
        "id": "Y_1-NPB--HJ0"
      },
      "source": [
        "calc = module.calculator(num1, num2)"
      ],
      "execution_count": null,
      "outputs": []
    },
    {
      "cell_type": "code",
      "metadata": {
        "id": "BL60-sSR-OzY"
      },
      "source": [
        "result = calc.add()\n",
        "result"
      ],
      "execution_count": null,
      "outputs": []
    },
    {
      "cell_type": "code",
      "metadata": {
        "id": "QnlkoWgK-RVK"
      },
      "source": [
        "result = calc.subtract()\n",
        "result"
      ],
      "execution_count": null,
      "outputs": []
    },
    {
      "cell_type": "code",
      "metadata": {
        "id": "VKR02HjN-TNR"
      },
      "source": [
        "result = calc.multiply()\n",
        "result"
      ],
      "execution_count": null,
      "outputs": []
    },
    {
      "cell_type": "code",
      "metadata": {
        "id": "eYVBZF4H-TnK"
      },
      "source": [
        "result = calc.divide()\n",
        "result"
      ],
      "execution_count": null,
      "outputs": []
    },
    {
      "cell_type": "markdown",
      "metadata": {
        "id": "NZQMtOr7Ba4v"
      },
      "source": [
        "##Example  - Python Built-In Module"
      ]
    },
    {
      "cell_type": "code",
      "metadata": {
        "id": "Uh6AepalAr7y"
      },
      "source": [
        "import math"
      ],
      "execution_count": null,
      "outputs": []
    },
    {
      "cell_type": "code",
      "metadata": {
        "id": "BK0Fx0E4Au57"
      },
      "source": [
        "type(math)"
      ],
      "execution_count": null,
      "outputs": []
    },
    {
      "cell_type": "code",
      "metadata": {
        "id": "vyvw6e4MAxod"
      },
      "source": [
        "type(math.sin)"
      ],
      "execution_count": null,
      "outputs": []
    },
    {
      "cell_type": "code",
      "metadata": {
        "id": "m3e9LCGf0tqc"
      },
      "source": [
        "math.pi"
      ],
      "execution_count": null,
      "outputs": []
    },
    {
      "cell_type": "code",
      "metadata": {
        "id": "z5Xm5Gdt0qFo"
      },
      "source": [
        "from math import *"
      ],
      "execution_count": null,
      "outputs": []
    },
    {
      "cell_type": "code",
      "metadata": {
        "id": "ce_8DE0g0sB7"
      },
      "source": [
        "pi"
      ],
      "execution_count": null,
      "outputs": []
    }
  ]
}