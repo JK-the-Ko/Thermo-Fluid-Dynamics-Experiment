{
  "nbformat": 4,
  "nbformat_minor": 0,
  "metadata": {
    "colab": {
      "provenance": [],
      "collapsed_sections": [],
      "authorship_tag": "ABX9TyNPNFFRj1IpczTioyOJYBYP",
      "include_colab_link": true
    },
    "kernelspec": {
      "name": "python3",
      "display_name": "Python 3"
    },
    "language_info": {
      "name": "python"
    },
    "accelerator": "GPU"
  },
  "cells": [
    {
      "cell_type": "markdown",
      "metadata": {
        "id": "view-in-github",
        "colab_type": "text"
      },
      "source": [
        "<a href=\"https://colab.research.google.com/github/JK-the-Ko/Thermo-Fluid-Dynamics-Experiment/blob/main/2022-2/%EC%97%B4%EC%9C%A0%EC%B2%B4%EA%B3%B5%ED%95%99%EC%8B%A4%ED%97%98_Week_6.ipynb\" target=\"_parent\"><img src=\"https://colab.research.google.com/assets/colab-badge.svg\" alt=\"Open In Colab\"/></a>"
      ]
    },
    {
      "cell_type": "markdown",
      "source": [
        "# CuPy"
      ],
      "metadata": {
        "id": "aCNynoKAfnPl"
      }
    },
    {
      "cell_type": "markdown",
      "source": [
        "#### Import Library"
      ],
      "metadata": {
        "id": "wJiJkX_Mmi6B"
      }
    },
    {
      "cell_type": "code",
      "execution_count": 1,
      "metadata": {
        "id": "8s7P9Cxmfcpf"
      },
      "outputs": [],
      "source": [
        "import cupy as cp\n",
        "import numpy as np"
      ]
    },
    {
      "cell_type": "markdown",
      "source": [
        "#### Check CuPy Library Version"
      ],
      "metadata": {
        "id": "BUQ7lXhjmmVA"
      }
    },
    {
      "cell_type": "code",
      "source": [
        "cp.__version__"
      ],
      "metadata": {
        "id": "Ezzzh5sTnDk8"
      },
      "execution_count": null,
      "outputs": []
    },
    {
      "cell_type": "markdown",
      "source": [
        "## Check GPU Device"
      ],
      "metadata": {
        "id": "YlUxCVUvgb_O"
      }
    },
    {
      "cell_type": "code",
      "source": [
        "!nvidia-smi"
      ],
      "metadata": {
        "id": "jlxklOzkge1Z"
      },
      "execution_count": null,
      "outputs": []
    },
    {
      "cell_type": "code",
      "source": [
        "device = cp.cuda.Device(0)"
      ],
      "metadata": {
        "id": "go3nhcAsguJE"
      },
      "execution_count": 4,
      "outputs": []
    },
    {
      "cell_type": "markdown",
      "source": [
        "### GPU ID"
      ],
      "metadata": {
        "id": "qGBm68kohLrh"
      }
    },
    {
      "cell_type": "code",
      "source": [
        "device.id"
      ],
      "metadata": {
        "id": "No7SRug2gxmt"
      },
      "execution_count": null,
      "outputs": []
    },
    {
      "cell_type": "markdown",
      "source": [
        "### GPU Memory Info\n",
        "\n"
      ],
      "metadata": {
        "id": "osy6HqZnhNaq"
      }
    },
    {
      "cell_type": "code",
      "source": [
        "device.mem_info"
      ],
      "metadata": {
        "id": "sD9JK81shSOo"
      },
      "execution_count": null,
      "outputs": []
    },
    {
      "cell_type": "markdown",
      "source": [
        "## Cupy Array Instantiation"
      ],
      "metadata": {
        "id": "aiBJ0WUyn520"
      }
    },
    {
      "cell_type": "markdown",
      "source": [
        "### With NumPy Array"
      ],
      "metadata": {
        "id": "hy73Lwvxn8fD"
      }
    },
    {
      "cell_type": "code",
      "source": [
        "np.random.seed(0)"
      ],
      "metadata": {
        "id": "PxIMLBTvn-jN"
      },
      "execution_count": 7,
      "outputs": []
    },
    {
      "cell_type": "code",
      "source": [
        "npArray = np.random.randn(3, 3, 3)\n",
        "npArray"
      ],
      "metadata": {
        "id": "9RmOz7GzoByu"
      },
      "execution_count": null,
      "outputs": []
    },
    {
      "cell_type": "code",
      "source": [
        "cpArray = cp.array(npArray)\n",
        "cpArray"
      ],
      "metadata": {
        "id": "n3Xbq5SAoFe6"
      },
      "execution_count": null,
      "outputs": []
    },
    {
      "cell_type": "code",
      "source": [
        "cpArray.device"
      ],
      "metadata": {
        "id": "KDOkYUS-oXzt"
      },
      "execution_count": null,
      "outputs": []
    },
    {
      "cell_type": "markdown",
      "source": [
        "### With CuPy Class"
      ],
      "metadata": {
        "id": "3XyNC2ChoTRw"
      }
    },
    {
      "cell_type": "code",
      "source": [
        "cpArray = cp.ones((3, 3, 3))\n",
        "cpArray"
      ],
      "metadata": {
        "id": "q0MSKoiWoXex"
      },
      "execution_count": null,
      "outputs": []
    },
    {
      "cell_type": "code",
      "source": [
        "cpArray.device"
      ],
      "metadata": {
        "id": "14LRY851ocLP"
      },
      "execution_count": null,
      "outputs": []
    },
    {
      "cell_type": "markdown",
      "source": [
        "## Cupy Array Method"
      ],
      "metadata": {
        "id": "JVu34abqo8Tc"
      }
    },
    {
      "cell_type": "code",
      "source": [
        "cpArray = cp.array(np.random.randn(5, 5))\n",
        "cpArray"
      ],
      "metadata": {
        "id": "dRnSDsl3pJgu"
      },
      "execution_count": null,
      "outputs": []
    },
    {
      "cell_type": "markdown",
      "source": [
        "### Flatten Method"
      ],
      "metadata": {
        "id": "S1L1DCSMmUOB"
      }
    },
    {
      "cell_type": "code",
      "source": [
        "print(cpArray.flatten())\n",
        "print(f\"Array Shape : {cpArray.flatten().shape}\")"
      ],
      "metadata": {
        "id": "ZTMtPM-mpQfS"
      },
      "execution_count": null,
      "outputs": []
    },
    {
      "cell_type": "markdown",
      "source": [
        "### Statistic Method"
      ],
      "metadata": {
        "id": "X8XQE9eHmWyT"
      }
    },
    {
      "cell_type": "code",
      "source": [
        "print(cpArray.max())\n",
        "print(type(cpArray.max()))"
      ],
      "metadata": {
        "id": "NcdrWDWjpfwx"
      },
      "execution_count": null,
      "outputs": []
    },
    {
      "cell_type": "code",
      "source": [
        "print(cpArray.mean())\n",
        "print(cpArray.mean().device)"
      ],
      "metadata": {
        "id": "xvX6TkP5pqTn"
      },
      "execution_count": null,
      "outputs": []
    },
    {
      "cell_type": "markdown",
      "source": [
        "### Copy Method"
      ],
      "metadata": {
        "id": "MA204peDmYbF"
      }
    },
    {
      "cell_type": "code",
      "source": [
        "cpArray1 = cpArray\n",
        "cpArray2 = cpArray.copy()\n",
        "print(f\"Array Memory : {hex(id(cpArray))}\")\n",
        "print(f\"Array1 Memory : {hex(id(cpArray1))}\")\n",
        "print(f\"Array2 Memory : {hex(id(cpArray2))}\")"
      ],
      "metadata": {
        "id": "eX4fu0NXp_A_"
      },
      "execution_count": null,
      "outputs": []
    },
    {
      "cell_type": "markdown",
      "source": [
        "#### Reshape Method"
      ],
      "metadata": {
        "id": "LgyHrnQLmbaO"
      }
    },
    {
      "cell_type": "code",
      "source": [
        "print(cpArray.reshape(1, 25))\n",
        "print(cpArray.reshape(1, 25).shape)"
      ],
      "metadata": {
        "id": "3Szg6lENqwp-"
      },
      "execution_count": null,
      "outputs": []
    },
    {
      "cell_type": "markdown",
      "source": [
        "### Sort Method"
      ],
      "metadata": {
        "id": "da6tKuCumcgP"
      }
    },
    {
      "cell_type": "code",
      "source": [
        "cpArray.sort()\n",
        "cpArray"
      ],
      "metadata": {
        "id": "DESxg7Fxq8Pk"
      },
      "execution_count": null,
      "outputs": []
    },
    {
      "cell_type": "markdown",
      "source": [
        "### Get Method"
      ],
      "metadata": {
        "id": "zYUu-6dTmduy"
      }
    },
    {
      "cell_type": "code",
      "source": [
        "print(cpArray.get())\n",
        "type(cpArray.get())"
      ],
      "metadata": {
        "id": "OFwpMSehmMOM"
      },
      "execution_count": null,
      "outputs": []
    },
    {
      "cell_type": "markdown",
      "source": [
        "## CuPy Operation with Difference Device"
      ],
      "metadata": {
        "id": "DPQ0a7a5rM7I"
      }
    },
    {
      "cell_type": "markdown",
      "source": [
        "### NumPy + CuPy Combination"
      ],
      "metadata": {
        "id": "pI8fslEqrQHP"
      }
    },
    {
      "cell_type": "code",
      "source": [
        "npArray = np.ones((5, 5))\n",
        "cpArray = cp.ones((5, 5))"
      ],
      "metadata": {
        "id": "gHKYeTSNrVTr"
      },
      "execution_count": 21,
      "outputs": []
    },
    {
      "cell_type": "code",
      "source": [
        "npArray + cpArray"
      ],
      "metadata": {
        "id": "IyoXhOMcra2D"
      },
      "execution_count": null,
      "outputs": []
    },
    {
      "cell_type": "markdown",
      "source": [
        "## NumPy vs. CuPy"
      ],
      "metadata": {
        "id": "e50Dx_pCiO9x"
      }
    },
    {
      "cell_type": "markdown",
      "source": [
        "### 10 x 10 Array"
      ],
      "metadata": {
        "id": "-RXKlo61lXTU"
      }
    },
    {
      "cell_type": "code",
      "source": [
        "array1, array2 = np.random.randn(10, 10), np.random.randn(10, 10)"
      ],
      "metadata": {
        "id": "HUKxst6Rr0So"
      },
      "execution_count": 153,
      "outputs": []
    },
    {
      "cell_type": "code",
      "source": [
        "cpArray1, cpArray2 = cp.array(array1), cp.array(array2)"
      ],
      "metadata": {
        "id": "J3T0LvTyj3_6"
      },
      "execution_count": 154,
      "outputs": []
    },
    {
      "cell_type": "markdown",
      "source": [
        "#### Matrices Summation "
      ],
      "metadata": {
        "id": "It316D75rwms"
      }
    },
    {
      "cell_type": "code",
      "source": [
        "%timeit array1 + array2"
      ],
      "metadata": {
        "id": "8gOKeYnnr0Sp"
      },
      "execution_count": null,
      "outputs": []
    },
    {
      "cell_type": "code",
      "source": [
        "%timeit cpArray1 + cpArray2"
      ],
      "metadata": {
        "id": "ZMyXnwYHr0Sp"
      },
      "execution_count": null,
      "outputs": []
    },
    {
      "cell_type": "markdown",
      "source": [
        "#### Matrices Multiplication"
      ],
      "metadata": {
        "id": "AzIoZjS8ryZO"
      }
    },
    {
      "cell_type": "code",
      "source": [
        "%timeit np.matmul(array1, array2)"
      ],
      "metadata": {
        "id": "_IR3qE7kljOw"
      },
      "execution_count": null,
      "outputs": []
    },
    {
      "cell_type": "code",
      "source": [
        "%timeit cp.matmul(cpArray1, cpArray2)"
      ],
      "metadata": {
        "id": "pyhv1Js-ljOw"
      },
      "execution_count": null,
      "outputs": []
    },
    {
      "cell_type": "markdown",
      "source": [
        "### 500 x 500 Array"
      ],
      "metadata": {
        "id": "WYbtbgP6lU19"
      }
    },
    {
      "cell_type": "code",
      "source": [
        "array1, array2 = np.random.randn(500, 500), np.random.randn(500, 500)"
      ],
      "metadata": {
        "id": "Ap-5APoqh7Z7"
      },
      "execution_count": 29,
      "outputs": []
    },
    {
      "cell_type": "code",
      "source": [
        "cpArray1, cpArray2 = cp.array(array1), cp.array(array2)"
      ],
      "metadata": {
        "id": "ZTJ4390fks8k"
      },
      "execution_count": 30,
      "outputs": []
    },
    {
      "cell_type": "markdown",
      "source": [
        "#### Matrices Summation "
      ],
      "metadata": {
        "id": "19VDq-AtsQNQ"
      }
    },
    {
      "cell_type": "code",
      "source": [
        "%timeit array1 + array2"
      ],
      "metadata": {
        "id": "h-HKYUqHsQNY"
      },
      "execution_count": null,
      "outputs": []
    },
    {
      "cell_type": "code",
      "source": [
        "%timeit cpArray1 + cpArray2"
      ],
      "metadata": {
        "id": "USXWulKOsQNY"
      },
      "execution_count": null,
      "outputs": []
    },
    {
      "cell_type": "markdown",
      "source": [
        "#### Matrices Multiplication"
      ],
      "metadata": {
        "id": "cVfBSY3qsQNY"
      }
    },
    {
      "cell_type": "code",
      "source": [
        "%timeit np.matmul(array1, array2)"
      ],
      "metadata": {
        "id": "JNytG7m1sQNZ"
      },
      "execution_count": null,
      "outputs": []
    },
    {
      "cell_type": "code",
      "source": [
        "%timeit cp.matmul(cpArray1, cpArray2)"
      ],
      "metadata": {
        "id": "EeXBz6P5sQNZ"
      },
      "execution_count": null,
      "outputs": []
    },
    {
      "cell_type": "markdown",
      "source": [
        "## CuPy 실습"
      ],
      "metadata": {
        "id": "A_45dBgQqecN"
      }
    },
    {
      "cell_type": "markdown",
      "source": [
        "### 1-D Analog Signal의 노이즈를 제거해주는 Moving Average Filter를 NumPy 및 CuPy로 제작하세요."
      ],
      "metadata": {
        "id": "FqcR53RTESNk"
      }
    },
    {
      "cell_type": "markdown",
      "source": [
        "![image.png](data:image/png;base64,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)"
      ],
      "metadata": {
        "id": "VQ1K8pwuEe7P"
      }
    },
    {
      "cell_type": "markdown",
      "source": [
        "#### Generated Noisy Signal"
      ],
      "metadata": {
        "id": "jMW1cxGqIS9I"
      }
    },
    {
      "cell_type": "markdown",
      "source": [
        "##### Gaussian Noise with 1 Mean and 0.3 Standard Deviation"
      ],
      "metadata": {
        "id": "ArovhiajIcK7"
      }
    },
    {
      "cell_type": "code",
      "source": [
        "x = np.arange(0, 8 * np.pi, 0.01)\n",
        "y = np.sin(x) + 0.09 * np.random.randn(x.shape[0])"
      ],
      "metadata": {
        "id": "mb35ZkNNEYjh"
      },
      "execution_count": 100,
      "outputs": []
    },
    {
      "cell_type": "markdown",
      "source": [
        "#### Plot Graph"
      ],
      "metadata": {
        "id": "JEAnP7nyIg_z"
      }
    },
    {
      "cell_type": "code",
      "source": [
        "import matplotlib.pyplot as plt"
      ],
      "metadata": {
        "id": "fhre2EcWEjO3"
      },
      "execution_count": 101,
      "outputs": []
    },
    {
      "cell_type": "code",
      "source": [
        "plt.plot(x, y)\n",
        "plt.xlabel(\"x\")\n",
        "plt.ylabel(\"f(x)\")\n",
        "plt.title(\"Original Signal\")\n",
        "plt.show()"
      ],
      "metadata": {
        "id": "FHbXZl6cFMeF"
      },
      "execution_count": null,
      "outputs": []
    },
    {
      "cell_type": "markdown",
      "source": [
        "#### NumPy Implementation"
      ],
      "metadata": {
        "id": "NDJCUPQxKGkT"
      }
    },
    {
      "cell_type": "markdown",
      "source": [
        "##### Design Moving Average Filter (MAF) with Step Size of 3\n"
      ],
      "metadata": {
        "id": "_ipUFZhYIjP5"
      }
    },
    {
      "cell_type": "code",
      "source": [
        "def movingAverageFilter(inputSignal: np.array) :\n",
        "  outputSignal = inputSignal.copy()\n",
        "\n",
        "  for i in range(len(inputSignal)) :\n",
        "    if i == 0 :\n",
        "      outputSignal[i] = outputSignal[i]\n",
        "    elif i == 1 :\n",
        "      outputSignal[i] = (outputSignal[i] + outputSignal[i-1]) / 2\n",
        "    else :\n",
        "      outputSignal[i] = (outputSignal[i] + outputSignal[i-1] + outputSignal[i-2]) / 3\n",
        "    \n",
        "  return outputSignal"
      ],
      "metadata": {
        "id": "lcq8RcDyFPO5"
      },
      "execution_count": 103,
      "outputs": []
    },
    {
      "cell_type": "markdown",
      "source": [
        "##### Apply MAF"
      ],
      "metadata": {
        "id": "qMA3CWweIw0s"
      }
    },
    {
      "cell_type": "code",
      "source": [
        "yProcessed = movingAverageFilter(y)"
      ],
      "metadata": {
        "id": "7xtVyZk0IACJ"
      },
      "execution_count": 104,
      "outputs": []
    },
    {
      "cell_type": "code",
      "source": [
        "print(f\"Memory Address : {hex(id(y))}\")\n",
        "print(f\"Memory Address : {hex(id(yProcessed))}\")"
      ],
      "metadata": {
        "id": "oZ4eg414J2UN"
      },
      "execution_count": null,
      "outputs": []
    },
    {
      "cell_type": "markdown",
      "source": [
        "##### Plot Graph"
      ],
      "metadata": {
        "id": "ldc3hBgmIyIq"
      }
    },
    {
      "cell_type": "code",
      "source": [
        "plt.plot(x, yProcessed)\n",
        "plt.xlabel(\"x\")\n",
        "plt.ylabel(\"f(x)\")\n",
        "plt.title(\"Denoised Signal\")\n",
        "plt.show()"
      ],
      "metadata": {
        "id": "gs2FIlzxIEtU"
      },
      "execution_count": null,
      "outputs": []
    },
    {
      "cell_type": "markdown",
      "source": [
        "##### Compare Result"
      ],
      "metadata": {
        "id": "HljQHteCIzh_"
      }
    },
    {
      "cell_type": "code",
      "source": [
        "plt.plot(x, y, label = \"original\")\n",
        "plt.plot(x, yProcessed, label = \"denoised\")\n",
        "plt.xlabel(\"x\")\n",
        "plt.ylabel(\"f(x)\")\n",
        "plt.title(\"Result Comparison\")\n",
        "plt.legend(loc = \"best\")\n",
        "plt.show()"
      ],
      "metadata": {
        "id": "ilrF-TLVIOoQ"
      },
      "execution_count": null,
      "outputs": []
    },
    {
      "cell_type": "markdown",
      "source": [
        "#### CuPy Implementation"
      ],
      "metadata": {
        "id": "BNwvQ4tNSWy2"
      }
    },
    {
      "cell_type": "markdown",
      "source": [
        "##### Design Moving Average Filter (MAF) with Step Size of 3\n"
      ],
      "metadata": {
        "id": "dMWbBwofSWy9"
      }
    },
    {
      "cell_type": "code",
      "source": [
        "def movingAverageFilter(inputSignal: cp.array) :\n",
        "  outputSignal = inputSignal.copy()\n",
        "\n",
        "  for i in range(len(inputSignal)) :\n",
        "    if i == 0 :\n",
        "      outputSignal[i] = outputSignal[i]\n",
        "    elif i == 1 :\n",
        "      outputSignal[i] = (outputSignal[i] + outputSignal[i-1]) / 2\n",
        "    else :\n",
        "      outputSignal[i] = (outputSignal[i] + outputSignal[i-1] + outputSignal[i-2]) / 3\n",
        "    \n",
        "  return outputSignal"
      ],
      "metadata": {
        "id": "SR8SMEgiSWy9"
      },
      "execution_count": 109,
      "outputs": []
    },
    {
      "cell_type": "markdown",
      "source": [
        "##### Apply MAF"
      ],
      "metadata": {
        "id": "bafSJBq5SWy9"
      }
    },
    {
      "cell_type": "code",
      "source": [
        "y = cp.array(y)"
      ],
      "metadata": {
        "id": "P3Pj12N9ShJJ"
      },
      "execution_count": 110,
      "outputs": []
    },
    {
      "cell_type": "code",
      "source": [
        "yProcessed = movingAverageFilter(y)"
      ],
      "metadata": {
        "id": "hXhf69OPSWy9"
      },
      "execution_count": 111,
      "outputs": []
    },
    {
      "cell_type": "code",
      "source": [
        "print(f\"Memory Address : {hex(id(y))}\")\n",
        "print(f\"Memory Address : {hex(id(yProcessed))}\")"
      ],
      "metadata": {
        "id": "eRnRLZkfSWy9"
      },
      "execution_count": null,
      "outputs": []
    },
    {
      "cell_type": "markdown",
      "source": [
        "##### Plot Graph"
      ],
      "metadata": {
        "id": "Lxx7odhdSWy9"
      }
    },
    {
      "cell_type": "code",
      "source": [
        "# Code Block"
      ],
      "metadata": {
        "id": "FdO3LaeGSWy-"
      },
      "execution_count": null,
      "outputs": []
    },
    {
      "cell_type": "markdown",
      "source": [
        "##### Compare Result"
      ],
      "metadata": {
        "id": "zCvoiF1JSWy-"
      }
    },
    {
      "cell_type": "code",
      "source": [
        "# Code Block"
      ],
      "metadata": {
        "id": "HQmjiT4rSWy-"
      },
      "execution_count": null,
      "outputs": []
    }
  ]
}