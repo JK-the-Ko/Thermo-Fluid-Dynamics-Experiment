{
  "cells": [
    {
      "cell_type": "markdown",
      "metadata": {
        "colab_type": "text",
        "id": "view-in-github"
      },
      "source": [
        "<a href=\"https://colab.research.google.com/github/JK-the-Ko/Thermo_Fluid_Dynamics_Experiment/blob/main/2022_2/%EC%97%B4%EC%9C%A0%EC%B2%B4%EA%B3%B5%ED%95%99%EC%8B%A4%ED%97%98_Week_2.ipynb\" target=\"_parent\"><img src=\"https://colab.research.google.com/assets/colab-badge.svg\" alt=\"Open In Colab\"/></a>"
      ]
    },
    {
      "cell_type": "markdown",
      "metadata": {
        "id": "dSjpH68JBS_y"
      },
      "source": [
        "# 주석"
      ]
    },
    {
      "cell_type": "code",
      "execution_count": null,
      "metadata": {
        "id": "0GBUNspkBWGE"
      },
      "outputs": [],
      "source": [
        "# This is Comment"
      ]
    },
    {
      "cell_type": "code",
      "execution_count": null,
      "metadata": {
        "id": "6YbsUxPW1e7j"
      },
      "outputs": [],
      "source": [
        "# Hello World!"
      ]
    },
    {
      "cell_type": "markdown",
      "metadata": {
        "id": "9F6zPz4HBZeo"
      },
      "source": [
        "# 변수 출력 (쥬피터 노트북)\n",
        "\n"
      ]
    },
    {
      "cell_type": "code",
      "execution_count": null,
      "metadata": {
        "id": "sJ704S2kBcmP"
      },
      "outputs": [],
      "source": [
        "\"Hello World\""
      ]
    },
    {
      "cell_type": "code",
      "execution_count": null,
      "metadata": {
        "id": "SMMWbuY-Beps"
      },
      "outputs": [],
      "source": [
        "print(\"Hello World\")"
      ]
    },
    {
      "cell_type": "code",
      "execution_count": null,
      "metadata": {
        "id": "SZa-cU9tXwbV"
      },
      "outputs": [],
      "source": [
        "print(\"Hello World\" * 3)"
      ]
    },
    {
      "cell_type": "markdown",
      "metadata": {
        "id": "GR33jM3KTNJ1"
      },
      "source": [
        "# 메모리 할당"
      ]
    },
    {
      "cell_type": "code",
      "execution_count": null,
      "metadata": {
        "id": "eOhnVMTWTPMp"
      },
      "outputs": [],
      "source": [
        "num1 = 10"
      ]
    },
    {
      "cell_type": "code",
      "execution_count": null,
      "metadata": {
        "id": "uNOUCIerTRAo"
      },
      "outputs": [],
      "source": [
        "num2 = num1"
      ]
    },
    {
      "cell_type": "code",
      "execution_count": null,
      "metadata": {
        "id": "teroeg5jTSqQ"
      },
      "outputs": [],
      "source": [
        "print(num1, num2)"
      ]
    },
    {
      "cell_type": "code",
      "execution_count": null,
      "metadata": {
        "id": "qy7M0SPBTV1w"
      },
      "outputs": [],
      "source": [
        "print(hex(id(num1)), hex(id(num2)))"
      ]
    },
    {
      "cell_type": "code",
      "execution_count": null,
      "metadata": {
        "id": "d4SiCSrXTft9"
      },
      "outputs": [],
      "source": [
        "num1 = 20"
      ]
    },
    {
      "cell_type": "code",
      "execution_count": null,
      "metadata": {
        "id": "oIpV0d2jTl_S"
      },
      "outputs": [],
      "source": [
        "print(hex(id(num1)), hex(id(num2)))"
      ]
    },
    {
      "cell_type": "markdown",
      "metadata": {
        "id": "VU25GwtsjpL3"
      },
      "source": [
        "# 데이터 타입"
      ]
    },
    {
      "cell_type": "markdown",
      "metadata": {
        "id": "ZW3l6__Q2x7i"
      },
      "source": [
        "## 불리언 (Boolean)"
      ]
    },
    {
      "cell_type": "code",
      "execution_count": null,
      "metadata": {
        "id": "d_Fy3jxEaW6p"
      },
      "outputs": [],
      "source": [
        "boolean1 = True\n",
        "boolean1"
      ]
    },
    {
      "cell_type": "code",
      "execution_count": null,
      "metadata": {
        "id": "ytnk2If-hLTd"
      },
      "outputs": [],
      "source": [
        "type(boolean1)"
      ]
    },
    {
      "cell_type": "code",
      "execution_count": null,
      "metadata": {
        "id": "Tvzi2N26hUou"
      },
      "outputs": [],
      "source": [
        "boolean2 = False\n",
        "boolean2"
      ]
    },
    {
      "cell_type": "code",
      "execution_count": null,
      "metadata": {
        "id": "IW00ZITHhV60"
      },
      "outputs": [],
      "source": [
        "type(boolean2)"
      ]
    },
    {
      "cell_type": "code",
      "execution_count": null,
      "metadata": {
        "id": "1TVkpci_hXYX"
      },
      "outputs": [],
      "source": [
        "boolean1 + boolean2"
      ]
    },
    {
      "cell_type": "code",
      "execution_count": null,
      "metadata": {
        "id": "nAQna56WhaZI"
      },
      "outputs": [],
      "source": [
        "boolean1 * boolean2"
      ]
    },
    {
      "cell_type": "code",
      "execution_count": null,
      "metadata": {
        "id": "812gnos4hhnk"
      },
      "outputs": [],
      "source": [
        "print(100 > 10)"
      ]
    },
    {
      "cell_type": "code",
      "execution_count": null,
      "metadata": {
        "id": "i75Pd2k_hdd0"
      },
      "outputs": [],
      "source": [
        "print(100 < 10)"
      ]
    },
    {
      "cell_type": "markdown",
      "metadata": {
        "id": "ecc__Rf3jxTz"
      },
      "source": [
        "## 정수형 (Integer)"
      ]
    },
    {
      "cell_type": "code",
      "execution_count": null,
      "metadata": {
        "id": "wyGSrarbjsCx"
      },
      "outputs": [],
      "source": [
        "int1 = 10\n",
        "int2 = 20"
      ]
    },
    {
      "cell_type": "code",
      "execution_count": null,
      "metadata": {
        "id": "LVwQ10NQj8lx"
      },
      "outputs": [],
      "source": [
        "int3 = int1 + int2\n",
        "int4 = int2 - int1"
      ]
    },
    {
      "cell_type": "code",
      "execution_count": null,
      "metadata": {
        "id": "kNWJMCdNj-ZC"
      },
      "outputs": [],
      "source": [
        "int3"
      ]
    },
    {
      "cell_type": "code",
      "execution_count": null,
      "metadata": {
        "id": "txA_HiYLj_60"
      },
      "outputs": [],
      "source": [
        "int4"
      ]
    },
    {
      "cell_type": "markdown",
      "metadata": {
        "id": "jE4QjWLMkKtT"
      },
      "source": [
        "## 부동소수형 (Float)"
      ]
    },
    {
      "cell_type": "code",
      "execution_count": null,
      "metadata": {
        "id": "5OlLvSoHkD4J"
      },
      "outputs": [],
      "source": [
        "float1, float2 = 1.5, 2.5"
      ]
    },
    {
      "cell_type": "code",
      "execution_count": null,
      "metadata": {
        "id": "QzKkT7bxkh7E"
      },
      "outputs": [],
      "source": [
        "float3 = float1 + float2\n",
        "float4 = float2 - float1"
      ]
    },
    {
      "cell_type": "code",
      "execution_count": null,
      "metadata": {
        "id": "HMGQxloGkmHv"
      },
      "outputs": [],
      "source": [
        "float3"
      ]
    },
    {
      "cell_type": "code",
      "execution_count": null,
      "metadata": {
        "id": "xwtqQ-iukm7-"
      },
      "outputs": [],
      "source": [
        "float4"
      ]
    },
    {
      "cell_type": "code",
      "execution_count": null,
      "metadata": {
        "id": "GVx01Virknwg"
      },
      "outputs": [],
      "source": [
        "type(int2 / int1)"
      ]
    },
    {
      "cell_type": "code",
      "execution_count": null,
      "metadata": {
        "id": "kfJLatT7kqjW"
      },
      "outputs": [],
      "source": [
        "type(int1 * int2)"
      ]
    },
    {
      "cell_type": "markdown",
      "metadata": {
        "id": "gGo93g4QlR7C"
      },
      "source": [
        "### Python 연산자"
      ]
    },
    {
      "cell_type": "code",
      "execution_count": null,
      "metadata": {
        "id": "bDLhoCnNkvmr"
      },
      "outputs": [],
      "source": [
        "num1, num2 = 11, 12"
      ]
    },
    {
      "cell_type": "code",
      "execution_count": null,
      "metadata": {
        "id": "DhA0eln5lrQn"
      },
      "outputs": [],
      "source": [
        "num1 + num2 "
      ]
    },
    {
      "cell_type": "code",
      "execution_count": null,
      "metadata": {
        "id": "_fOcyLrklsmW"
      },
      "outputs": [],
      "source": [
        "num1 - num2"
      ]
    },
    {
      "cell_type": "code",
      "execution_count": null,
      "metadata": {
        "id": "wB_Pr8kkltmY"
      },
      "outputs": [],
      "source": [
        "num1 * num2"
      ]
    },
    {
      "cell_type": "code",
      "execution_count": null,
      "metadata": {
        "id": "2L2LVIBBlu1Q"
      },
      "outputs": [],
      "source": [
        "num1 / num2"
      ]
    },
    {
      "cell_type": "code",
      "execution_count": null,
      "metadata": {
        "id": "2KY8iRBHlxv4"
      },
      "outputs": [],
      "source": [
        "num1 // num2"
      ]
    },
    {
      "cell_type": "code",
      "execution_count": null,
      "metadata": {
        "id": "bwMBbIEol3Ba"
      },
      "outputs": [],
      "source": [
        "num2 // num1"
      ]
    },
    {
      "cell_type": "code",
      "execution_count": null,
      "metadata": {
        "id": "3g2Rwi11lyt-"
      },
      "outputs": [],
      "source": [
        "num1 % num2"
      ]
    },
    {
      "cell_type": "code",
      "execution_count": null,
      "metadata": {
        "id": "T1GUnrxql0os"
      },
      "outputs": [],
      "source": [
        "num2 % num1"
      ]
    },
    {
      "cell_type": "code",
      "execution_count": null,
      "metadata": {
        "id": "sox3_FssyL7P"
      },
      "outputs": [],
      "source": [
        "num1 ** num2"
      ]
    },
    {
      "cell_type": "markdown",
      "metadata": {
        "id": "boChVYMLnaEV"
      },
      "source": [
        "### 복합연산자"
      ]
    },
    {
      "cell_type": "code",
      "execution_count": null,
      "metadata": {
        "id": "OGifSgFmnc63"
      },
      "outputs": [],
      "source": [
        "num1"
      ]
    },
    {
      "cell_type": "code",
      "execution_count": null,
      "metadata": {
        "id": "TsgchuV2nZ2N"
      },
      "outputs": [],
      "source": [
        "num1 += 1\n",
        "num1"
      ]
    },
    {
      "cell_type": "code",
      "execution_count": null,
      "metadata": {
        "id": "O71lK6H-nj8V"
      },
      "outputs": [],
      "source": [
        "num1 -= 1\n",
        "num1"
      ]
    },
    {
      "cell_type": "code",
      "execution_count": null,
      "metadata": {
        "id": "8wWe4fXCnlse"
      },
      "outputs": [],
      "source": [
        "num1 *= 11\n",
        "num1"
      ]
    },
    {
      "cell_type": "code",
      "execution_count": null,
      "metadata": {
        "id": "Yk82rd08nn4q"
      },
      "outputs": [],
      "source": [
        "num1 /= 11\n",
        "num1"
      ]
    },
    {
      "cell_type": "markdown",
      "metadata": {
        "id": "YM1yRHRFmNfR"
      },
      "source": [
        "## 문자열 (String)"
      ]
    },
    {
      "cell_type": "code",
      "execution_count": null,
      "metadata": {
        "id": "nTpbw_LgmOQ-"
      },
      "outputs": [],
      "source": [
        "string1 = \"Hello World!\""
      ]
    },
    {
      "cell_type": "code",
      "execution_count": null,
      "metadata": {
        "id": "QTI8Szb5l5bk"
      },
      "outputs": [],
      "source": [
        "string1"
      ]
    },
    {
      "cell_type": "code",
      "execution_count": null,
      "metadata": {
        "id": "CaIGFLRAmX27"
      },
      "outputs": [],
      "source": [
        "string1 = string1 + \" \" + \"Goodbye World!\""
      ]
    },
    {
      "cell_type": "code",
      "execution_count": null,
      "metadata": {
        "id": "LxnT8wQhmwcM"
      },
      "outputs": [],
      "source": [
        "string1"
      ]
    },
    {
      "cell_type": "markdown",
      "metadata": {
        "id": "a7U1dWqPOoGv"
      },
      "source": [
        "### 문자열 메쏘드"
      ]
    },
    {
      "cell_type": "code",
      "execution_count": null,
      "metadata": {
        "id": "64Rkgtf0Otni"
      },
      "outputs": [],
      "source": [
        "num = \"10,11,12,13,14,15\""
      ]
    },
    {
      "cell_type": "code",
      "execution_count": null,
      "metadata": {
        "id": "JFWq2hOKOw7H"
      },
      "outputs": [],
      "source": [
        "num.split(\",\")"
      ]
    },
    {
      "cell_type": "code",
      "execution_count": null,
      "metadata": {
        "id": "ieBozyicO4NO"
      },
      "outputs": [],
      "source": [
        "numList = list()\n",
        "localNum = \"\"\n",
        "\n",
        "for i in num :\n",
        "  if i == \",\" :\n",
        "    numList.append(localNum)\n",
        "    localNum = \"\"\n",
        "  else :\n",
        "    localNum += i\n",
        "numList.append(localNum)"
      ]
    },
    {
      "cell_type": "code",
      "execution_count": null,
      "metadata": {
        "id": "uqYubWscO7U8"
      },
      "outputs": [],
      "source": [
        "numList"
      ]
    },
    {
      "cell_type": "markdown",
      "metadata": {
        "id": "f_pi834Wm7Mx"
      },
      "source": [
        "# 포매팅 타입\n"
      ]
    },
    {
      "cell_type": "code",
      "execution_count": null,
      "metadata": {
        "id": "_RTlXm7pm1k3"
      },
      "outputs": [],
      "source": [
        "print(string1)"
      ]
    },
    {
      "cell_type": "markdown",
      "metadata": {
        "id": "oiErxdEn6mPo"
      },
      "source": [
        "**Python 3버전에서만 지원**"
      ]
    },
    {
      "cell_type": "code",
      "execution_count": null,
      "metadata": {
        "id": "aPe-nAXHnB-O"
      },
      "outputs": [],
      "source": [
        "print(f\"They said {string1}\")"
      ]
    },
    {
      "cell_type": "code",
      "execution_count": null,
      "metadata": {
        "id": "fBT8A0dhnIc7"
      },
      "outputs": [],
      "source": [
        "print(f\"Answer: {num1 + num2}\")"
      ]
    },
    {
      "cell_type": "code",
      "execution_count": null,
      "metadata": {
        "id": "xyWj36IpnNRS"
      },
      "outputs": [],
      "source": [
        "print(f\"Answer: {num1 / num2}\")"
      ]
    },
    {
      "cell_type": "code",
      "execution_count": null,
      "metadata": {
        "id": "LXD0XKH-ntuT"
      },
      "outputs": [],
      "source": [
        "print(f\"Answer: {num1 / num2:.4f}\")"
      ]
    },
    {
      "cell_type": "markdown",
      "metadata": {
        "id": "g7C7-vqs2Y79"
      },
      "source": [
        "# 조건문"
      ]
    },
    {
      "cell_type": "code",
      "execution_count": null,
      "metadata": {
        "id": "rIyh4l02ugj1"
      },
      "outputs": [],
      "source": [
        "grade = \"A\"\n",
        "\n",
        "if grade == \"F\" :\n",
        "  print(\"F\")\n",
        "\n",
        "elif grade == \"D\" :\n",
        "  print(\"D\")\n",
        "\n",
        "elif grade == \"C\" :\n",
        "  print(\"C\")\n",
        "\n",
        "elif grade == \"B\" :\n",
        "  print(\"B\")\n",
        "\n",
        "elif grade == \"A\" :\n",
        "  print(\"A\")"
      ]
    },
    {
      "cell_type": "code",
      "execution_count": null,
      "metadata": {
        "id": "Tv9OrzIovJVY"
      },
      "outputs": [],
      "source": [
        "money, price = 100, 200\n",
        "\n",
        "if money > price :\n",
        "  print(\"Please keep the change\")\n",
        "\n",
        "elif money == price :\n",
        "  print(\"Thank you\")\n",
        "\n",
        "else :\n",
        "  print(\"Give me more money\")"
      ]
    },
    {
      "cell_type": "markdown",
      "metadata": {
        "id": "u7Cfcrww3q3U"
      },
      "source": [
        "# 루프"
      ]
    },
    {
      "cell_type": "markdown",
      "metadata": {
        "id": "7yNzFYdl3sO6"
      },
      "source": [
        "## For 루프"
      ]
    },
    {
      "cell_type": "code",
      "execution_count": null,
      "metadata": {
        "id": "KEyw1z8cvkRj"
      },
      "outputs": [],
      "source": [
        "for i in [1, 2, 3] :\n",
        "  print(i)"
      ]
    },
    {
      "cell_type": "code",
      "execution_count": null,
      "metadata": {
        "id": "U_6dzjjcwtEw"
      },
      "outputs": [],
      "source": [
        "list1 = list(range(10))\n",
        "list1"
      ]
    },
    {
      "cell_type": "code",
      "execution_count": null,
      "metadata": {
        "id": "TbsLF2CTn1tT"
      },
      "outputs": [],
      "source": [
        "list1 = list(range(1, 10))\n",
        "list1"
      ]
    },
    {
      "cell_type": "code",
      "execution_count": null,
      "metadata": {
        "id": "Lkg8Z0h4wyfH"
      },
      "outputs": [],
      "source": [
        "for i in list1 :\n",
        "  print(i)"
      ]
    },
    {
      "cell_type": "code",
      "execution_count": null,
      "metadata": {
        "id": "QYxlRn3Iw1xv"
      },
      "outputs": [],
      "source": [
        "for i in range(10) :\n",
        "  print(i)"
      ]
    },
    {
      "cell_type": "code",
      "execution_count": null,
      "metadata": {
        "id": "hzu9b2SGw3y4"
      },
      "outputs": [],
      "source": [
        "list1 = list(range(0, 10, 2))\n",
        "list1"
      ]
    },
    {
      "cell_type": "code",
      "execution_count": null,
      "metadata": {
        "id": "p970q-ZGw_qk"
      },
      "outputs": [],
      "source": [
        "for i, num in enumerate(list1) :\n",
        "  print(i, num)"
      ]
    },
    {
      "cell_type": "code",
      "execution_count": null,
      "metadata": {
        "id": "_DggP0adxFJf"
      },
      "outputs": [],
      "source": [
        "for i in range(10) :\n",
        "  if i > 5 :\n",
        "    break\n",
        " \n",
        "  else :\n",
        "    print(i)"
      ]
    },
    {
      "cell_type": "markdown",
      "metadata": {
        "id": "BDZKdaUj38br"
      },
      "source": [
        "## While 루프"
      ]
    },
    {
      "cell_type": "code",
      "execution_count": null,
      "metadata": {
        "id": "Q3eeHuwuxOEt"
      },
      "outputs": [],
      "source": [
        "i = 0\n",
        "while i < 10 :\n",
        "  print(i)\n",
        "  i += 1"
      ]
    },
    {
      "cell_type": "code",
      "execution_count": null,
      "metadata": {
        "id": "YWc_9pVhzaR8"
      },
      "outputs": [],
      "source": [
        "boolean = True\n",
        "\n",
        "while boolean :\n",
        "  char = input()\n",
        "  \n",
        "  if char == \"stop\" :\n",
        "    boolean = False\n",
        " \n",
        "  else :\n",
        "    print(char)"
      ]
    },
    {
      "cell_type": "markdown",
      "metadata": {
        "id": "Iof7lyRaoKPM"
      },
      "source": [
        "## 중첩반복문"
      ]
    },
    {
      "cell_type": "code",
      "execution_count": null,
      "metadata": {
        "id": "t-LjOP7YoMAY"
      },
      "outputs": [],
      "source": [
        "list2d = [[1, 2, 3], [4, 5, 6]]"
      ]
    },
    {
      "cell_type": "code",
      "execution_count": null,
      "metadata": {
        "id": "MPXfV9oUoVIu"
      },
      "outputs": [],
      "source": [
        "for i in range(2) :\n",
        "  for j in range(3) :\n",
        "    print(list2d[i][j])"
      ]
    },
    {
      "cell_type": "code",
      "execution_count": null,
      "metadata": {
        "id": "5djbCD0fogZi"
      },
      "outputs": [],
      "source": [
        "list2d = list()\n",
        "\n",
        "for i in range(2) :\n",
        "  list1d = list()\n",
        "  \n",
        "  for j in range(3) :\n",
        "    list1d.append(i + j)\n",
        "  \n",
        "  list2d.append(list1d)"
      ]
    },
    {
      "cell_type": "code",
      "execution_count": null,
      "metadata": {
        "id": "g2vYNc-Po94i"
      },
      "outputs": [],
      "source": [
        "list2d"
      ]
    },
    {
      "cell_type": "markdown",
      "metadata": {
        "id": "cxtYUhyytTMO"
      },
      "source": [
        "# 실습"
      ]
    },
    {
      "cell_type": "markdown",
      "metadata": {
        "id": "E3YXkZhZtUe8"
      },
      "source": [
        "### 별 출력\n",
        "\n",
        "다음과 같은 모형을 출력\n",
        "\n",
        "![image.png](data:image/png;base64,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)"
      ]
    },
    {
      "cell_type": "markdown",
      "metadata": {
        "id": "ZFRqu6Q9uCbD"
      },
      "source": [
        "### for loop"
      ]
    },
    {
      "cell_type": "code",
      "execution_count": null,
      "metadata": {
        "id": "bcYqKe0MuE-g"
      },
      "outputs": [],
      "source": []
    },
    {
      "cell_type": "markdown",
      "metadata": {
        "id": "PoHa-XH0uFcg"
      },
      "source": [
        "### while loop"
      ]
    },
    {
      "cell_type": "code",
      "execution_count": null,
      "metadata": {
        "id": "hiBGKanoulaX"
      },
      "outputs": [],
      "source": []
    },
    {
      "cell_type": "markdown",
      "metadata": {
        "id": "dPARfuP6Wkw0"
      },
      "source": [
        "# 열유체공학실험1 2주차 강의 과제"
      ]
    },
    {
      "cell_type": "markdown",
      "metadata": {
        "id": "bWpfEikVWok0"
      },
      "source": [
        "### 1) 1부터 10까지의 모든 정수의 합을 for 및  while loop을 통해 계산하시고 출력하시오."
      ]
    },
    {
      "cell_type": "markdown",
      "metadata": {
        "id": "LyiMwzLxWxRt"
      },
      "source": [
        "### 2) 1부터 50사이에 존재하는 소수를 순차적으로 출력하시오."
      ]
    }
  ],
  "metadata": {
    "colab": {
      "authorship_tag": "ABX9TyOQNXAaAzrqaOqSDhPFFcwi",
      "collapsed_sections": [],
      "include_colab_link": true,
      "provenance": []
    },
    "kernelspec": {
      "display_name": "Python 3.9.12 ('base')",
      "language": "python",
      "name": "python3"
    },
    "language_info": {
      "name": "python",
      "version": "3.9.12"
    },
    "vscode": {
      "interpreter": {
        "hash": "6f90ecf8e60f83622f9227a0dbe371322a09fc564ab23fd0d7abeea3b821b948"
      }
    }
  },
  "nbformat": 4,
  "nbformat_minor": 0
}
