{
  "cells": [
    {
      "cell_type": "markdown",
      "metadata": {
        "id": "view-in-github",
        "colab_type": "text"
      },
      "source": [
        "<a href=\"https://colab.research.google.com/github/JK-the-Ko/Thermo-Fluid-Dynamics-Experiment/blob/main/2022-2/%EC%97%B4%EC%9C%A0%EC%B2%B4%EA%B3%B5%ED%95%99%EC%8B%A4%ED%97%98_Week_11.ipynb\" target=\"_parent\"><img src=\"https://colab.research.google.com/assets/colab-badge.svg\" alt=\"Open In Colab\"/></a>"
      ]
    },
    {
      "cell_type": "markdown",
      "metadata": {
        "id": "d_MhILSfy5tv"
      },
      "source": [
        "# Gradient Descent Method"
      ]
    },
    {
      "cell_type": "markdown",
      "metadata": {
        "id": "vD4qMLaYy8SK"
      },
      "source": [
        "## Import Library"
      ]
    },
    {
      "cell_type": "code",
      "execution_count": null,
      "metadata": {
        "id": "91gTVAMSDNRo"
      },
      "outputs": [],
      "source": [
        "import numpy as np\n",
        "import matplotlib.pyplot as plt"
      ]
    },
    {
      "cell_type": "markdown",
      "metadata": {
        "id": "zYSwatwQbNDF"
      },
      "source": [
        "### Make Function"
      ]
    },
    {
      "cell_type": "code",
      "execution_count": null,
      "metadata": {
        "id": "VbtUzwEoxfb5"
      },
      "outputs": [],
      "source": [
        " def function(x) :\n",
        "  return np.power(x, 2) + 1"
      ]
    },
    {
      "cell_type": "markdown",
      "metadata": {
        "id": "7D5QaoPMbQrx"
      },
      "source": [
        "### Plot Function"
      ]
    },
    {
      "cell_type": "code",
      "execution_count": null,
      "metadata": {
        "id": "d89v1xPWxjUt"
      },
      "outputs": [],
      "source": [
        "delta = 1e-6\n",
        "x = np.arange(-2, 2, delta)\n",
        "y = function(x)"
      ]
    },
    {
      "cell_type": "code",
      "execution_count": null,
      "metadata": {
        "id": "7lLfEP_KxmNZ"
      },
      "outputs": [],
      "source": [
        "plt.plot(x, y)\n",
        "plt.xlabel(\"x\")\n",
        "plt.ylabel(\"f(x)\")\n",
        "plt.title(\"Function\")\n",
        "plt.show()"
      ]
    },
    {
      "cell_type": "markdown",
      "metadata": {
        "id": "exaoRnVVycDo"
      },
      "source": [
        "## Function Derivative Computation with Scipy\n",
        "### https://docs.scipy.org/doc/scipy/reference/generated/scipy.misc.derivative.html"
      ]
    },
    {
      "cell_type": "code",
      "execution_count": null,
      "metadata": {
        "id": "l0qd9qm8EvYY"
      },
      "outputs": [],
      "source": [
        "from scipy.misc import derivative"
      ]
    },
    {
      "cell_type": "markdown",
      "metadata": {
        "id": "jlHa5_dcbh3p"
      },
      "source": [
        "### Compute Derivative"
      ]
    },
    {
      "cell_type": "code",
      "execution_count": null,
      "metadata": {
        "id": "TPo_xNqFyGYg"
      },
      "outputs": [],
      "source": [
        "derivative(function, 0, delta)"
      ]
    },
    {
      "cell_type": "markdown",
      "metadata": {
        "id": "r5fc--GBzKnY"
      },
      "source": [
        "## Application"
      ]
    },
    {
      "cell_type": "markdown",
      "metadata": {
        "id": "3WGnv1DY3Gdi"
      },
      "source": [
        "### Second-Order Polynomial Function\n",
        "\n"
      ]
    },
    {
      "cell_type": "markdown",
      "metadata": {
        "id": "k3HJC6RZPKEM"
      },
      "source": [
        "#### Make Gradient Descent Function"
      ]
    },
    {
      "cell_type": "code",
      "execution_count": null,
      "metadata": {
        "id": "Z4NoOa-F0Gbf"
      },
      "outputs": [],
      "source": [
        "def gradientDescent(function, x, delta, lr) :\n",
        "  gradient = derivative(function, x, delta)\n",
        "  newX = x - lr * gradient\n",
        "  return newX"
      ]
    },
    {
      "cell_type": "markdown",
      "metadata": {
        "id": "4zLS0LbnPMPB"
      },
      "source": [
        "#### Set Start Point"
      ]
    },
    {
      "cell_type": "code",
      "execution_count": null,
      "metadata": {
        "id": "zGYCURkQPPBw"
      },
      "outputs": [],
      "source": [
        "initialX = -1.5"
      ]
    },
    {
      "cell_type": "markdown",
      "metadata": {
        "id": "rEUxqVaiPQNH"
      },
      "source": [
        "#### Conduct Gradient Descent Method"
      ]
    },
    {
      "cell_type": "code",
      "execution_count": null,
      "metadata": {
        "id": "_PjiMhFi0O33"
      },
      "outputs": [],
      "source": [
        "newXList, newYList = [], []\n",
        "\n",
        "startX = initialX\n",
        "iteration = 10\n",
        "lr = 1e-1\n",
        "\n",
        "for i in range(iteration) :\n",
        "  newX = gradientDescent(function, startX, delta, lr)\n",
        "  newXList.append(newX)\n",
        "  newYList.append(function(newX))\n",
        "  startX = newX"
      ]
    },
    {
      "cell_type": "markdown",
      "source": [
        "\n",
        "##### Plot Gradient Descent Process"
      ],
      "metadata": {
        "id": "Lx6aS9cETuxH"
      }
    },
    {
      "cell_type": "code",
      "source": [
        "plt.figure(figsize=(10, 5))\n",
        "\n",
        "regionX, regionY = np.arange(initialX, 0, delta), function(np.arange(initialX, 0, delta))\n",
        "plt.plot(regionX, regionY)\n",
        "\n",
        "plt.scatter(newXList, newYList)\n",
        "\n",
        "for i in range(iteration - 1) :\n",
        "  deltaX, deltaY = newXList[i+1]-newXList[i], newYList[i+1]-newYList[i] \n",
        "  plt.arrow(newXList[i], newYList[i], deltaX, deltaY, head_width = 0.05, head_length = 0.1, fc = \"k\", ec = \"k\")\n",
        "\n",
        "plt.xlabel(\"x\")\n",
        "plt.ylabel(\"f(x)\")\n",
        "plt.title(\"Gradient Descent\")\n",
        "plt.show()"
      ],
      "metadata": {
        "id": "RgA3CcfDUFqH"
      },
      "execution_count": null,
      "outputs": []
    },
    {
      "cell_type": "markdown",
      "source": [
        "#### Conduct Gradient Descent Method with More Iterations"
      ],
      "metadata": {
        "id": "FeDm5sTaUmUd"
      }
    },
    {
      "cell_type": "code",
      "execution_count": null,
      "metadata": {
        "id": "MV1RiSj61YfM"
      },
      "outputs": [],
      "source": [
        "newXList, newYList = [], []\n",
        "\n",
        "startX = initialX\n",
        "iteration = 50\n",
        "lr = 1e-1\n",
        "\n",
        "for i in range(iteration) :\n",
        "  newX = gradientDescent(function, startX, delta, lr)\n",
        "  newXList.append(newX)\n",
        "  newYList.append(function(newX))\n",
        "  startX = newX"
      ]
    },
    {
      "cell_type": "markdown",
      "source": [
        "##### Plot Gradient Descent Process"
      ],
      "metadata": {
        "id": "meZgRbihUtm9"
      }
    },
    {
      "cell_type": "code",
      "execution_count": null,
      "metadata": {
        "id": "ZAydhr6V1aK3"
      },
      "outputs": [],
      "source": [
        "plt.figure(figsize=(10, 5))\n",
        "\n",
        "regionX, regionY = np.arange(initialX, 0, delta), function(np.arange(initialX, 0, delta))\n",
        "plt.plot(regionX, regionY)\n",
        "\n",
        "plt.scatter(newXList, newYList)\n",
        "\n",
        "for i in range(iteration - 1) :\n",
        "  deltaX, deltaY = newXList[i+1]-newXList[i], newYList[i+1]-newYList[i] \n",
        "  plt.arrow(newXList[i], newYList[i], deltaX, deltaY, head_width = 0.05, head_length = 0.1, fc = \"k\", ec = \"k\")\n",
        "\n",
        "plt.xlabel(\"x\")\n",
        "plt.ylabel(\"f(x)\")\n",
        "plt.title(\"Gradient Descent\")\n",
        "plt.show()"
      ]
    },
    {
      "cell_type": "markdown",
      "source": [
        "##### Get Minimum Value"
      ],
      "metadata": {
        "id": "gyoBxHVeUvmL"
      }
    },
    {
      "cell_type": "code",
      "execution_count": null,
      "metadata": {
        "id": "78axR27A1bpa"
      },
      "outputs": [],
      "source": [
        "latestX, latestY = newXList[-1], newYList[-1]\n",
        "print(latestX, latestY)"
      ]
    },
    {
      "cell_type": "markdown",
      "source": [
        "##### Compute Gradient"
      ],
      "metadata": {
        "id": "9x56_CxpV_Jc"
      }
    },
    {
      "cell_type": "code",
      "execution_count": null,
      "metadata": {
        "id": "Tzkcq_Si1zow"
      },
      "outputs": [],
      "source": [
        "derivative(function, latestX, delta)"
      ]
    },
    {
      "cell_type": "markdown",
      "metadata": {
        "id": "fVq4gIK219-7"
      },
      "source": [
        "#### Conduct Gradient Descent Method with Smaller Learning Rate"
      ]
    },
    {
      "cell_type": "code",
      "execution_count": null,
      "metadata": {
        "id": "R7coPDcI2D2v"
      },
      "outputs": [],
      "source": [
        "newXList, newYList = [], []\n",
        "\n",
        "startX = initialX\n",
        "iteration = 10\n",
        "lr = 1e-2\n",
        "\n",
        "for i in range(iteration) :\n",
        "  newX = gradientDescent(function, startX, delta, lr)\n",
        "  newXList.append(newX)\n",
        "  newYList.append(function(newX))\n",
        "  startX = newX"
      ]
    },
    {
      "cell_type": "markdown",
      "source": [
        "##### Plot Gradient Descent Process"
      ],
      "metadata": {
        "id": "lmQRCotyWYxu"
      }
    },
    {
      "cell_type": "code",
      "execution_count": null,
      "metadata": {
        "id": "SXvvZqLjWYxv"
      },
      "outputs": [],
      "source": [
        "plt.figure(figsize=(10, 5))\n",
        "\n",
        "regionX, regionY = np.arange(initialX, 0, delta), function(np.arange(initialX, 0, delta))\n",
        "plt.plot(regionX, regionY)\n",
        "\n",
        "plt.scatter(newXList, newYList)\n",
        "\n",
        "for i in range(iteration - 1) :\n",
        "  deltaX, deltaY = newXList[i+1]-newXList[i], newYList[i+1]-newYList[i] \n",
        "  plt.arrow(newXList[i], newYList[i], deltaX, deltaY, head_width = 0.05, head_length = 0.1, fc = \"k\", ec = \"k\")\n",
        "\n",
        "plt.xlabel(\"x\")\n",
        "plt.ylabel(\"f(x)\")\n",
        "plt.title(\"Gradient Descent\")\n",
        "plt.show()"
      ]
    },
    {
      "cell_type": "markdown",
      "source": [
        "#### Conduct Gradient Descent Method with More Iterations and Smaller Learning Rate"
      ],
      "metadata": {
        "id": "CsB-e8gJWfmw"
      }
    },
    {
      "cell_type": "code",
      "execution_count": null,
      "metadata": {
        "id": "VHVvxFhtWfmw"
      },
      "outputs": [],
      "source": [
        "newXList, newYList = [], []\n",
        "\n",
        "startX = initialX\n",
        "iteration = 500\n",
        "lr = 1e-2\n",
        "\n",
        "for i in range(iteration) :\n",
        "  newX = gradientDescent(function, startX, delta, lr)\n",
        "  newXList.append(newX)\n",
        "  newYList.append(function(newX))\n",
        "  startX = newX"
      ]
    },
    {
      "cell_type": "markdown",
      "source": [
        "##### Plot Gradient Descent Process"
      ],
      "metadata": {
        "id": "RmBSo0VwWjQ3"
      }
    },
    {
      "cell_type": "code",
      "execution_count": null,
      "metadata": {
        "id": "DNJZZZJGWjQ4"
      },
      "outputs": [],
      "source": [
        "plt.figure(figsize=(10, 5))\n",
        "\n",
        "regionX, regionY = np.arange(initialX, 0, delta), function(np.arange(initialX, 0, delta))\n",
        "plt.plot(regionX, regionY)\n",
        "\n",
        "plt.scatter(newXList, newYList)\n",
        "\n",
        "for i in range(iteration - 1) :\n",
        "  deltaX, deltaY = newXList[i+1]-newXList[i], newYList[i+1]-newYList[i] \n",
        "  plt.arrow(newXList[i], newYList[i], deltaX, deltaY, head_width = 0.05, head_length = 0.1, fc = \"k\", ec = \"k\")\n",
        "\n",
        "plt.xlabel(\"x\")\n",
        "plt.ylabel(\"f(x)\")\n",
        "plt.title(\"Gradient Descent\")\n",
        "plt.show()"
      ]
    },
    {
      "cell_type": "markdown",
      "source": [
        "##### Get Minimum Value"
      ],
      "metadata": {
        "id": "SvOUKDSDXYs5"
      }
    },
    {
      "cell_type": "code",
      "execution_count": null,
      "metadata": {
        "id": "e8bdxNQfXYs5"
      },
      "outputs": [],
      "source": [
        "latestX, latestY = newXList[-1], newYList[-1]\n",
        "print(latestX, latestY)"
      ]
    },
    {
      "cell_type": "markdown",
      "source": [
        "##### Compute Gradient"
      ],
      "metadata": {
        "id": "I-M_NL-8XYs6"
      }
    },
    {
      "cell_type": "code",
      "execution_count": null,
      "metadata": {
        "id": "Ho3HlYwtXYs6"
      },
      "outputs": [],
      "source": [
        "derivative(function, latestX, delta)"
      ]
    },
    {
      "cell_type": "markdown",
      "metadata": {
        "id": "0ccVFoNBC8Cj"
      },
      "source": [
        "### Linear Regression with Gradient Descent Optimization"
      ]
    },
    {
      "cell_type": "markdown",
      "source": [
        "#### Import Library"
      ],
      "metadata": {
        "id": "MBwVSN5oalMd"
      }
    },
    {
      "cell_type": "code",
      "execution_count": null,
      "metadata": {
        "id": "S9GHDyyNKRwa"
      },
      "outputs": [],
      "source": [
        "from sklearn.metrics import r2_score"
      ]
    },
    {
      "cell_type": "markdown",
      "source": [
        "### Make Function"
      ],
      "metadata": {
        "id": "06GSzs11amx2"
      }
    },
    {
      "cell_type": "code",
      "execution_count": null,
      "metadata": {
        "id": "xwxM7HpLC_U_"
      },
      "outputs": [],
      "source": [
        "def function(x) :\n",
        "  return 10*x + 5"
      ]
    },
    {
      "cell_type": "markdown",
      "source": [
        "#### Plot Function"
      ],
      "metadata": {
        "id": "13rLSXR9aoAE"
      }
    },
    {
      "cell_type": "code",
      "execution_count": null,
      "metadata": {
        "id": "WRV_agklDZha"
      },
      "outputs": [],
      "source": [
        "x = np.arange(0, 10, 1e-2)\n",
        "y = function(x)"
      ]
    },
    {
      "cell_type": "code",
      "source": [
        "plt.plot(x, y)\n",
        "plt.xlabel(\"x\")\n",
        "plt.ylabel(\"f(x)\")\n",
        "plt.title(\"Function\")\n",
        "plt.show()"
      ],
      "metadata": {
        "id": "wZ6texofarvc"
      },
      "execution_count": null,
      "outputs": []
    },
    {
      "cell_type": "markdown",
      "source": [
        "#### Gradient Descent with MSE Loss Function"
      ],
      "metadata": {
        "id": "wZ8-i645a3Wy"
      }
    },
    {
      "cell_type": "code",
      "execution_count": null,
      "metadata": {
        "id": "lcuS_wK5DgC4"
      },
      "outputs": [],
      "source": [
        "def gradientDescent(input, target, a, b, lr) :\n",
        "    gradientA = 2 * (a*np.power(input, 2) + b*input - input*target).mean()\n",
        "    gradientB = 2 * (a*input + b - target).mean()\n",
        "    \n",
        "    newA = a - lr * gradientA\n",
        "    newB = b - lr * gradientB\n",
        "\n",
        "    return newA, newB"
      ]
    },
    {
      "cell_type": "markdown",
      "source": [
        "#### Fix Seed"
      ],
      "metadata": {
        "id": "BGk5mGU96M8n"
      }
    },
    {
      "cell_type": "code",
      "source": [
        "np.random.seed(42)"
      ],
      "metadata": {
        "id": "Grzsmhd66ODY"
      },
      "execution_count": null,
      "outputs": []
    },
    {
      "cell_type": "markdown",
      "source": [
        "#### Initialize Model Parameter"
      ],
      "metadata": {
        "id": "bgYaGsrk6yUu"
      }
    },
    {
      "cell_type": "code",
      "source": [
        "a, b = np.random.random(), np.random.random()\n",
        "print(a, b)"
      ],
      "metadata": {
        "id": "3awyPIuT60Pe"
      },
      "execution_count": null,
      "outputs": []
    },
    {
      "cell_type": "markdown",
      "source": [
        "#### Set Hyperparameter"
      ],
      "metadata": {
        "id": "6aPwkjHb60lT"
      }
    },
    {
      "cell_type": "code",
      "execution_count": null,
      "metadata": {
        "id": "vlAUuHtDGs9q"
      },
      "outputs": [],
      "source": [
        "iteration, lr = 100, 1e-2"
      ]
    },
    {
      "cell_type": "markdown",
      "source": [
        "#### Conduct Gradient Descent"
      ],
      "metadata": {
        "id": "8z8o4t6162Jg"
      }
    },
    {
      "cell_type": "code",
      "execution_count": null,
      "metadata": {
        "id": "f9Q5pOHqGuRV"
      },
      "outputs": [],
      "source": [
        "oldA, oldB = a, b\n",
        "\n",
        "listA, listB = [], []\n",
        "listLoss = []\n",
        "\n",
        "for i in range(iteration) :\n",
        "  pred = oldA * x + b\n",
        "  target = function(x)\n",
        "\n",
        "  loss = np.power((pred - target), 2).mean()\n",
        "  listLoss.append(loss)\n",
        "\n",
        "  newA, newB = gradientDescent(x, y, oldA, oldB, lr)\n",
        "  oldA, oldB = newA, newB\n",
        "\n",
        "  listA.append(oldA)\n",
        "  listB.append(oldB)"
      ]
    },
    {
      "cell_type": "markdown",
      "source": [
        "#### Plot Loss Graph"
      ],
      "metadata": {
        "id": "mnkcXJv79R1_"
      }
    },
    {
      "cell_type": "code",
      "execution_count": null,
      "metadata": {
        "id": "I2EKbQpMIzVW"
      },
      "outputs": [],
      "source": [
        "plt.figure(figsize=(10, 5))\n",
        "plt.plot(np.arange(iteration), listLoss)\n",
        "plt.xlabel(\"Iteration\")\n",
        "plt.ylabel(\"MSE Loss\")\n",
        "plt.title(\"Loss Graph\")\n",
        "plt.show()"
      ]
    },
    {
      "cell_type": "markdown",
      "source": [
        "#### Get Model Parameter"
      ],
      "metadata": {
        "id": "B1nmkPez-CKh"
      }
    },
    {
      "cell_type": "code",
      "execution_count": null,
      "metadata": {
        "id": "_h3uvvL_JYjk"
      },
      "outputs": [],
      "source": [
        "finalA, finalB = listA[-1], listB[-1]\n",
        "print(finalA, finalB)"
      ]
    },
    {
      "cell_type": "markdown",
      "source": [
        "#### Inference Regression Result"
      ],
      "metadata": {
        "id": "LVsZNOcc-gQn"
      }
    },
    {
      "cell_type": "code",
      "execution_count": null,
      "metadata": {
        "id": "8m9OGKXkJd8H"
      },
      "outputs": [],
      "source": [
        "yPred = finalA*x + finalB"
      ]
    },
    {
      "cell_type": "markdown",
      "source": [
        "#### Compare Result"
      ],
      "metadata": {
        "id": "0p9tFia9-qwB"
      }
    },
    {
      "cell_type": "code",
      "execution_count": null,
      "metadata": {
        "id": "mW7QTD_DJg7m"
      },
      "outputs": [],
      "source": [
        "plt.figure(figsize=(10, 5))\n",
        "plt.plot(x, y, label = \"Ground Truth\")\n",
        "plt.plot(x, yPred, label = \"Prediction\")\n",
        "plt.xlabel(\"x\")\n",
        "plt.ylabel(\"f(x)\")\n",
        "plt.title(\"Regression Result\")\n",
        "plt.legend(loc = \"best\")\n",
        "plt.show()"
      ]
    },
    {
      "cell_type": "code",
      "execution_count": null,
      "metadata": {
        "id": "VZaUfC2sJmZH"
      },
      "outputs": [],
      "source": [
        "r2_score(y, yPred)"
      ]
    },
    {
      "cell_type": "markdown",
      "source": [
        "#### Compare Result with Extrapolation Result"
      ],
      "metadata": {
        "id": "uIRicg0BA-rd"
      }
    },
    {
      "cell_type": "code",
      "source": [
        "x = np.arange(20, 30, 1e-2)"
      ],
      "metadata": {
        "id": "CqPQmAUqBGEE"
      },
      "execution_count": null,
      "outputs": []
    },
    {
      "cell_type": "code",
      "source": [
        "y = function(x)"
      ],
      "metadata": {
        "id": "E73GA0oEBFrT"
      },
      "execution_count": null,
      "outputs": []
    },
    {
      "cell_type": "code",
      "source": [
        "yPred = finalA*x + finalB"
      ],
      "metadata": {
        "id": "YRtqW_9wBEym"
      },
      "execution_count": null,
      "outputs": []
    },
    {
      "cell_type": "code",
      "execution_count": null,
      "metadata": {
        "id": "orSv0c1mBCKl"
      },
      "outputs": [],
      "source": [
        "plt.figure(figsize=(10, 5))\n",
        "plt.plot(x, y, label = \"Ground Truth\")\n",
        "plt.plot(x, yPred, label = \"Prediction\")\n",
        "plt.xlabel(\"x\")\n",
        "plt.ylabel(\"f(x)\")\n",
        "plt.title(\"Regression Result\")\n",
        "plt.legend(loc = \"best\")\n",
        "plt.show()"
      ]
    },
    {
      "cell_type": "code",
      "execution_count": null,
      "metadata": {
        "id": "7M4b1KG-BCKm"
      },
      "outputs": [],
      "source": [
        "r2_score(y, yPred)"
      ]
    },
    {
      "cell_type": "markdown",
      "metadata": {
        "id": "8oIasJvDboRw"
      },
      "source": [
        "### Multi-Layer Model Regression with Gradient Descent Optimization"
      ]
    },
    {
      "cell_type": "markdown",
      "source": [
        "#### Make Function"
      ],
      "metadata": {
        "id": "A8pyPcQSBRmf"
      }
    },
    {
      "cell_type": "code",
      "execution_count": null,
      "metadata": {
        "id": "5jlbIQsxbsem"
      },
      "outputs": [],
      "source": [
        "def function(x) :\n",
        "  return 4*np.power(x, 2) + 2*x + 1"
      ]
    },
    {
      "cell_type": "markdown",
      "source": [
        "#### Plot Function"
      ],
      "metadata": {
        "id": "uHsFjEmkBoQD"
      }
    },
    {
      "cell_type": "code",
      "execution_count": null,
      "metadata": {
        "id": "mqCS-k7oBoQE"
      },
      "outputs": [],
      "source": [
        "x = np.arange(0, 10, 1e-2)\n",
        "y = function(x)"
      ]
    },
    {
      "cell_type": "code",
      "source": [
        "plt.plot(x, y)\n",
        "plt.xlabel(\"x\")\n",
        "plt.ylabel(\"f(x)\")\n",
        "plt.title(\"Function\")\n",
        "plt.show()"
      ],
      "metadata": {
        "id": "Cl5SBtn2BoQE"
      },
      "execution_count": null,
      "outputs": []
    },
    {
      "cell_type": "markdown",
      "source": [
        "#### Gradient Descent with MSE Loss Function"
      ],
      "metadata": {
        "id": "pxgqiOwzCL6v"
      }
    },
    {
      "cell_type": "code",
      "execution_count": null,
      "metadata": {
        "id": "ETb2Qim1cEWP"
      },
      "outputs": [],
      "source": [
        "def f(x, a, b) :\n",
        "  return a*x + b\n",
        "\n",
        "def g(function, x, c, d) :\n",
        "  return c*x*function + d"
      ]
    },
    {
      "cell_type": "code",
      "execution_count": null,
      "metadata": {
        "id": "BpItM-07c89W"
      },
      "outputs": [],
      "source": [
        "def gradientDescent(input, target, a, b, c, d, lr) :\n",
        "    gradientA = 2 * ((g(f(input, a, b), input, c, d) - target) * (c*input + d) * input).mean()\n",
        "    gradientB = 2 * ((g(f(input, a, b), input, c, d) - target) * (c*input + d)).mean()\n",
        "    gradientC = 2 * ((g(f(input, a, b), input, c, d) - target) * input * f(input, a, b)).mean()\n",
        "    gradientD = 2 * ((g(f(input, a, b), input, c, d) - target)).mean()\n",
        "    \n",
        "    newA = a - lr * gradientA\n",
        "    newB = b - lr * gradientB\n",
        "    newC = c - lr * gradientC\n",
        "    newD = d - lr * gradientD\n",
        "\n",
        "    return newA, newB, newC, newD"
      ]
    },
    {
      "cell_type": "code",
      "execution_count": null,
      "metadata": {
        "id": "RDLw2regcNcF"
      },
      "outputs": [],
      "source": [
        "a, b, c, d, = np.random.random(), np.random.random(), np.random.random(), np.random.random()\n",
        "iteration, lr = 2000, 1e-7"
      ]
    },
    {
      "cell_type": "code",
      "execution_count": null,
      "metadata": {
        "id": "7XQWSou7dy_4"
      },
      "outputs": [],
      "source": [
        "oldA, oldB, oldC, oldD = a, b, c, d\n",
        "\n",
        "listA, listB, listC, listD = [], [], [], []\n",
        "listLoss = []\n",
        "\n",
        "for i in range(iteration) :\n",
        "  pred = oldC*x*(oldA*x + oldB) + oldD\n",
        "  target = function(x)\n",
        "\n",
        "  loss = np.power((pred - target), 2).mean()\n",
        "  listLoss.append(loss)\n",
        "\n",
        "  newA, newB, newC, newD = gradientDescent(x, y, oldA, oldB, oldC, oldD, lr)\n",
        "  oldA, oldB, oldC, oldD = newA, newB, newC, newD\n",
        "\n",
        "  listA.append(oldA)\n",
        "  listB.append(oldB)\n",
        "  listC.append(oldC)\n",
        "  listD.append(oldD)"
      ]
    },
    {
      "cell_type": "markdown",
      "source": [
        "#### Plot Loss Graph"
      ],
      "metadata": {
        "id": "83qDb7UrEEK0"
      }
    },
    {
      "cell_type": "code",
      "execution_count": null,
      "metadata": {
        "id": "x3h7E5TFEEK1"
      },
      "outputs": [],
      "source": [
        "plt.figure(figsize=(10, 5))\n",
        "plt.plot(np.arange(iteration), listLoss)\n",
        "plt.xlabel(\"Iteration\")\n",
        "plt.ylabel(\"MSE Loss\")\n",
        "plt.title(\"Loss Graph\")\n",
        "plt.show()"
      ]
    },
    {
      "cell_type": "markdown",
      "source": [
        "#### Get Model Parameter"
      ],
      "metadata": {
        "id": "2mWDI5CbDvZ0"
      }
    },
    {
      "cell_type": "code",
      "execution_count": null,
      "metadata": {
        "id": "Eruvx9bQDvZ1"
      },
      "outputs": [],
      "source": [
        "finalA, finalB, finalC, finalD = listA[-1], listB[-1], listC[-1], listD[-1]\n",
        "print(finalA, finalB, finalC, finalD)"
      ]
    },
    {
      "cell_type": "markdown",
      "source": [
        "#### Inference Regression Result"
      ],
      "metadata": {
        "id": "Z6bdJRHLDvZ1"
      }
    },
    {
      "cell_type": "code",
      "execution_count": null,
      "metadata": {
        "id": "ROy38UVfDvZ1"
      },
      "outputs": [],
      "source": [
        "yPred = finalC*x*(finalA*x + finalB) + finalD"
      ]
    },
    {
      "cell_type": "markdown",
      "source": [
        "#### Compare Result"
      ],
      "metadata": {
        "id": "uCe-iMkADvZ1"
      }
    },
    {
      "cell_type": "code",
      "execution_count": null,
      "metadata": {
        "id": "6jT83rWSDvZ1"
      },
      "outputs": [],
      "source": [
        "plt.figure(figsize=(10, 5))\n",
        "plt.plot(x, y, label = \"Ground Truth\")\n",
        "plt.plot(x, yPred, label = \"Prediction\")\n",
        "plt.xlabel(\"x\")\n",
        "plt.ylabel(\"f(x)\")\n",
        "plt.title(\"Regression Result\")\n",
        "plt.legend(loc = \"best\")\n",
        "plt.show()"
      ]
    },
    {
      "cell_type": "markdown",
      "source": [
        "#### Compare Result with Extrapolation Result"
      ],
      "metadata": {
        "id": "tvkYxOl2Een8"
      }
    },
    {
      "cell_type": "code",
      "source": [
        "x = np.arange(20, 30, 1e-2)"
      ],
      "metadata": {
        "id": "u7fVvf26Een8"
      },
      "execution_count": null,
      "outputs": []
    },
    {
      "cell_type": "code",
      "source": [
        "y = function(x)"
      ],
      "metadata": {
        "id": "YXLuYkkHEen9"
      },
      "execution_count": null,
      "outputs": []
    },
    {
      "cell_type": "code",
      "source": [
        "yPred = finalC*x*(finalA*x + finalB) + finalD"
      ],
      "metadata": {
        "id": "WMLyxi0TEen9"
      },
      "execution_count": null,
      "outputs": []
    },
    {
      "cell_type": "code",
      "execution_count": null,
      "metadata": {
        "id": "KS1EcohEEen9"
      },
      "outputs": [],
      "source": [
        "plt.figure(figsize=(10, 5))\n",
        "plt.plot(x, y, label = \"Ground Truth\")\n",
        "plt.plot(x, yPred, label = \"Prediction\")\n",
        "plt.xlabel(\"x\")\n",
        "plt.ylabel(\"f(x)\")\n",
        "plt.title(\"Regression Result\")\n",
        "plt.legend(loc = \"best\")\n",
        "plt.show()"
      ]
    },
    {
      "cell_type": "markdown",
      "source": [
        "# Gradient Descent 실습"
      ],
      "metadata": {
        "id": "z7JnizfWB-8k"
      }
    },
    {
      "cell_type": "markdown",
      "source": [
        "## 하단의 손실 함수가 구간 내에서 수렴할 때까지 Gradient Descent를 실행하세요.\n",
        "## 수렴 기준 → 이전 값과 현재 값의 차이의 절댓값이 1e-16 이하일 때"
      ],
      "metadata": {
        "id": "4uFhcoCKFNdD"
      }
    },
    {
      "cell_type": "code",
      "source": [
        "def lossFunction(x) :\n",
        "  loss = 4*np.power(x, 4) - 10*np.power(x, 3) - 2*np.power(x, 2) + x - 50\n",
        "\n",
        "  return loss"
      ],
      "metadata": {
        "id": "CaJRRWsBFXcO"
      },
      "execution_count": null,
      "outputs": []
    },
    {
      "cell_type": "code",
      "source": [
        "x = np.arange(-2, 3, 1e-3)\n",
        "y = lossFunction(x)"
      ],
      "metadata": {
        "id": "vUWD8-P6B_oB"
      },
      "execution_count": null,
      "outputs": []
    },
    {
      "cell_type": "code",
      "source": [
        "plt.plot(x, y)\n",
        "plt.xlabel(\"x\")\n",
        "plt.ylabel(\"f(x)\")\n",
        "plt.title(\"Function\")\n",
        "plt.show()"
      ],
      "metadata": {
        "id": "CwIOm23wF38y"
      },
      "execution_count": null,
      "outputs": []
    },
    {
      "cell_type": "markdown",
      "source": [
        "### Condition A"
      ],
      "metadata": {
        "id": "CNx9kD_UIk4O"
      }
    },
    {
      "cell_type": "code",
      "source": [
        "startX, lr = -1, 1e-4\n",
        "diff = np.inf"
      ],
      "metadata": {
        "id": "f1VqLQ_LGsrg"
      },
      "execution_count": null,
      "outputs": []
    },
    {
      "cell_type": "code",
      "source": [
        "# Code"
      ],
      "metadata": {
        "id": "dp1_7Cl2Iq9D"
      },
      "execution_count": null,
      "outputs": []
    },
    {
      "cell_type": "markdown",
      "source": [
        "### Condition B"
      ],
      "metadata": {
        "id": "I5M1qmgTIoML"
      }
    },
    {
      "cell_type": "code",
      "source": [
        "startX, lr = 1, 1e-4\n",
        "diff = np.inf"
      ],
      "metadata": {
        "id": "KdO8CUz9IoML"
      },
      "execution_count": null,
      "outputs": []
    },
    {
      "cell_type": "code",
      "source": [
        "# Code"
      ],
      "metadata": {
        "id": "GOoTSW_9IszW"
      },
      "execution_count": null,
      "outputs": []
    }
  ],
  "metadata": {
    "colab": {
      "collapsed_sections": [],
      "provenance": [],
      "include_colab_link": true
    },
    "kernelspec": {
      "display_name": "Python 3",
      "name": "python3"
    },
    "language_info": {
      "name": "python"
    }
  },
  "nbformat": 4,
  "nbformat_minor": 0
}