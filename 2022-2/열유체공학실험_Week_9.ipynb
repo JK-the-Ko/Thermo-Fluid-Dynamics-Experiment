{
  "nbformat": 4,
  "nbformat_minor": 0,
  "metadata": {
    "colab": {
      "provenance": [],
      "collapsed_sections": [],
      "authorship_tag": "ABX9TyOxFDbfbDAf0wBrwMtkmMLU",
      "include_colab_link": true
    },
    "kernelspec": {
      "name": "python3",
      "display_name": "Python 3"
    },
    "language_info": {
      "name": "python"
    }
  },
  "cells": [
    {
      "cell_type": "markdown",
      "metadata": {
        "id": "view-in-github",
        "colab_type": "text"
      },
      "source": [
        "<a href=\"https://colab.research.google.com/github/JK-the-Ko/Thermo-Fluid-Dynamics-Experiment/blob/main/2022-2/%EC%97%B4%EC%9C%A0%EC%B2%B4%EA%B3%B5%ED%95%99%EC%8B%A4%ED%97%98_Week_9.ipynb\" target=\"_parent\"><img src=\"https://colab.research.google.com/assets/colab-badge.svg\" alt=\"Open In Colab\"/></a>"
      ]
    },
    {
      "cell_type": "markdown",
      "source": [
        "# Regression"
      ],
      "metadata": {
        "id": "C1JpQ-YLawhC"
      }
    },
    {
      "cell_type": "markdown",
      "source": [
        "## Import Library"
      ],
      "metadata": {
        "id": "CXTVbwTqazda"
      }
    },
    {
      "cell_type": "code",
      "execution_count": null,
      "metadata": {
        "id": "t8PMi8S-aR4e"
      },
      "outputs": [],
      "source": [
        "import numpy as np\n",
        "import pandas as pd\n",
        "import matplotlib.pyplot as plt"
      ]
    },
    {
      "cell_type": "markdown",
      "source": [
        "### Import Scikit-Learn"
      ],
      "metadata": {
        "id": "MSKtJVbebE6w"
      }
    },
    {
      "cell_type": "code",
      "source": [
        "import sklearn"
      ],
      "metadata": {
        "id": "ldIDMF1ObCIv"
      },
      "execution_count": null,
      "outputs": []
    },
    {
      "cell_type": "code",
      "source": [
        "sklearn.__version__"
      ],
      "metadata": {
        "id": "sjpm_9rEbEM5"
      },
      "execution_count": null,
      "outputs": []
    },
    {
      "cell_type": "markdown",
      "source": [
        "## Get Regression Dataset"
      ],
      "metadata": {
        "id": "fj3HyZK9bhqC"
      }
    },
    {
      "cell_type": "code",
      "source": [
        "from sklearn import datasets"
      ],
      "metadata": {
        "id": "qa2KFpmucNuG"
      },
      "execution_count": null,
      "outputs": []
    },
    {
      "cell_type": "code",
      "source": [
        "data = datasets.load_diabetes(as_frame = True)"
      ],
      "metadata": {
        "id": "9a9kxlQLbJ-E"
      },
      "execution_count": null,
      "outputs": []
    },
    {
      "cell_type": "code",
      "source": [
        "x, y = data.data, data.target"
      ],
      "metadata": {
        "id": "faQ4ZgEncBD6"
      },
      "execution_count": null,
      "outputs": []
    },
    {
      "cell_type": "code",
      "source": [
        "inputFeatures = x.columns\n",
        "print(inputFeatures)"
      ],
      "metadata": {
        "id": "WKK5ds61M_mU"
      },
      "execution_count": null,
      "outputs": []
    },
    {
      "cell_type": "markdown",
      "source": [
        "## Dataset Preprocessing"
      ],
      "metadata": {
        "id": "RRYMoULYCOBn"
      }
    },
    {
      "cell_type": "code",
      "source": [
        "from sklearn.preprocessing import MinMaxScaler"
      ],
      "metadata": {
        "id": "xcKZLmFBCQnb"
      },
      "execution_count": null,
      "outputs": []
    },
    {
      "cell_type": "markdown",
      "source": [
        "### Scale Input Dataset"
      ],
      "metadata": {
        "id": "bMQkCCeZCrq6"
      }
    },
    {
      "cell_type": "code",
      "source": [
        "x, y = np.array(x), np.array(y)"
      ],
      "metadata": {
        "id": "CSo7fhNbDHit"
      },
      "execution_count": null,
      "outputs": []
    },
    {
      "cell_type": "code",
      "source": [
        "mmScalerX = MinMaxScaler()\n",
        "mmScalerX.fit(x)\n",
        "x = mmScalerX.transform(x)"
      ],
      "metadata": {
        "id": "6fcy7XYzCT2i"
      },
      "execution_count": null,
      "outputs": []
    },
    {
      "cell_type": "markdown",
      "source": [
        "### Scale Target Dataset"
      ],
      "metadata": {
        "id": "UtMl1YRCCumi"
      }
    },
    {
      "cell_type": "code",
      "source": [
        "mmScalerY = MinMaxScaler()\n",
        "mmScalerY.fit(y.reshape(-1, 1))\n",
        "y = mmScalerY.transform(y.reshape(-1, 1)).reshape(-1)"
      ],
      "metadata": {
        "id": "zwxoN26wCuR4"
      },
      "execution_count": null,
      "outputs": []
    },
    {
      "cell_type": "markdown",
      "source": [
        "### Split Dataset"
      ],
      "metadata": {
        "id": "JBIdrtEbdMAS"
      }
    },
    {
      "cell_type": "code",
      "source": [
        "from sklearn.model_selection import train_test_split"
      ],
      "metadata": {
        "id": "zxMP_71bcbbz"
      },
      "execution_count": null,
      "outputs": []
    },
    {
      "cell_type": "code",
      "source": [
        "xTrain, xTest, yTrain, yTest = train_test_split(x, y, test_size = 0.3, random_state = 42)"
      ],
      "metadata": {
        "id": "0xqOdqDveNMv"
      },
      "execution_count": null,
      "outputs": []
    },
    {
      "cell_type": "code",
      "source": [
        "print(xTrain.shape, yTrain.shape)\n",
        "print(xTest.shape, yTest.shape)"
      ],
      "metadata": {
        "id": "uIg8BW7QeUGs"
      },
      "execution_count": null,
      "outputs": []
    },
    {
      "cell_type": "markdown",
      "source": [
        "## Linear Regression"
      ],
      "metadata": {
        "id": "6bTm6u8Tebfh"
      }
    },
    {
      "cell_type": "code",
      "source": [
        "def getParameter(x: np.array, y: np.array) :\n",
        "  xT = np.transpose(x)\n",
        "  output = np.matmul(np.matmul(np.linalg.inv(np.matmul(xT, x)), xT), y)\n",
        "\n",
        "  return output"
      ],
      "metadata": {
        "id": "xE8Pgj9XepP1"
      },
      "execution_count": null,
      "outputs": []
    },
    {
      "cell_type": "code",
      "source": [
        "betaHat = getParameter(xTrain, yTrain)"
      ],
      "metadata": {
        "id": "-FqVN8dzfRCL"
      },
      "execution_count": null,
      "outputs": []
    },
    {
      "cell_type": "code",
      "source": [
        "yTestHat = np.matmul(xTest, betaHat)"
      ],
      "metadata": {
        "id": "ZGwuwVMYfUyW"
      },
      "execution_count": null,
      "outputs": []
    },
    {
      "cell_type": "markdown",
      "source": [
        "### Model Evaluation"
      ],
      "metadata": {
        "id": "l3cxxq8yflZp"
      }
    },
    {
      "cell_type": "code",
      "source": [
        "def plotBarChart(yTest, yTestHat) :\n",
        "  fig, ax = plt.subplots(figsize = (10,4))\n",
        "  idx = np.asarray([i for i in range(50)])\n",
        "  width = 0.2\n",
        "\n",
        "  ax.bar(idx, yTest[:50], width = width)\n",
        "  ax.bar(idx+width, yTestHat[:50], width = width)\n",
        "  ax.set_xticks(idx)\n",
        "  ax.legend([\"Ground Truth\", \"Prediction\"])\n",
        "  ax.set_xlabel(\"# samples\")\n",
        "  ax.set_ylabel(\"Value\")\n",
        "\n",
        "  fig.tight_layout()\n",
        "  plt.show()"
      ],
      "metadata": {
        "id": "Zu4qnRKHfjH9"
      },
      "execution_count": null,
      "outputs": []
    },
    {
      "cell_type": "code",
      "source": [
        "def RMSE(yHat: np.array, y: np.array) :\n",
        "  output = np.sqrt(np.mean(np.power(y - yHat, 2)))\n",
        "\n",
        "  return output"
      ],
      "metadata": {
        "id": "sOecJecVgqQU"
      },
      "execution_count": null,
      "outputs": []
    },
    {
      "cell_type": "code",
      "source": [
        "yTest = mmScalerY.inverse_transform(yTest.reshape(-1, 1)).reshape(-1)\n",
        "yTestHat = mmScalerY.inverse_transform(yTestHat.reshape(-1, 1)).reshape(-1)"
      ],
      "metadata": {
        "id": "GOBEDUZBDwia"
      },
      "execution_count": null,
      "outputs": []
    },
    {
      "cell_type": "code",
      "source": [
        "plotBarChart(yTest, yTestHat)"
      ],
      "metadata": {
        "id": "vcnwW5qvAx92"
      },
      "execution_count": null,
      "outputs": []
    },
    {
      "cell_type": "code",
      "source": [
        "RMSE(yTestHat, yTest)"
      ],
      "metadata": {
        "id": "2fXdcOqsffZl"
      },
      "execution_count": null,
      "outputs": []
    },
    {
      "cell_type": "markdown",
      "source": [
        "## Decision Tree Regression"
      ],
      "metadata": {
        "id": "G1IVXspCg94w"
      }
    },
    {
      "cell_type": "code",
      "source": [
        "from sklearn.tree import DecisionTreeRegressor"
      ],
      "metadata": {
        "id": "wmTpdU97gy3V"
      },
      "execution_count": null,
      "outputs": []
    },
    {
      "cell_type": "code",
      "source": [
        "dtReg = DecisionTreeRegressor(random_state = 42)\n",
        "dtReg.fit(xTrain, yTrain)\n",
        "yTestHat = dtReg.predict(xTest)"
      ],
      "metadata": {
        "id": "WBNRtbuOhEeb"
      },
      "execution_count": null,
      "outputs": []
    },
    {
      "cell_type": "markdown",
      "source": [
        "### Feature Importance Visualization"
      ],
      "metadata": {
        "id": "uQFymqURM0sS"
      }
    },
    {
      "cell_type": "code",
      "source": [
        "import seaborn as sns"
      ],
      "metadata": {
        "id": "2yEvXNTmM4AA"
      },
      "execution_count": null,
      "outputs": []
    },
    {
      "cell_type": "code",
      "source": [
        "def visualizeImportances(data : pd.Series) :\n",
        "  plt.figure(figsize = (8, 6))\n",
        "  plt.title(\"Feature Importances\")\n",
        "  sns.barplot(x = data, y = data.index)\n",
        "  plt.show()"
      ],
      "metadata": {
        "id": "YXgcn11BNxRc"
      },
      "execution_count": null,
      "outputs": []
    },
    {
      "cell_type": "code",
      "source": [
        "visualizeImportances(pd.Series(dtReg.feature_importances_, index = inputFeatures).sort_values(ascending = False))"
      ],
      "metadata": {
        "id": "rzI4IA0NOHBH"
      },
      "execution_count": null,
      "outputs": []
    },
    {
      "cell_type": "markdown",
      "source": [
        "### Visualize Decision Tree"
      ],
      "metadata": {
        "id": "jhs1PkAi8UJq"
      }
    },
    {
      "cell_type": "code",
      "source": [
        "from sklearn.tree import plot_tree"
      ],
      "metadata": {
        "id": "1XM8FRxF7w_y"
      },
      "execution_count": null,
      "outputs": []
    },
    {
      "cell_type": "code",
      "source": [
        "plt.figure(figsize = (24, 18))\n",
        "plot_tree(dtReg)\n",
        "plt.show()"
      ],
      "metadata": {
        "id": "YovM9n0y73Bt"
      },
      "execution_count": null,
      "outputs": []
    },
    {
      "cell_type": "markdown",
      "source": [
        "### Model Evaluation"
      ],
      "metadata": {
        "id": "pcVxjPjOhr8X"
      }
    },
    {
      "cell_type": "code",
      "source": [
        "yTestHat = mmScalerY.inverse_transform(yTestHat.reshape(-1, 1)).reshape(-1)"
      ],
      "metadata": {
        "id": "guq_keeUEAl0"
      },
      "execution_count": null,
      "outputs": []
    },
    {
      "cell_type": "code",
      "source": [
        "plotBarChart(yTest, yTestHat)"
      ],
      "metadata": {
        "id": "aIIAxbdthp5R"
      },
      "execution_count": null,
      "outputs": []
    },
    {
      "cell_type": "code",
      "source": [
        "RMSE(yTestHat, yTest)"
      ],
      "metadata": {
        "id": "WiAqfZJFhtvu"
      },
      "execution_count": null,
      "outputs": []
    },
    {
      "cell_type": "markdown",
      "source": [
        "## Random Forest Regression"
      ],
      "metadata": {
        "id": "E1ZSCpCCiluc"
      }
    },
    {
      "cell_type": "code",
      "source": [
        "from sklearn.ensemble import RandomForestRegressor"
      ],
      "metadata": {
        "id": "EsXov8Gzhy66"
      },
      "execution_count": null,
      "outputs": []
    },
    {
      "cell_type": "code",
      "source": [
        "rfReg = RandomForestRegressor(random_state = 42)\n",
        "rfReg.fit(xTrain, yTrain)\n",
        "yTestHat = rfReg.predict(xTest)"
      ],
      "metadata": {
        "id": "5gFL6GQ9ikKY"
      },
      "execution_count": null,
      "outputs": []
    },
    {
      "cell_type": "markdown",
      "source": [
        "### Feature Importance Visualization"
      ],
      "metadata": {
        "id": "AvdCiqfXOWeW"
      }
    },
    {
      "cell_type": "code",
      "source": [
        "visualizeImportances(pd.Series(rfReg.feature_importances_, index = inputFeatures).sort_values(ascending = False))"
      ],
      "metadata": {
        "id": "UpiGXZU4OWeX"
      },
      "execution_count": null,
      "outputs": []
    },
    {
      "cell_type": "markdown",
      "source": [
        "### Model Evaluation"
      ],
      "metadata": {
        "id": "p6sDK4V5jY16"
      }
    },
    {
      "cell_type": "code",
      "source": [
        "yTestHat = mmScalerY.inverse_transform(yTestHat.reshape(-1, 1)).reshape(-1)"
      ],
      "metadata": {
        "id": "YfENt9bAENTZ"
      },
      "execution_count": null,
      "outputs": []
    },
    {
      "cell_type": "code",
      "source": [
        "plotBarChart(yTest, yTestHat)"
      ],
      "metadata": {
        "id": "Nzwu1cYrjY2B"
      },
      "execution_count": null,
      "outputs": []
    },
    {
      "cell_type": "code",
      "source": [
        "RMSE(yTestHat, yTest)"
      ],
      "metadata": {
        "id": "1javTaqkjY2B"
      },
      "execution_count": null,
      "outputs": []
    },
    {
      "cell_type": "markdown",
      "source": [
        "# Binary Class Classification"
      ],
      "metadata": {
        "id": "vWIeaGLs7MLj"
      }
    },
    {
      "cell_type": "markdown",
      "source": [
        "## Get Classification Dataset"
      ],
      "metadata": {
        "id": "Dg1NrhEa7STf"
      }
    },
    {
      "cell_type": "code",
      "source": [
        "data = datasets.load_breast_cancer(as_frame = True)"
      ],
      "metadata": {
        "id": "sBVxcr1Z7STg"
      },
      "execution_count": null,
      "outputs": []
    },
    {
      "cell_type": "code",
      "source": [
        "x, y = data.data, data.target"
      ],
      "metadata": {
        "id": "52Wvoigg7STg"
      },
      "execution_count": null,
      "outputs": []
    },
    {
      "cell_type": "code",
      "source": [
        "inputFeatures = x.columns\n",
        "print(inputFeatures)"
      ],
      "metadata": {
        "id": "h78U2OocPUXD"
      },
      "execution_count": null,
      "outputs": []
    },
    {
      "cell_type": "markdown",
      "source": [
        "## Dataset Analysis"
      ],
      "metadata": {
        "id": "YtOFuHv09gJW"
      }
    },
    {
      "cell_type": "code",
      "source": [
        "x.describe()"
      ],
      "metadata": {
        "id": "qRpUZLFY9ibI"
      },
      "execution_count": null,
      "outputs": []
    },
    {
      "cell_type": "code",
      "source": [
        "y.plot.hist()\n",
        "plt.show()"
      ],
      "metadata": {
        "id": "nc4-goJs9jWh"
      },
      "execution_count": null,
      "outputs": []
    },
    {
      "cell_type": "markdown",
      "source": [
        "## Dataset Preprocessing"
      ],
      "metadata": {
        "id": "D1FIcn38EeMo"
      }
    },
    {
      "cell_type": "markdown",
      "source": [
        "### Scale Input Dataset"
      ],
      "metadata": {
        "id": "zefYjwQuEeMp"
      }
    },
    {
      "cell_type": "code",
      "source": [
        "x, y = np.array(x), np.array(y)"
      ],
      "metadata": {
        "id": "lXYL9-DFEeMp"
      },
      "execution_count": null,
      "outputs": []
    },
    {
      "cell_type": "code",
      "source": [
        "mmScalerX = MinMaxScaler()\n",
        "mmScalerX.fit(x)\n",
        "x = mmScalerX.transform(x)"
      ],
      "metadata": {
        "id": "WvTaJgwVEeMp"
      },
      "execution_count": null,
      "outputs": []
    },
    {
      "cell_type": "markdown",
      "source": [
        "### Split Dataset"
      ],
      "metadata": {
        "id": "pZo8ybuM7STg"
      }
    },
    {
      "cell_type": "code",
      "source": [
        "xTrain, xTest, yTrain, yTest = train_test_split(x, y, test_size = 0.3, random_state = 42)"
      ],
      "metadata": {
        "id": "j3poNOr87STg"
      },
      "execution_count": null,
      "outputs": []
    },
    {
      "cell_type": "code",
      "source": [
        "print(xTrain.shape, yTrain.shape)\n",
        "print(xTest.shape, yTest.shape)"
      ],
      "metadata": {
        "id": "iuOWMdu37STg"
      },
      "execution_count": null,
      "outputs": []
    },
    {
      "cell_type": "markdown",
      "source": [
        "## Logistic Regression"
      ],
      "metadata": {
        "id": "xs0qfa8_-jTe"
      }
    },
    {
      "cell_type": "code",
      "source": [
        "from sklearn.linear_model import LogisticRegression"
      ],
      "metadata": {
        "id": "Da4t5QbA9X8M"
      },
      "execution_count": null,
      "outputs": []
    },
    {
      "cell_type": "code",
      "source": [
        "lgReg = LogisticRegression(max_iter = 10000, random_state = 42)\n",
        "lgReg.fit(xTrain, yTrain)\n",
        "yTestHat = lgReg.predict(xTest)"
      ],
      "metadata": {
        "id": "0imAwKGH-pDI"
      },
      "execution_count": null,
      "outputs": []
    },
    {
      "cell_type": "markdown",
      "source": [
        "### Model Evaluation"
      ],
      "metadata": {
        "id": "HAjUjulB-7zl"
      }
    },
    {
      "cell_type": "code",
      "source": [
        "from sklearn.metrics import accuracy_score, confusion_matrix, classification_report"
      ],
      "metadata": {
        "id": "QyyLIDJ4-2U2"
      },
      "execution_count": null,
      "outputs": []
    },
    {
      "cell_type": "code",
      "source": [
        "accScore = accuracy_score(yTest, yTestHat)\n",
        "print(accScore)"
      ],
      "metadata": {
        "id": "HrdYpQlp_AtV"
      },
      "execution_count": null,
      "outputs": []
    },
    {
      "cell_type": "code",
      "source": [
        "cm = confusion_matrix(yTest, yTestHat)\n",
        "print(cm)"
      ],
      "metadata": {
        "id": "Q61Kv-r7_GCs"
      },
      "execution_count": null,
      "outputs": []
    },
    {
      "cell_type": "code",
      "source": [
        "clsRp = classification_report(yTest, yTestHat)\n",
        "print(clsRp)"
      ],
      "metadata": {
        "id": "FF7PdXBR_LZ3"
      },
      "execution_count": null,
      "outputs": []
    },
    {
      "cell_type": "markdown",
      "source": [
        "## Decision Tree Classification"
      ],
      "metadata": {
        "id": "8XsaBw4U__uK"
      }
    },
    {
      "cell_type": "code",
      "source": [
        "from sklearn.tree import DecisionTreeClassifier"
      ],
      "metadata": {
        "id": "tPwDver2__uK"
      },
      "execution_count": null,
      "outputs": []
    },
    {
      "cell_type": "code",
      "source": [
        "dtCls = DecisionTreeClassifier(random_state = 42)\n",
        "dtCls.fit(xTrain, yTrain)\n",
        "yTestHat = dtCls.predict(xTest)"
      ],
      "metadata": {
        "id": "NC6d2WQG__uL"
      },
      "execution_count": null,
      "outputs": []
    },
    {
      "cell_type": "markdown",
      "source": [
        "### Feature Importance Visualization"
      ],
      "metadata": {
        "id": "pZchgFXAP3sj"
      }
    },
    {
      "cell_type": "code",
      "source": [
        "visualizeImportances(pd.Series(dtCls.feature_importances_, index = inputFeatures).sort_values(ascending = False))"
      ],
      "metadata": {
        "id": "1UoFHpaNP3sj"
      },
      "execution_count": null,
      "outputs": []
    },
    {
      "cell_type": "markdown",
      "source": [
        "### Visualize Decision Tree"
      ],
      "metadata": {
        "id": "rwRp2Hy98zmN"
      }
    },
    {
      "cell_type": "code",
      "source": [
        "plt.figure(figsize = (24, 18))\n",
        "plot_tree(dtCls)\n",
        "plt.show()"
      ],
      "metadata": {
        "id": "Z--LMLHh8zmN"
      },
      "execution_count": null,
      "outputs": []
    },
    {
      "cell_type": "markdown",
      "source": [
        "### Model Evaluation"
      ],
      "metadata": {
        "id": "ISiaO-y-__uM"
      }
    },
    {
      "cell_type": "code",
      "source": [
        "accScore = accuracy_score(yTest, yTestHat)\n",
        "print(accScore)"
      ],
      "metadata": {
        "id": "YNk5pepl__uM"
      },
      "execution_count": null,
      "outputs": []
    },
    {
      "cell_type": "code",
      "source": [
        "cm = confusion_matrix(yTest, yTestHat)\n",
        "print(cm)"
      ],
      "metadata": {
        "id": "LePQnU9K__uM"
      },
      "execution_count": null,
      "outputs": []
    },
    {
      "cell_type": "code",
      "source": [
        "clsRp = classification_report(yTest, yTestHat)\n",
        "print(clsRp)"
      ],
      "metadata": {
        "id": "mOuY8JXA__uN"
      },
      "execution_count": null,
      "outputs": []
    },
    {
      "cell_type": "markdown",
      "source": [
        "## Random Forest Classification"
      ],
      "metadata": {
        "id": "If91WqPqAO3b"
      }
    },
    {
      "cell_type": "code",
      "source": [
        "from sklearn.ensemble import RandomForestClassifier"
      ],
      "metadata": {
        "id": "MidBkvK9AO3b"
      },
      "execution_count": null,
      "outputs": []
    },
    {
      "cell_type": "code",
      "source": [
        "rfCls = RandomForestClassifier(random_state = 42)\n",
        "rfCls.fit(xTrain, yTrain)\n",
        "yTestHat = rfCls.predict(xTest)"
      ],
      "metadata": {
        "id": "jmd-Yv8hAO3b"
      },
      "execution_count": null,
      "outputs": []
    },
    {
      "cell_type": "markdown",
      "source": [
        "### Feature Importance Visualization"
      ],
      "metadata": {
        "id": "g5NoLEyIQvmg"
      }
    },
    {
      "cell_type": "code",
      "source": [
        "visualizeImportances(pd.Series(rfCls.feature_importances_, index = inputFeatures).sort_values(ascending = False))"
      ],
      "metadata": {
        "id": "DaKpXWNjQvmg"
      },
      "execution_count": null,
      "outputs": []
    },
    {
      "cell_type": "markdown",
      "source": [
        "### Model Evaluation"
      ],
      "metadata": {
        "id": "cyF3F6dBAO3c"
      }
    },
    {
      "cell_type": "code",
      "source": [
        "accScore = accuracy_score(yTest, yTestHat)\n",
        "print(accScore)"
      ],
      "metadata": {
        "id": "5U5lXNBQAO3c"
      },
      "execution_count": null,
      "outputs": []
    },
    {
      "cell_type": "code",
      "source": [
        "cm = confusion_matrix(yTest, yTestHat)\n",
        "print(cm)"
      ],
      "metadata": {
        "id": "Wqq5jAADAO3c"
      },
      "execution_count": null,
      "outputs": []
    },
    {
      "cell_type": "code",
      "source": [
        "clsRp = classification_report(yTest, yTestHat)\n",
        "print(clsRp)"
      ],
      "metadata": {
        "id": "Hv9sZ_SQAO3c"
      },
      "execution_count": null,
      "outputs": []
    },
    {
      "cell_type": "markdown",
      "source": [
        "# Multi Class Classification"
      ],
      "metadata": {
        "id": "x8zZCOYZHGEM"
      }
    },
    {
      "cell_type": "markdown",
      "source": [
        "## Load Dataset"
      ],
      "metadata": {
        "id": "V5vrbN5SHJCK"
      }
    },
    {
      "cell_type": "code",
      "source": [
        "df = pd.read_csv(\"#csv 파일의 절대경로 입력\")"
      ],
      "metadata": {
        "id": "XXFci_lKHKYI"
      },
      "execution_count": null,
      "outputs": []
    },
    {
      "cell_type": "code",
      "source": [
        "df.shape"
      ],
      "metadata": {
        "id": "eazrAxLzHeNB"
      },
      "execution_count": null,
      "outputs": []
    },
    {
      "cell_type": "code",
      "source": [
        "df"
      ],
      "metadata": {
        "id": "rI3QFV9eJTDK"
      },
      "execution_count": null,
      "outputs": []
    },
    {
      "cell_type": "markdown",
      "source": [
        "## Data Preprocessing"
      ],
      "metadata": {
        "id": "qFyQiiHLHiMl"
      }
    },
    {
      "cell_type": "code",
      "source": [
        "x = df.drop(columns = \"Class\", axis = 1)\n",
        "y = df[\"Class\"]"
      ],
      "metadata": {
        "id": "nj02N3CMHfve"
      },
      "execution_count": null,
      "outputs": []
    },
    {
      "cell_type": "code",
      "source": [
        "inputFeatures = x.columns"
      ],
      "metadata": {
        "id": "8-zeKDqERqOs"
      },
      "execution_count": null,
      "outputs": []
    },
    {
      "cell_type": "markdown",
      "source": [
        "### Scale Input Dataset"
      ],
      "metadata": {
        "id": "cIa_GYMHJfub"
      }
    },
    {
      "cell_type": "code",
      "source": [
        "mmScaler = MinMaxScaler()\n",
        "mmScaler.fit(x)\n",
        "x = mmScaler.transform(x)"
      ],
      "metadata": {
        "id": "8XJiaBv6Jca4"
      },
      "execution_count": null,
      "outputs": []
    },
    {
      "cell_type": "markdown",
      "source": [
        "### Label Encode Target Dataset"
      ],
      "metadata": {
        "id": "qb6Tw1Q4JnSV"
      }
    },
    {
      "cell_type": "code",
      "source": [
        "from sklearn.preprocessing import LabelEncoder"
      ],
      "metadata": {
        "id": "bvGBTBo1Jpc0"
      },
      "execution_count": null,
      "outputs": []
    },
    {
      "cell_type": "code",
      "source": [
        "y"
      ],
      "metadata": {
        "id": "_P56y4m8JsuZ"
      },
      "execution_count": null,
      "outputs": []
    },
    {
      "cell_type": "code",
      "source": [
        "lbEnc = LabelEncoder()\n",
        "lbEnc.fit(y)\n",
        "y = lbEnc.transform(y)"
      ],
      "metadata": {
        "id": "GzcH-BwNJtzR"
      },
      "execution_count": null,
      "outputs": []
    },
    {
      "cell_type": "code",
      "source": [
        "y"
      ],
      "metadata": {
        "id": "0hpQE45wJyYp"
      },
      "execution_count": null,
      "outputs": []
    },
    {
      "cell_type": "markdown",
      "source": [
        "### Split Dataset"
      ],
      "metadata": {
        "id": "QzieIMm2J1RK"
      }
    },
    {
      "cell_type": "code",
      "source": [
        "xTrain, xTest, yTrain, yTest = train_test_split(x, y, test_size = 0.3, random_state = 42)"
      ],
      "metadata": {
        "id": "HAeA7I-ZJ9EZ"
      },
      "execution_count": null,
      "outputs": []
    },
    {
      "cell_type": "code",
      "source": [
        "print(xTrain.shape, yTrain.shape)\n",
        "print(xTest.shape, yTest.shape)"
      ],
      "metadata": {
        "id": "E0_tl-AtJ9EZ"
      },
      "execution_count": null,
      "outputs": []
    },
    {
      "cell_type": "markdown",
      "source": [
        "## Random Forest Classification"
      ],
      "metadata": {
        "id": "KTq3-Yl-KDdn"
      }
    },
    {
      "cell_type": "code",
      "source": [
        "rfCls = RandomForestClassifier(random_state = 42)\n",
        "rfCls.fit(xTrain, yTrain)\n",
        "yTestHat = rfCls.predict(xTest)"
      ],
      "metadata": {
        "id": "wCaLPFOGKDdo"
      },
      "execution_count": null,
      "outputs": []
    },
    {
      "cell_type": "markdown",
      "source": [
        "### Feature Importance Visualization"
      ],
      "metadata": {
        "id": "CiwQHf6iQ1Gv"
      }
    },
    {
      "cell_type": "code",
      "source": [
        "visualizeImportances(pd.Series(rfCls.feature_importances_, index = inputFeatures).sort_values(ascending = False))"
      ],
      "metadata": {
        "id": "Uf117RhHQ1Gw"
      },
      "execution_count": null,
      "outputs": []
    },
    {
      "cell_type": "markdown",
      "source": [
        "### Model Evaluation"
      ],
      "metadata": {
        "id": "4Sw7xbknKDdo"
      }
    },
    {
      "cell_type": "code",
      "source": [
        "accScore = accuracy_score(yTest, yTestHat)\n",
        "print(accScore)"
      ],
      "metadata": {
        "id": "RsYJyruYKDdo"
      },
      "execution_count": null,
      "outputs": []
    },
    {
      "cell_type": "code",
      "source": [
        "cm = confusion_matrix(yTest, yTestHat)\n",
        "print(cm)"
      ],
      "metadata": {
        "id": "gdN1aIX9KDdo"
      },
      "execution_count": null,
      "outputs": []
    },
    {
      "cell_type": "code",
      "source": [
        "clsRp = classification_report(yTest, yTestHat)\n",
        "print(clsRp)"
      ],
      "metadata": {
        "id": "cF_RwZVEKDdo"
      },
      "execution_count": null,
      "outputs": []
    },
    {
      "cell_type": "markdown",
      "source": [
        "# Cross Validation"
      ],
      "metadata": {
        "id": "GKtxTFs-AsGY"
      }
    },
    {
      "cell_type": "code",
      "source": [
        "from sklearn.model_selection import cross_val_score"
      ],
      "metadata": {
        "id": "HpRkxlIXAt5m"
      },
      "execution_count": null,
      "outputs": []
    },
    {
      "cell_type": "code",
      "source": [
        "accScore = cross_val_score(lgReg, x, y, cv = 5)"
      ],
      "metadata": {
        "id": "e8XI__spE6Vy"
      },
      "execution_count": null,
      "outputs": []
    },
    {
      "cell_type": "code",
      "source": [
        "for i, subScore in enumerate(accScore) :\n",
        "  print(f\"Part{i+1} Accuracy : {subScore:.4f}\")"
      ],
      "metadata": {
        "id": "iQOoZDsXFFiT"
      },
      "execution_count": null,
      "outputs": []
    },
    {
      "cell_type": "code",
      "source": [
        "print(f\"Average Score : {np.mean(accScore):.4f}\")"
      ],
      "metadata": {
        "id": "tFROiUluFQPL"
      },
      "execution_count": null,
      "outputs": []
    },
    {
      "cell_type": "markdown",
      "source": [
        "# 실습"
      ],
      "metadata": {
        "id": "1Xt5JUDfKXSd"
      }
    },
    {
      "cell_type": "markdown",
      "source": [
        "## Scikit-Learn의 Digits Dataset을 기반으로 Multi Class Classification을 진행하세요.\n",
        "### 1) Dataset를 불러온 후 Min-Max Scailing을 진행하세요.\n",
        "### 2) 분류 모델로는 Decision Tree와 Random Forest를 사용한 후 성능을 비교하세요.\n",
        "### 3) Random Forest 모델을 기반으로 4-Fold Cross Validation을 진행하세요."
      ],
      "metadata": {
        "id": "v9SXypJiKYqj"
      }
    },
    {
      "cell_type": "code",
      "source": [
        "data = datasets.load_digits(as_frame = True)"
      ],
      "metadata": {
        "id": "ys4dMk-xKX-I"
      },
      "execution_count": null,
      "outputs": []
    }
  ]
}