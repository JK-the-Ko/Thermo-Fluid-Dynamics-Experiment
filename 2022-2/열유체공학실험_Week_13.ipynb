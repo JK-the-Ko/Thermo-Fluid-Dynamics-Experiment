{
  "nbformat": 4,
  "nbformat_minor": 0,
  "metadata": {
    "colab": {
      "provenance": [],
      "collapsed_sections": [
        "bMQkCCeZCrq6",
        "UtMl1YRCCumi",
        "JBIdrtEbdMAS",
        "6bTm6u8Tebfh",
        "l3cxxq8yflZp",
        "6peTyMC3g55N",
        "lXD9rTFmg8QX",
        "Sj2Krr-ghKtq",
        "xgW95Ol4hS4R",
        "4oQ5I0Jrh8hH",
        "awEsCN7RtZdl",
        "xBr2K1V7iBdz",
        "CnkfKUF7iYta",
        "3RMSxy_ql_05",
        "CsVX9W6ynfLG",
        "G7RCRNh2n00e",
        "Dg1NrhEa7STf",
        "YtOFuHv09gJW",
        "D1FIcn38EeMo",
        "zefYjwQuEeMp",
        "pZo8ybuM7STg",
        "xs0qfa8_-jTe",
        "HAjUjulB-7zl",
        "aIWlQUnRs-FQ",
        "oa21ntPVtKZ4",
        "9KBRuV6Vtdwo",
        "UByi28DItdwp",
        "Tftt9060tKZ5",
        "zKT6nK6AtKZ6",
        "PxJ2lm1stKZ6",
        "deNbWg7StKZ7",
        "-b9LKC5AtKZ8",
        "9-wTWRucyGm5",
        "uqqSRTcCkGKD",
        "V5vrbN5SHJCK",
        "qFyQiiHLHiMl",
        "cIa_GYMHJfub",
        "qb6Tw1Q4JnSV",
        "QzieIMm2J1RK",
        "KTq3-Yl-KDdn",
        "4Sw7xbknKDdo",
        "KOv8IqInwaFZ",
        "IExkv7fowcnm",
        "sPgyDviRwkzR",
        "plVuC5CIwaFZ",
        "J_ZgKOEMwaFa",
        "in4fKdANwaFa",
        "PuQhWbATwaFa",
        "-1VaFcX4waFa",
        "BKkdW0H9waFb",
        "Xme15CvDwaFb",
        "t3spUjmTwaFb",
        "VhjkSmQSyQ4o"
      ],
      "authorship_tag": "ABX9TyNSAdBwNevpsHKG2Zou+/e2",
      "include_colab_link": true
    },
    "kernelspec": {
      "name": "python3",
      "display_name": "Python 3"
    },
    "language_info": {
      "name": "python"
    },
    "accelerator": "GPU",
    "gpuClass": "standard"
  },
  "cells": [
    {
      "cell_type": "markdown",
      "metadata": {
        "id": "view-in-github",
        "colab_type": "text"
      },
      "source": [
        "<a href=\"https://colab.research.google.com/github/JK-the-Ko/Thermo-Fluid-Dynamics-Experiment/blob/main/2022-2/%EC%97%B4%EC%9C%A0%EC%B2%B4%EA%B3%B5%ED%95%99%EC%8B%A4%ED%97%98_Week_13.ipynb\" target=\"_parent\"><img src=\"https://colab.research.google.com/assets/colab-badge.svg\" alt=\"Open In Colab\"/></a>"
      ]
    },
    {
      "cell_type": "markdown",
      "source": [
        "# Regression"
      ],
      "metadata": {
        "id": "C1JpQ-YLawhC"
      }
    },
    {
      "cell_type": "markdown",
      "source": [
        "## Import Library"
      ],
      "metadata": {
        "id": "CXTVbwTqazda"
      }
    },
    {
      "cell_type": "code",
      "execution_count": null,
      "metadata": {
        "id": "t8PMi8S-aR4e"
      },
      "outputs": [],
      "source": [
        "import numpy as np\n",
        "import pandas as pd\n",
        "import matplotlib.pyplot as plt"
      ]
    },
    {
      "cell_type": "markdown",
      "source": [
        "### Import Scikit-Learn"
      ],
      "metadata": {
        "id": "MSKtJVbebE6w"
      }
    },
    {
      "cell_type": "code",
      "source": [
        "import sklearn"
      ],
      "metadata": {
        "id": "ldIDMF1ObCIv"
      },
      "execution_count": null,
      "outputs": []
    },
    {
      "cell_type": "code",
      "source": [
        "sklearn.__version__"
      ],
      "metadata": {
        "id": "sjpm_9rEbEM5"
      },
      "execution_count": null,
      "outputs": []
    },
    {
      "cell_type": "markdown",
      "source": [
        "## Get Regression Dataset"
      ],
      "metadata": {
        "id": "fj3HyZK9bhqC"
      }
    },
    {
      "cell_type": "code",
      "source": [
        "from sklearn import datasets"
      ],
      "metadata": {
        "id": "qa2KFpmucNuG"
      },
      "execution_count": null,
      "outputs": []
    },
    {
      "cell_type": "code",
      "source": [
        "data = datasets.load_diabetes(as_frame = True)"
      ],
      "metadata": {
        "id": "9a9kxlQLbJ-E"
      },
      "execution_count": null,
      "outputs": []
    },
    {
      "cell_type": "code",
      "source": [
        "x, y = data.data, data.target"
      ],
      "metadata": {
        "id": "faQ4ZgEncBD6"
      },
      "execution_count": null,
      "outputs": []
    },
    {
      "cell_type": "code",
      "source": [
        "x"
      ],
      "metadata": {
        "id": "EPbqWG3igpF1"
      },
      "execution_count": null,
      "outputs": []
    },
    {
      "cell_type": "code",
      "source": [
        "y"
      ],
      "metadata": {
        "id": "3PvhfGjUgq16"
      },
      "execution_count": null,
      "outputs": []
    },
    {
      "cell_type": "code",
      "source": [
        "inputFeatures = x.columns\n",
        "print(inputFeatures)"
      ],
      "metadata": {
        "id": "WKK5ds61M_mU"
      },
      "execution_count": null,
      "outputs": []
    },
    {
      "cell_type": "markdown",
      "source": [
        "## Dataset Preprocessing"
      ],
      "metadata": {
        "id": "RRYMoULYCOBn"
      }
    },
    {
      "cell_type": "code",
      "source": [
        "from sklearn.preprocessing import MinMaxScaler"
      ],
      "metadata": {
        "id": "xcKZLmFBCQnb"
      },
      "execution_count": null,
      "outputs": []
    },
    {
      "cell_type": "markdown",
      "source": [
        "### Scale Input Dataset"
      ],
      "metadata": {
        "id": "bMQkCCeZCrq6"
      }
    },
    {
      "cell_type": "code",
      "source": [
        "x, y = np.array(x), np.array(y)"
      ],
      "metadata": {
        "id": "CSo7fhNbDHit"
      },
      "execution_count": null,
      "outputs": []
    },
    {
      "cell_type": "code",
      "source": [
        "mmScalerX = MinMaxScaler()\n",
        "mmScalerX.fit(x)\n",
        "x = mmScalerX.transform(x)"
      ],
      "metadata": {
        "id": "6fcy7XYzCT2i"
      },
      "execution_count": null,
      "outputs": []
    },
    {
      "cell_type": "markdown",
      "source": [
        "### Scale Target Dataset"
      ],
      "metadata": {
        "id": "UtMl1YRCCumi"
      }
    },
    {
      "cell_type": "code",
      "source": [
        "mmScalerY = MinMaxScaler()\n",
        "mmScalerY.fit(y.reshape(-1, 1))\n",
        "y = mmScalerY.transform(y.reshape(-1, 1)).reshape(-1)"
      ],
      "metadata": {
        "id": "zwxoN26wCuR4"
      },
      "execution_count": null,
      "outputs": []
    },
    {
      "cell_type": "markdown",
      "source": [
        "### Split Dataset"
      ],
      "metadata": {
        "id": "JBIdrtEbdMAS"
      }
    },
    {
      "cell_type": "code",
      "source": [
        "from sklearn.model_selection import train_test_split"
      ],
      "metadata": {
        "id": "zxMP_71bcbbz"
      },
      "execution_count": null,
      "outputs": []
    },
    {
      "cell_type": "code",
      "source": [
        "xTrain, xTest, yTrain, yTest = train_test_split(x, y, test_size = 0.3, random_state = 42)"
      ],
      "metadata": {
        "id": "0xqOdqDveNMv"
      },
      "execution_count": null,
      "outputs": []
    },
    {
      "cell_type": "code",
      "source": [
        "print(xTrain.shape, yTrain.shape)\n",
        "print(xTest.shape, yTest.shape)"
      ],
      "metadata": {
        "id": "uIg8BW7QeUGs"
      },
      "execution_count": null,
      "outputs": []
    },
    {
      "cell_type": "markdown",
      "source": [
        "## Linear Regression"
      ],
      "metadata": {
        "id": "6bTm6u8Tebfh"
      }
    },
    {
      "cell_type": "code",
      "source": [
        "def getParameter(x: np.array, y: np.array) :\n",
        "  xT = np.transpose(x)\n",
        "  output = np.matmul(np.matmul(np.linalg.inv(np.matmul(xT, x)), xT), y)\n",
        "\n",
        "  return output"
      ],
      "metadata": {
        "id": "xE8Pgj9XepP1"
      },
      "execution_count": null,
      "outputs": []
    },
    {
      "cell_type": "code",
      "source": [
        "betaHat = getParameter(xTrain, yTrain)"
      ],
      "metadata": {
        "id": "-FqVN8dzfRCL"
      },
      "execution_count": null,
      "outputs": []
    },
    {
      "cell_type": "code",
      "source": [
        "yTestHat = np.matmul(xTest, betaHat)"
      ],
      "metadata": {
        "id": "ZGwuwVMYfUyW"
      },
      "execution_count": null,
      "outputs": []
    },
    {
      "cell_type": "markdown",
      "source": [
        "### Model Evaluation"
      ],
      "metadata": {
        "id": "l3cxxq8yflZp"
      }
    },
    {
      "cell_type": "code",
      "source": [
        "def plotBarChart(yTest, yTestHat) :\n",
        "  fig, ax = plt.subplots(figsize = (10,4))\n",
        "  idx = np.asarray([i for i in range(50)])\n",
        "  width = 0.2\n",
        "\n",
        "  ax.bar(idx, yTest[:50], width = width)\n",
        "  ax.bar(idx+width, yTestHat[:50], width = width)\n",
        "  ax.set_xticks(idx)\n",
        "  ax.legend([\"Ground Truth\", \"Prediction\"])\n",
        "  ax.set_xlabel(\"# samples\")\n",
        "  ax.set_ylabel(\"Value\")\n",
        "\n",
        "  fig.tight_layout()\n",
        "  plt.show()"
      ],
      "metadata": {
        "id": "Zu4qnRKHfjH9"
      },
      "execution_count": null,
      "outputs": []
    },
    {
      "cell_type": "code",
      "source": [
        "def RMSE(yHat: np.array, y: np.array) :\n",
        "  output = np.sqrt(np.mean(np.power(y - yHat, 2)))\n",
        "\n",
        "  return output"
      ],
      "metadata": {
        "id": "sOecJecVgqQU"
      },
      "execution_count": null,
      "outputs": []
    },
    {
      "cell_type": "code",
      "source": [
        "yTest = mmScalerY.inverse_transform(yTest.reshape(-1, 1)).reshape(-1)\n",
        "yTestHat = mmScalerY.inverse_transform(yTestHat.reshape(-1, 1)).reshape(-1)"
      ],
      "metadata": {
        "id": "GOBEDUZBDwia"
      },
      "execution_count": null,
      "outputs": []
    },
    {
      "cell_type": "code",
      "source": [
        "plotBarChart(yTest, yTestHat)"
      ],
      "metadata": {
        "id": "vcnwW5qvAx92"
      },
      "execution_count": null,
      "outputs": []
    },
    {
      "cell_type": "code",
      "source": [
        "RMSE(yTestHat, yTest)"
      ],
      "metadata": {
        "id": "2fXdcOqsffZl"
      },
      "execution_count": null,
      "outputs": []
    },
    {
      "cell_type": "markdown",
      "source": [
        "## Deep Neural Network (DNN)"
      ],
      "metadata": {
        "id": "6peTyMC3g55N"
      }
    },
    {
      "cell_type": "markdown",
      "source": [
        "### Import Keras Library"
      ],
      "metadata": {
        "id": "lXD9rTFmg8QX"
      }
    },
    {
      "cell_type": "code",
      "source": [
        "from tensorflow import keras"
      ],
      "metadata": {
        "id": "0Cbxjn8Mg9tv"
      },
      "execution_count": null,
      "outputs": []
    },
    {
      "cell_type": "markdown",
      "source": [
        "### Fix Seed"
      ],
      "metadata": {
        "id": "Sj2Krr-ghKtq"
      }
    },
    {
      "cell_type": "code",
      "source": [
        "import tensorflow as tf\n",
        "from keras import backend as K\n",
        "import random\n",
        "\n",
        "def fixSeed(numSeed = 42) :\n",
        "  np.random.seed(numSeed)\n",
        "  random.seed(numSeed)\n",
        "  tf.random.set_seed(numSeed)\n",
        "\n",
        "  sessionConf = tf.compat.v1.ConfigProto(intra_op_parallelism_threads=1, inter_op_parallelism_threads=1)\n",
        "  sess = tf.compat.v1.Session(graph=tf.compat.v1.get_default_graph(), config=sessionConf)\n",
        "  K.set_session(sess)"
      ],
      "metadata": {
        "id": "94SO57BfhKlq"
      },
      "execution_count": null,
      "outputs": []
    },
    {
      "cell_type": "markdown",
      "source": [
        "### Build Neural Network"
      ],
      "metadata": {
        "id": "xgW95Ol4hS4R"
      }
    },
    {
      "cell_type": "code",
      "source": [
        "K.clear_session()\n",
        "fixSeed()"
      ],
      "metadata": {
        "id": "YBtFuv1vkZO4"
      },
      "execution_count": null,
      "outputs": []
    },
    {
      "cell_type": "code",
      "source": [
        "model = keras.Sequential()"
      ],
      "metadata": {
        "id": "SOBeaW8ohSuf"
      },
      "execution_count": null,
      "outputs": []
    },
    {
      "cell_type": "code",
      "source": [
        "model.add(keras.layers.Dense(16, \"relu\", input_dim=x.shape[1]))\n",
        "model.add(keras.layers.Dense(64, \"relu\"))\n",
        "model.add(keras.layers.Dense(1))"
      ],
      "metadata": {
        "id": "N8YmZfKehX34"
      },
      "execution_count": null,
      "outputs": []
    },
    {
      "cell_type": "markdown",
      "source": [
        "### Summarize Model"
      ],
      "metadata": {
        "id": "4oQ5I0Jrh8hH"
      }
    },
    {
      "cell_type": "code",
      "source": [
        "model.summary()"
      ],
      "metadata": {
        "id": "GWS6hx6dh9t9"
      },
      "execution_count": null,
      "outputs": []
    },
    {
      "cell_type": "markdown",
      "source": [
        "### Visualize Model"
      ],
      "metadata": {
        "id": "awEsCN7RtZdl"
      }
    },
    {
      "cell_type": "code",
      "source": [
        "from keras.utils import plot_model\n",
        "plot_model(model, to_file=\"model.png\")"
      ],
      "metadata": {
        "id": "7NuOYWaEtVud"
      },
      "execution_count": null,
      "outputs": []
    },
    {
      "cell_type": "markdown",
      "source": [
        "### Compile Model"
      ],
      "metadata": {
        "id": "xBr2K1V7iBdz"
      }
    },
    {
      "cell_type": "code",
      "source": [
        "lr, batchSize, epoch = 1e-2, 32, 500"
      ],
      "metadata": {
        "id": "1OsSk5rXme0t"
      },
      "execution_count": null,
      "outputs": []
    },
    {
      "cell_type": "code",
      "source": [
        "model.compile(loss=\"mean_squared_error\", optimizer=keras.optimizers.SGD(learning_rate=lr), metrics=[\"mae\"])"
      ],
      "metadata": {
        "id": "y_SGiomGh__-"
      },
      "execution_count": null,
      "outputs": []
    },
    {
      "cell_type": "markdown",
      "source": [
        "### Train Model"
      ],
      "metadata": {
        "id": "CnkfKUF7iYta"
      }
    },
    {
      "cell_type": "code",
      "source": [
        "history = model.fit(xTrain, yTrain, batch_size=batchSize, epochs=epoch)"
      ],
      "metadata": {
        "id": "exHhe3SOiZib"
      },
      "execution_count": null,
      "outputs": []
    },
    {
      "cell_type": "markdown",
      "source": [
        "### Visualize Training Procedure"
      ],
      "metadata": {
        "id": "3RMSxy_ql_05"
      }
    },
    {
      "cell_type": "code",
      "source": [
        "plt.subplots(figsize = (10,5))\n",
        "plt.plot(np.arange(epoch), history.history[\"loss\"], label=\"Training RMSE Loss\")\n",
        "plt.xlabel(\"# Epoch\")\n",
        "plt.ylabel(\"RMSE Loss\")\n",
        "plt.title(\"Training Loss\")\n",
        "plt.legend(loc=\"best\")\n",
        "plt.show()"
      ],
      "metadata": {
        "id": "eq9s_pxUmB80"
      },
      "execution_count": null,
      "outputs": []
    },
    {
      "cell_type": "code",
      "source": [
        "plt.subplots(figsize = (10,5))\n",
        "plt.plot(np.arange(epoch), history.history[\"mae\"], label=\"Training MAE Loss\")\n",
        "plt.xlabel(\"# Epoch\")\n",
        "plt.ylabel(\"MAE Loss\")\n",
        "plt.title(\"Training Loss\")\n",
        "plt.legend(loc=\"best\")\n",
        "plt.show()"
      ],
      "metadata": {
        "id": "iLjXtCuTnMxF"
      },
      "execution_count": null,
      "outputs": []
    },
    {
      "cell_type": "markdown",
      "source": [
        "### Inference Result"
      ],
      "metadata": {
        "id": "CsVX9W6ynfLG"
      }
    },
    {
      "cell_type": "code",
      "source": [
        "yPred = model.predict(xTest)"
      ],
      "metadata": {
        "id": "UMZo_z3Jngx7"
      },
      "execution_count": null,
      "outputs": []
    },
    {
      "cell_type": "code",
      "source": [
        "print(type(yPred))\n",
        "print(yPred.shape)"
      ],
      "metadata": {
        "id": "PS5FUZltnjlp"
      },
      "execution_count": null,
      "outputs": []
    },
    {
      "cell_type": "markdown",
      "source": [
        "### Model Evaluation"
      ],
      "metadata": {
        "id": "G7RCRNh2n00e"
      }
    },
    {
      "cell_type": "code",
      "source": [
        "yPred = mmScalerY.inverse_transform(yPred).reshape(-1)"
      ],
      "metadata": {
        "id": "y4TXXfMlnk-1"
      },
      "execution_count": null,
      "outputs": []
    },
    {
      "cell_type": "code",
      "source": [
        "plotBarChart(yTest, yPred)"
      ],
      "metadata": {
        "id": "Z60kHejjn17N"
      },
      "execution_count": null,
      "outputs": []
    },
    {
      "cell_type": "code",
      "source": [
        "RMSE(yPred, yTest)"
      ],
      "metadata": {
        "id": "8NABblV4oCom"
      },
      "execution_count": null,
      "outputs": []
    },
    {
      "cell_type": "markdown",
      "source": [
        "# Binary Class Classification"
      ],
      "metadata": {
        "id": "vWIeaGLs7MLj"
      }
    },
    {
      "cell_type": "markdown",
      "source": [
        "## Get Classification Dataset"
      ],
      "metadata": {
        "id": "Dg1NrhEa7STf"
      }
    },
    {
      "cell_type": "code",
      "source": [
        "data = datasets.load_breast_cancer(as_frame = True)"
      ],
      "metadata": {
        "id": "sBVxcr1Z7STg"
      },
      "execution_count": null,
      "outputs": []
    },
    {
      "cell_type": "code",
      "source": [
        "x, y = data.data, data.target"
      ],
      "metadata": {
        "id": "52Wvoigg7STg"
      },
      "execution_count": null,
      "outputs": []
    },
    {
      "cell_type": "code",
      "source": [
        "inputFeatures = x.columns\n",
        "print(inputFeatures)"
      ],
      "metadata": {
        "id": "h78U2OocPUXD"
      },
      "execution_count": null,
      "outputs": []
    },
    {
      "cell_type": "markdown",
      "source": [
        "## Dataset Analysis"
      ],
      "metadata": {
        "id": "YtOFuHv09gJW"
      }
    },
    {
      "cell_type": "code",
      "source": [
        "x.describe()"
      ],
      "metadata": {
        "id": "qRpUZLFY9ibI"
      },
      "execution_count": null,
      "outputs": []
    },
    {
      "cell_type": "code",
      "source": [
        "y.plot.hist()\n",
        "plt.show()"
      ],
      "metadata": {
        "id": "nc4-goJs9jWh"
      },
      "execution_count": null,
      "outputs": []
    },
    {
      "cell_type": "markdown",
      "source": [
        "## Dataset Preprocessing"
      ],
      "metadata": {
        "id": "D1FIcn38EeMo"
      }
    },
    {
      "cell_type": "markdown",
      "source": [
        "### Scale Input Dataset"
      ],
      "metadata": {
        "id": "zefYjwQuEeMp"
      }
    },
    {
      "cell_type": "code",
      "source": [
        "x, y = np.array(x), np.array(y)"
      ],
      "metadata": {
        "id": "lXYL9-DFEeMp"
      },
      "execution_count": null,
      "outputs": []
    },
    {
      "cell_type": "code",
      "source": [
        "mmScalerX = MinMaxScaler()\n",
        "mmScalerX.fit(x)\n",
        "x = mmScalerX.transform(x)"
      ],
      "metadata": {
        "id": "WvTaJgwVEeMp"
      },
      "execution_count": null,
      "outputs": []
    },
    {
      "cell_type": "markdown",
      "source": [
        "### Split Dataset"
      ],
      "metadata": {
        "id": "pZo8ybuM7STg"
      }
    },
    {
      "cell_type": "code",
      "source": [
        "xTrain, xTest, yTrain, yTest = train_test_split(x, y, test_size = 0.3, random_state = 42)"
      ],
      "metadata": {
        "id": "j3poNOr87STg"
      },
      "execution_count": null,
      "outputs": []
    },
    {
      "cell_type": "code",
      "source": [
        "print(xTrain.shape, yTrain.shape)\n",
        "print(xTest.shape, yTest.shape)"
      ],
      "metadata": {
        "id": "iuOWMdu37STg"
      },
      "execution_count": null,
      "outputs": []
    },
    {
      "cell_type": "markdown",
      "source": [
        "## Logistic Regression"
      ],
      "metadata": {
        "id": "xs0qfa8_-jTe"
      }
    },
    {
      "cell_type": "code",
      "source": [
        "from sklearn.linear_model import LogisticRegression"
      ],
      "metadata": {
        "id": "Da4t5QbA9X8M"
      },
      "execution_count": null,
      "outputs": []
    },
    {
      "cell_type": "code",
      "source": [
        "lgReg = LogisticRegression(max_iter = 10000, random_state = 42)\n",
        "lgReg.fit(xTrain, yTrain)\n",
        "yTestHat = lgReg.predict(xTest)"
      ],
      "metadata": {
        "id": "0imAwKGH-pDI"
      },
      "execution_count": null,
      "outputs": []
    },
    {
      "cell_type": "markdown",
      "source": [
        "### Model Evaluation"
      ],
      "metadata": {
        "id": "HAjUjulB-7zl"
      }
    },
    {
      "cell_type": "code",
      "source": [
        "from sklearn.metrics import accuracy_score, confusion_matrix, classification_report"
      ],
      "metadata": {
        "id": "QyyLIDJ4-2U2"
      },
      "execution_count": null,
      "outputs": []
    },
    {
      "cell_type": "code",
      "source": [
        "accScore = accuracy_score(yTest, yTestHat)\n",
        "print(accScore)"
      ],
      "metadata": {
        "id": "HrdYpQlp_AtV"
      },
      "execution_count": null,
      "outputs": []
    },
    {
      "cell_type": "code",
      "source": [
        "cm = confusion_matrix(yTest, yTestHat)\n",
        "print(cm)"
      ],
      "metadata": {
        "id": "Q61Kv-r7_GCs"
      },
      "execution_count": null,
      "outputs": []
    },
    {
      "cell_type": "code",
      "source": [
        "clsRp = classification_report(yTest, yTestHat)\n",
        "print(clsRp)"
      ],
      "metadata": {
        "id": "FF7PdXBR_LZ3"
      },
      "execution_count": null,
      "outputs": []
    },
    {
      "cell_type": "markdown",
      "source": [
        "## Deep Neural Network"
      ],
      "metadata": {
        "id": "aIWlQUnRs-FQ"
      }
    },
    {
      "cell_type": "markdown",
      "source": [
        "### Build Neural Network"
      ],
      "metadata": {
        "id": "oa21ntPVtKZ4"
      }
    },
    {
      "cell_type": "code",
      "source": [
        "K.clear_session()\n",
        "fixSeed()"
      ],
      "metadata": {
        "id": "UNxnh2ldtKZ4"
      },
      "execution_count": null,
      "outputs": []
    },
    {
      "cell_type": "code",
      "source": [
        "model = keras.Sequential()"
      ],
      "metadata": {
        "id": "lPk-XPFktKZ4"
      },
      "execution_count": null,
      "outputs": []
    },
    {
      "cell_type": "code",
      "source": [
        "model.add(keras.layers.Dense(16, \"relu\", input_dim=x.shape[1]))\n",
        "model.add(keras.layers.Dense(64, \"relu\"))\n",
        "model.add(keras.layers.Dense(1, \"sigmoid\"))"
      ],
      "metadata": {
        "id": "A38BWuhZtKZ5"
      },
      "execution_count": null,
      "outputs": []
    },
    {
      "cell_type": "markdown",
      "source": [
        "### Summarize Model"
      ],
      "metadata": {
        "id": "9KBRuV6Vtdwo"
      }
    },
    {
      "cell_type": "code",
      "source": [
        "model.summary()"
      ],
      "metadata": {
        "id": "-fC-O8pytdwp"
      },
      "execution_count": null,
      "outputs": []
    },
    {
      "cell_type": "markdown",
      "source": [
        "### Visualize Model"
      ],
      "metadata": {
        "id": "UByi28DItdwp"
      }
    },
    {
      "cell_type": "code",
      "source": [
        "from keras.utils import plot_model\n",
        "plot_model(model, to_file=\"model.png\")"
      ],
      "metadata": {
        "id": "2Lwp44Aptdwp"
      },
      "execution_count": null,
      "outputs": []
    },
    {
      "cell_type": "markdown",
      "source": [
        "### Compile Model"
      ],
      "metadata": {
        "id": "Tftt9060tKZ5"
      }
    },
    {
      "cell_type": "code",
      "source": [
        "lr, batchSize, epoch = 1e-2, 32, 500"
      ],
      "metadata": {
        "id": "s_jUhrdgtKZ5"
      },
      "execution_count": null,
      "outputs": []
    },
    {
      "cell_type": "code",
      "source": [
        "model.compile(loss=\"binary_crossentropy\", optimizer=keras.optimizers.SGD(learning_rate=lr), metrics=[\"accuracy\"])"
      ],
      "metadata": {
        "id": "5vz0J1DStKZ5"
      },
      "execution_count": null,
      "outputs": []
    },
    {
      "cell_type": "markdown",
      "source": [
        "### Train Model"
      ],
      "metadata": {
        "id": "zKT6nK6AtKZ6"
      }
    },
    {
      "cell_type": "code",
      "source": [
        "history = model.fit(xTrain, yTrain, batch_size=batchSize, epochs=epoch)"
      ],
      "metadata": {
        "id": "l-cWmb5UtKZ6"
      },
      "execution_count": null,
      "outputs": []
    },
    {
      "cell_type": "markdown",
      "source": [
        "### Visualize Training Procedure"
      ],
      "metadata": {
        "id": "PxJ2lm1stKZ6"
      }
    },
    {
      "cell_type": "code",
      "source": [
        "plt.subplots(figsize = (10,5))\n",
        "plt.plot(np.arange(epoch), history.history[\"loss\"], label=\"Training Loss\")\n",
        "plt.xlabel(\"# Epoch\")\n",
        "plt.ylabel(\"Loss\")\n",
        "plt.title(\"Training Loss\")\n",
        "plt.legend(loc=\"best\")\n",
        "plt.show()"
      ],
      "metadata": {
        "id": "Vx3PcoQMtKZ6"
      },
      "execution_count": null,
      "outputs": []
    },
    {
      "cell_type": "code",
      "source": [
        "plt.subplots(figsize = (10,5))\n",
        "plt.plot(np.arange(epoch), history.history[\"accuracy\"], label=\"Training Accuracy\")\n",
        "plt.xlabel(\"# Epoch\")\n",
        "plt.ylabel(\"Accuracy\")\n",
        "plt.title(\"Training Accuracy\")\n",
        "plt.legend(loc=\"best\")\n",
        "plt.show()"
      ],
      "metadata": {
        "id": "YfbLxBobtKZ7"
      },
      "execution_count": null,
      "outputs": []
    },
    {
      "cell_type": "markdown",
      "source": [
        "### Inference Result"
      ],
      "metadata": {
        "id": "deNbWg7StKZ7"
      }
    },
    {
      "cell_type": "code",
      "source": [
        "yPred = model.predict(xTest)"
      ],
      "metadata": {
        "id": "EJM6Rj07tKZ7"
      },
      "execution_count": null,
      "outputs": []
    },
    {
      "cell_type": "code",
      "source": [
        "print(type(yPred))\n",
        "print(yPred.shape)"
      ],
      "metadata": {
        "id": "jQzAwgGdtKZ7"
      },
      "execution_count": null,
      "outputs": []
    },
    {
      "cell_type": "markdown",
      "source": [
        "### Model Evaluation"
      ],
      "metadata": {
        "id": "-b9LKC5AtKZ8"
      }
    },
    {
      "cell_type": "code",
      "source": [
        "yPred"
      ],
      "metadata": {
        "id": "rKhE_AU0yF2P"
      },
      "execution_count": null,
      "outputs": []
    },
    {
      "cell_type": "markdown",
      "source": [
        "#### Threshold Result"
      ],
      "metadata": {
        "id": "9-wTWRucyGm5"
      }
    },
    {
      "cell_type": "code",
      "source": [
        "yPred = np.where(yPred > 0.5, 1, 0)"
      ],
      "metadata": {
        "id": "9duo3N2cukw-"
      },
      "execution_count": null,
      "outputs": []
    },
    {
      "cell_type": "code",
      "source": [
        "yPred = yPred.reshape(-1)"
      ],
      "metadata": {
        "id": "dBzdxNkSuYdJ"
      },
      "execution_count": null,
      "outputs": []
    },
    {
      "cell_type": "code",
      "source": [
        "accScore = accuracy_score(yTest, yPred)\n",
        "print(accScore)"
      ],
      "metadata": {
        "id": "Y24Y7ePQufer"
      },
      "execution_count": null,
      "outputs": []
    },
    {
      "cell_type": "code",
      "source": [
        "cm = confusion_matrix(yTest, yPred)\n",
        "print(cm)"
      ],
      "metadata": {
        "id": "wCTvpo8Yufer"
      },
      "execution_count": null,
      "outputs": []
    },
    {
      "cell_type": "code",
      "source": [
        "clsRp = classification_report(yTest, yPred)\n",
        "print(clsRp)"
      ],
      "metadata": {
        "id": "2JTUCEjjufer"
      },
      "execution_count": null,
      "outputs": []
    },
    {
      "cell_type": "markdown",
      "source": [
        "# Multi Class Classification"
      ],
      "metadata": {
        "id": "x8zZCOYZHGEM"
      }
    },
    {
      "cell_type": "markdown",
      "source": [
        "## Dry Bean Dataset"
      ],
      "metadata": {
        "id": "uqqSRTcCkGKD"
      }
    },
    {
      "cell_type": "markdown",
      "source": [
        "### Load Dataset"
      ],
      "metadata": {
        "id": "V5vrbN5SHJCK"
      }
    },
    {
      "cell_type": "code",
      "source": [
        "df = pd.read_csv(\"/content/Dry_Bean_Dataset.csv\")"
      ],
      "metadata": {
        "id": "XXFci_lKHKYI"
      },
      "execution_count": null,
      "outputs": []
    },
    {
      "cell_type": "code",
      "source": [
        "df.shape"
      ],
      "metadata": {
        "id": "eazrAxLzHeNB"
      },
      "execution_count": null,
      "outputs": []
    },
    {
      "cell_type": "code",
      "source": [
        "df.head(10)"
      ],
      "metadata": {
        "id": "rI3QFV9eJTDK"
      },
      "execution_count": null,
      "outputs": []
    },
    {
      "cell_type": "markdown",
      "source": [
        "### Data Preprocessing"
      ],
      "metadata": {
        "id": "qFyQiiHLHiMl"
      }
    },
    {
      "cell_type": "code",
      "source": [
        "x = df.drop(columns = \"Class\", axis = 1)\n",
        "y = df[\"Class\"]"
      ],
      "metadata": {
        "id": "nj02N3CMHfve"
      },
      "execution_count": null,
      "outputs": []
    },
    {
      "cell_type": "code",
      "source": [
        "inputFeatures = x.columns"
      ],
      "metadata": {
        "id": "8-zeKDqERqOs"
      },
      "execution_count": null,
      "outputs": []
    },
    {
      "cell_type": "markdown",
      "source": [
        "#### Scale Input Dataset"
      ],
      "metadata": {
        "id": "cIa_GYMHJfub"
      }
    },
    {
      "cell_type": "code",
      "source": [
        "mmScaler = MinMaxScaler()\n",
        "mmScaler.fit(x)\n",
        "x = mmScaler.transform(x)"
      ],
      "metadata": {
        "id": "8XJiaBv6Jca4"
      },
      "execution_count": null,
      "outputs": []
    },
    {
      "cell_type": "markdown",
      "source": [
        "#### Label Encode Target Dataset"
      ],
      "metadata": {
        "id": "qb6Tw1Q4JnSV"
      }
    },
    {
      "cell_type": "code",
      "source": [
        "from sklearn.preprocessing import LabelEncoder"
      ],
      "metadata": {
        "id": "bvGBTBo1Jpc0"
      },
      "execution_count": null,
      "outputs": []
    },
    {
      "cell_type": "code",
      "source": [
        "y"
      ],
      "metadata": {
        "id": "_P56y4m8JsuZ"
      },
      "execution_count": null,
      "outputs": []
    },
    {
      "cell_type": "code",
      "source": [
        "lbEnc = LabelEncoder()\n",
        "lbEnc.fit(y)\n",
        "y = lbEnc.transform(y)"
      ],
      "metadata": {
        "id": "GzcH-BwNJtzR"
      },
      "execution_count": null,
      "outputs": []
    },
    {
      "cell_type": "code",
      "source": [
        "y"
      ],
      "metadata": {
        "id": "0hpQE45wJyYp"
      },
      "execution_count": null,
      "outputs": []
    },
    {
      "cell_type": "markdown",
      "source": [
        "#### Split Dataset"
      ],
      "metadata": {
        "id": "QzieIMm2J1RK"
      }
    },
    {
      "cell_type": "code",
      "source": [
        "xTrain, xTest, yTrain, yTest = train_test_split(x, y, test_size = 0.1, random_state = 42)"
      ],
      "metadata": {
        "id": "HAeA7I-ZJ9EZ"
      },
      "execution_count": null,
      "outputs": []
    },
    {
      "cell_type": "code",
      "source": [
        "print(xTrain.shape, yTrain.shape)\n",
        "print(xTest.shape, yTest.shape)"
      ],
      "metadata": {
        "id": "E0_tl-AtJ9EZ"
      },
      "execution_count": null,
      "outputs": []
    },
    {
      "cell_type": "markdown",
      "source": [
        "## Random Forest Classification"
      ],
      "metadata": {
        "id": "KTq3-Yl-KDdn"
      }
    },
    {
      "cell_type": "code",
      "source": [
        "from sklearn.ensemble import RandomForestClassifier"
      ],
      "metadata": {
        "id": "g3VaRewjwEOP"
      },
      "execution_count": null,
      "outputs": []
    },
    {
      "cell_type": "code",
      "source": [
        "rfCls = RandomForestClassifier(random_state = 42)\n",
        "rfCls.fit(xTrain, yTrain)\n",
        "yTestHat = rfCls.predict(xTest)"
      ],
      "metadata": {
        "id": "wCaLPFOGKDdo"
      },
      "execution_count": null,
      "outputs": []
    },
    {
      "cell_type": "markdown",
      "source": [
        "### Model Evaluation"
      ],
      "metadata": {
        "id": "4Sw7xbknKDdo"
      }
    },
    {
      "cell_type": "code",
      "source": [
        "accScore = accuracy_score(yTest, yTestHat)\n",
        "print(accScore)"
      ],
      "metadata": {
        "id": "RsYJyruYKDdo"
      },
      "execution_count": null,
      "outputs": []
    },
    {
      "cell_type": "code",
      "source": [
        "cm = confusion_matrix(yTest, yTestHat)\n",
        "print(cm)"
      ],
      "metadata": {
        "id": "gdN1aIX9KDdo"
      },
      "execution_count": null,
      "outputs": []
    },
    {
      "cell_type": "code",
      "source": [
        "clsRp = classification_report(yTest, yTestHat)\n",
        "print(clsRp)"
      ],
      "metadata": {
        "id": "cF_RwZVEKDdo"
      },
      "execution_count": null,
      "outputs": []
    },
    {
      "cell_type": "markdown",
      "source": [
        "## Deep Neural Network"
      ],
      "metadata": {
        "id": "KOv8IqInwaFZ"
      }
    },
    {
      "cell_type": "markdown",
      "source": [
        "### Data Preprocessing"
      ],
      "metadata": {
        "id": "IExkv7fowcnm"
      }
    },
    {
      "cell_type": "code",
      "source": [
        "yTrain"
      ],
      "metadata": {
        "id": "bfpbztncwejp"
      },
      "execution_count": null,
      "outputs": []
    },
    {
      "cell_type": "markdown",
      "source": [
        "#### One-Hot Encoding"
      ],
      "metadata": {
        "id": "sPgyDviRwkzR"
      }
    },
    {
      "cell_type": "code",
      "source": [
        "from tensorflow.keras.utils import to_categorical"
      ],
      "metadata": {
        "id": "cwsfRHmawg5j"
      },
      "execution_count": null,
      "outputs": []
    },
    {
      "cell_type": "code",
      "source": [
        "yTrainOneHot = to_categorical(yTrain)"
      ],
      "metadata": {
        "id": "g18gaq3HwnVI"
      },
      "execution_count": null,
      "outputs": []
    },
    {
      "cell_type": "code",
      "source": [
        "print(yTrain[0])\n",
        "print(yTrainOneHot[0])"
      ],
      "metadata": {
        "id": "k9-X35RTwyKe"
      },
      "execution_count": null,
      "outputs": []
    },
    {
      "cell_type": "markdown",
      "source": [
        "### Build Neural Network"
      ],
      "metadata": {
        "id": "plVuC5CIwaFZ"
      }
    },
    {
      "cell_type": "code",
      "source": [
        "K.clear_session()\n",
        "fixSeed()"
      ],
      "metadata": {
        "id": "r8gnwe7bwaFZ"
      },
      "execution_count": null,
      "outputs": []
    },
    {
      "cell_type": "code",
      "source": [
        "model = keras.Sequential()"
      ],
      "metadata": {
        "id": "v7jmvzwdwaFZ"
      },
      "execution_count": null,
      "outputs": []
    },
    {
      "cell_type": "code",
      "source": [
        "model.add(keras.layers.Dense(16, keras.layers.LeakyReLU(), input_dim=x.shape[1]))\n",
        "model.add(keras.layers.Dense(32, keras.layers.LeakyReLU()))\n",
        "model.add(keras.layers.Dense(32, keras.layers.LeakyReLU()))\n",
        "model.add(keras.layers.Dense(32, keras.layers.LeakyReLU()))\n",
        "model.add(keras.layers.Dense(7, \"softmax\"))"
      ],
      "metadata": {
        "id": "LiHdq3TqwaFa"
      },
      "execution_count": null,
      "outputs": []
    },
    {
      "cell_type": "markdown",
      "source": [
        "### Summarize Model"
      ],
      "metadata": {
        "id": "J_ZgKOEMwaFa"
      }
    },
    {
      "cell_type": "code",
      "source": [
        "model.summary()"
      ],
      "metadata": {
        "id": "zea4SaQpwaFa"
      },
      "execution_count": null,
      "outputs": []
    },
    {
      "cell_type": "markdown",
      "source": [
        "### Visualize Model"
      ],
      "metadata": {
        "id": "in4fKdANwaFa"
      }
    },
    {
      "cell_type": "code",
      "source": [
        "from keras.utils import plot_model\n",
        "plot_model(model, to_file=\"model.png\")"
      ],
      "metadata": {
        "id": "6Y10kiktwaFa"
      },
      "execution_count": null,
      "outputs": []
    },
    {
      "cell_type": "markdown",
      "source": [
        "### Compile Model"
      ],
      "metadata": {
        "id": "PuQhWbATwaFa"
      }
    },
    {
      "cell_type": "code",
      "source": [
        "lr, batchSize, epoch = 1e-2, 32, 200"
      ],
      "metadata": {
        "id": "oi0A4suxwaFa"
      },
      "execution_count": null,
      "outputs": []
    },
    {
      "cell_type": "code",
      "source": [
        "model.compile(loss=\"categorical_crossentropy\", optimizer=keras.optimizers.Adam(learning_rate=lr), metrics=[\"accuracy\"])"
      ],
      "metadata": {
        "id": "8Lm-TeDWwaFa"
      },
      "execution_count": null,
      "outputs": []
    },
    {
      "cell_type": "markdown",
      "source": [
        "### Train Model"
      ],
      "metadata": {
        "id": "-1VaFcX4waFa"
      }
    },
    {
      "cell_type": "code",
      "source": [
        "history = model.fit(xTrain, yTrainOneHot, batch_size=batchSize, epochs=epoch)"
      ],
      "metadata": {
        "id": "Jp6VoMI5waFa"
      },
      "execution_count": null,
      "outputs": []
    },
    {
      "cell_type": "markdown",
      "source": [
        "### Visualize Training Procedure"
      ],
      "metadata": {
        "id": "BKkdW0H9waFb"
      }
    },
    {
      "cell_type": "code",
      "source": [
        "plt.subplots(figsize = (10,5))\n",
        "plt.plot(np.arange(epoch), history.history[\"loss\"], label=\"Training Loss\")\n",
        "plt.xlabel(\"# Epoch\")\n",
        "plt.ylabel(\"Loss\")\n",
        "plt.title(\"Training Loss\")\n",
        "plt.legend(loc=\"best\")\n",
        "plt.show()"
      ],
      "metadata": {
        "id": "XrB8quSzwaFb"
      },
      "execution_count": null,
      "outputs": []
    },
    {
      "cell_type": "code",
      "source": [
        "plt.subplots(figsize = (10,5))\n",
        "plt.plot(np.arange(epoch), history.history[\"accuracy\"], label=\"Training Accuracy\")\n",
        "plt.xlabel(\"# Epoch\")\n",
        "plt.ylabel(\"Accuracy\")\n",
        "plt.title(\"Training Accuracy\")\n",
        "plt.legend(loc=\"best\")\n",
        "plt.show()"
      ],
      "metadata": {
        "id": "DKvmw5EgwaFb"
      },
      "execution_count": null,
      "outputs": []
    },
    {
      "cell_type": "markdown",
      "source": [
        "### Inference Result"
      ],
      "metadata": {
        "id": "Xme15CvDwaFb"
      }
    },
    {
      "cell_type": "code",
      "source": [
        "yPred = model.predict(xTest)"
      ],
      "metadata": {
        "id": "VQ5e9ggzwaFb"
      },
      "execution_count": null,
      "outputs": []
    },
    {
      "cell_type": "code",
      "source": [
        "print(type(yPred))\n",
        "print(yPred.shape)"
      ],
      "metadata": {
        "id": "fucmr2B8waFb"
      },
      "execution_count": null,
      "outputs": []
    },
    {
      "cell_type": "markdown",
      "source": [
        "### Model Evaluation"
      ],
      "metadata": {
        "id": "t3spUjmTwaFb"
      }
    },
    {
      "cell_type": "code",
      "source": [
        "yPred"
      ],
      "metadata": {
        "id": "VoR-hizXyMCH"
      },
      "execution_count": null,
      "outputs": []
    },
    {
      "cell_type": "code",
      "source": [
        "yPred[0]"
      ],
      "metadata": {
        "id": "FVCKFhzGyOS4"
      },
      "execution_count": null,
      "outputs": []
    },
    {
      "cell_type": "markdown",
      "source": [
        "#### Postprocess Result"
      ],
      "metadata": {
        "id": "VhjkSmQSyQ4o"
      }
    },
    {
      "cell_type": "code",
      "source": [
        "yPred = np.argmax(yPred, axis = 1)"
      ],
      "metadata": {
        "id": "hmmJFvG4ySSK"
      },
      "execution_count": null,
      "outputs": []
    },
    {
      "cell_type": "code",
      "source": [
        "yPred[0]"
      ],
      "metadata": {
        "id": "gNhEETvayVMK"
      },
      "execution_count": null,
      "outputs": []
    },
    {
      "cell_type": "code",
      "source": [
        "yPred = yPred.reshape(-1)"
      ],
      "metadata": {
        "id": "dEeEBC3UwaFb"
      },
      "execution_count": null,
      "outputs": []
    },
    {
      "cell_type": "code",
      "source": [
        "accScore = accuracy_score(yTest, yPred)\n",
        "print(accScore)"
      ],
      "metadata": {
        "id": "KzTyr54cwaFb"
      },
      "execution_count": null,
      "outputs": []
    },
    {
      "cell_type": "code",
      "source": [
        "cm = confusion_matrix(yTest, yPred)\n",
        "print(cm)"
      ],
      "metadata": {
        "id": "sNarte15waFc"
      },
      "execution_count": null,
      "outputs": []
    },
    {
      "cell_type": "code",
      "source": [
        "clsRp = classification_report(yTest, yPred)\n",
        "print(clsRp)"
      ],
      "metadata": {
        "id": "2eqsPxizwaFc"
      },
      "execution_count": null,
      "outputs": []
    },
    {
      "cell_type": "markdown",
      "source": [
        "# 실습"
      ],
      "metadata": {
        "id": "1Xt5JUDfKXSd"
      }
    },
    {
      "cell_type": "markdown",
      "source": [
        "## Scikit-Learn의 Digits Dataset을 기반으로 Multi Class Classification을 진행하세요.\n",
        "### **1) Dataset를 불러온 후 Min-Max Scailing을 진행하세요.**\n",
        "### **2) 다음과 같은 인공신경망을 만드세요.**\n",
        "### 2.1) 모델 구조 : 입력 → 32 노드 → 32 노드 → 32 노드 → 출력\n",
        "### 2.2) 활성화 함수 : Leaky ReLU\n",
        "### **3) 다음과 같은 하이퍼파라미터를 사용하여 모델을 훈련하세요.**\n",
        "### 3.1) Optimizer : Adam\n",
        "### 3.2) Learning Rate : 1e-2\n",
        "### 3.3) Batch Size : 32\n",
        "### 3.4) Epoch : 200\n",
        "### **4) 훈련된 모델의 성능을 평가하세요.**"
      ],
      "metadata": {
        "id": "v9SXypJiKYqj"
      }
    },
    {
      "cell_type": "code",
      "source": [
        "data = datasets.load_digits(as_frame = True)"
      ],
      "metadata": {
        "id": "ys4dMk-xKX-I"
      },
      "execution_count": null,
      "outputs": []
    }
  ]
}