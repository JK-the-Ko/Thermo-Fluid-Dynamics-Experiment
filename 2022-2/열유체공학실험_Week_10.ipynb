{
  "nbformat": 4,
  "nbformat_minor": 0,
  "metadata": {
    "colab": {
      "provenance": [],
      "collapsed_sections": [],
      "include_colab_link": true
    },
    "kernelspec": {
      "name": "python3",
      "display_name": "Python 3"
    },
    "language_info": {
      "name": "python"
    }
  },
  "cells": [
    {
      "cell_type": "markdown",
      "metadata": {
        "id": "view-in-github",
        "colab_type": "text"
      },
      "source": [
        "<a href=\"https://colab.research.google.com/github/JK-the-Ko/Thermo-Fluid-Dynamics-Experiment/blob/main/2022-2/%EC%97%B4%EC%9C%A0%EC%B2%B4%EA%B3%B5%ED%95%99%EC%8B%A4%ED%97%98_Week_10.ipynb\" target=\"_parent\"><img src=\"https://colab.research.google.com/assets/colab-badge.svg\" alt=\"Open In Colab\"/></a>"
      ]
    },
    {
      "cell_type": "markdown",
      "metadata": {
        "id": "7gwxyxhlsk94"
      },
      "source": [
        "# Finite Difference Formulations"
      ]
    },
    {
      "cell_type": "markdown",
      "metadata": {
        "id": "1xyiOPVGsoVG"
      },
      "source": [
        "## Import Library"
      ]
    },
    {
      "cell_type": "code",
      "metadata": {
        "id": "LtrLT9DxdfuS"
      },
      "source": [
        "import numpy as np\n",
        "import matplotlib.pyplot as plt"
      ],
      "execution_count": null,
      "outputs": []
    },
    {
      "cell_type": "markdown",
      "metadata": {
        "id": "ZYT3Y9romF12"
      },
      "source": [
        "## First Order Derivative"
      ]
    },
    {
      "cell_type": "markdown",
      "source": [
        "### Create Function"
      ],
      "metadata": {
        "id": "udx47eo9ZMKR"
      }
    },
    {
      "cell_type": "code",
      "metadata": {
        "id": "dYfFlrEsl7NL"
      },
      "source": [
        "def function(x) :\n",
        "  return 3*np.power(x, 2) + 2*x + 1"
      ],
      "execution_count": null,
      "outputs": []
    },
    {
      "cell_type": "markdown",
      "source": [
        "### Plot Graph"
      ],
      "metadata": {
        "id": "AV3J0Up9ZQQc"
      }
    },
    {
      "cell_type": "code",
      "metadata": {
        "id": "Tj7x2WhnmfZb"
      },
      "source": [
        "x = np.arange(0, 10, 1e-3)\n",
        "y = function(x)"
      ],
      "execution_count": null,
      "outputs": []
    },
    {
      "cell_type": "code",
      "metadata": {
        "id": "nt_LXUKhmk2K"
      },
      "source": [
        "plt.plot(x, y)\n",
        "plt.xlabel(\"x\")\n",
        "plt.ylabel(\"f(x)\")\n",
        "plt.title(\"Function Graph\")\n",
        "plt.show()"
      ],
      "execution_count": null,
      "outputs": []
    },
    {
      "cell_type": "markdown",
      "metadata": {
        "id": "PUl2Gf9omHpz"
      },
      "source": [
        "### First Forward Difference Approximation"
      ]
    },
    {
      "cell_type": "markdown",
      "source": [
        "#### Compute Gradient"
      ],
      "metadata": {
        "id": "m5mELZKwZS2R"
      }
    },
    {
      "cell_type": "code",
      "metadata": {
        "id": "fKn59wZTnecN"
      },
      "source": [
        "def FFDA(fi, fiP1, delta) :\n",
        "  gradient = (fiP1 - fi) / delta\n",
        "  return gradient"
      ],
      "execution_count": null,
      "outputs": []
    },
    {
      "cell_type": "code",
      "metadata": {
        "id": "-g9ynhBFmnxk"
      },
      "source": [
        "xInput, delta = 5, 1e-3"
      ],
      "execution_count": null,
      "outputs": []
    },
    {
      "cell_type": "code",
      "metadata": {
        "id": "KaGzLIkRm51J"
      },
      "source": [
        "fi, fiP1 = function(xInput), function(xInput + delta)"
      ],
      "execution_count": null,
      "outputs": []
    },
    {
      "cell_type": "code",
      "metadata": {
        "id": "9zSrA6agnuzw"
      },
      "source": [
        "gradient = FFDA(fi, fiP1, delta)\n",
        "print(f\"Gradient : {gradient:.4f}\")"
      ],
      "execution_count": null,
      "outputs": []
    },
    {
      "cell_type": "markdown",
      "source": [
        "#### Visualize Result"
      ],
      "metadata": {
        "id": "L5tiCFlIaAL0"
      }
    },
    {
      "cell_type": "code",
      "metadata": {
        "id": "_Vz7Bs_yow-g"
      },
      "source": [
        "def linear(x, gradient, intercept) :\n",
        "  return gradient*x + intercept"
      ],
      "execution_count": null,
      "outputs": []
    },
    {
      "cell_type": "code",
      "metadata": {
        "id": "IL5zmtpvon89"
      },
      "source": [
        "intercept = fi - gradient * xInput"
      ],
      "execution_count": null,
      "outputs": []
    },
    {
      "cell_type": "code",
      "metadata": {
        "id": "Pj-09Sy5o2Mj"
      },
      "source": [
        "difference = linear(x, gradient, intercept)"
      ],
      "execution_count": null,
      "outputs": []
    },
    {
      "cell_type": "code",
      "metadata": {
        "id": "mICoEKzTo7z4"
      },
      "source": [
        "plt.plot(x, y, label = \"original\")\n",
        "plt.plot(x, difference, label = \"gradient\")\n",
        "plt.scatter(xInput, function(xInput), label = \"point\")\n",
        "plt.xlabel(\"x\")\n",
        "plt.ylabel(\"f(x)\")\n",
        "plt.title(\"Function Graph\")\n",
        "plt.legend(loc = \"best\")\n",
        "plt.show()"
      ],
      "execution_count": null,
      "outputs": []
    },
    {
      "cell_type": "markdown",
      "metadata": {
        "id": "TMksCMLQpNl3"
      },
      "source": [
        "### First Backward Difference Approximation"
      ]
    },
    {
      "cell_type": "markdown",
      "source": [
        "#### Compute Gradient"
      ],
      "metadata": {
        "id": "tuR4-rYUcnIw"
      }
    },
    {
      "cell_type": "code",
      "metadata": {
        "id": "g_WGBXNUpbKJ"
      },
      "source": [
        "def FBDA(fi, fiM1, delta) :\n",
        "  gradient = (fi - fiM1) / delta\n",
        "  return gradient"
      ],
      "execution_count": null,
      "outputs": []
    },
    {
      "cell_type": "code",
      "metadata": {
        "id": "9FfeWHC4p8SF"
      },
      "source": [
        "xInput, delta = 5, 1e-3"
      ],
      "execution_count": null,
      "outputs": []
    },
    {
      "cell_type": "code",
      "metadata": {
        "id": "vFu9tWUlpP46"
      },
      "source": [
        "fi, fiM1 = function(xInput), function(xInput - delta)"
      ],
      "execution_count": null,
      "outputs": []
    },
    {
      "cell_type": "code",
      "metadata": {
        "id": "o2Ct60Y1pkAF"
      },
      "source": [
        "gradient = FBDA(fi, fiM1, delta)\n",
        "print(f\"Gradient : {gradient:.4f}\")"
      ],
      "execution_count": null,
      "outputs": []
    },
    {
      "cell_type": "markdown",
      "source": [
        "#### Visualize Result"
      ],
      "metadata": {
        "id": "zjKH5u8LcyMF"
      }
    },
    {
      "cell_type": "code",
      "metadata": {
        "id": "wQH-h32FpuUo"
      },
      "source": [
        "intercept = fi - gradient * xInput"
      ],
      "execution_count": null,
      "outputs": []
    },
    {
      "cell_type": "code",
      "metadata": {
        "id": "9wNFDna2pwDj"
      },
      "source": [
        "difference = linear(x, gradient, intercept)"
      ],
      "execution_count": null,
      "outputs": []
    },
    {
      "cell_type": "code",
      "metadata": {
        "id": "kk2JkGOhpwiV"
      },
      "source": [
        "plt.plot(x, y, label = \"original\")\n",
        "plt.plot(x, difference, label = \"gradient\")\n",
        "plt.scatter(xInput, function(xInput), label = \"point\")\n",
        "plt.xlabel(\"x\")\n",
        "plt.ylabel(\"f(x)\")\n",
        "plt.title(\"Function Graph\")\n",
        "plt.legend(loc = \"best\")\n",
        "plt.show()"
      ],
      "execution_count": null,
      "outputs": []
    },
    {
      "cell_type": "markdown",
      "metadata": {
        "id": "YUQyGF3kqX5N"
      },
      "source": [
        "### Central Difference Approximation"
      ]
    },
    {
      "cell_type": "markdown",
      "source": [
        "#### Compute Gradient"
      ],
      "metadata": {
        "id": "1ewPaxTlc_vW"
      }
    },
    {
      "cell_type": "code",
      "metadata": {
        "id": "ag8ofPr7qc2w"
      },
      "source": [
        "def CDA(fiP1, fiM1, delta) :\n",
        "  gradient = (fiP1 - fiM1) / (2*delta)\n",
        "  return gradient "
      ],
      "execution_count": null,
      "outputs": []
    },
    {
      "cell_type": "code",
      "metadata": {
        "id": "JSuQ1TilqU-H"
      },
      "source": [
        "xInput, delta = 5, 1e-3"
      ],
      "execution_count": null,
      "outputs": []
    },
    {
      "cell_type": "code",
      "metadata": {
        "id": "Z-VpWHwHqZyk"
      },
      "source": [
        "fiP1, fiM1 = function(xInput + delta), function(xInput - delta)"
      ],
      "execution_count": null,
      "outputs": []
    },
    {
      "cell_type": "code",
      "metadata": {
        "id": "GzT3yFBSqlA1",
        "colab": {
          "base_uri": "https://localhost:8080/"
        },
        "outputId": "5ed1c079-594d-4e4b-d271-393209090e35"
      },
      "source": [
        "gradient = CDA(fiP1, fiM1, delta)\n",
        "print(f\"Gradient : {gradient:.4f}\")"
      ],
      "execution_count": null,
      "outputs": [
        {
          "output_type": "stream",
          "name": "stdout",
          "text": [
            "Gradient : 32.0000\n"
          ]
        }
      ]
    },
    {
      "cell_type": "markdown",
      "source": [
        "#### Visualize Result"
      ],
      "metadata": {
        "id": "GEOZKZU1decp"
      }
    },
    {
      "cell_type": "code",
      "metadata": {
        "id": "-H_VL9aXqtg8"
      },
      "source": [
        "intercept = fi - gradient * xInput"
      ],
      "execution_count": null,
      "outputs": []
    },
    {
      "cell_type": "code",
      "metadata": {
        "id": "UV8gSM9Xqvbd"
      },
      "source": [
        "difference = linear(x, gradient, intercept)"
      ],
      "execution_count": null,
      "outputs": []
    },
    {
      "cell_type": "code",
      "metadata": {
        "id": "f9BdgIv1qwmX"
      },
      "source": [
        "plt.plot(x, y, label = \"original\")\n",
        "plt.plot(x, difference, label = \"gradient\")\n",
        "plt.scatter(xInput, function(xInput), label = \"point\")\n",
        "plt.xlabel(\"x\")\n",
        "plt.ylabel(\"f(x)\")\n",
        "plt.title(\"Function Graph\")\n",
        "plt.legend(loc = \"best\")\n",
        "plt.show()"
      ],
      "execution_count": null,
      "outputs": []
    },
    {
      "cell_type": "markdown",
      "metadata": {
        "id": "MR_4Ni7vrAbY"
      },
      "source": [
        "### Example"
      ]
    },
    {
      "cell_type": "markdown",
      "source": [
        "#### Harmonic Function"
      ],
      "metadata": {
        "id": "NQsGcroJdz1H"
      }
    },
    {
      "cell_type": "markdown",
      "source": [
        "##### Plot Graph"
      ],
      "metadata": {
        "id": "JBDD-5VXd3R0"
      }
    },
    {
      "cell_type": "code",
      "metadata": {
        "id": "V0oPQooKq8qH"
      },
      "source": [
        "delta = 1e-2\n",
        "x = np.arange(0, 10, delta)\n",
        "y = np.sin(x)"
      ],
      "execution_count": null,
      "outputs": []
    },
    {
      "cell_type": "code",
      "metadata": {
        "id": "sYAQGiZXrNs9"
      },
      "source": [
        "plt.plot(x, y)\n",
        "plt.xlabel(\"x\")\n",
        "plt.ylabel(\"f(x)\")\n",
        "plt.title(\"Function Graph\")\n",
        "plt.show()"
      ],
      "execution_count": null,
      "outputs": []
    },
    {
      "cell_type": "markdown",
      "source": [
        "##### Compute Gradient"
      ],
      "metadata": {
        "id": "NESuiBWKd9yV"
      }
    },
    {
      "cell_type": "code",
      "metadata": {
        "id": "lj-qw8-krsV_"
      },
      "source": [
        "xP1, xM1 = x + delta, x - delta\n",
        "yP1, yM1 = np.sin(xP1), np.sin(xM1)"
      ],
      "execution_count": null,
      "outputs": []
    },
    {
      "cell_type": "code",
      "metadata": {
        "id": "NyFU2G1MrP2T"
      },
      "source": [
        "gradientFFDA = FFDA(y, yP1, delta)\n",
        "gradientFBDA = FBDA(y, yM1, delta)\n",
        "gradientCDA = CDA(yP1, yM1, delta)"
      ],
      "execution_count": null,
      "outputs": []
    },
    {
      "cell_type": "markdown",
      "source": [
        "##### Visualize Result"
      ],
      "metadata": {
        "id": "WBHZWruiemX8"
      }
    },
    {
      "cell_type": "code",
      "metadata": {
        "id": "_xHv9GB_sF22"
      },
      "source": [
        "plt.plot(x[:25], gradientFFDA[:25], label = \"FFDA\")\n",
        "plt.plot(x[:25], gradientFBDA[:25], label = \"FBDA\")\n",
        "plt.plot(x[:25], gradientCDA[:25], label = \"CDA\")\n",
        "plt.xlabel(\"x\")\n",
        "plt.ylabel(\"f'(x)\")\n",
        "plt.title(\"Derivative Graph\")\n",
        "plt.legend(loc = \"best\")\n",
        "plt.show()"
      ],
      "execution_count": null,
      "outputs": []
    },
    {
      "cell_type": "markdown",
      "source": [
        "##### Compute RMSE Loss"
      ],
      "metadata": {
        "id": "WBDk8f-9eqyA"
      }
    },
    {
      "cell_type": "code",
      "source": [
        "def RMSE(yHat, y) :\n",
        "  loss = np.sqrt(np.power((yHat- y), 2).mean())\n",
        "\n",
        "  return loss"
      ],
      "metadata": {
        "id": "PlqCNmRges6j"
      },
      "execution_count": null,
      "outputs": []
    },
    {
      "cell_type": "code",
      "metadata": {
        "id": "zp3ovcWzv6gI"
      },
      "source": [
        "rmseFFDA = RMSE(gradientFFDA, np.cos(x))\n",
        "rmseFBDA = RMSE(gradientFBDA, np.cos(x))\n",
        "rmseCDA = RMSE(gradientCDA, np.cos(x))"
      ],
      "execution_count": null,
      "outputs": []
    },
    {
      "cell_type": "code",
      "metadata": {
        "id": "fFzwhLslwbta"
      },
      "source": [
        "print(f\"FFDA RMSE : {rmseFFDA:.8f}\")\n",
        "print(f\"RBDA RMSE : {rmseFBDA:.8f}\")\n",
        "print(f\"CDA RMSE : {rmseCDA:.8f}\")"
      ],
      "execution_count": null,
      "outputs": []
    },
    {
      "cell_type": "markdown",
      "metadata": {
        "id": "Z_BUIZxguOkB"
      },
      "source": [
        "## Second Derivation with Forward Difference Approximation"
      ]
    },
    {
      "cell_type": "markdown",
      "source": [
        "### Create Function"
      ],
      "metadata": {
        "id": "MWWQWbo-gDFX"
      }
    },
    {
      "cell_type": "code",
      "metadata": {
        "id": "RGCism-_gDFY"
      },
      "source": [
        "def function(x) :\n",
        "  return 3*np.power(x, 2) + 2*x + 1"
      ],
      "execution_count": null,
      "outputs": []
    },
    {
      "cell_type": "markdown",
      "source": [
        "### Plot Graph"
      ],
      "metadata": {
        "id": "aAYk-8grgDFY"
      }
    },
    {
      "cell_type": "code",
      "metadata": {
        "id": "wl4ceUa-gDFY"
      },
      "source": [
        "x = np.arange(0, 10, 1e-3)\n",
        "y = function(x)"
      ],
      "execution_count": null,
      "outputs": []
    },
    {
      "cell_type": "code",
      "metadata": {
        "id": "jYdNgX4SgDFY"
      },
      "source": [
        "plt.plot(x, y)\n",
        "plt.xlabel(\"x\")\n",
        "plt.ylabel(\"f(x)\")\n",
        "plt.title(\"Function Graph\")\n",
        "plt.show()"
      ],
      "execution_count": null,
      "outputs": []
    },
    {
      "cell_type": "markdown",
      "source": [
        "### Second Forward Difference Approximation"
      ],
      "metadata": {
        "id": "In0ziN7RgsFx"
      }
    },
    {
      "cell_type": "markdown",
      "source": [
        "#### Compute Gradient"
      ],
      "metadata": {
        "id": "DOble9bPgE7F"
      }
    },
    {
      "cell_type": "code",
      "metadata": {
        "id": "QcHbYkedupMB"
      },
      "source": [
        "def SDFDA(fiP2, fiP1, fi, delta) :\n",
        "  gradient = (fiP2 - 2*fiP1 + fi) / np.power(delta, 2)\n",
        "  return gradient"
      ],
      "execution_count": null,
      "outputs": []
    },
    {
      "cell_type": "code",
      "source": [
        "xInput, delta = 5, 1e-3"
      ],
      "metadata": {
        "id": "lkrme9OkgMxi"
      },
      "execution_count": null,
      "outputs": []
    },
    {
      "cell_type": "code",
      "metadata": {
        "id": "MuFLRUhiuiIN"
      },
      "source": [
        "fiP2, fiP1, fi = function(xInput + 2 * delta), function(xInput + delta), function(xInput)"
      ],
      "execution_count": null,
      "outputs": []
    },
    {
      "cell_type": "code",
      "metadata": {
        "id": "p3SG-oHHu3r5"
      },
      "source": [
        "gradient = SDFDA(fiP2, fiP1, fi, delta)\n",
        "print(f\"Gradient : {gradient:.8f}\")"
      ],
      "execution_count": null,
      "outputs": []
    },
    {
      "cell_type": "markdown",
      "source": [
        "### Example"
      ],
      "metadata": {
        "id": "u0ar8MCVhHEy"
      }
    },
    {
      "cell_type": "markdown",
      "metadata": {
        "id": "DGoH15kKvRTt"
      },
      "source": [
        "#### Harmonic Function"
      ]
    },
    {
      "cell_type": "markdown",
      "source": [
        "##### Plot Graph"
      ],
      "metadata": {
        "id": "1F81U7CLhLdb"
      }
    },
    {
      "cell_type": "code",
      "metadata": {
        "id": "LDpuXv_SvS2g"
      },
      "source": [
        "delta = 1e-2\n",
        "x = np.arange(0, 10, delta)\n",
        "y = np.sin(x)"
      ],
      "execution_count": null,
      "outputs": []
    },
    {
      "cell_type": "code",
      "metadata": {
        "id": "qmbJaHL2vVSb"
      },
      "source": [
        "plt.plot(x, y)\n",
        "plt.xlabel(\"x\")\n",
        "plt.ylabel(\"f(x)\")\n",
        "plt.title(\"Function Graph\")\n",
        "plt.show()"
      ],
      "execution_count": null,
      "outputs": []
    },
    {
      "cell_type": "markdown",
      "source": [
        "##### Compute Gradient"
      ],
      "metadata": {
        "id": "sV11jr34hPq7"
      }
    },
    {
      "cell_type": "code",
      "metadata": {
        "id": "uo-pe1mrvXYr"
      },
      "source": [
        "xP2, xP1 = x + 2*delta, x + delta\n",
        "yP2, yP1 = np.sin(xP2), np.sin(xP1)"
      ],
      "execution_count": null,
      "outputs": []
    },
    {
      "cell_type": "code",
      "metadata": {
        "id": "0pDFuwd6vkeh"
      },
      "source": [
        "gradient = SDFDA(yP2, yP1, y, delta)"
      ],
      "execution_count": null,
      "outputs": []
    },
    {
      "cell_type": "markdown",
      "source": [
        "##### Visualize Result"
      ],
      "metadata": {
        "id": "0aYs9yeAhb41"
      }
    },
    {
      "cell_type": "code",
      "metadata": {
        "id": "-Y6LMgpSvsD5"
      },
      "source": [
        "plt.plot(x, gradient, label = \"SDFDA\")\n",
        "plt.xlabel(\"x\")\n",
        "plt.ylabel(\"f'(x)\")\n",
        "plt.title(\"Derivative Graph\")\n",
        "plt.legend(loc = \"best\")\n",
        "plt.show()"
      ],
      "execution_count": null,
      "outputs": []
    },
    {
      "cell_type": "markdown",
      "source": [
        "##### Compute RMSE Loss"
      ],
      "metadata": {
        "id": "rTEce-uehkq5"
      }
    },
    {
      "cell_type": "code",
      "metadata": {
        "id": "IDmPErUgwlq7"
      },
      "source": [
        "rmse = RMSE(gradient, -np.sin(x))"
      ],
      "execution_count": null,
      "outputs": []
    },
    {
      "cell_type": "code",
      "source": [
        "print(f\"RMSE : {rmse:.8f}\")"
      ],
      "metadata": {
        "id": "uqeGOER4hrHD"
      },
      "execution_count": null,
      "outputs": []
    }
  ]
}