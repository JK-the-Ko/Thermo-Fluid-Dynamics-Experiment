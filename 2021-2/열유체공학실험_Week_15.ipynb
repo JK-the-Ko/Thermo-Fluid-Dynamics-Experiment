{
  "nbformat": 4,
  "nbformat_minor": 0,
  "metadata": {
    "colab": {
      "name": "열유체공학실험_Week_15.ipynb",
      "provenance": [],
      "collapsed_sections": [],
      "authorship_tag": "ABX9TyNTNGmf+2OGC8Kv+RHo29U4",
      "include_colab_link": true
    },
    "kernelspec": {
      "name": "python3",
      "display_name": "Python 3"
    },
    "language_info": {
      "name": "python"
    },
    "accelerator": "GPU"
  },
  "cells": [
    {
      "cell_type": "markdown",
      "metadata": {
        "id": "view-in-github",
        "colab_type": "text"
      },
      "source": [
        "<a href=\"https://colab.research.google.com/github/JK-the-Ko/Thermo_Fluid_Dynamics_Experiment/blob/main/2021_2/%EC%97%B4%EC%9C%A0%EC%B2%B4%EA%B3%B5%ED%95%99%EC%8B%A4%ED%97%98_Week_15.ipynb\" target=\"_parent\"><img src=\"https://colab.research.google.com/assets/colab-badge.svg\" alt=\"Open In Colab\"/></a>"
      ]
    },
    {
      "cell_type": "markdown",
      "metadata": {
        "id": "TFT1NIjIAJ6X"
      },
      "source": [
        "**Check GPU Connection**"
      ]
    },
    {
      "cell_type": "code",
      "metadata": {
        "id": "AEWRTjkgAMSk"
      },
      "source": [
        "!nvidia-smi"
      ],
      "execution_count": null,
      "outputs": []
    },
    {
      "cell_type": "markdown",
      "metadata": {
        "id": "pS3sw48k3MK6"
      },
      "source": [
        "**Import Library**"
      ]
    },
    {
      "cell_type": "code",
      "metadata": {
        "id": "4grqzoHK2OAw"
      },
      "source": [
        "import numpy as np\n",
        "import matplotlib.pyplot as plt\n",
        "from tensorflow import keras"
      ],
      "execution_count": null,
      "outputs": []
    },
    {
      "cell_type": "markdown",
      "metadata": {
        "id": "bNgKcfEB3ORF"
      },
      "source": [
        "**Load Fashion CIFAR10 Dataset**"
      ]
    },
    {
      "cell_type": "code",
      "metadata": {
        "id": "D73B3MDV2fKP"
      },
      "source": [
        "(x_train, y_train), (x_test, y_test) = keras.datasets.cifar10.load_data()"
      ],
      "execution_count": null,
      "outputs": []
    },
    {
      "cell_type": "code",
      "metadata": {
        "id": "Zs9xPWEw6omL"
      },
      "source": [
        "num_classes = 10\n",
        "input_shape = (32, 32, 3)"
      ],
      "execution_count": null,
      "outputs": []
    },
    {
      "cell_type": "markdown",
      "metadata": {
        "id": "NXunmfZK380i"
      },
      "source": [
        "**Data Processing**"
      ]
    },
    {
      "cell_type": "markdown",
      "metadata": {
        "id": "nLGKihOU3_S5"
      },
      "source": [
        "* Min-Max Normalization"
      ]
    },
    {
      "cell_type": "code",
      "metadata": {
        "id": "269w0T8M3kd4"
      },
      "source": [
        "x_train = x_train / 255\n",
        "x_test = x_test / 255"
      ],
      "execution_count": null,
      "outputs": []
    },
    {
      "cell_type": "markdown",
      "metadata": {
        "id": "kWkA0grU54q5"
      },
      "source": [
        "* One-Hot Encoding"
      ]
    },
    {
      "cell_type": "code",
      "metadata": {
        "id": "Oao3koM45zXA"
      },
      "source": [
        "y_train = keras.utils.to_categorical(y_train, num_classes)\n",
        "y_test = keras.utils.to_categorical(y_test, num_classes)"
      ],
      "execution_count": null,
      "outputs": []
    },
    {
      "cell_type": "markdown",
      "source": [
        "**Load Pre-Trained Model**"
      ],
      "metadata": {
        "id": "5He_uirXNQ_S"
      }
    },
    {
      "cell_type": "code",
      "source": [
        "base_model = keras.applications.MobileNet(include_top = False, weights = \"imagenet\", input_shape = (224, 224, 3))"
      ],
      "metadata": {
        "id": "1Jj3wHqfNTet"
      },
      "execution_count": null,
      "outputs": []
    },
    {
      "cell_type": "markdown",
      "source": [
        "**Freeze All Convolutional Layers**"
      ],
      "metadata": {
        "id": "avJdJAdkkGX1"
      }
    },
    {
      "cell_type": "code",
      "source": [
        "base_model.trainable = False"
      ],
      "metadata": {
        "id": "8lyUZk-ucHWr"
      },
      "execution_count": null,
      "outputs": []
    },
    {
      "cell_type": "code",
      "source": [
        "base_model.summary()"
      ],
      "metadata": {
        "id": "CFLypKsOamla"
      },
      "execution_count": null,
      "outputs": []
    },
    {
      "cell_type": "markdown",
      "source": [
        "* Add Classifier"
      ],
      "metadata": {
        "id": "ugVoL3MEbDtO"
      }
    },
    {
      "cell_type": "code",
      "source": [
        "model = keras.Sequential()\n",
        "model.add(keras.layers.UpSampling2D(input_shape = (32, 32, 3), size = (7, 7), interpolation = \"bilinear\"))\n",
        "model.add(base_model)\n",
        "model.add(keras.layers.GlobalAveragePooling2D())\n",
        "model.add(keras.layers.Dense(128, activation = \"relu\"))\n",
        "model.add(keras.layers.Dense(num_classes, activation = \"softmax\"))"
      ],
      "metadata": {
        "id": "X_HXjOgXcfNU"
      },
      "execution_count": null,
      "outputs": []
    },
    {
      "cell_type": "code",
      "source": [
        "model.summary()"
      ],
      "metadata": {
        "id": "u8DcU5vNbaGQ"
      },
      "execution_count": null,
      "outputs": []
    },
    {
      "cell_type": "markdown",
      "metadata": {
        "id": "dxqewaoDcGTh"
      },
      "source": [
        "* Train Model"
      ]
    },
    {
      "cell_type": "code",
      "metadata": {
        "id": "qzAQuZCkEMgx"
      },
      "source": [
        "batch_size = 256\n",
        "epochs = 5"
      ],
      "execution_count": null,
      "outputs": []
    },
    {
      "cell_type": "code",
      "source": [
        "model.compile(optimizer = \"adam\", loss = \"categorical_crossentropy\", metrics = [\"accuracy\"])"
      ],
      "metadata": {
        "id": "eiSeUNVAMYYT"
      },
      "execution_count": null,
      "outputs": []
    },
    {
      "cell_type": "code",
      "source": [
        "hist = model.fit(x_train, y_train, batch_size = batch_size, epochs = epochs, validation_split = 0.2)"
      ],
      "metadata": {
        "id": "NSDtFnt5NoUv"
      },
      "execution_count": null,
      "outputs": []
    },
    {
      "cell_type": "code",
      "source": [
        "model.evaluate(x_test, y_test, batch_size = batch_size)"
      ],
      "metadata": {
        "id": "u9fHqnkRPfft"
      },
      "execution_count": null,
      "outputs": []
    },
    {
      "cell_type": "markdown",
      "source": [
        "**Fine Tuning**"
      ],
      "metadata": {
        "id": "hRjrBopS2psk"
      }
    },
    {
      "cell_type": "code",
      "source": [
        "base_model = keras.applications.MobileNet(include_top = False, weights = \"imagenet\", input_shape = (224, 224, 3))"
      ],
      "metadata": {
        "id": "d4uZlGOi2o_h"
      },
      "execution_count": null,
      "outputs": []
    },
    {
      "cell_type": "markdown",
      "source": [
        "* Set Training Layer"
      ],
      "metadata": {
        "id": "WLoNjcqghTOC"
      }
    },
    {
      "cell_type": "code",
      "source": [
        "base_model.trainable = True"
      ],
      "metadata": {
        "id": "T5l2EvCCcMW-"
      },
      "execution_count": null,
      "outputs": []
    },
    {
      "cell_type": "code",
      "source": [
        "for layer in base_model.layers[:-3] :\n",
        "  layer.trainable = False"
      ],
      "metadata": {
        "id": "16xJKkNIdviE"
      },
      "execution_count": null,
      "outputs": []
    },
    {
      "cell_type": "code",
      "source": [
        "model = keras.Sequential()\n",
        "model.add(keras.layers.UpSampling2D(input_shape = (32, 32, 3), size = (7, 7), interpolation = \"bilinear\"))\n",
        "model.add(base_model)\n",
        "model.add(keras.layers.GlobalAveragePooling2D())\n",
        "model.add(keras.layers.Dense(128, activation = \"relu\"))\n",
        "model.add(keras.layers.Dense(num_classes, activation = \"softmax\"))"
      ],
      "metadata": {
        "id": "wVccXXdFTJ0O"
      },
      "execution_count": null,
      "outputs": []
    },
    {
      "cell_type": "code",
      "source": [
        "model.summary()"
      ],
      "metadata": {
        "id": "ZOymEuXQd06J"
      },
      "execution_count": null,
      "outputs": []
    },
    {
      "cell_type": "markdown",
      "source": [
        "* Train Model"
      ],
      "metadata": {
        "id": "bfaP0afDhWSK"
      }
    },
    {
      "cell_type": "code",
      "source": [
        "model.compile(optimizer = keras.optimizers.Adam(learning_rate = 1e-4), loss = \"categorical_crossentropy\", metrics = [\"accuracy\"])"
      ],
      "metadata": {
        "id": "iV2IhwdnTOfZ"
      },
      "execution_count": null,
      "outputs": []
    },
    {
      "cell_type": "code",
      "source": [
        "hist = model.fit(x_train, y_train, batch_size = batch_size, epochs = epochs, validation_split = 0.2)"
      ],
      "metadata": {
        "id": "pw-Z7f_STOfZ"
      },
      "execution_count": null,
      "outputs": []
    },
    {
      "cell_type": "code",
      "source": [
        "model.evaluate(x_test, y_test, batch_size = batch_size)"
      ],
      "metadata": {
        "id": "7N1KGX2xfXYc"
      },
      "execution_count": null,
      "outputs": []
    }
  ]
}
