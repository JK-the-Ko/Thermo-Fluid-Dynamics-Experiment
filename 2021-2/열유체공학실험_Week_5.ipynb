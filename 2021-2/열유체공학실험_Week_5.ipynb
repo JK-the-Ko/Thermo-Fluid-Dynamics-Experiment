{
  "nbformat": 4,
  "nbformat_minor": 0,
  "metadata": {
    "colab": {
      "name": "열유체공학실험_Week_5.ipynb",
      "provenance": [],
      "collapsed_sections": [],
      "authorship_tag": "ABX9TyPKyJIKCGERPOpQTANpc3G/",
      "include_colab_link": true
    },
    "kernelspec": {
      "name": "python3",
      "display_name": "Python 3"
    },
    "language_info": {
      "name": "python"
    }
  },
  "cells": [
    {
      "cell_type": "markdown",
      "metadata": {
        "id": "view-in-github",
        "colab_type": "text"
      },
      "source": [
        "<a href=\"https://colab.research.google.com/github/JK-the-Ko/Thermo_Fluid_Dynamics_Experiment/blob/main/2021_2/%EC%97%B4%EC%9C%A0%EC%B2%B4%EA%B3%B5%ED%95%99%EC%8B%A4%ED%97%98_Week_5.ipynb\" target=\"_parent\"><img src=\"https://colab.research.google.com/assets/colab-badge.svg\" alt=\"Open In Colab\"/></a>"
      ]
    },
    {
      "cell_type": "markdown",
      "metadata": {
        "id": "rSsE6FDdsbAt"
      },
      "source": [
        "**Linear Regression**"
      ]
    },
    {
      "cell_type": "code",
      "metadata": {
        "id": "a_QUGK7dVew2"
      },
      "source": [
        "import numpy as np\n",
        "import matplotlib.pyplot as plt"
      ],
      "execution_count": null,
      "outputs": []
    },
    {
      "cell_type": "code",
      "metadata": {
        "id": "51U6U1KhVpSo"
      },
      "source": [
        "def function(x) :\n",
        "  return 6*x + 10 "
      ],
      "execution_count": null,
      "outputs": []
    },
    {
      "cell_type": "code",
      "metadata": {
        "id": "9ZpeTITEVlDG"
      },
      "source": [
        "x = np.arange(0, 11, 1)\n",
        "y = function(x)"
      ],
      "execution_count": null,
      "outputs": []
    },
    {
      "cell_type": "code",
      "metadata": {
        "id": "hgjJg-khqbZw"
      },
      "source": [
        "y"
      ],
      "execution_count": null,
      "outputs": []
    },
    {
      "cell_type": "code",
      "metadata": {
        "id": "vyuWCM9XVsVw"
      },
      "source": [
        "plt.scatter(x, y) "
      ],
      "execution_count": null,
      "outputs": []
    },
    {
      "cell_type": "markdown",
      "metadata": {
        "id": "q9lGB5ujsgo6"
      },
      "source": [
        "* Statistics Calculation"
      ]
    },
    {
      "cell_type": "code",
      "metadata": {
        "id": "ON6qlpJMVth6"
      },
      "source": [
        "Sxy = np.cov(x, y)\n",
        "Sxy"
      ],
      "execution_count": null,
      "outputs": []
    },
    {
      "cell_type": "code",
      "metadata": {
        "id": "lv5o-KyCWq5t"
      },
      "source": [
        "Sxx = np.cov(x, x)\n",
        "Sxx"
      ],
      "execution_count": null,
      "outputs": []
    },
    {
      "cell_type": "code",
      "metadata": {
        "id": "Ktm0lSaeWj2z"
      },
      "source": [
        "Sxy = Sxy[0, 1]\n",
        "Sxx = Sxx[0, 1]"
      ],
      "execution_count": null,
      "outputs": []
    },
    {
      "cell_type": "code",
      "metadata": {
        "id": "uCfl3XbYWuDB"
      },
      "source": [
        "ux, uy = np.mean(x), np.mean(y)"
      ],
      "execution_count": null,
      "outputs": []
    },
    {
      "cell_type": "markdown",
      "metadata": {
        "id": "sTHzkAVBsk2Z"
      },
      "source": [
        "* Coefficients Calculation"
      ]
    },
    {
      "cell_type": "code",
      "metadata": {
        "id": "aIzXrCYrWxST"
      },
      "source": [
        "a = Sxy / Sxx\n",
        "a"
      ],
      "execution_count": null,
      "outputs": []
    },
    {
      "cell_type": "code",
      "metadata": {
        "id": "2cAW8AZNWz-U"
      },
      "source": [
        "b = uy - a * ux\n",
        "b"
      ],
      "execution_count": null,
      "outputs": []
    },
    {
      "cell_type": "markdown",
      "metadata": {
        "id": "MdNm8WyUsnke"
      },
      "source": [
        "* Make Model"
      ]
    },
    {
      "cell_type": "code",
      "metadata": {
        "id": "iCxU-w3PW3bz"
      },
      "source": [
        "def regression_model(a, b, x) :\n",
        "  return a*x + b"
      ],
      "execution_count": null,
      "outputs": []
    },
    {
      "cell_type": "code",
      "metadata": {
        "id": "rFnUsDTOXLGb"
      },
      "source": [
        "y_pred = regression_model(a, b, x)"
      ],
      "execution_count": null,
      "outputs": []
    },
    {
      "cell_type": "markdown",
      "metadata": {
        "id": "TrfvnPkfsrJ5"
      },
      "source": [
        "* Predict Value"
      ]
    },
    {
      "cell_type": "code",
      "metadata": {
        "id": "6gTYYgsQqcth"
      },
      "source": [
        "y_pred"
      ],
      "execution_count": null,
      "outputs": []
    },
    {
      "cell_type": "code",
      "metadata": {
        "id": "1IJDxauEXjPO"
      },
      "source": [
        "plt.scatter(x, y)\n",
        "plt.plot(x, y_pred)\n",
        "plt.show()"
      ],
      "execution_count": null,
      "outputs": []
    },
    {
      "cell_type": "markdown",
      "metadata": {
        "id": "c__NOIVPst63"
      },
      "source": [
        "* R-Squared Calculation"
      ]
    },
    {
      "cell_type": "code",
      "metadata": {
        "id": "9KGjLmipp5NH"
      },
      "source": [
        "def r_squared(y, y_pred) :\n",
        "  SSreg = np.sum((y - y_pred)**2)\n",
        "  SStot = np.sum((y - np.mean(y))**2)\n",
        "  return 1 - SSreg / SStot"
      ],
      "execution_count": null,
      "outputs": []
    },
    {
      "cell_type": "code",
      "metadata": {
        "id": "OyUmMGpuqLsX"
      },
      "source": [
        "r_squared(y, y_pred)"
      ],
      "execution_count": null,
      "outputs": []
    },
    {
      "cell_type": "markdown",
      "metadata": {
        "id": "Q0mOckBes0jn"
      },
      "source": [
        "* Linear Regression as One Function"
      ]
    },
    {
      "cell_type": "code",
      "metadata": {
        "id": "VGMtdKl-rOEG"
      },
      "source": [
        "def linear_regression(x, y) :\n",
        "   Sxy, Sxx = np.cov(x, y)[0, 1], np.cov(x, x)[0, 1] \n",
        "   ux, uy = np.mean(x), np.mean(y)\n",
        "\n",
        "   a = Sxy / Sxx\n",
        "   b = uy - a * ux\n",
        "\n",
        "   return a, b, a*x + b"
      ],
      "execution_count": null,
      "outputs": []
    },
    {
      "cell_type": "markdown",
      "metadata": {
        "id": "7s617t9xs4Mz"
      },
      "source": [
        "* Linear Regression with Second-Order Function"
      ]
    },
    {
      "cell_type": "code",
      "metadata": {
        "id": "62jr-VYyr2LM"
      },
      "source": [
        "def function(x) :\n",
        "  return 0.5*x**2 + 6*x + 10\n",
        "\n",
        "x = np.arange(0, 11, 1)\n",
        "y = function(x)"
      ],
      "execution_count": null,
      "outputs": []
    },
    {
      "cell_type": "code",
      "metadata": {
        "id": "OzYLN6rWr8OG"
      },
      "source": [
        "plt.scatter(x, y)\n",
        "plt.show()"
      ],
      "execution_count": null,
      "outputs": []
    },
    {
      "cell_type": "code",
      "metadata": {
        "id": "VITUZJxwr9wR"
      },
      "source": [
        "a, b, y_pred = linear_regression(x, y)"
      ],
      "execution_count": null,
      "outputs": []
    },
    {
      "cell_type": "code",
      "metadata": {
        "id": "utqPUkcvsCU_"
      },
      "source": [
        "plt.scatter(x, y)\n",
        "plt.plot(x, y_pred)\n",
        "plt.show()"
      ],
      "execution_count": null,
      "outputs": []
    },
    {
      "cell_type": "code",
      "metadata": {
        "id": "cQgA-UMdsGH1"
      },
      "source": [
        "r_squared(y, y_pred)"
      ],
      "execution_count": null,
      "outputs": []
    },
    {
      "cell_type": "markdown",
      "metadata": {
        "id": "hj5XOSWBs-hN"
      },
      "source": [
        "* Linear Regression with Third-Order Function"
      ]
    },
    {
      "cell_type": "code",
      "metadata": {
        "id": "xuRHEHrOsWLU"
      },
      "source": [
        "def function(x) :\n",
        "  return 5e-3*x**3 + x**2 + 6*x + 10\n",
        "\n",
        "x = np.arange(0, 11, 1)\n",
        "y = function(x)"
      ],
      "execution_count": null,
      "outputs": []
    },
    {
      "cell_type": "code",
      "metadata": {
        "id": "83_Y0t59sYU-"
      },
      "source": [
        "plt.scatter(x, y)\n",
        "plt.show()"
      ],
      "execution_count": null,
      "outputs": []
    },
    {
      "cell_type": "code",
      "metadata": {
        "id": "6NlXEFbvtHgt"
      },
      "source": [
        "a, b, y_pred = linear_regression(x, y)"
      ],
      "execution_count": null,
      "outputs": []
    },
    {
      "cell_type": "code",
      "metadata": {
        "id": "iDCbntbntQN_"
      },
      "source": [
        "plt.scatter(x, y)\n",
        "plt.plot(x, y_pred)\n",
        "plt.show()"
      ],
      "execution_count": null,
      "outputs": []
    },
    {
      "cell_type": "code",
      "metadata": {
        "id": "90DF87HwtRbY"
      },
      "source": [
        "r_squared(y, y_pred)"
      ],
      "execution_count": null,
      "outputs": []
    },
    {
      "cell_type": "markdown",
      "metadata": {
        "id": "BnFeZtazBxT9"
      },
      "source": [
        "**R2 Score with Scikit-Learn**"
      ]
    },
    {
      "cell_type": "code",
      "metadata": {
        "id": "YtWlHuIgB0WC"
      },
      "source": [
        "from sklearn.metrics import r2_score"
      ],
      "execution_count": null,
      "outputs": []
    },
    {
      "cell_type": "code",
      "metadata": {
        "id": "Ll8PfwJzB0yp"
      },
      "source": [
        "r2_score(y, y_pred)"
      ],
      "execution_count": null,
      "outputs": []
    },
    {
      "cell_type": "markdown",
      "metadata": {
        "id": "CpbDJFs1tnV-"
      },
      "source": [
        "**Polynomial Regression with Numpy**"
      ]
    },
    {
      "cell_type": "markdown",
      "metadata": {
        "id": "WI-6MMUpuRSL"
      },
      "source": [
        "* numpy.polyfit(x, y, deg)\n",
        "  * x → Numpy Array\n",
        "  * y → Numpy Array\n",
        "  * deg → Integer (Degree)\n",
        "  * **Returns Coefficients**"
      ]
    },
    {
      "cell_type": "code",
      "metadata": {
        "id": "fnsbt7Zatp56"
      },
      "source": [
        "def function(x) :\n",
        "  return 5*x**5 + 4*x**4 + 3*x**3 + 2*x**2 + x + 1 + np.exp(2*x)"
      ],
      "execution_count": null,
      "outputs": []
    },
    {
      "cell_type": "code",
      "metadata": {
        "id": "EDkjyTU8uhSY"
      },
      "source": [
        "x = np.arange(0, 21, 1)\n",
        "y = function(x)"
      ],
      "execution_count": null,
      "outputs": []
    },
    {
      "cell_type": "code",
      "metadata": {
        "id": "gO-V6lChujyS"
      },
      "source": [
        "plt.scatter(x, y)\n",
        "plt.show()"
      ],
      "execution_count": null,
      "outputs": []
    },
    {
      "cell_type": "markdown",
      "metadata": {
        "id": "zfIbLQtF4g9E"
      },
      "source": [
        "**Fifth-Order Polynominal Model Regression**"
      ]
    },
    {
      "cell_type": "code",
      "metadata": {
        "id": "lPDaABK-un3J"
      },
      "source": [
        "c = np.polyfit(x, y, 5)\n",
        "c"
      ],
      "execution_count": null,
      "outputs": []
    },
    {
      "cell_type": "code",
      "metadata": {
        "id": "njThFPIYvRua"
      },
      "source": [
        "def regression_model(coefficient, x) :\n",
        "  prediction = 0\n",
        "  for i, c in enumerate(coefficient) :\n",
        "    prediction += c * x**(len(coefficient) - i - 1)\n",
        "  return prediction"
      ],
      "execution_count": null,
      "outputs": []
    },
    {
      "cell_type": "code",
      "metadata": {
        "id": "hXkuTfgQwBrd"
      },
      "source": [
        "y_pred = regression_model(c, x)"
      ],
      "execution_count": null,
      "outputs": []
    },
    {
      "cell_type": "code",
      "metadata": {
        "id": "WnVuR_rTwQ1K"
      },
      "source": [
        "plt.scatter(x, y)\n",
        "plt.plot(x, y_pred)\n",
        "plt.show()"
      ],
      "execution_count": null,
      "outputs": []
    },
    {
      "cell_type": "code",
      "metadata": {
        "id": "8RxJ9yMSxd37"
      },
      "source": [
        "r_squared(y, y_pred)"
      ],
      "execution_count": null,
      "outputs": []
    },
    {
      "cell_type": "markdown",
      "metadata": {
        "id": "WMylCZHa4nCD"
      },
      "source": [
        "**Seventh-Order Polynominal Model Regression**"
      ]
    },
    {
      "cell_type": "code",
      "metadata": {
        "id": "ZcRxz25wxfLP"
      },
      "source": [
        "c = np.polyfit(x, y, 7)\n",
        "y_pred = regression_model(c, x)\n",
        "\n",
        "plt.scatter(x, y)\n",
        "plt.plot(x, y_pred)\n",
        "plt.show()"
      ],
      "execution_count": null,
      "outputs": []
    },
    {
      "cell_type": "code",
      "metadata": {
        "id": "j0Ba7FvnxnJ9"
      },
      "source": [
        "r2_score(y, y_pred)"
      ],
      "execution_count": null,
      "outputs": []
    },
    {
      "cell_type": "markdown",
      "metadata": {
        "id": "6l_PV-i-4o7L"
      },
      "source": [
        "**Ninth-Order Polynominal Model Regression**"
      ]
    },
    {
      "cell_type": "code",
      "metadata": {
        "id": "LMFfuK-kypfn"
      },
      "source": [
        "c = np.polyfit(x, y, 9)\n",
        "y_pred = regression_model(c, x)\n",
        "\n",
        "plt.scatter(x, y)\n",
        "plt.plot(x, y_pred)\n",
        "plt.show()"
      ],
      "execution_count": null,
      "outputs": []
    },
    {
      "cell_type": "code",
      "metadata": {
        "id": "KC8FqWgeyqXN"
      },
      "source": [
        "r2_score(y, y_pred)"
      ],
      "execution_count": null,
      "outputs": []
    },
    {
      "cell_type": "markdown",
      "metadata": {
        "id": "axjpF2OCyVrf"
      },
      "source": [
        "**Higher-Order != Better**\n",
        "  * Need to Consider Overfitting Problem"
      ]
    },
    {
      "cell_type": "markdown",
      "metadata": {
        "id": "vkjqVhAH3V_x"
      },
      "source": [
        "**Exponential Regression with Scipy**"
      ]
    },
    {
      "cell_type": "markdown",
      "metadata": {
        "id": "cfGpbCK33goo"
      },
      "source": [
        "* scipy.optimize.curve_fit(f, xdata, ydata)\n",
        "  * Pre-Determined Regression Model → Python Function\n",
        "  * x_data → Numpy Array\n",
        "  * y_data → Numpy Array\n",
        "  * **Returns Coefficients and Covariance**"
      ]
    },
    {
      "cell_type": "code",
      "metadata": {
        "id": "o0LCG9mh3Vxk"
      },
      "source": [
        "from scipy.optimize import curve_fit"
      ],
      "execution_count": null,
      "outputs": []
    },
    {
      "cell_type": "markdown",
      "metadata": {
        "id": "-3l1XMmi9lLe"
      },
      "source": [
        "* Exponential Regression"
      ]
    },
    {
      "cell_type": "code",
      "metadata": {
        "id": "dH2naATs3hfu"
      },
      "source": [
        "def function(x) :\n",
        "  return 10 - 4*np.exp(x)"
      ],
      "execution_count": null,
      "outputs": []
    },
    {
      "cell_type": "code",
      "metadata": {
        "id": "1EhAYWLC8uxq"
      },
      "source": [
        "x = np.arange(0, 21, 1)\n",
        "y = function(x)"
      ],
      "execution_count": null,
      "outputs": []
    },
    {
      "cell_type": "code",
      "metadata": {
        "id": "7kf8UDfe8vDK"
      },
      "source": [
        "plt.scatter(x, y)\n",
        "plt.show()"
      ],
      "execution_count": null,
      "outputs": []
    },
    {
      "cell_type": "code",
      "metadata": {
        "id": "Ec9SGTSg8w7C"
      },
      "source": [
        "def regression_model(x, a, b) :\n",
        "  return a + b*np.exp(x)"
      ],
      "execution_count": null,
      "outputs": []
    },
    {
      "cell_type": "code",
      "metadata": {
        "id": "b3Zsq88884N2"
      },
      "source": [
        "result = curve_fit(regression_model, x, y)\n",
        "result"
      ],
      "execution_count": null,
      "outputs": []
    },
    {
      "cell_type": "code",
      "metadata": {
        "id": "PgfcF7hv9AFh"
      },
      "source": [
        "a, b = result[0]\n",
        "print(a, b)"
      ],
      "execution_count": null,
      "outputs": []
    },
    {
      "cell_type": "code",
      "metadata": {
        "id": "ntDj1TfK9Kh9"
      },
      "source": [
        "y_pred = regression_model(x, a, b)"
      ],
      "execution_count": null,
      "outputs": []
    },
    {
      "cell_type": "code",
      "metadata": {
        "id": "ZYgw3PeK9Nml"
      },
      "source": [
        "plt.scatter(x, y)\n",
        "plt.plot(x, y_pred)\n",
        "plt.show()"
      ],
      "execution_count": null,
      "outputs": []
    },
    {
      "cell_type": "code",
      "metadata": {
        "id": "4gCZ-Wtl9Tkh"
      },
      "source": [
        "r2_score(y, y_pred)"
      ],
      "execution_count": null,
      "outputs": []
    },
    {
      "cell_type": "markdown",
      "metadata": {
        "id": "T7qTm7gA9pGy"
      },
      "source": [
        "* Logarithm Regression"
      ]
    },
    {
      "cell_type": "code",
      "metadata": {
        "id": "k020eNJ89i4T"
      },
      "source": [
        "def function(x) :\n",
        "  return 5 + 9*np.log(x + 1)\n",
        "\n",
        "x = np.arange(0, 21, 1)\n",
        "y = function(x)"
      ],
      "execution_count": null,
      "outputs": []
    },
    {
      "cell_type": "code",
      "metadata": {
        "id": "I6a9jiOU90cy"
      },
      "source": [
        "plt.scatter(x, y)\n",
        "plt.show()"
      ],
      "execution_count": null,
      "outputs": []
    },
    {
      "cell_type": "code",
      "metadata": {
        "id": "O7UERdEY936p"
      },
      "source": [
        "def regression_model(x, a, b, c) :\n",
        "  return a + b*np.log(x + c)\n",
        "\n",
        "a, b, c = curve_fit(regression_model, x, y)[0]\n",
        "y_pred = regression_model(x, a, b, c)\n",
        "\n",
        "plt.scatter(x, y)\n",
        "plt.plot(x, y_pred)\n",
        "plt.show()"
      ],
      "execution_count": null,
      "outputs": []
    },
    {
      "cell_type": "code",
      "metadata": {
        "id": "nObJ7YNA-H8M"
      },
      "source": [
        "r2_score(y, y_pred)"
      ],
      "execution_count": null,
      "outputs": []
    },
    {
      "cell_type": "markdown",
      "metadata": {
        "id": "8q33jjdM-aez"
      },
      "source": [
        "**Week 5 Assignment**\n",
        "\n",
        "주어진 Train(x, y) 값을 기반으로 회귀 모델을 만들고, 이를 Test(x, y) 값을 기반으로 분석하세요.\n",
        "\n",
        "0.95 이상의 R 제곱 값을 얻으셔야 됩니다.\n",
        "\n",
        "**Hint : 주기함수**\n",
        "\n"
      ]
    },
    {
      "cell_type": "markdown",
      "metadata": {
        "id": "iK3UnI0Kuy7v"
      },
      "source": [
        "**하단과 같은 파일명으로 ipynb 생성 후 과제 진행 및 제출**\n",
        "\n",
        "* 파일명\n",
        "  * 학번_수강생성함_Week_5.ipynb\n",
        "  * 예시) 2021345678_홍길동_Week_5.ipynb"
      ]
    },
    {
      "cell_type": "code",
      "metadata": {
        "id": "e80ADB0ivBYe"
      },
      "source": [
        "import numpy as np\n",
        "import matplotlib.pyplot as plt\n",
        "from scipy.optimize import curve_fit\n",
        "from sklearn.metrics import r2_score"
      ],
      "execution_count": null,
      "outputs": []
    },
    {
      "cell_type": "code",
      "metadata": {
        "id": "DY0iQoGGAd-6"
      },
      "source": [
        "x_train = np.array([ 0,  1,  2,  3,  4,  5,  6,  7,  8,  9, 10, 11, 12, 13, 14, 15, 16,\n",
        "           17, 18, 19, 20, 21, 22, 23, 24, 25, 26, 27, 28, 29, 30, 31, 32, 33,\n",
        "           34, 35, 36, 37, 38, 39, 40, 41, 42, 43, 44, 45, 46, 47, 48, 49, 50])\n",
        "y_train = np.array([ 2.96169311,  2.93815769,  2.83127164,  3.3144891 ,  5.14280452,\n",
        "           6.83822934,  8.61822023,  9.51400149,  9.39006294,  9.18288609,\n",
        "           11.12451612, 12.29839781, 14.65226718, 15.76550965, 15.93140017,\n",
        "           15.26143827, 16.69471652, 18.00335133, 19.83143103, 20.99604004,\n",
        "           21.4845126 , 21.5975604 , 22.26483092, 23.5696549 , 25.62029477,\n",
        "           27.50762802, 27.7906    , 27.90488376, 28.75512173, 29.80105226,\n",
        "           31.99883251, 33.22305765, 34.09989821, 34.12080171, 34.68002612,\n",
        "           35.43020075, 37.45964596, 39.51522387, 40.4918085 , 41.16668595,\n",
        "           40.66328161, 41.55407343, 43.29226289, 45.44871764, 46.38932857,\n",
        "           47.03954183, 46.77506222, 47.02130819, 48.95308986, 50.41952834,\n",
        "           52.80496663])"
      ],
      "execution_count": null,
      "outputs": []
    },
    {
      "cell_type": "code",
      "metadata": {
        "id": "cY1gRswmAfsZ"
      },
      "source": [
        "x_test = np.array([ 51,  52,  53,  54,  55,  56,  57,  58,  59,  60,  61,  62,  63,\n",
        "          64,  65,  66,  67,  68,  69,  70,  71,  72,  73,  74,  75,  76,\n",
        "          77,  78,  79,  80,  81,  82,  83,  84,  85,  86,  87,  88,  89,\n",
        "          90,  91,  92,  93,  94,  95,  96,  97,  98,  99, 100, 101])\n",
        "y_test = np.array([ 52.74568772,  53.75253382,  53.14792693,  54.27921796,\n",
        "          56.34733979,  58.48843042,  59.14850654,  60.00911267,\n",
        "          60.15308865,  60.55843487,  62.07107775,  64.22778606,\n",
        "          65.32466007,  65.7780241 ,  66.05018705,  66.74910857,\n",
        "          67.93483314,  69.65666206,  71.87501386,  71.90221627,\n",
        "          71.77038294,  72.31270145,  74.12318794,  75.84345433,\n",
        "          77.57281878,  78.65015758,  78.5883611 ,  79.01874225,\n",
        "          79.21028691,  81.0384153 ,  82.79311775,  84.77927188,\n",
        "          84.32941456,  85.18850854,  85.06445482,  87.35424575,\n",
        "          89.0027914 ,  90.96606764,  91.49913423,  91.40933979,\n",
        "          91.31139371,  93.22808481,  94.93532893,  96.79765733,\n",
        "          97.43549644,  96.82156355,  97.59228764,  98.9442028 ,\n",
        "          100.20086801, 101.9353047 , 103.73530787])"
      ],
      "execution_count": null,
      "outputs": []
    },
    {
      "cell_type": "code",
      "metadata": {
        "id": "v_x1AadS-2ro"
      },
      "source": [
        "plt.scatter(x_test, y_test)\n",
        "plt.show()"
      ],
      "execution_count": null,
      "outputs": []
    },
    {
      "cell_type": "code",
      "metadata": {
        "id": "iCTaDr9jDWGO"
      },
      "source": [
        "def regression_model(x, # Fill Here) :\n",
        "  return # Fill Here"
      ],
      "execution_count": null,
      "outputs": []
    },
    {
      "cell_type": "code",
      "metadata": {
        "id": "ai_HDKh4Dzs-"
      },
      "source": [
        "??? = curve_fit(regression_model, x_train, y_train)[0]"
      ],
      "execution_count": null,
      "outputs": []
    },
    {
      "cell_type": "code",
      "metadata": {
        "id": "XyYQrAOSETWx"
      },
      "source": [
        "y_pred = regression_model(x_test, # Fill Here)"
      ],
      "execution_count": null,
      "outputs": []
    },
    {
      "cell_type": "code",
      "metadata": {
        "id": "eT_zsMqgEhY7"
      },
      "source": [
        "plt.scatter(x_test, y_test)\n",
        "plt.plot(x_test, y_pred)\n",
        "plt.show()"
      ],
      "execution_count": null,
      "outputs": []
    },
    {
      "cell_type": "code",
      "metadata": {
        "id": "7TxRraz9Bc40"
      },
      "source": [
        "r2_score(y_test, y_pred)"
      ],
      "execution_count": null,
      "outputs": []
    }
  ]
}
