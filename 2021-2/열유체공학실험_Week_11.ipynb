{
  "nbformat": 4,
  "nbformat_minor": 0,
  "metadata": {
    "colab": {
      "name": "열유체공학실험_Week_11.ipynb",
      "provenance": [],
      "collapsed_sections": [],
      "authorship_tag": "ABX9TyMqjwcO+94tP+gfujfzFB4D",
      "include_colab_link": true
    },
    "kernelspec": {
      "name": "python3",
      "display_name": "Python 3"
    },
    "language_info": {
      "name": "python"
    },
    "accelerator": "GPU"
  },
  "cells": [
    {
      "cell_type": "markdown",
      "metadata": {
        "id": "view-in-github",
        "colab_type": "text"
      },
      "source": [
        "<a href=\"https://colab.research.google.com/github/JK-the-Ko/Thermo_Fluid_Dynamics_Experiment/blob/main/2021_2/%EC%97%B4%EC%9C%A0%EC%B2%B4%EA%B3%B5%ED%95%99%EC%8B%A4%ED%97%98_Week_11.ipynb\" target=\"_parent\"><img src=\"https://colab.research.google.com/assets/colab-badge.svg\" alt=\"Open In Colab\"/></a>"
      ]
    },
    {
      "cell_type": "markdown",
      "metadata": {
        "id": "TFT1NIjIAJ6X"
      },
      "source": [
        "**Check GPU Connection**"
      ]
    },
    {
      "cell_type": "code",
      "metadata": {
        "id": "AEWRTjkgAMSk"
      },
      "source": [
        "!nvidia-smi"
      ],
      "execution_count": null,
      "outputs": []
    },
    {
      "cell_type": "markdown",
      "metadata": {
        "id": "pS3sw48k3MK6"
      },
      "source": [
        "**Import Library**"
      ]
    },
    {
      "cell_type": "code",
      "metadata": {
        "id": "4grqzoHK2OAw"
      },
      "source": [
        "import numpy as np\n",
        "import matplotlib.pyplot as plt\n",
        "from tensorflow import keras"
      ],
      "execution_count": null,
      "outputs": []
    },
    {
      "cell_type": "markdown",
      "metadata": {
        "id": "bNgKcfEB3ORF"
      },
      "source": [
        "**Load MNIST Dataset**"
      ]
    },
    {
      "cell_type": "code",
      "metadata": {
        "id": "D73B3MDV2fKP"
      },
      "source": [
        "(x_train, y_train), (x_test, y_test) = keras.datasets.mnist.load_data()"
      ],
      "execution_count": null,
      "outputs": []
    },
    {
      "cell_type": "code",
      "metadata": {
        "id": "Zs9xPWEw6omL"
      },
      "source": [
        "num_classes = 10\n",
        "input_shape = (28, 28)"
      ],
      "execution_count": null,
      "outputs": []
    },
    {
      "cell_type": "markdown",
      "metadata": {
        "id": "QjXLym-T3QZ-"
      },
      "source": [
        "**Check Number of Train Data**"
      ]
    },
    {
      "cell_type": "code",
      "metadata": {
        "id": "0roudyFc20ai"
      },
      "source": [
        "print(x_train.shape)\n",
        "print(y_train.shape)"
      ],
      "execution_count": null,
      "outputs": []
    },
    {
      "cell_type": "markdown",
      "metadata": {
        "id": "KtYTQf6W3TLJ"
      },
      "source": [
        "**Check Number of Test Data**"
      ]
    },
    {
      "cell_type": "code",
      "metadata": {
        "id": "5hbfahHN28fU"
      },
      "source": [
        "print(x_test.shape)\n",
        "print(y_test.shape)"
      ],
      "execution_count": null,
      "outputs": []
    },
    {
      "cell_type": "markdown",
      "metadata": {
        "id": "HxmToO_a3Vgb"
      },
      "source": [
        "**Show Sample**"
      ]
    },
    {
      "cell_type": "code",
      "metadata": {
        "id": "lwT2__Td3EUO"
      },
      "source": [
        "sample_image = x_train[0, :, :]"
      ],
      "execution_count": null,
      "outputs": []
    },
    {
      "cell_type": "code",
      "metadata": {
        "id": "pLmEqin93JBT"
      },
      "source": [
        "sample_image.shape"
      ],
      "execution_count": null,
      "outputs": []
    },
    {
      "cell_type": "code",
      "metadata": {
        "id": "sRq9BloX3t-f"
      },
      "source": [
        "sample_image.dtype"
      ],
      "execution_count": null,
      "outputs": []
    },
    {
      "cell_type": "code",
      "metadata": {
        "id": "h6wXja9z3oIw"
      },
      "source": [
        "sample_image"
      ],
      "execution_count": null,
      "outputs": []
    },
    {
      "cell_type": "code",
      "metadata": {
        "id": "EwLsiqQU3Kxr"
      },
      "source": [
        "plt.rcParams[\"figure.figsize\"] = (5, 5)\n",
        "plt.imshow(sample_image, cmap = \"gray\")\n",
        "plt.axis(\"off\")\n",
        "plt.show()"
      ],
      "execution_count": null,
      "outputs": []
    },
    {
      "cell_type": "code",
      "metadata": {
        "id": "yKUrcnVkKIke"
      },
      "source": [
        "sample_image = np.expand_dims(sample_image.flatten(), -1)\n",
        "plt.rcParams[\"figure.figsize\"] = (5, 5)\n",
        "plt.imshow(sample_image, cmap = \"gray\")\n",
        "plt.axis(\"off\")\n",
        "plt.show()"
      ],
      "execution_count": null,
      "outputs": []
    },
    {
      "cell_type": "code",
      "metadata": {
        "id": "k9PiGI9o3d_a"
      },
      "source": [
        "sample_label = y_train[0]"
      ],
      "execution_count": null,
      "outputs": []
    },
    {
      "cell_type": "code",
      "metadata": {
        "id": "WJ-_5_TV3j2g"
      },
      "source": [
        "sample_label"
      ],
      "execution_count": null,
      "outputs": []
    },
    {
      "cell_type": "markdown",
      "metadata": {
        "id": "NXunmfZK380i"
      },
      "source": [
        "**Data Processing**"
      ]
    },
    {
      "cell_type": "markdown",
      "metadata": {
        "id": "nLGKihOU3_S5"
      },
      "source": [
        "* Min-Max Normalization"
      ]
    },
    {
      "cell_type": "code",
      "metadata": {
        "id": "269w0T8M3kd4"
      },
      "source": [
        "x_train = x_train / 255\n",
        "x_test = x_test / 255"
      ],
      "execution_count": null,
      "outputs": []
    },
    {
      "cell_type": "code",
      "metadata": {
        "id": "KyNUG85m489b"
      },
      "source": [
        "x_train.dtype"
      ],
      "execution_count": null,
      "outputs": []
    },
    {
      "cell_type": "code",
      "metadata": {
        "id": "ya-WiiLn4-Wd"
      },
      "source": [
        "print(np.max(x_train))\n",
        "print(np.min(x_train))"
      ],
      "execution_count": null,
      "outputs": []
    },
    {
      "cell_type": "markdown",
      "metadata": {
        "id": "kWkA0grU54q5"
      },
      "source": [
        "* One-Hot Encoding"
      ]
    },
    {
      "cell_type": "code",
      "metadata": {
        "id": "Oao3koM45zXA"
      },
      "source": [
        "y_train = keras.utils.to_categorical(y_train, num_classes)\n",
        "y_test = keras.utils.to_categorical(y_test, num_classes)"
      ],
      "execution_count": null,
      "outputs": []
    },
    {
      "cell_type": "code",
      "metadata": {
        "id": "g4litaw36x-x"
      },
      "source": [
        "y_train[0]"
      ],
      "execution_count": null,
      "outputs": []
    },
    {
      "cell_type": "markdown",
      "metadata": {
        "id": "1-3Kp0hI7mbj"
      },
      "source": [
        "**Neural Network**"
      ]
    },
    {
      "cell_type": "code",
      "metadata": {
        "id": "VAWEuEre7ocl"
      },
      "source": [
        "from tensorflow.keras import layers"
      ],
      "execution_count": null,
      "outputs": []
    },
    {
      "cell_type": "markdown",
      "metadata": {
        "id": "XScb2uPv74Ae"
      },
      "source": [
        "* Assign Sequential Model"
      ]
    },
    {
      "cell_type": "code",
      "metadata": {
        "id": "I-P3P5Hf7rqG"
      },
      "source": [
        "model = keras.Sequential()"
      ],
      "execution_count": null,
      "outputs": []
    },
    {
      "cell_type": "code",
      "metadata": {
        "id": "ZbJPLtEq7yMU"
      },
      "source": [
        "model.layers"
      ],
      "execution_count": null,
      "outputs": []
    },
    {
      "cell_type": "code",
      "metadata": {
        "id": "3TOYPsPo7y3l"
      },
      "source": [
        "model.add(keras.Input(shape = input_shape))"
      ],
      "execution_count": null,
      "outputs": []
    },
    {
      "cell_type": "code",
      "metadata": {
        "id": "nNd2YN628s5G"
      },
      "source": [
        "model.layers"
      ],
      "execution_count": null,
      "outputs": []
    },
    {
      "cell_type": "code",
      "metadata": {
        "id": "cgJYqUc-8tyV"
      },
      "source": [
        "model.add(layers.Flatten())"
      ],
      "execution_count": null,
      "outputs": []
    },
    {
      "cell_type": "markdown",
      "metadata": {
        "id": "NSj4nMVtV4ix"
      },
      "source": [
        "* Fully Connected Layer (Multi Layer Perceptron)"
      ]
    },
    {
      "cell_type": "code",
      "metadata": {
        "id": "Wi2Y3lCt88Pn"
      },
      "source": [
        "model.add(layers.Dense(256, \"relu\"))\n",
        "model.add(layers.Dense(512, \"relu\"))\n",
        "model.add(layers.Dense(512, \"relu\"))\n",
        "model.add(layers.Dense(256, \"relu\"))\n",
        "model.add(layers.Dense(num_classes, \"softmax\"))"
      ],
      "execution_count": null,
      "outputs": []
    },
    {
      "cell_type": "code",
      "metadata": {
        "id": "6-VtOPdQ9Tkf"
      },
      "source": [
        "model.layers"
      ],
      "execution_count": null,
      "outputs": []
    },
    {
      "cell_type": "markdown",
      "metadata": {
        "id": "3jBfWMbl9YuX"
      },
      "source": [
        "* Summarize Model"
      ]
    },
    {
      "cell_type": "code",
      "metadata": {
        "id": "mI7upcy29Ux8"
      },
      "source": [
        "model.summary()"
      ],
      "execution_count": null,
      "outputs": []
    },
    {
      "cell_type": "markdown",
      "metadata": {
        "id": "imqn0mW0D3j-"
      },
      "source": [
        "* Compile Model"
      ]
    },
    {
      "cell_type": "code",
      "metadata": {
        "id": "8GjeXDBJ9boN"
      },
      "source": [
        "model.compile(optimizer = \"sgd\", loss = \"categorical_crossentropy\", metrics = [\"accuracy\"])"
      ],
      "execution_count": null,
      "outputs": []
    },
    {
      "cell_type": "markdown",
      "metadata": {
        "id": "Z2kqjIT5D4_v"
      },
      "source": [
        "* Train Model"
      ]
    },
    {
      "cell_type": "code",
      "metadata": {
        "id": "qzAQuZCkEMgx"
      },
      "source": [
        "batch_size = 64\n",
        "epochs = 50"
      ],
      "execution_count": null,
      "outputs": []
    },
    {
      "cell_type": "code",
      "metadata": {
        "id": "H_pA1B-4D1dY"
      },
      "source": [
        "hist = model.fit(x_train, y_train, batch_size = batch_size, epochs = epochs, validation_split = 0.2)"
      ],
      "execution_count": null,
      "outputs": []
    },
    {
      "cell_type": "markdown",
      "metadata": {
        "id": "mK8wKD1tF0Li"
      },
      "source": [
        "* Show Training Process"
      ]
    },
    {
      "cell_type": "code",
      "metadata": {
        "id": "mHvTlLRzEZGw"
      },
      "source": [
        "hist.history.keys()"
      ],
      "execution_count": null,
      "outputs": []
    },
    {
      "cell_type": "code",
      "metadata": {
        "id": "6rgVPEhJFyzq"
      },
      "source": [
        "plt.rcParams[\"figure.figsize\"] = (10, 5)"
      ],
      "execution_count": null,
      "outputs": []
    },
    {
      "cell_type": "code",
      "metadata": {
        "id": "WchpzCibFAmn"
      },
      "source": [
        "plt.plot(np.arange(0, epochs), hist.history[\"loss\"], label = \"Train Loss\")\n",
        "plt.plot(np.arange(0, epochs), hist.history[\"val_loss\"], label = \"Validation Loss\")\n",
        "plt.legend()\n",
        "plt.show()"
      ],
      "execution_count": null,
      "outputs": []
    },
    {
      "cell_type": "code",
      "metadata": {
        "id": "7Yi4qm9AFSZW"
      },
      "source": [
        "plt.plot(np.arange(0, epochs), hist.history[\"accuracy\"], label = \"Train Accuracy\")\n",
        "plt.plot(np.arange(0, epochs), hist.history[\"val_accuracy\"], label = \"Validation Accuracy\")\n",
        "plt.legend()\n",
        "plt.show()"
      ],
      "execution_count": null,
      "outputs": []
    },
    {
      "cell_type": "markdown",
      "metadata": {
        "id": "REs90PZHGTMG"
      },
      "source": [
        "* Evaluate Model"
      ]
    },
    {
      "cell_type": "code",
      "metadata": {
        "id": "2vwT3fiaGUtn"
      },
      "source": [
        "score = model.evaluate(x_test, y_test)"
      ],
      "execution_count": null,
      "outputs": []
    },
    {
      "cell_type": "code",
      "metadata": {
        "id": "jEzol5spGXaF"
      },
      "source": [
        "print(\"Test loss:\", score[0])\n",
        "print(\"Test accuracy:\", score[1])"
      ],
      "execution_count": null,
      "outputs": []
    },
    {
      "cell_type": "markdown",
      "metadata": {
        "id": "llegGEK6Gpfc"
      },
      "source": [
        "**Regularizer**"
      ]
    },
    {
      "cell_type": "markdown",
      "metadata": {
        "id": "wUNBNJ7LGvN1"
      },
      "source": [
        "* Overfitting Prevention\n",
        "  * Dropout\n",
        "  * L2 Regularizer"
      ]
    },
    {
      "cell_type": "code",
      "metadata": {
        "id": "wV0UpqI3Hjr4"
      },
      "source": [
        "model = keras.Sequential()"
      ],
      "execution_count": null,
      "outputs": []
    },
    {
      "cell_type": "code",
      "metadata": {
        "id": "bhp3_9N4Hxjg"
      },
      "source": [
        "model.add(keras.Input(shape = input_shape))\n",
        "model.add(layers.Flatten())\n",
        "model.add(layers.Dense(256, \"relu\", kernel_regularizer=\"l2\"))\n",
        "model.add(layers.Dropout(0.3))\n",
        "model.add(layers.Dense(512, \"relu\", kernel_regularizer=\"l2\"))\n",
        "model.add(layers.Dropout(0.3))\n",
        "model.add(layers.Dense(512, \"relu\", kernel_regularizer=\"l2\"))\n",
        "model.add(layers.Dropout(0.3))\n",
        "model.add(layers.Dense(256, \"relu\", kernel_regularizer=\"l2\"))\n",
        "model.add(layers.Dropout(0.3))\n",
        "model.add(layers.Dense(num_classes, \"softmax\"))"
      ],
      "execution_count": null,
      "outputs": []
    },
    {
      "cell_type": "code",
      "metadata": {
        "id": "3pAjn_lJIPpa"
      },
      "source": [
        "model.summary()"
      ],
      "execution_count": null,
      "outputs": []
    },
    {
      "cell_type": "code",
      "metadata": {
        "id": "D0YKG9NhIV6Z"
      },
      "source": [
        "model.compile(optimizer = \"sgd\", loss = \"categorical_crossentropy\", metrics = [\"accuracy\"])\n",
        "hist_reg = model.fit(x_train, y_train, batch_size = batch_size, epochs = epochs, validation_split = 0.2)"
      ],
      "execution_count": null,
      "outputs": []
    },
    {
      "cell_type": "code",
      "metadata": {
        "id": "Tk8LceENIiBA"
      },
      "source": [
        "plt.plot(np.arange(0, epochs), hist_reg.history[\"loss\"], label = \"Train Loss\")\n",
        "plt.plot(np.arange(0, epochs), hist_reg.history[\"val_loss\"], label = \"Validation Loss\")\n",
        "plt.legend()\n",
        "plt.show()"
      ],
      "execution_count": null,
      "outputs": []
    },
    {
      "cell_type": "code",
      "metadata": {
        "id": "HWO4T1T_JqWZ"
      },
      "source": [
        "plt.plot(np.arange(0, epochs), hist_reg.history[\"accuracy\"], label = \"Train Accuracy\")\n",
        "plt.plot(np.arange(0, epochs), hist_reg.history[\"val_accuracy\"], label = \"Validation Accuracy\")\n",
        "plt.legend()\n",
        "plt.show()"
      ],
      "execution_count": null,
      "outputs": []
    },
    {
      "cell_type": "code",
      "metadata": {
        "id": "WDBkcO8CTZQ9"
      },
      "source": [
        "score = model.evaluate(x_test, y_test)\n",
        "print(\"Test loss:\", score[0])\n",
        "print(\"Test accuracy:\", score[1])"
      ],
      "execution_count": null,
      "outputs": []
    },
    {
      "cell_type": "markdown",
      "metadata": {
        "id": "lmEFyyPXUUDO"
      },
      "source": [
        "**Optimizer**"
      ]
    },
    {
      "cell_type": "markdown",
      "metadata": {
        "id": "H1H5IuP-WaFw"
      },
      "source": [
        "* SGD → Adam"
      ]
    },
    {
      "cell_type": "code",
      "metadata": {
        "id": "7xcJ0XZSUVya"
      },
      "source": [
        "model = keras.Sequential()"
      ],
      "execution_count": null,
      "outputs": []
    },
    {
      "cell_type": "code",
      "metadata": {
        "id": "Jvwqsb-7UZrb"
      },
      "source": [
        "model.add(keras.Input(shape = input_shape))\n",
        "model.add(layers.Flatten())\n",
        "model.add(layers.Dense(256, \"relu\", kernel_regularizer=\"l2\"))\n",
        "model.add(layers.Dropout(0.3))\n",
        "model.add(layers.Dense(512, \"relu\", kernel_regularizer=\"l2\"))\n",
        "model.add(layers.Dropout(0.3))\n",
        "model.add(layers.Dense(512, \"relu\", kernel_regularizer=\"l2\"))\n",
        "model.add(layers.Dropout(0.3))\n",
        "model.add(layers.Dense(256, \"relu\", kernel_regularizer=\"l2\"))\n",
        "model.add(layers.Dropout(0.3))\n",
        "model.add(layers.Dense(num_classes, \"softmax\"))"
      ],
      "execution_count": null,
      "outputs": []
    },
    {
      "cell_type": "code",
      "metadata": {
        "id": "CafJOOffUZ9o"
      },
      "source": [
        "model.compile(optimizer = \"adam\", loss = \"categorical_crossentropy\", metrics = [\"accuracy\"])\n",
        "hist_adam = model.fit(x_train, y_train, batch_size = batch_size, epochs = epochs, validation_split = 0.2)"
      ],
      "execution_count": null,
      "outputs": []
    },
    {
      "cell_type": "code",
      "metadata": {
        "id": "oMVJcsFfUe_o"
      },
      "source": [
        "plt.plot(np.arange(0, epochs), hist_reg.history[\"loss\"], label = \"Train Loss (SGD)\")\n",
        "plt.plot(np.arange(0, epochs), hist_reg.history[\"val_loss\"], label = \"Validation Loss (SGD)\")\n",
        "plt.plot(np.arange(0, epochs), hist_adam.history[\"loss\"], label = \"Train Loss (Adam)\")\n",
        "plt.plot(np.arange(0, epochs), hist_adam.history[\"val_loss\"], label = \"Validation Loss (Adam)\")\n",
        "plt.legend()\n",
        "plt.show()"
      ],
      "execution_count": null,
      "outputs": []
    },
    {
      "cell_type": "code",
      "metadata": {
        "id": "H-zoqxITUqov"
      },
      "source": [
        "plt.plot(np.arange(0, epochs), hist_reg.history[\"accuracy\"], label = \"Train Accuracy (SGD)\")\n",
        "plt.plot(np.arange(0, epochs), hist_reg.history[\"val_accuracy\"], label = \"Validation Accuracy (SGD)\")\n",
        "plt.plot(np.arange(0, epochs), hist_adam.history[\"accuracy\"], label = \"Train Accuracy (Adam)\")\n",
        "plt.plot(np.arange(0, epochs), hist_adam.history[\"val_accuracy\"], label = \"Validation Accuracy (Adam)\")\n",
        "plt.legend()\n",
        "plt.show()"
      ],
      "execution_count": null,
      "outputs": []
    },
    {
      "cell_type": "code",
      "metadata": {
        "id": "z3CUzVLpVyHi"
      },
      "source": [
        "score = model.evaluate(x_test, y_test)\n",
        "print(\"Test loss:\", score[0])\n",
        "print(\"Test accuracy:\", score[1])"
      ],
      "execution_count": null,
      "outputs": []
    },
    {
      "cell_type": "markdown",
      "metadata": {
        "id": "q-2RhvDGBunz"
      },
      "source": [
        "**Week 11 Assignment**"
      ]
    },
    {
      "cell_type": "markdown",
      "metadata": {
        "id": "rAt7Yc4oB2aL"
      },
      "source": [
        "Keras에서 제공하는 Fashion MNIST 데이터셋을 불러와 이미지 분류 모델을 학습하고 하단과 같은 결과를 출력하세요."
      ]
    },
    {
      "cell_type": "markdown",
      "metadata": {
        "id": "39Nc2SKYDA97"
      },
      "source": [
        "\n",
        "\n",
        "1.   훈련 결과 그래프 (Loss 및 Accuracy)\n",
        "2.   모델 검증 결과\n",
        "\n"
      ]
    },
    {
      "cell_type": "markdown",
      "metadata": {
        "id": "bRabLiUYCMyi"
      },
      "source": [
        "**Test 데이터로 모델을 검증하였을 시 정확도가 80% 이상 나와야 합니다.**"
      ]
    },
    {
      "cell_type": "markdown",
      "metadata": {
        "id": "Rb_dMYToCB92"
      },
      "source": [
        "**하단과 같은 파일명으로 .ipynb 생성 후 과제 진행 및 제출**"
      ]
    },
    {
      "cell_type": "markdown",
      "metadata": {
        "id": "Ukydy-OLCHdn"
      },
      "source": [
        "* 파일명\n",
        "  * 학번_수강생성함_Week_11.ipynb\n",
        "  * 예시) 2021345678_홍길동_Week_11.ipynb"
      ]
    },
    {
      "cell_type": "code",
      "metadata": {
        "id": "N2Jgyq1iCkaF"
      },
      "source": [
        "import numpy as np\n",
        "import matplotlib.pyplot as plt\n",
        "from tensorflow import keras\n",
        "from tensorflow.keras import layers"
      ],
      "execution_count": null,
      "outputs": []
    },
    {
      "cell_type": "code",
      "metadata": {
        "id": "AhaX0dF-D5sm"
      },
      "source": [
        "(x_train, y_train), (x_test, y_test) = keras.datasets.fashion_mnist.load_data()"
      ],
      "execution_count": null,
      "outputs": []
    }
  ]
}
