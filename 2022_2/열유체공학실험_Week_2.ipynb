{
  "nbformat": 4,
  "nbformat_minor": 0,
  "metadata": {
    "colab": {
      "name": "열유체공학실험_Week_2.ipynb",
      "provenance": [],
      "collapsed_sections": [],
      "authorship_tag": "ABX9TyN2wzV28Yivym155mJsplZ5",
      "include_colab_link": true
    },
    "kernelspec": {
      "name": "python3",
      "display_name": "Python 3"
    },
    "language_info": {
      "name": "python"
    }
  },
  "cells": [
    {
      "cell_type": "markdown",
      "metadata": {
        "id": "view-in-github",
        "colab_type": "text"
      },
      "source": [
        "<a href=\"https://colab.research.google.com/github/JK-the-Ko/Thermo_Fluid_Dynamics_Experiment/blob/main/2022_2/%EC%97%B4%EC%9C%A0%EC%B2%B4%EA%B3%B5%ED%95%99%EC%8B%A4%ED%97%98_Week_2.ipynb\" target=\"_parent\"><img src=\"https://colab.research.google.com/assets/colab-badge.svg\" alt=\"Open In Colab\"/></a>"
      ]
    },
    {
      "cell_type": "markdown",
      "metadata": {
        "id": "dSjpH68JBS_y"
      },
      "source": [
        "#주석"
      ]
    },
    {
      "cell_type": "code",
      "metadata": {
        "id": "0GBUNspkBWGE"
      },
      "source": [
        "# This is Comment"
      ],
      "execution_count": null,
      "outputs": []
    },
    {
      "cell_type": "code",
      "source": [
        "# Hello World!"
      ],
      "metadata": {
        "id": "6YbsUxPW1e7j"
      },
      "execution_count": null,
      "outputs": []
    },
    {
      "cell_type": "markdown",
      "metadata": {
        "id": "9F6zPz4HBZeo"
      },
      "source": [
        "#변수 출력 (쥬피터 노트북)\n",
        "\n"
      ]
    },
    {
      "cell_type": "code",
      "metadata": {
        "id": "sJ704S2kBcmP"
      },
      "source": [
        "\"Hello World\""
      ],
      "execution_count": null,
      "outputs": []
    },
    {
      "cell_type": "code",
      "metadata": {
        "id": "SMMWbuY-Beps"
      },
      "source": [
        "print(\"Hello World\")"
      ],
      "execution_count": null,
      "outputs": []
    },
    {
      "cell_type": "code",
      "metadata": {
        "id": "SZa-cU9tXwbV"
      },
      "source": [
        "print(\"Hello World\" * 3)"
      ],
      "execution_count": null,
      "outputs": []
    },
    {
      "cell_type": "markdown",
      "metadata": {
        "id": "GR33jM3KTNJ1"
      },
      "source": [
        "#메모리 할당"
      ]
    },
    {
      "cell_type": "code",
      "metadata": {
        "id": "eOhnVMTWTPMp"
      },
      "source": [
        "num1 = 10"
      ],
      "execution_count": null,
      "outputs": []
    },
    {
      "cell_type": "code",
      "metadata": {
        "id": "uNOUCIerTRAo"
      },
      "source": [
        "num2 = num1"
      ],
      "execution_count": null,
      "outputs": []
    },
    {
      "cell_type": "code",
      "metadata": {
        "id": "teroeg5jTSqQ"
      },
      "source": [
        "print(num1, num2)"
      ],
      "execution_count": null,
      "outputs": []
    },
    {
      "cell_type": "code",
      "metadata": {
        "id": "qy7M0SPBTV1w"
      },
      "source": [
        "print(hex(id(num1)), hex(id(num2)))"
      ],
      "execution_count": null,
      "outputs": []
    },
    {
      "cell_type": "code",
      "metadata": {
        "id": "d4SiCSrXTft9"
      },
      "source": [
        "num1 = 20"
      ],
      "execution_count": null,
      "outputs": []
    },
    {
      "cell_type": "code",
      "metadata": {
        "id": "oIpV0d2jTl_S"
      },
      "source": [
        "print(hex(id(num1)), hex(id(num2)))"
      ],
      "execution_count": null,
      "outputs": []
    },
    {
      "cell_type": "markdown",
      "metadata": {
        "id": "VU25GwtsjpL3"
      },
      "source": [
        "#데이터 타입"
      ]
    },
    {
      "cell_type": "markdown",
      "source": [
        "###불리언 (Boolean)"
      ],
      "metadata": {
        "id": "ZW3l6__Q2x7i"
      }
    },
    {
      "cell_type": "code",
      "metadata": {
        "id": "d_Fy3jxEaW6p"
      },
      "source": [
        "boolean1 = True\n",
        "boolean1"
      ],
      "execution_count": null,
      "outputs": []
    },
    {
      "cell_type": "code",
      "metadata": {
        "id": "ytnk2If-hLTd"
      },
      "source": [
        "type(boolean1)"
      ],
      "execution_count": null,
      "outputs": []
    },
    {
      "cell_type": "code",
      "metadata": {
        "id": "Tvzi2N26hUou"
      },
      "source": [
        "boolean2 = False\n",
        "boolean2"
      ],
      "execution_count": null,
      "outputs": []
    },
    {
      "cell_type": "code",
      "metadata": {
        "id": "IW00ZITHhV60"
      },
      "source": [
        "type(boolean2)"
      ],
      "execution_count": null,
      "outputs": []
    },
    {
      "cell_type": "code",
      "metadata": {
        "id": "1TVkpci_hXYX"
      },
      "source": [
        "boolean1 + boolean2"
      ],
      "execution_count": null,
      "outputs": []
    },
    {
      "cell_type": "code",
      "metadata": {
        "id": "nAQna56WhaZI"
      },
      "source": [
        "boolean1 * boolean2"
      ],
      "execution_count": null,
      "outputs": []
    },
    {
      "cell_type": "code",
      "metadata": {
        "id": "812gnos4hhnk"
      },
      "source": [
        "print(100 > 10)"
      ],
      "execution_count": null,
      "outputs": []
    },
    {
      "cell_type": "code",
      "metadata": {
        "id": "i75Pd2k_hdd0"
      },
      "source": [
        "print(100 < 10)"
      ],
      "execution_count": null,
      "outputs": []
    },
    {
      "cell_type": "markdown",
      "metadata": {
        "id": "ecc__Rf3jxTz"
      },
      "source": [
        "###정수형 (Integer)"
      ]
    },
    {
      "cell_type": "code",
      "metadata": {
        "id": "wyGSrarbjsCx"
      },
      "source": [
        "int1 = 10\n",
        "int2 = 20"
      ],
      "execution_count": null,
      "outputs": []
    },
    {
      "cell_type": "code",
      "metadata": {
        "id": "LVwQ10NQj8lx"
      },
      "source": [
        "int3 = int1 + int2\n",
        "int4 = int2 - int1"
      ],
      "execution_count": null,
      "outputs": []
    },
    {
      "cell_type": "code",
      "metadata": {
        "id": "kNWJMCdNj-ZC"
      },
      "source": [
        "int3"
      ],
      "execution_count": null,
      "outputs": []
    },
    {
      "cell_type": "code",
      "metadata": {
        "id": "txA_HiYLj_60"
      },
      "source": [
        "int4"
      ],
      "execution_count": null,
      "outputs": []
    },
    {
      "cell_type": "markdown",
      "metadata": {
        "id": "jE4QjWLMkKtT"
      },
      "source": [
        "###부동소수형 (Float)"
      ]
    },
    {
      "cell_type": "code",
      "metadata": {
        "id": "5OlLvSoHkD4J"
      },
      "source": [
        "float1, float2 = 1.5, 2.5"
      ],
      "execution_count": null,
      "outputs": []
    },
    {
      "cell_type": "code",
      "metadata": {
        "id": "QzKkT7bxkh7E"
      },
      "source": [
        "float3 = float1 + float2\n",
        "float4 = float2 - float1"
      ],
      "execution_count": null,
      "outputs": []
    },
    {
      "cell_type": "code",
      "metadata": {
        "id": "HMGQxloGkmHv"
      },
      "source": [
        "float3"
      ],
      "execution_count": null,
      "outputs": []
    },
    {
      "cell_type": "code",
      "metadata": {
        "id": "xwtqQ-iukm7-"
      },
      "source": [
        "float4"
      ],
      "execution_count": null,
      "outputs": []
    },
    {
      "cell_type": "code",
      "metadata": {
        "id": "GVx01Virknwg"
      },
      "source": [
        "type(int2 / int1)"
      ],
      "execution_count": null,
      "outputs": []
    },
    {
      "cell_type": "code",
      "metadata": {
        "id": "kfJLatT7kqjW"
      },
      "source": [
        "type(int1 * int2)"
      ],
      "execution_count": null,
      "outputs": []
    },
    {
      "cell_type": "markdown",
      "metadata": {
        "id": "gGo93g4QlR7C"
      },
      "source": [
        "#####Python 연산자"
      ]
    },
    {
      "cell_type": "code",
      "metadata": {
        "id": "bDLhoCnNkvmr"
      },
      "source": [
        "num1, num2 = 11, 12"
      ],
      "execution_count": null,
      "outputs": []
    },
    {
      "cell_type": "code",
      "metadata": {
        "id": "DhA0eln5lrQn"
      },
      "source": [
        "num1 + num2 "
      ],
      "execution_count": null,
      "outputs": []
    },
    {
      "cell_type": "code",
      "metadata": {
        "id": "_fOcyLrklsmW"
      },
      "source": [
        "num1 - num2"
      ],
      "execution_count": null,
      "outputs": []
    },
    {
      "cell_type": "code",
      "metadata": {
        "id": "wB_Pr8kkltmY"
      },
      "source": [
        "num1 * num2"
      ],
      "execution_count": null,
      "outputs": []
    },
    {
      "cell_type": "code",
      "metadata": {
        "id": "2L2LVIBBlu1Q"
      },
      "source": [
        "num1 / num2"
      ],
      "execution_count": null,
      "outputs": []
    },
    {
      "cell_type": "code",
      "metadata": {
        "id": "2KY8iRBHlxv4"
      },
      "source": [
        "num1 // num2"
      ],
      "execution_count": null,
      "outputs": []
    },
    {
      "cell_type": "code",
      "metadata": {
        "id": "bwMBbIEol3Ba"
      },
      "source": [
        "num2 // num1"
      ],
      "execution_count": null,
      "outputs": []
    },
    {
      "cell_type": "code",
      "metadata": {
        "id": "3g2Rwi11lyt-"
      },
      "source": [
        "num1 % num2"
      ],
      "execution_count": null,
      "outputs": []
    },
    {
      "cell_type": "code",
      "metadata": {
        "id": "T1GUnrxql0os"
      },
      "source": [
        "num2 % num1"
      ],
      "execution_count": null,
      "outputs": []
    },
    {
      "cell_type": "code",
      "metadata": {
        "id": "sox3_FssyL7P"
      },
      "source": [
        "num1 ** num2"
      ],
      "execution_count": null,
      "outputs": []
    },
    {
      "cell_type": "markdown",
      "metadata": {
        "id": "boChVYMLnaEV"
      },
      "source": [
        "#####복합연산자"
      ]
    },
    {
      "cell_type": "code",
      "metadata": {
        "id": "OGifSgFmnc63"
      },
      "source": [
        "num1"
      ],
      "execution_count": null,
      "outputs": []
    },
    {
      "cell_type": "code",
      "metadata": {
        "id": "TsgchuV2nZ2N"
      },
      "source": [
        "num1 += 1\n",
        "num1"
      ],
      "execution_count": null,
      "outputs": []
    },
    {
      "cell_type": "code",
      "metadata": {
        "id": "O71lK6H-nj8V"
      },
      "source": [
        "num1 -= 1\n",
        "num1"
      ],
      "execution_count": null,
      "outputs": []
    },
    {
      "cell_type": "code",
      "metadata": {
        "id": "8wWe4fXCnlse"
      },
      "source": [
        "num1 *= 11\n",
        "num1"
      ],
      "execution_count": null,
      "outputs": []
    },
    {
      "cell_type": "code",
      "metadata": {
        "id": "Yk82rd08nn4q"
      },
      "source": [
        "num1 /= 11\n",
        "num1"
      ],
      "execution_count": null,
      "outputs": []
    },
    {
      "cell_type": "markdown",
      "metadata": {
        "id": "YM1yRHRFmNfR"
      },
      "source": [
        "###문자열 (String)"
      ]
    },
    {
      "cell_type": "code",
      "metadata": {
        "id": "nTpbw_LgmOQ-"
      },
      "source": [
        "string1 = \"Hello World!\""
      ],
      "execution_count": null,
      "outputs": []
    },
    {
      "cell_type": "code",
      "metadata": {
        "id": "QTI8Szb5l5bk"
      },
      "source": [
        "string1"
      ],
      "execution_count": null,
      "outputs": []
    },
    {
      "cell_type": "code",
      "metadata": {
        "id": "CaIGFLRAmX27"
      },
      "source": [
        "string1 = string1 + \" \" + \"Goodbye World!\""
      ],
      "execution_count": null,
      "outputs": []
    },
    {
      "cell_type": "code",
      "metadata": {
        "id": "LxnT8wQhmwcM"
      },
      "source": [
        "string1"
      ],
      "execution_count": null,
      "outputs": []
    },
    {
      "cell_type": "markdown",
      "metadata": {
        "id": "a7U1dWqPOoGv"
      },
      "source": [
        "####문자열 메쏘드"
      ]
    },
    {
      "cell_type": "code",
      "metadata": {
        "id": "64Rkgtf0Otni"
      },
      "source": [
        "num = \"10,11,12,13,14,15\""
      ],
      "execution_count": null,
      "outputs": []
    },
    {
      "cell_type": "code",
      "metadata": {
        "id": "JFWq2hOKOw7H"
      },
      "source": [
        "num.split(\",\")"
      ],
      "execution_count": null,
      "outputs": []
    },
    {
      "cell_type": "code",
      "metadata": {
        "id": "ieBozyicO4NO"
      },
      "source": [
        "numList = list()\n",
        "localNum = \"\"\n",
        "\n",
        "for i in num :\n",
        "  if i == \",\" :\n",
        "    numList.append(localNum)\n",
        "    localNum = \"\"\n",
        "  else :\n",
        "    localNum += i\n",
        "numList.append(localNum)"
      ],
      "execution_count": null,
      "outputs": []
    },
    {
      "cell_type": "code",
      "metadata": {
        "id": "uqYubWscO7U8"
      },
      "source": [
        "numList"
      ],
      "execution_count": null,
      "outputs": []
    },
    {
      "cell_type": "markdown",
      "metadata": {
        "id": "f_pi834Wm7Mx"
      },
      "source": [
        "#포매팅 타입\n"
      ]
    },
    {
      "cell_type": "code",
      "metadata": {
        "id": "_RTlXm7pm1k3"
      },
      "source": [
        "print(string1)"
      ],
      "execution_count": null,
      "outputs": []
    },
    {
      "cell_type": "markdown",
      "metadata": {
        "id": "oiErxdEn6mPo"
      },
      "source": [
        "**Python 3버전에서만 지원**"
      ]
    },
    {
      "cell_type": "code",
      "metadata": {
        "id": "aPe-nAXHnB-O"
      },
      "source": [
        "print(f\"They said {string1}\")"
      ],
      "execution_count": null,
      "outputs": []
    },
    {
      "cell_type": "code",
      "metadata": {
        "id": "fBT8A0dhnIc7"
      },
      "source": [
        "print(f\"Answer: {num1 + num2}\")"
      ],
      "execution_count": null,
      "outputs": []
    },
    {
      "cell_type": "code",
      "metadata": {
        "id": "xyWj36IpnNRS"
      },
      "source": [
        "print(f\"Answer: {num1 / num2}\")"
      ],
      "execution_count": null,
      "outputs": []
    },
    {
      "cell_type": "code",
      "metadata": {
        "id": "LXD0XKH-ntuT"
      },
      "source": [
        "print(f\"Answer: {num1 / num2:.4f}\")"
      ],
      "execution_count": null,
      "outputs": []
    },
    {
      "cell_type": "markdown",
      "source": [
        "#조건문"
      ],
      "metadata": {
        "id": "g7C7-vqs2Y79"
      }
    },
    {
      "cell_type": "code",
      "metadata": {
        "id": "rIyh4l02ugj1"
      },
      "source": [
        "grade = \"A\"\n",
        "\n",
        "if grade == \"F\" :\n",
        "  print(\"F\")\n",
        "\n",
        "elif grade == \"D\" :\n",
        "  print(\"D\")\n",
        "\n",
        "elif grade == \"C\" :\n",
        "  print(\"C\")\n",
        "\n",
        "elif grade == \"B\" :\n",
        "  print(\"B\")\n",
        "\n",
        "elif grade == \"A\" :\n",
        "  print(\"A\")"
      ],
      "execution_count": null,
      "outputs": []
    },
    {
      "cell_type": "code",
      "metadata": {
        "id": "Tv9OrzIovJVY"
      },
      "source": [
        "money, price = 100, 200\n",
        "\n",
        "if money > price :\n",
        "  print(\"Please keep the change\")\n",
        "\n",
        "elif money == price :\n",
        "  print(\"Thank you\")\n",
        "\n",
        "else :\n",
        "  print(\"Give me more money\")"
      ],
      "execution_count": null,
      "outputs": []
    },
    {
      "cell_type": "markdown",
      "source": [
        "#루프"
      ],
      "metadata": {
        "id": "u7Cfcrww3q3U"
      }
    },
    {
      "cell_type": "markdown",
      "source": [
        "###For 루프"
      ],
      "metadata": {
        "id": "7yNzFYdl3sO6"
      }
    },
    {
      "cell_type": "code",
      "metadata": {
        "id": "KEyw1z8cvkRj"
      },
      "source": [
        "for i in [1, 2, 3] :\n",
        "  print(i)"
      ],
      "execution_count": null,
      "outputs": []
    },
    {
      "cell_type": "code",
      "metadata": {
        "id": "U_6dzjjcwtEw"
      },
      "source": [
        "list1 = list(range(10))\n",
        "list1"
      ],
      "execution_count": null,
      "outputs": []
    },
    {
      "cell_type": "code",
      "metadata": {
        "id": "TbsLF2CTn1tT"
      },
      "source": [
        "list1 = list(range(1, 10))\n",
        "list1"
      ],
      "execution_count": null,
      "outputs": []
    },
    {
      "cell_type": "code",
      "metadata": {
        "id": "Lkg8Z0h4wyfH"
      },
      "source": [
        "for i in list1 :\n",
        "  print(i)"
      ],
      "execution_count": null,
      "outputs": []
    },
    {
      "cell_type": "code",
      "metadata": {
        "id": "QYxlRn3Iw1xv"
      },
      "source": [
        "for i in range(10) :\n",
        "  print(i)"
      ],
      "execution_count": null,
      "outputs": []
    },
    {
      "cell_type": "code",
      "metadata": {
        "id": "hzu9b2SGw3y4"
      },
      "source": [
        "list1 = list(range(0, 10, 2))\n",
        "list1"
      ],
      "execution_count": null,
      "outputs": []
    },
    {
      "cell_type": "code",
      "metadata": {
        "id": "p970q-ZGw_qk"
      },
      "source": [
        "for i, num in enumerate(list1) :\n",
        "  print(i, num)"
      ],
      "execution_count": null,
      "outputs": []
    },
    {
      "cell_type": "code",
      "metadata": {
        "id": "_DggP0adxFJf"
      },
      "source": [
        "for i in range(10) :\n",
        "  if i > 5 :\n",
        "    break\n",
        " \n",
        "  else :\n",
        "    print(i)"
      ],
      "execution_count": null,
      "outputs": []
    },
    {
      "cell_type": "markdown",
      "source": [
        "###While 루프"
      ],
      "metadata": {
        "id": "BDZKdaUj38br"
      }
    },
    {
      "cell_type": "code",
      "metadata": {
        "id": "Q3eeHuwuxOEt"
      },
      "source": [
        "i = 0\n",
        "while i < 10 :\n",
        "  print(i)\n",
        "  i += 1"
      ],
      "execution_count": null,
      "outputs": []
    },
    {
      "cell_type": "code",
      "metadata": {
        "id": "YWc_9pVhzaR8"
      },
      "source": [
        "boolean = True\n",
        "\n",
        "while boolean :\n",
        "  char = input()\n",
        "  \n",
        "  if char == \"stop\" :\n",
        "    boolean = False\n",
        " \n",
        "  else :\n",
        "    print(char)"
      ],
      "execution_count": null,
      "outputs": []
    },
    {
      "cell_type": "markdown",
      "metadata": {
        "id": "Iof7lyRaoKPM"
      },
      "source": [
        "###중첩반복문"
      ]
    },
    {
      "cell_type": "code",
      "metadata": {
        "id": "t-LjOP7YoMAY"
      },
      "source": [
        "list2d = [[1, 2, 3], [4, 5, 6]]"
      ],
      "execution_count": null,
      "outputs": []
    },
    {
      "cell_type": "code",
      "metadata": {
        "id": "MPXfV9oUoVIu"
      },
      "source": [
        "for i in range(2) :\n",
        "  for j in range(3) :\n",
        "    print(list2d[i][j])"
      ],
      "execution_count": null,
      "outputs": []
    },
    {
      "cell_type": "code",
      "metadata": {
        "id": "5djbCD0fogZi"
      },
      "source": [
        "list2d = list()\n",
        "\n",
        "for i in range(2) :\n",
        "  list1d = list()\n",
        "  \n",
        "  for j in range(3) :\n",
        "    list1d.append(i + j)\n",
        "  \n",
        "  list2d.append(list1d)"
      ],
      "execution_count": null,
      "outputs": []
    },
    {
      "cell_type": "code",
      "metadata": {
        "id": "g2vYNc-Po94i"
      },
      "source": [
        "list2d"
      ],
      "execution_count": null,
      "outputs": []
    }
  ]
}