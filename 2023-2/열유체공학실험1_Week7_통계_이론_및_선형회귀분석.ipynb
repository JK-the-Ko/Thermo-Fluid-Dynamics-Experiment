{
  "nbformat": 4,
  "nbformat_minor": 0,
  "metadata": {
    "colab": {
      "provenance": [],
      "authorship_tag": "ABX9TyPju93z4h61YRGUifrBbEP+",
      "include_colab_link": true
    },
    "kernelspec": {
      "name": "python3",
      "display_name": "Python 3"
    },
    "language_info": {
      "name": "python"
    }
  },
  "cells": [
    {
      "cell_type": "markdown",
      "metadata": {
        "id": "view-in-github",
        "colab_type": "text"
      },
      "source": [
        "<a href=\"https://colab.research.google.com/github/JK-the-Ko/Thermo-Fluid-Dynamics-Experiment/blob/main/2023-2/%EC%97%B4%EC%9C%A0%EC%B2%B4%EA%B3%B5%ED%95%99%EC%8B%A4%ED%97%981_Week7_%ED%86%B5%EA%B3%84_%EC%9D%B4%EB%A1%A0_%EB%B0%8F_%EC%84%A0%ED%98%95%ED%9A%8C%EA%B7%80%EB%B6%84%EC%84%9D.ipynb\" target=\"_parent\"><img src=\"https://colab.research.google.com/assets/colab-badge.svg\" alt=\"Open In Colab\"/></a>"
      ]
    },
    {
      "cell_type": "markdown",
      "source": [
        "# Statistics"
      ],
      "metadata": {
        "id": "tdfC1rFWBKNp"
      }
    },
    {
      "cell_type": "code",
      "execution_count": null,
      "metadata": {
        "id": "oTTRnWKzA4dp"
      },
      "outputs": [],
      "source": [
        "import numpy as np\n",
        "import pandas as pd\n",
        "import matplotlib.pyplot as plt"
      ]
    },
    {
      "cell_type": "markdown",
      "source": [
        "## Random Sampling from Standard Normal Distribution\n",
        "### Zero Mean & Unit Variance\n"
      ],
      "metadata": {
        "id": "4-RbOCHNBORu"
      }
    },
    {
      "cell_type": "markdown",
      "source": [
        "### Fix Seed"
      ],
      "metadata": {
        "id": "wzimXDg6BlSR"
      }
    },
    {
      "cell_type": "code",
      "source": [
        "np.random.seed(0)"
      ],
      "metadata": {
        "id": "N-6JoynVBj-g"
      },
      "execution_count": null,
      "outputs": []
    },
    {
      "cell_type": "markdown",
      "source": [
        "### Sampling"
      ],
      "metadata": {
        "id": "mGu_kr3IB3ax"
      }
    },
    {
      "cell_type": "code",
      "source": [
        "sampleSet0 = np.random.randn(int(1e2))\n",
        "sampleSet1 = np.random.randn(int(1e4))\n",
        "sampleSet2 = np.random.randn(int(1e6))"
      ],
      "metadata": {
        "id": "mHQwTnMGA9Lp"
      },
      "execution_count": null,
      "outputs": []
    },
    {
      "cell_type": "code",
      "source": [
        "print(f\"Sample Set 0 Shape : {sampleSet0.shape}\")\n",
        "print(f\"Sample Set 1 Shape : {sampleSet1.shape}\")\n",
        "print(f\"Sample Set 2 Shape : {sampleSet2.shape}\")"
      ],
      "metadata": {
        "id": "eO1CppQyBZFR"
      },
      "execution_count": null,
      "outputs": []
    },
    {
      "cell_type": "markdown",
      "source": [
        "### Histogram"
      ],
      "metadata": {
        "id": "itqRHl0hCCn0"
      }
    },
    {
      "cell_type": "code",
      "source": [
        "plt.figure(figsize=(10,5))\n",
        "plt.hist(sampleSet0, bins = 10)\n",
        "plt.xlabel(\"value\")\n",
        "plt.ylabel(\"# samples\")\n",
        "plt.title(\"Sample Set 0 Histogram\")\n",
        "plt.show()"
      ],
      "metadata": {
        "id": "i58nHLKyBZ7v"
      },
      "execution_count": null,
      "outputs": []
    },
    {
      "cell_type": "code",
      "source": [
        "plt.figure(figsize=(10,5))\n",
        "plt.hist(sampleSet1, bins = 100)\n",
        "plt.xlabel(\"value\")\n",
        "plt.ylabel(\"# samples\")\n",
        "plt.title(\"Sample Set 1 Histogram\")\n",
        "plt.show()"
      ],
      "metadata": {
        "id": "wtBFamCrEoK6"
      },
      "execution_count": null,
      "outputs": []
    },
    {
      "cell_type": "code",
      "source": [
        "plt.figure(figsize=(10,5))\n",
        "plt.hist(sampleSet2, bins = 1000)\n",
        "plt.xlabel(\"value\")\n",
        "plt.ylabel(\"# samples\")\n",
        "plt.title(\"Sample Set 2 Histogram\")\n",
        "plt.show()"
      ],
      "metadata": {
        "id": "chGO1-puEojR"
      },
      "execution_count": null,
      "outputs": []
    },
    {
      "cell_type": "markdown",
      "source": [
        "## Statistic"
      ],
      "metadata": {
        "id": "_SzQU2fmCXZW"
      }
    },
    {
      "cell_type": "markdown",
      "source": [
        "### Mean"
      ],
      "metadata": {
        "id": "DAdIEnJLFJat"
      }
    },
    {
      "cell_type": "code",
      "source": [
        "print(f\"Sample Set 0 : {np.mean(sampleSet0):.4f}\")\n",
        "print(f\"Sample Set 1 : {np.mean(sampleSet1):.4f}\")\n",
        "print(f\"Sample Set 2 : {np.mean(sampleSet2):.4f}\")"
      ],
      "metadata": {
        "id": "arVYO91vFI1T"
      },
      "execution_count": null,
      "outputs": []
    },
    {
      "cell_type": "markdown",
      "source": [
        "### Variance"
      ],
      "metadata": {
        "id": "4N0pUR1cFMzT"
      }
    },
    {
      "cell_type": "code",
      "source": [
        "print(f\"Sample Set 0 : {np.var(sampleSet0):.4f}\")\n",
        "print(f\"Sample Set 1 : {np.var(sampleSet1):.4f}\")\n",
        "print(f\"Sample Set 2 : {np.var(sampleSet2):.4f}\")"
      ],
      "metadata": {
        "id": "GGWZfbdYFL_9"
      },
      "execution_count": null,
      "outputs": []
    },
    {
      "cell_type": "markdown",
      "source": [
        "### Standard Deviation"
      ],
      "metadata": {
        "id": "julq26zeFoGo"
      }
    },
    {
      "cell_type": "code",
      "source": [
        "print(f\"Sample Set 0 : {np.std(sampleSet0):.4f}\")\n",
        "print(f\"Sample Set 1 : {np.std(sampleSet1):.4f}\")\n",
        "print(f\"Sample Set 2 : {np.std(sampleSet2):.4f}\")"
      ],
      "metadata": {
        "id": "-DR9LeWuFOtP"
      },
      "execution_count": null,
      "outputs": []
    },
    {
      "cell_type": "markdown",
      "source": [
        "### Median"
      ],
      "metadata": {
        "id": "bQ-rTBMKGB6t"
      }
    },
    {
      "cell_type": "code",
      "source": [
        "print(f\"Sample Set 0 : {np.median(sampleSet0):.4f}\")\n",
        "print(f\"Sample Set 1 : {np.median(sampleSet1):.4f}\")\n",
        "print(f\"Sample Set 2 : {np.median(sampleSet2):.4f}\")"
      ],
      "metadata": {
        "id": "Q9SGONzqGCwL"
      },
      "execution_count": null,
      "outputs": []
    },
    {
      "cell_type": "markdown",
      "source": [
        "### Maximum Value"
      ],
      "metadata": {
        "id": "zH1qT-S6F_XU"
      }
    },
    {
      "cell_type": "code",
      "source": [
        "print(f\"Sample Set 0 : {np.max(sampleSet0):.4f}\")\n",
        "print(f\"Sample Set 1 : {np.max(sampleSet1):.4f}\")\n",
        "print(f\"Sample Set 2 : {np.max(sampleSet2):.4f}\")"
      ],
      "metadata": {
        "id": "P1Us5EDqFrYc"
      },
      "execution_count": null,
      "outputs": []
    },
    {
      "cell_type": "markdown",
      "source": [
        "### Minimum Value"
      ],
      "metadata": {
        "id": "YtOY-hDRGGUd"
      }
    },
    {
      "cell_type": "code",
      "source": [
        "print(f\"Sample Set 0 : {np.min(sampleSet0):.4f}\")\n",
        "print(f\"Sample Set 1 : {np.min(sampleSet1):.4f}\")\n",
        "print(f\"Sample Set 2 : {np.min(sampleSet2):.4f}\")"
      ],
      "metadata": {
        "id": "4OFJBRS2GGUe"
      },
      "execution_count": null,
      "outputs": []
    },
    {
      "cell_type": "markdown",
      "source": [
        "### Summarize in Pandas DataFrame"
      ],
      "metadata": {
        "id": "V5OGuVzUGaN9"
      }
    },
    {
      "cell_type": "code",
      "source": [
        "sampleSet = {\"sampleSet0\" : sampleSet0, \"sampleSet1\" : sampleSet1, \"sampleSet2\" : sampleSet2}\n",
        "statisticDict = {\"mean\" : [], \"var\" : [], \"std\" : [], \"median\" : [], \"max\" : [], \"min\" : []}\n",
        "\n",
        "for subSampleSet in sampleSet.values() :\n",
        "  statisticDict[\"mean\"].append(np.mean(subSampleSet))\n",
        "  statisticDict[\"var\"].append(np.var(subSampleSet))\n",
        "  statisticDict[\"std\"].append(np.std(subSampleSet))\n",
        "  statisticDict[\"median\"].append(np.median(subSampleSet))\n",
        "  statisticDict[\"max\"].append(np.max(subSampleSet))\n",
        "  statisticDict[\"min\"].append(np.min(subSampleSet))"
      ],
      "metadata": {
        "id": "cKvifGiWGPkO"
      },
      "execution_count": null,
      "outputs": []
    },
    {
      "cell_type": "code",
      "source": [
        "statisticDict"
      ],
      "metadata": {
        "id": "BvRcZqQ1HXgu"
      },
      "execution_count": null,
      "outputs": []
    },
    {
      "cell_type": "code",
      "source": [
        "myDF = pd.DataFrame(data = statisticDict)\n",
        "myDF.index = [\"Sample Set 0\", \"Sample Set 1\", \"Sample Set 2\"]"
      ],
      "metadata": {
        "id": "Qhe7Xob8HYid"
      },
      "execution_count": null,
      "outputs": []
    },
    {
      "cell_type": "code",
      "source": [
        "myDF"
      ],
      "metadata": {
        "id": "DZwz3YffHjbm"
      },
      "execution_count": null,
      "outputs": []
    },
    {
      "cell_type": "markdown",
      "source": [
        "## Sampling from Linear Equation"
      ],
      "metadata": {
        "id": "FvgElyj6IaBm"
      }
    },
    {
      "cell_type": "code",
      "source": [
        "def function(x: np.array, a: int, b: int) :\n",
        "  output = a*x + b\n",
        "\n",
        "  return output"
      ],
      "metadata": {
        "id": "8HCgsDUAIe0o"
      },
      "execution_count": null,
      "outputs": []
    },
    {
      "cell_type": "code",
      "source": [
        "x = np.arange(0, 10, 0.001)\n",
        "y = function(x, 10, 10)"
      ],
      "metadata": {
        "id": "4HaseqAgI30r"
      },
      "execution_count": null,
      "outputs": []
    },
    {
      "cell_type": "code",
      "source": [
        "plt.figure(figsize=(10,5))\n",
        "plt.plot(x, y)\n",
        "plt.xlabel(\"x\")\n",
        "plt.ylabel(\"f(x)\")\n",
        "plt.title(\"Linear Equation\")\n",
        "plt.show()"
      ],
      "metadata": {
        "id": "jF0qaXL9I-iY"
      },
      "execution_count": null,
      "outputs": []
    },
    {
      "cell_type": "markdown",
      "source": [
        "### Covariance"
      ],
      "metadata": {
        "id": "QZaffD9YJJvz"
      }
    },
    {
      "cell_type": "code",
      "source": [
        "np.cov(x, y)"
      ],
      "metadata": {
        "id": "AOpOKDDiJq0x"
      },
      "execution_count": null,
      "outputs": []
    },
    {
      "cell_type": "code",
      "source": [
        "print(f\"Covariance : {np.cov(x, y)[0][1]}\")"
      ],
      "metadata": {
        "id": "7IBM1Z5MJBRc"
      },
      "execution_count": null,
      "outputs": []
    },
    {
      "cell_type": "markdown",
      "source": [
        "### Correlation Coefficient"
      ],
      "metadata": {
        "id": "x2C-abh7JvnP"
      }
    },
    {
      "cell_type": "markdown",
      "source": [
        "#### Vanilla Function"
      ],
      "metadata": {
        "id": "-1U2BQ5VKXA2"
      }
    },
    {
      "cell_type": "code",
      "source": [
        "def correlationCoefficent(x: np.array, y: np.array) :\n",
        "  cov = np.cov(x, y)[0][1]\n",
        "  stdX, stdY = np.std(x), np.std(y)\n",
        "\n",
        "  output = cov / (stdX * stdY)\n",
        "\n",
        "  return output"
      ],
      "metadata": {
        "id": "dVM-QlyVJZpB"
      },
      "execution_count": null,
      "outputs": []
    },
    {
      "cell_type": "code",
      "source": [
        "correlationCoefficent(x, y)"
      ],
      "metadata": {
        "id": "ZCE_9jVjKKGj"
      },
      "execution_count": null,
      "outputs": []
    },
    {
      "cell_type": "markdown",
      "source": [
        "#### NumPy Function"
      ],
      "metadata": {
        "id": "-pth25KBKYmP"
      }
    },
    {
      "cell_type": "code",
      "source": [
        "np.corrcoef(x, y)[0][1]"
      ],
      "metadata": {
        "id": "Oe7bXHWhKNNh"
      },
      "execution_count": null,
      "outputs": []
    },
    {
      "cell_type": "markdown",
      "source": [
        "## Sampling from Non-Linear Equation"
      ],
      "metadata": {
        "id": "XKey8eeBK4fj"
      }
    },
    {
      "cell_type": "code",
      "source": [
        "def function(x: np.array, a: int, b: int, c: int) :\n",
        "  output = a*np.power(x, 2) + b*x + c\n",
        "\n",
        "  return output"
      ],
      "metadata": {
        "id": "9X5xsz7SK4fk"
      },
      "execution_count": null,
      "outputs": []
    },
    {
      "cell_type": "code",
      "source": [
        "x = np.arange(0, 10, 0.001)\n",
        "y = function(x, -1, 10, -10)"
      ],
      "metadata": {
        "id": "a0XdWjoWK4fk"
      },
      "execution_count": null,
      "outputs": []
    },
    {
      "cell_type": "code",
      "source": [
        "plt.figure(figsize=(10,5))\n",
        "plt.plot(x, y)\n",
        "plt.xlabel(\"x\")\n",
        "plt.ylabel(\"f(x)\")\n",
        "plt.title(\"Non-Linear Equation\")\n",
        "plt.show()"
      ],
      "metadata": {
        "id": "eV2muWb5K4fk"
      },
      "execution_count": null,
      "outputs": []
    },
    {
      "cell_type": "code",
      "source": [
        "correlationCoefficent(x, y)"
      ],
      "metadata": {
        "id": "Aa2Gt975Fahk"
      },
      "execution_count": null,
      "outputs": []
    },
    {
      "cell_type": "code",
      "source": [
        "np.corrcoef(x, y)[0][1]"
      ],
      "metadata": {
        "id": "PGzFX2ceLEnv"
      },
      "execution_count": null,
      "outputs": []
    },
    {
      "cell_type": "markdown",
      "source": [
        "# Simple Linear Regression"
      ],
      "metadata": {
        "id": "WV_-OmBMLoC-"
      }
    },
    {
      "cell_type": "markdown",
      "source": [
        "## Sampling from Linear Equation with Noise"
      ],
      "metadata": {
        "id": "LSoxpSKDOClm"
      }
    },
    {
      "cell_type": "code",
      "source": [
        "def function(x: np.array, a: int, b: int) :\n",
        "  output = a*x + b + 0.25*np.random.randn(x.shape[0])\n",
        "\n",
        "  return output"
      ],
      "metadata": {
        "id": "wO7PE4I1Lqdj"
      },
      "execution_count": null,
      "outputs": []
    },
    {
      "cell_type": "code",
      "source": [
        "x = np.arange(0, 10, 0.1)\n",
        "y = function(x, 5, 10)"
      ],
      "metadata": {
        "id": "9y9SdIoyNPU4"
      },
      "execution_count": null,
      "outputs": []
    },
    {
      "cell_type": "code",
      "source": [
        "plt.figure(figsize=(10,5))\n",
        "plt.plot(x, y)\n",
        "plt.xlabel(\"x\")\n",
        "plt.ylabel(\"f(x)\")\n",
        "plt.title(\"Linear Equation\")\n",
        "plt.show()"
      ],
      "metadata": {
        "id": "3f0g2R4BNSSu"
      },
      "execution_count": null,
      "outputs": []
    },
    {
      "cell_type": "markdown",
      "source": [
        "## Parameter Computation"
      ],
      "metadata": {
        "id": "gaTbx51wN_Ms"
      }
    },
    {
      "cell_type": "code",
      "source": [
        "def computeGradient(x: np.array, y: np.array) :\n",
        "  output = np.cov(x, y)[0][1] / np.var(x)\n",
        "\n",
        "  return output"
      ],
      "metadata": {
        "id": "j1IuR6rsNTrU"
      },
      "execution_count": null,
      "outputs": []
    },
    {
      "cell_type": "code",
      "source": [
        "def computeBias(x: np.array, y: np.array, gradient: float) :\n",
        "  output = np.mean(y) - gradient * np.mean(x)\n",
        "\n",
        "  return output"
      ],
      "metadata": {
        "id": "EuTW3Nj2Nsb2"
      },
      "execution_count": null,
      "outputs": []
    },
    {
      "cell_type": "code",
      "source": [
        "gradient = computeGradient(x, y)\n",
        "print(gradient)"
      ],
      "metadata": {
        "id": "MUZ41Ih0N2Dy"
      },
      "execution_count": null,
      "outputs": []
    },
    {
      "cell_type": "code",
      "source": [
        "bias = computeBias(x, y, gradient)\n",
        "print(bias)"
      ],
      "metadata": {
        "id": "wIcsdqrXOIR8"
      },
      "execution_count": null,
      "outputs": []
    },
    {
      "cell_type": "markdown",
      "source": [
        "## Result Comparison"
      ],
      "metadata": {
        "id": "29XzggJzOe0x"
      }
    },
    {
      "cell_type": "code",
      "source": [
        "yHat = gradient*x + bias"
      ],
      "metadata": {
        "id": "42IEMZTeCY0h"
      },
      "execution_count": null,
      "outputs": []
    },
    {
      "cell_type": "code",
      "source": [
        "plt.figure(figsize=(10,5))\n",
        "plt.plot(x, y, label = \"ground truth\")\n",
        "plt.plot(x, yHat, label = \"prediction\")\n",
        "plt.xlabel(\"x\")\n",
        "plt.ylabel(\"f(x)\")\n",
        "plt.title(\"Linear Equation\")\n",
        "plt.legend()\n",
        "plt.show()"
      ],
      "metadata": {
        "id": "bU3-HWN8CaUA"
      },
      "execution_count": null,
      "outputs": []
    },
    {
      "cell_type": "markdown",
      "source": [
        "## Loss Computation"
      ],
      "metadata": {
        "id": "oeyIgqZhOSdf"
      }
    },
    {
      "cell_type": "code",
      "source": [
        "def RMSE(yHat: np.array, y: np.array) :\n",
        "  output = np.sqrt(np.mean(np.power(y - yHat, 2)))\n",
        "\n",
        "  return output"
      ],
      "metadata": {
        "id": "FQ7FR4lwOMtT"
      },
      "execution_count": null,
      "outputs": []
    },
    {
      "cell_type": "code",
      "source": [
        "loss = RMSE(yHat, y)\n",
        "print(loss)"
      ],
      "metadata": {
        "id": "8k6LWu2uOcrV"
      },
      "execution_count": null,
      "outputs": []
    },
    {
      "cell_type": "markdown",
      "source": [
        "## R2 Score Computation"
      ],
      "metadata": {
        "id": "TSAkMAvdEVgr"
      }
    },
    {
      "cell_type": "markdown",
      "source": [
        "### Vanilla Function"
      ],
      "metadata": {
        "id": "GameX-2_Eazm"
      }
    },
    {
      "cell_type": "code",
      "source": [
        "def r2Score(yHat: np.array, y: np.array) :\n",
        "  mse = np.mean(np.power(y - yHat, 2))\n",
        "  var = np.var(y)\n",
        "\n",
        "  output = 1 - mse/var\n",
        "\n",
        "  return output"
      ],
      "metadata": {
        "id": "kP_fBuPyDyiH"
      },
      "execution_count": null,
      "outputs": []
    },
    {
      "cell_type": "code",
      "source": [
        "r2Score(yHat, y)"
      ],
      "metadata": {
        "id": "OwMFOr5KExvF"
      },
      "execution_count": null,
      "outputs": []
    },
    {
      "cell_type": "markdown",
      "source": [
        "### Scikit Learn Function"
      ],
      "metadata": {
        "id": "BDfoipY6FACh"
      }
    },
    {
      "cell_type": "code",
      "source": [
        "from sklearn.metrics import r2_score"
      ],
      "metadata": {
        "id": "E2bqbPL5E4nn"
      },
      "execution_count": null,
      "outputs": []
    },
    {
      "cell_type": "code",
      "source": [
        "r2_score(y, yHat)"
      ],
      "metadata": {
        "id": "TjiIKXI1FFBd"
      },
      "execution_count": null,
      "outputs": []
    },
    {
      "cell_type": "markdown",
      "source": [
        "# Multiple Linear Regression"
      ],
      "metadata": {
        "id": "_4Qy7yy5IeAW"
      }
    },
    {
      "cell_type": "markdown",
      "source": [
        "## Load Dataset from Scikit Learn"
      ],
      "metadata": {
        "id": "xHwDnpJi5Bzf"
      }
    },
    {
      "cell_type": "code",
      "source": [
        "from sklearn import datasets"
      ],
      "metadata": {
        "id": "VeqP_TReQwvw"
      },
      "execution_count": null,
      "outputs": []
    },
    {
      "cell_type": "code",
      "source": [
        "data = datasets.fetch_california_housing(as_frame = True)"
      ],
      "metadata": {
        "id": "96PMYKqP30fQ"
      },
      "execution_count": null,
      "outputs": []
    },
    {
      "cell_type": "markdown",
      "source": [
        "## Get Input Data"
      ],
      "metadata": {
        "id": "a5PLKiUU5IL7"
      }
    },
    {
      "cell_type": "code",
      "source": [
        "x = data.data"
      ],
      "metadata": {
        "id": "__gNrty433ve"
      },
      "execution_count": null,
      "outputs": []
    },
    {
      "cell_type": "code",
      "source": [
        "x"
      ],
      "metadata": {
        "id": "rgMyHolb4fL4"
      },
      "execution_count": null,
      "outputs": []
    },
    {
      "cell_type": "markdown",
      "source": [
        "## Get Target Data"
      ],
      "metadata": {
        "id": "9O9i2h2P5KhR"
      }
    },
    {
      "cell_type": "code",
      "source": [
        "y = data.target"
      ],
      "metadata": {
        "id": "OcFungkp5Jvw"
      },
      "execution_count": null,
      "outputs": []
    },
    {
      "cell_type": "code",
      "source": [
        "y"
      ],
      "metadata": {
        "id": "pjEWPe8n5MeS"
      },
      "execution_count": null,
      "outputs": []
    },
    {
      "cell_type": "markdown",
      "source": [
        "## Summarize Data"
      ],
      "metadata": {
        "id": "XXEOxYrwM_Bo"
      }
    },
    {
      "cell_type": "code",
      "source": [
        "x.describe()"
      ],
      "metadata": {
        "id": "m6V1CSN5M94w"
      },
      "execution_count": null,
      "outputs": []
    },
    {
      "cell_type": "code",
      "source": [
        "y.describe()"
      ],
      "metadata": {
        "id": "_AatQEnfNPWq"
      },
      "execution_count": null,
      "outputs": []
    },
    {
      "cell_type": "markdown",
      "source": [
        "## Compute Correlation Coefficient"
      ],
      "metadata": {
        "id": "swoa0uznCk6e"
      }
    },
    {
      "cell_type": "code",
      "source": [
        "columnNames = np.array(x.columns)\n",
        "print(columnNames)"
      ],
      "metadata": {
        "id": "1VIcHBYFCoHq",
        "colab": {
          "base_uri": "https://localhost:8080/"
        },
        "outputId": "dcf37ea3-4e54-430d-da98-58c9344ae551"
      },
      "execution_count": null,
      "outputs": [
        {
          "output_type": "stream",
          "name": "stdout",
          "text": [
            "['MedInc' 'HouseAge' 'AveRooms' 'AveBedrms' 'Population' 'AveOccup'\n",
            " 'Latitude' 'Longitude']\n"
          ]
        }
      ]
    },
    {
      "cell_type": "code",
      "source": [
        "corrCoefDict = {}\n",
        "\n",
        "for columnName in columnNames :\n",
        "  corrCoefDict[columnName] = [np.corrcoef(x[columnName], np.array(y))[0][1]]"
      ],
      "metadata": {
        "id": "7uV1v1A0GA2u"
      },
      "execution_count": null,
      "outputs": []
    },
    {
      "cell_type": "code",
      "source": [
        "corrCoefDict"
      ],
      "metadata": {
        "id": "CBxctcsuGV6J"
      },
      "execution_count": null,
      "outputs": []
    },
    {
      "cell_type": "code",
      "source": [
        "corrCoefDF = pd.DataFrame(data = corrCoefDict).transpose()\n",
        "corrCoefDF.columns = [\"Corr. Coef.\"]"
      ],
      "metadata": {
        "id": "56L2OnvuGPoZ"
      },
      "execution_count": null,
      "outputs": []
    },
    {
      "cell_type": "code",
      "source": [
        "corrCoefDF"
      ],
      "metadata": {
        "id": "ogTKSffsGw7Y"
      },
      "execution_count": null,
      "outputs": []
    },
    {
      "cell_type": "markdown",
      "source": [
        "## Scatter Plot"
      ],
      "metadata": {
        "id": "IlnruiB94KFY"
      }
    },
    {
      "cell_type": "code",
      "source": [
        "plt.figure(figsize=(20, 10))\n",
        "\n",
        "for i, columnName in enumerate(columnNames) :\n",
        "  plt.subplot(2, 4, i+1)\n",
        "  plt.scatter(x[columnName], np.array(y), marker = \".\")\n",
        "  plt.title(f\"{columnName}\")\n",
        "\n",
        "plt.show()"
      ],
      "metadata": {
        "id": "GbkOdd114TG4"
      },
      "execution_count": null,
      "outputs": []
    },
    {
      "cell_type": "markdown",
      "source": [
        "## Split Dataset\n"
      ],
      "metadata": {
        "id": "WOMyogUX7mdP"
      }
    },
    {
      "cell_type": "code",
      "source": [
        "datasetSize = x.shape[0]\n",
        "print(f\"Dataset Size : {datasetSize}\")"
      ],
      "metadata": {
        "id": "QG-hMzcw7o4F"
      },
      "execution_count": null,
      "outputs": []
    },
    {
      "cell_type": "code",
      "source": [
        "trainDS, testDS = int(0.8 * datasetSize), datasetSize - int(0.8 * datasetSize)"
      ],
      "metadata": {
        "id": "jcPfzWB07x5f"
      },
      "execution_count": null,
      "outputs": []
    },
    {
      "cell_type": "markdown",
      "source": [
        "## Without Bias"
      ],
      "metadata": {
        "id": "Awzk5tXd-Hqi"
      }
    },
    {
      "cell_type": "code",
      "source": [
        "print(f\"Train Dataset Size : {trainDS}\")\n",
        "print(f\"Test Dataset Size : {testDS}\")"
      ],
      "metadata": {
        "id": "G_Kqwd1978Zt"
      },
      "execution_count": null,
      "outputs": []
    },
    {
      "cell_type": "code",
      "source": [
        "xTrain, yTrain = x[:trainDS], y[:trainDS]\n",
        "xTest, yTest = x[trainDS:], y[trainDS:]"
      ],
      "metadata": {
        "id": "W9DlLaLe8CJ7"
      },
      "execution_count": null,
      "outputs": []
    },
    {
      "cell_type": "markdown",
      "source": [
        "### Get Parameter"
      ],
      "metadata": {
        "id": "9eONRTCD5jNA"
      }
    },
    {
      "cell_type": "code",
      "source": [
        "xTrain, yTrain = np.array(xTrain), np.array(yTrain)\n",
        "xTest, yTest = np.array(xTest), np.array(yTest)"
      ],
      "metadata": {
        "id": "E0Uv6dGb5MsI"
      },
      "execution_count": null,
      "outputs": []
    },
    {
      "cell_type": "code",
      "source": [
        "print(f\"Input Data Shape : {xTrain.shape}\")\n",
        "print(f\"Target Data Shape : {yTrain.shape}\")"
      ],
      "metadata": {
        "id": "A7qTmXjq5yV5"
      },
      "execution_count": null,
      "outputs": []
    },
    {
      "cell_type": "code",
      "source": [
        "def getParameter(x: np.array, y: np.array) :\n",
        "  xT = np.transpose(x)\n",
        "  output = np.matmul(np.matmul(np.linalg.inv(np.matmul(xT, x)), xT), y)\n",
        "\n",
        "  return output"
      ],
      "metadata": {
        "id": "i04N1uuA5ysS"
      },
      "execution_count": null,
      "outputs": []
    },
    {
      "cell_type": "code",
      "source": [
        "betaHat = getParameter(xTrain, yTrain)"
      ],
      "metadata": {
        "id": "7pP2j7i07Alb"
      },
      "execution_count": null,
      "outputs": []
    },
    {
      "cell_type": "code",
      "source": [
        "yHat = np.matmul(x, betaHat)\n",
        "print(yHat)"
      ],
      "metadata": {
        "id": "9FFB-PJB7CvZ"
      },
      "execution_count": null,
      "outputs": []
    },
    {
      "cell_type": "markdown",
      "source": [
        "#### Inference"
      ],
      "metadata": {
        "id": "mqwLugzv9XB6"
      }
    },
    {
      "cell_type": "code",
      "source": [
        "yTestHat = np.matmul(xTest, betaHat)"
      ],
      "metadata": {
        "id": "EROLMYf27NXh"
      },
      "execution_count": null,
      "outputs": []
    },
    {
      "cell_type": "markdown",
      "source": [
        "#### Model Evaluation"
      ],
      "metadata": {
        "id": "WD9ZJ2Dq9bLI"
      }
    },
    {
      "cell_type": "code",
      "source": [
        "fig, ax = plt.subplots(figsize = (20,10))\n",
        "idx = np.asarray([i for i in range(50)])\n",
        "width = 0.2\n",
        "\n",
        "ax.bar(idx, yTest[:50], width = width)\n",
        "ax.bar(idx+width, yTestHat[:50], width = width)\n",
        "ax.set_xticks(idx)\n",
        "ax.legend([\"Ground Truth\", \"Prediction\"])\n",
        "ax.set_xlabel(\"# samples\")\n",
        "ax.set_ylabel(\"Value\")\n",
        "\n",
        "fig.tight_layout()\n",
        "plt.show()"
      ],
      "metadata": {
        "id": "agcQ77Fy7O5X"
      },
      "execution_count": null,
      "outputs": []
    },
    {
      "cell_type": "code",
      "source": [
        "loss = RMSE(yTestHat, yTest)\n",
        "print(f\"RMSE Loss : {loss}\")"
      ],
      "metadata": {
        "id": "pYvGvevY9Fx6"
      },
      "execution_count": null,
      "outputs": []
    },
    {
      "cell_type": "code",
      "source": [
        "r2_score(yTest, yTestHat)"
      ],
      "metadata": {
        "id": "xWwyCudt9l-c"
      },
      "execution_count": null,
      "outputs": []
    },
    {
      "cell_type": "markdown",
      "source": [
        "## With Bias"
      ],
      "metadata": {
        "id": "ZdNZYU1v97fT"
      }
    },
    {
      "cell_type": "markdown",
      "source": [
        "### Add Bias"
      ],
      "metadata": {
        "id": "gziUwBeQ-C9a"
      }
    },
    {
      "cell_type": "code",
      "source": [
        "x"
      ],
      "metadata": {
        "id": "UlE4QvEz-Wgt"
      },
      "execution_count": null,
      "outputs": []
    },
    {
      "cell_type": "code",
      "source": [
        "x[\"Bias\"] = np.ones(x.shape[0])"
      ],
      "metadata": {
        "id": "4WtMwB0h-tTq"
      },
      "execution_count": null,
      "outputs": []
    },
    {
      "cell_type": "code",
      "source": [
        "x"
      ],
      "metadata": {
        "id": "9zfbBI5s-728"
      },
      "execution_count": null,
      "outputs": []
    },
    {
      "cell_type": "code",
      "source": [
        "xTrain, yTrain = x[:trainDS], y[:trainDS]\n",
        "xTest, yTest = x[trainDS:], y[trainDS:]"
      ],
      "metadata": {
        "id": "FBHq45ny97fU"
      },
      "execution_count": null,
      "outputs": []
    },
    {
      "cell_type": "markdown",
      "source": [
        "### Get Parameter"
      ],
      "metadata": {
        "id": "hLuHENE297fU"
      }
    },
    {
      "cell_type": "code",
      "source": [
        "xTrain, yTrain = np.array(xTrain), np.array(yTrain)\n",
        "xTest, yTest = np.array(xTest), np.array(yTest)"
      ],
      "metadata": {
        "id": "3pyjMS0H97fU"
      },
      "execution_count": null,
      "outputs": []
    },
    {
      "cell_type": "code",
      "source": [
        "print(f\"Input Data Shape : {xTrain.shape}\")\n",
        "print(f\"Target Data Shape : {yTrain.shape}\")"
      ],
      "metadata": {
        "id": "vE6aC47997fU"
      },
      "execution_count": null,
      "outputs": []
    },
    {
      "cell_type": "code",
      "source": [
        "betaHat = getParameter(xTrain, yTrain)"
      ],
      "metadata": {
        "id": "E2LgOj2k97fV"
      },
      "execution_count": null,
      "outputs": []
    },
    {
      "cell_type": "code",
      "source": [
        "yHat = np.matmul(x, betaHat)\n",
        "print(yHat)"
      ],
      "metadata": {
        "id": "jel38epS97fV"
      },
      "execution_count": null,
      "outputs": []
    },
    {
      "cell_type": "markdown",
      "source": [
        "#### Inference"
      ],
      "metadata": {
        "id": "xW5oojYj97fV"
      }
    },
    {
      "cell_type": "code",
      "source": [
        "yTestHatWoB = yTestHat"
      ],
      "metadata": {
        "id": "dkUCkwsFrKZg"
      },
      "execution_count": null,
      "outputs": []
    },
    {
      "cell_type": "code",
      "source": [
        "yTestHat = np.matmul(xTest, betaHat)"
      ],
      "metadata": {
        "id": "w0AFP8w097fV"
      },
      "execution_count": null,
      "outputs": []
    },
    {
      "cell_type": "markdown",
      "source": [
        "#### Model Evaluation"
      ],
      "metadata": {
        "id": "KCH3vqNX97fV"
      }
    },
    {
      "cell_type": "code",
      "source": [
        "fig, ax = plt.subplots(figsize = (20,10))\n",
        "idx = np.asarray([i for i in range(50)])\n",
        "width = 0.2\n",
        "\n",
        "ax.bar(idx, yTest[:50], width = width)\n",
        "ax.bar(idx+width, yTestHatWoB[:50], width = width)\n",
        "ax.bar(idx+2*width, yTestHat[:50], width = width)\n",
        "ax.set_xticks(idx)\n",
        "ax.legend([\"Ground Truth\", \"Prediction wo B\", \"Prediction w B\"])\n",
        "ax.set_xlabel(\"# samples\")\n",
        "ax.set_ylabel(\"Value\")\n",
        "\n",
        "fig.tight_layout()\n",
        "plt.show()"
      ],
      "metadata": {
        "id": "68g2ld7r97fV"
      },
      "execution_count": null,
      "outputs": []
    },
    {
      "cell_type": "code",
      "source": [
        "loss = RMSE(yTestHat, yTest)\n",
        "print(f\"RMSE Loss : {loss}\")"
      ],
      "metadata": {
        "id": "xIpHWTAC97fW"
      },
      "execution_count": null,
      "outputs": []
    },
    {
      "cell_type": "code",
      "source": [
        "r2_score(yTest, yTestHat)"
      ],
      "metadata": {
        "id": "Fjmt4H-797fW"
      },
      "execution_count": null,
      "outputs": []
    },
    {
      "cell_type": "markdown",
      "source": [
        "## With Bias & Normalization"
      ],
      "metadata": {
        "id": "8KZ6Q65Y_Yjf"
      }
    },
    {
      "cell_type": "markdown",
      "source": [
        "### Apply Standardization"
      ],
      "metadata": {
        "id": "ouSzV-lJ_hCZ"
      }
    },
    {
      "cell_type": "code",
      "source": [
        "x.drop(columns = [\"Bias\"], inplace = True)"
      ],
      "metadata": {
        "id": "dH_Xa9qk_lGz"
      },
      "execution_count": null,
      "outputs": []
    },
    {
      "cell_type": "code",
      "source": [
        "x"
      ],
      "metadata": {
        "id": "rl8Wo2ghAIxV"
      },
      "execution_count": null,
      "outputs": []
    },
    {
      "cell_type": "code",
      "source": [
        "xMean, xStd = np.array(x.mean()), np.array(x.std())\n",
        "yMean, yStd = np.array(y.mean()), np.array(y.std())"
      ],
      "metadata": {
        "id": "rvR93y0u_pQJ"
      },
      "execution_count": null,
      "outputs": []
    },
    {
      "cell_type": "code",
      "source": [
        "x = (x - xMean) / xStd\n",
        "y = (y - yMean) / yStd"
      ],
      "metadata": {
        "id": "DStYcgCz_0K8"
      },
      "execution_count": null,
      "outputs": []
    },
    {
      "cell_type": "code",
      "source": [
        "x"
      ],
      "metadata": {
        "id": "x7U8GVr_AE1u"
      },
      "execution_count": null,
      "outputs": []
    },
    {
      "cell_type": "code",
      "source": [
        "x[\"Bias\"] = np.ones(x.shape[0])"
      ],
      "metadata": {
        "id": "jbINQf4kA2bX"
      },
      "execution_count": null,
      "outputs": []
    },
    {
      "cell_type": "code",
      "source": [
        "x"
      ],
      "metadata": {
        "id": "35nPMyUyA4HF"
      },
      "execution_count": null,
      "outputs": []
    },
    {
      "cell_type": "markdown",
      "source": [
        "### Get Parameter"
      ],
      "metadata": {
        "id": "justbUJF_Yjg"
      }
    },
    {
      "cell_type": "code",
      "source": [
        "xTrain, yTrain = x[:trainDS], y[:trainDS]\n",
        "xTest, yTest = x[trainDS:], y[trainDS:]"
      ],
      "metadata": {
        "id": "korwQQhpBV9y"
      },
      "execution_count": null,
      "outputs": []
    },
    {
      "cell_type": "code",
      "source": [
        "xTrain, yTrain = np.array(xTrain), np.array(yTrain)\n",
        "xTest, yTest = np.array(xTest), np.array(yTest)"
      ],
      "metadata": {
        "id": "2t3B3PlL_Yjg"
      },
      "execution_count": null,
      "outputs": []
    },
    {
      "cell_type": "code",
      "source": [
        "print(f\"Input Data Shape : {xTrain.shape}\")\n",
        "print(f\"Target Data Shape : {yTrain.shape}\")"
      ],
      "metadata": {
        "id": "XXSlS4ZX_Yjg"
      },
      "execution_count": null,
      "outputs": []
    },
    {
      "cell_type": "code",
      "source": [
        "betaHat = getParameter(xTrain, yTrain)"
      ],
      "metadata": {
        "id": "bqdMBYJB_Yjg"
      },
      "execution_count": null,
      "outputs": []
    },
    {
      "cell_type": "code",
      "source": [
        "yHat = np.matmul(x, betaHat)\n",
        "print(yHat)"
      ],
      "metadata": {
        "id": "xByN9_Ms_Yjh"
      },
      "execution_count": null,
      "outputs": []
    },
    {
      "cell_type": "markdown",
      "source": [
        "#### Inference"
      ],
      "metadata": {
        "id": "fz1pnLcZ_Yjh"
      }
    },
    {
      "cell_type": "code",
      "source": [
        "yTestHat = np.matmul(xTest, betaHat)"
      ],
      "metadata": {
        "id": "OiK9xf4G_Yjh"
      },
      "execution_count": null,
      "outputs": []
    },
    {
      "cell_type": "markdown",
      "source": [
        "### Affine Transformation"
      ],
      "metadata": {
        "id": "EvT9R77nBgwK"
      }
    },
    {
      "cell_type": "code",
      "source": [
        "yTest = yTest * yStd + yMean\n",
        "yTestHat = yTestHat * yStd + yMean"
      ],
      "metadata": {
        "id": "5stjs1iLBiss"
      },
      "execution_count": null,
      "outputs": []
    },
    {
      "cell_type": "markdown",
      "source": [
        "#### Model Evaluation"
      ],
      "metadata": {
        "id": "f4UKSDwR_Yjh"
      }
    },
    {
      "cell_type": "code",
      "source": [
        "fig, ax = plt.subplots(figsize = (20,10))\n",
        "idx = np.asarray([i for i in range(50)])\n",
        "width = 0.2\n",
        "\n",
        "ax.bar(idx, yTest[:50], width = width)\n",
        "ax.bar(idx+width, yTestHat[:50], width = width)\n",
        "ax.set_xticks(idx)\n",
        "ax.legend([\"Ground Truth\", \"Prediction\"])\n",
        "ax.set_xlabel(\"# samples\")\n",
        "ax.set_ylabel(\"Value\")\n",
        "\n",
        "fig.tight_layout()\n",
        "plt.show()"
      ],
      "metadata": {
        "id": "3tjkS_P6_Yjh"
      },
      "execution_count": null,
      "outputs": []
    },
    {
      "cell_type": "code",
      "source": [
        "loss = RMSE(yTestHat, yTest)\n",
        "print(f\"RMSE Loss : {loss}\")"
      ],
      "metadata": {
        "id": "JeTrIOws_Yjh"
      },
      "execution_count": null,
      "outputs": []
    },
    {
      "cell_type": "code",
      "source": [
        "r2_score(yTest, yTestHat)"
      ],
      "metadata": {
        "id": "NHq2HhMu_Yjh"
      },
      "execution_count": null,
      "outputs": []
    },
    {
      "cell_type": "markdown",
      "source": [
        "## With Bias & Normalization & Drop Features"
      ],
      "metadata": {
        "id": "JZQlfHIoHXwE"
      }
    },
    {
      "cell_type": "markdown",
      "source": [
        "### Drop Features"
      ],
      "metadata": {
        "id": "ibudeJ3QHd99"
      }
    },
    {
      "cell_type": "code",
      "source": [
        "dropColumns = [\"AveBedrms\", \"Population\", \"AveOccup\", \"Longitude\"]\n",
        "x.drop(columns = dropColumns, inplace = True)"
      ],
      "metadata": {
        "id": "5BZ8ZDE9HXwF"
      },
      "execution_count": null,
      "outputs": []
    },
    {
      "cell_type": "code",
      "source": [
        "x"
      ],
      "metadata": {
        "id": "K10IsxVqHqxj"
      },
      "execution_count": null,
      "outputs": []
    },
    {
      "cell_type": "markdown",
      "source": [
        "### Get Parameter"
      ],
      "metadata": {
        "id": "8U5J_4H1HXwG"
      }
    },
    {
      "cell_type": "code",
      "source": [
        "xTrain, yTrain = x[:trainDS], y[:trainDS]\n",
        "xTest, yTest = x[trainDS:], y[trainDS:]"
      ],
      "metadata": {
        "id": "vWrG2AfHHXwG"
      },
      "execution_count": null,
      "outputs": []
    },
    {
      "cell_type": "code",
      "source": [
        "xTrain, yTrain = np.array(xTrain), np.array(yTrain)\n",
        "xTest, yTest = np.array(xTest), np.array(yTest)"
      ],
      "metadata": {
        "id": "57R8prETHXwG"
      },
      "execution_count": null,
      "outputs": []
    },
    {
      "cell_type": "code",
      "source": [
        "print(f\"Input Data Shape : {xTrain.shape}\")\n",
        "print(f\"Target Data Shape : {yTrain.shape}\")"
      ],
      "metadata": {
        "id": "XgaBtUQ4HXwG"
      },
      "execution_count": null,
      "outputs": []
    },
    {
      "cell_type": "code",
      "source": [
        "betaHat = getParameter(xTrain, yTrain)"
      ],
      "metadata": {
        "id": "o17vXrUmHXwG"
      },
      "execution_count": null,
      "outputs": []
    },
    {
      "cell_type": "code",
      "source": [
        "yHat = np.matmul(x, betaHat)\n",
        "print(yHat)"
      ],
      "metadata": {
        "id": "1d9vcHj7HXwG"
      },
      "execution_count": null,
      "outputs": []
    },
    {
      "cell_type": "markdown",
      "source": [
        "#### Inference"
      ],
      "metadata": {
        "id": "C7vWdrGeHXwG"
      }
    },
    {
      "cell_type": "code",
      "source": [
        "yTestHat = np.matmul(xTest, betaHat)"
      ],
      "metadata": {
        "id": "KBO-HnGfHXwG"
      },
      "execution_count": null,
      "outputs": []
    },
    {
      "cell_type": "markdown",
      "source": [
        "### Affine Transformation"
      ],
      "metadata": {
        "id": "nDpTHAvyHXwG"
      }
    },
    {
      "cell_type": "code",
      "source": [
        "yTest = yTest * yStd + yMean\n",
        "yTestHat = yTestHat * yStd + yMean"
      ],
      "metadata": {
        "id": "3qDKXT9THXwG"
      },
      "execution_count": null,
      "outputs": []
    },
    {
      "cell_type": "markdown",
      "source": [
        "#### Model Evaluation"
      ],
      "metadata": {
        "id": "WF8gqzj8HXwH"
      }
    },
    {
      "cell_type": "code",
      "source": [
        "fig, ax = plt.subplots(figsize = (20,10))\n",
        "idx = np.asarray([i for i in range(50)])\n",
        "width = 0.2\n",
        "\n",
        "ax.bar(idx, yTest[:50], width = width)\n",
        "ax.bar(idx+width, yTestHat[:50], width = width)\n",
        "ax.set_xticks(idx)\n",
        "ax.legend([\"Ground Truth\", \"Prediction\"])\n",
        "ax.set_xlabel(\"# samples\")\n",
        "ax.set_ylabel(\"Value\")\n",
        "\n",
        "fig.tight_layout()\n",
        "plt.show()"
      ],
      "metadata": {
        "id": "whdSTuOAHXwH"
      },
      "execution_count": null,
      "outputs": []
    },
    {
      "cell_type": "code",
      "source": [
        "loss = RMSE(yTestHat, yTest)\n",
        "print(f\"RMSE Loss : {loss}\")"
      ],
      "metadata": {
        "id": "MKgxSjr7HXwH"
      },
      "execution_count": null,
      "outputs": []
    },
    {
      "cell_type": "code",
      "source": [
        "r2_score(yTest, yTestHat)"
      ],
      "metadata": {
        "id": "qCDuVsLmHXwH"
      },
      "execution_count": null,
      "outputs": []
    },
    {
      "cell_type": "markdown",
      "source": [
        "# Multiple Regression 실습"
      ],
      "metadata": {
        "id": "I-42LFulIcnV"
      }
    },
    {
      "cell_type": "markdown",
      "source": [
        "## Diabetes Dataset을 불러온 후 다중 선형 회귀분석을 진행하세요.\n",
        "### 1. 전처리 없이 Bias만 추가하세요.\n",
        "### 2. 회귀분석 진행 후 Bar Chart를 출력하세요.\n",
        "### 3. RMSE Loss를 계산하세요.\n",
        "### 4. R2 Score를 계산하세요."
      ],
      "metadata": {
        "id": "Lij8lo4PIk7d"
      }
    },
    {
      "cell_type": "code",
      "source": [
        "data = datasets.load_diabetes(as_frame = True)"
      ],
      "metadata": {
        "id": "BNaBWsbzIeVN"
      },
      "execution_count": null,
      "outputs": []
    }
  ]
}