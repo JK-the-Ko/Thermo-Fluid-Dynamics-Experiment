{
  "cells": [
    {
      "cell_type": "markdown",
      "metadata": {
        "id": "view-in-github",
        "colab_type": "text"
      },
      "source": [
        "<a href=\"https://colab.research.google.com/github/JK-the-Ko/Thermo-Fluid-Dynamics-Experiment/blob/main/2023-2/%EC%97%B4%EC%9C%A0%EC%B2%B4%EA%B3%B5%ED%95%99%EC%8B%A4%ED%97%981_Week3_Python_%EC%9E%90%EB%A3%8C%EA%B5%AC%EC%A1%B0.ipynb\" target=\"_parent\"><img src=\"https://colab.research.google.com/assets/colab-badge.svg\" alt=\"Open In Colab\"/></a>"
      ]
    },
    {
      "cell_type": "markdown",
      "source": [
        "# Python 자료구조"
      ],
      "metadata": {
        "id": "jPuXeGGkdzIo"
      }
    },
    {
      "cell_type": "markdown",
      "metadata": {
        "id": "6CsQZl8Yo6AZ"
      },
      "source": [
        "## List (Array)"
      ]
    },
    {
      "cell_type": "markdown",
      "metadata": {
        "id": "CJXvsGLrsoP8"
      },
      "source": [
        "### 1-D List (Array)"
      ]
    },
    {
      "cell_type": "markdown",
      "metadata": {
        "id": "c3xcB1PZq0N4"
      },
      "source": [
        "![KakaoTalk_20210804_143757552.png](data:image/png;base64,iVBORw0KGgoAAAANSUhEUgAAA1wAAAC2CAYAAADN0oy9AAAAAXNSR0IArs4c6QAAAARnQU1BAACxjwv8YQUAAAAJcEhZcwAADsMAAA7DAcdvqGQAABJVSURBVHhe7d0/bmNlG8bhFJRfQUGNKFgABdVpQGIBFFRUICG5QxQsgC14B5SUdG5ZAgtwQUk55ZTn80n879jHyXMzOclr57qkVyJxnJmE5Hn8GzvOXU9z/vnnn/6vv/7avsRT/vzzz/7du3fbl3jM8HkaPl/UDN+Hw/cjNb///vv2v3jK33//fX+o+eOPP/r3799vX+Ix5nzGnK8bvgeH70Vqjue84GrQp59+2t/d3TmO4ziO4ziOc6Xnf//7332oCq4GDf9K/OOPP25f4ilff/21ewSLhs/T8PmiZvg+dK9N3bBcqPntt9/uDzWfffaZeyGKzPmMOV83fA8O34vUHM9527FBgisjuOos4oxFnBFcdYIrI7jqzPmMOV8nuDKCq3GCKyO46izijEWcEVx1gisjuOrM+Yw5Xye4MoKrcYIrI7jqLOKMRZwRXHWCKyO46sz5jDlfJ7gygqtxgisjuOos4oxFnBFcdYIrI7jqzPmMOV8nuDKCq3GCKyO46izijEWcEVx1gisjuOrM+Yw5Xye4MoKrcYIrI7jqLOKMRZwRXHWCKyO46sz5jDlfJ7gygqtxgisjuOos4oxFnBFcdYIrI7jqzPmMOV8nuDKCq3GCKyO46izijEWcEVx1gisjuOrM+Yw5Xye4MoKrcYIrI7jqLOKMRZwRXHWCKyO46sz5jDlfJ7gygqtxgisjuOos4oxFnBFcdYIrI7jqzPmMOV8nuDKCq3GCKyO46izijEWcEVx1gisjuOrM+Yw5Xye4MoKrcYIrI7jqLOKMRZwRXHWCKyO46sz5jDlfJ7gygqtxgisjuOos4oxFnBFcdYIrI7jqzPmMOV8nuDKCq3GCKyO46izijEWcEVx1gisjuOrM+Yw5Xye4MoKrcYIrI7jqLOKMRZwRXHWCKyO46sz5jDlfJ7gygqtxgisjuOos4oxFnBFcdYIrI7jqzPmMOV8nuDKCq3GCKyO46izijEWcEVx1gisjuOrM+Yw5Xye4MoKrcYIrI7jqLOKMRZwRXHWCKyO46sz5jDlfJ7gygqtxgisjuOos4oxFnBFcdYIrI7jqzPmMOV8nuDKCq3GCKyO46izijEWcEVx1gisjuOrM+Yw5Xye4MoKrcYIrI7jqLOKMRZwRXHWCKyO46sz5jDlfJ7gygqtxgisjuOos4oxFnBFcdYIrI7jqzPmMOV8nuDKCq3GCKyO46izijEWcEVx1gisjuOrM+Yw5Xye4MoKrcYIrI7jqLOKMRZwRXHWCKyO46sz5jDlfJ7gygqtxgisjuOos4oxFnBFcdYIrI7jqzPmMOV8nuDKCq3GCKyO46izijEWcEVx1gisjuOrM+Yw5Xye4MoKrcYIrI7jqLOKMRZwRXHWCKyO46sz5jDlfJ7gygqtxgisjuOos4oxFnBFcdYIrI7jqzPmMOV8nuDI3EFzrfrno7pf7XbfcvHRbBFdGcNVZxBmLOCO46gRXRnDVmfMZc75OcGUaDK5VvxjiaXsWq+2rL1kt9m87nG55W8kluDKCq84izljEmWEeUyO4MoKrzpzPmPN1gisjuE6s16v7e8y6Ru4tE1wZwVVnEWcs4swwj6kRXBnBVWfOZ8z5OsGVuf7g2lg900MK18vt+3mG9/VcBFdGcNVZxBmLODPMUWoEV0Zw1ZnzGXO+TnBlbiK4novgun6Cq84izljEGcFVJ7gygqvOnM+Y83WCKyO4jgiu6ye46izijEWcEVx1gisjuOrM+Yw5Xye4MtcfXOtl3+3fvuunfoRrvVr2i+4opjZv123e8e5NR6E1dV6y+k4IrozgqrOIMxZxZpid1AiujOCqM+cz5nyd4MrceHCt+2V3eF9nZ3svluC6HYKrziLOWMSZYXZSI7gygqvOnM+Y83WCK3PTwTUOqUW/2t+ltXoIMcF1cwRXnUWcsYgzw+ykRnBlBFedOZ8x5+sEV+amg2u1OLyf82ha96vl+Oe0/AzX9RNcdRZxxiLODHOUGsGVEVx15nzGnK8TXJm3E1zDZfu7uKYJrusnuOos4oxFnBnmKDWCKyO46sz5jDlfJ7gyNx1cp78Uefc290+YMVFTguv6Ca46izhjEWeGOUqN4MoIrjpzPmPO1wmuzG0H18Z6E12Hy8dnCK9jguv6Ca46izhjEWeGOUqN4MoIrjpzPmPO1wmuzM0H14P19qnhD+936v0LrusnuOos4oxFnBnmKDWCKyO46sz5jDlfJ7gybyS4jqzH7787usIouCrv6wUIrozgqrOIMxZxZpij1AiujOCqM+cz5nyd4Mo0H1wXz67EHn3SjImf19q8/aWgGwfX0Xmy+uYjuDKCq84izljEmWF2UiO4MoKrzpzPmPN1gitz48F19PZT5yykLvzZgutqCK46izhjEWeG2UmN4MoIrjpzPmPO1wmuzI0HV3d02eFtum5x+Snih4ccdif3dAmuqyG46izijEWcGWYnNYIrI7jqzPmMOV8nuDINBhfHBFdGcNVZxBmLOCO46gRXRnDVmfMZc75OcGUEV+MEV0Zw1VnEGYs4I7jqBFdGcNWZ8xlzvk5wZQRX4wRXRnDVWcQZizgjuOoEV0Zw1ZnzGXO+TnBlBFfjBFdGcNVZxBmLOCO46gRXRnDVmfMZc75OcGUEV+MEV0Zw1VnEGYs4I7jqBFdGcNWZ8xlzvk5wZQRX4wRXRnDVWcQZizgjuOoEV0Zw1ZnzGXO+TnBlBFfjBFdGcNVZxBmLOCO46gRXRnDVmfMZc75OcGUEV+MEV0Zw1VnEGYs4I7jqBFdGcNWZ8xlzvk5wZQRX4wRXRnDVWcQZizgjuOoEV0Zw1ZnzGXO+TnBlBFfjBFdGcNVZxBmLOCO46gRXRnDVmfMZc75OcGUEV+MEV0Zw1VnEGYs4I7jqBFdGcNWZ8xlzvk5wZQRX4wRXRnDVWcQZizgjuOoEV0Zw1ZnzGXO+TnBlBFfjBFdGcNVZxBmLOCO46gRXRnDVmfMZc75OcGUEV+MEV0Zw1VnEGYs4I7jqBFdGcNWZ8xlzvk5wZQRX4wRXRnDVWcQZizgjuOoEV0Zw1ZnzGXO+TnBlBFfjBFdGcNVZxBmLOCO46gRXRnDVmfMZc75OcGUEV+MEV0Zw1VnEGYs4I7jqBFdGcNWZ8xlzvk5wZQRX4wRXRnDVWcQZizgjuOoEV0Zw1ZnzGXO+TnBlBFfjBFdGcNVZxBmLOCO46gRXRnDVmfMZc75OcGUEV+MEV0Zw1VnEGYs4I7jqBFdGcNWZ8xlzvk5wZQRX4wRXRnDVWcQZizgjuOoEV0Zw1ZnzGXO+TnBlBFfjBFdGcNVZxBmLOCO46gRXRnDVmfMZc75OcGUEV+MEV0Zw1VnEGYs4I7jqBFdGcNWZ8xlzvk5wZQRX4wRXRnDVWcQZizgjuOoEV0Zw1ZnzGXO+TnBlBFfjBFdGcNVZxBmLOCO46gRXRnDVmfMZc75OcGUEV+MEV0Zw1VnEGYs4I7jqBFdGcNWZ8xlzvk5wZQRX4wRXRnDVWcQZizgjuOoEV0Zw1ZnzGXO+TnBlBFfjfv755/6LL77Y/49yHj/DN/8PP/wweZkzPsPnafh8TV3mnJ/h+/Dbb7+dvMw5P0NwTb3eOT9fffXV/Zm6zDk/H3/8cf/LL79MXuaMjzmfHXO+fobvweF7ceoy5/wMM3742hoIrgZ9//33/Zdffjn5P885P8Ni+emnnyYvc8Zn+DxZxPUzfB9axPXz0UcfTb7eOT/ffPON4ArOJ598IriKZwiuzz//fPIy5/wMwfXdd99NXuaMz6+//iq4gjPM+eG8f/9ecLVo+B/z7t277Us85d9//93+FxU+X3XD9+Hw/UiNr606cz7jayvj81Xnc5Xx+ao7nvOCCwAAYCaCCwAAYCaCCwAAYCaCCwAAYCaCCwAAYCaCCwAAYCaCCwAAYCaCCwAAYCaCCwAAYCaCCwAAYCaCiyes+9Wi67u7u/5ue7pu0a/W24sZW6/6RXfXL1bblwEAaM8L3mYTXDzi4QtxF1rj0/VL0XVkE6bLxT5MBRcAQIte/jab4OKi1WIbV93y6B6t4R6vw+s11/ibdncEFwBAS17vNpvgYtp6uf2CXPTnX4frfrm95+uth8U+Pjen23wyltuXBRcAQDte8zab4GLSetk9fEFeetzgavHwRfvGy2L45u0Wh3sAd9/MggsAoB2veZtNcDHp4YvwkZ/T2t0D5mGFI4ILACC16hdHtyvXq+X4eQS6Rb985mdsE1y8st1DBqceTriz/cZ49G3eHsEFAJA6BNdq+yirqfOct68EF6+sElOVKHt7BBcAQGp32/PhDD9jtb8/a73aP3fAcz6ySnDxysZ3604TXFMEFwBA6hBc088fsLv8+X4tkeDilbmH678SXAAAqadvez7cxjoJrt2TuE2ci0/8tiW4eGXBz3B50owRwQUAkHr6dqXg4sbsgsuzFKYEFwBA6j8G1wcQXLy63e/huvhFuP0Xhaf+9eCtEVwAACnBxVu0u4t28gu/cA/YGyW4AABSgos3aRdVD1/8h981t95/gd6pijOCC/gwmxsdw+w9u9Hx1Os9gRFwzQQXb9Xu57SmjuU+SXABH2T/A+AnNyqOfjB8NF8uvR7gqggu3rLhl80tjn/jdzf+ZXSMCC7gw6T3ZLmHC7gFggsAAID/QHABAADMRHABAADMRHABAADMRHABAADMRHABAADMRHABAADMRHABAADMRHABAADMRHABAADMRHABAADMRHABAADMRHABAADMRHABAADMRHABAADMRHABAADMRHABAADM5IaCa90vu7v+7u7hLFbbVwMAALySGYJr1S+20fOy4SO4AACAtgguAACAmQguAACAmQguAACAmQguAACAmbxscK2Xfbe/rOuX6/tX9stFt3/74fWL5Wrz2gvWq/u3P7yfu77rFv1ytXn9k8G17lcn173rNi9v3vj4z1stji7f/z3H1svjv/Ni81EDAACMvXJwjd92dKaKaXT9x8/Z1Z+87nFYnfy9Tt/ZanHhegAAAAevGlzd0T1S5+c0ZB6Js4kzbqTj63abyw7veH0cT93ycE/X5L1xg0c+PgAAgCOvGFzD2YTMPn6Gh/sdXza+7vghfHd9d/yww+Fhhifxdum63dndUcc/+zWOvNGfuY2x47/j+fsCAAA4eNXgOr93aHzdQ9CMnxBj8uGGF//ck+s+cU7f9XFgLRZH94ZN/h0AAAAOGnjSjGPjODoE1yPvc2983cPbjK/71Dl/3xPXP37oIQAAwAVvLrimr/uYqXvIPCshAADwtCsJrkuvP3Lx4Yon91CFxTX6ma3u6Ge68nIDAADemCsJrnH4DGexuWx/6fD08if3Qh3/uafXPf29W+vt7/Y6bajzJ80ohB8AAMDW1QTXppr2r58+46eZv/znXj6PXWd/2ZMfAwAAwIPrCa6N06eGPz7D79Y6vu7oz9147Lq7c7jO4w9DHN9j5ue5AACAaVcVXIP1ajl++GC32P4ur8eD6972oYPje7s2Ly+W/dHvQi4E1eNBBgAAMJghuAAAABgILgAAgJkILgAAgJkILgAAgJkILrgW29835zlaAAAKGrntJLigeet+tVzsn11TcAEAPKat206CC5o1Hha7I7gAAKa0edtJcEGjjn8fXLeZFMvty4ILAOBcq7edBBe8lO0v/q5+0w9D4/iXcu+GiOACADjX6m0nwUXBql9svljvumU/fP2uV8v7H0Dc/QvCXbfol7uv7JvyzB93GFynBBcAQJ3g4oocwmO17A7BcXJuLwSe+eMWXAAAL0ZwcUW24bE9w2Ni9/frrFf9cnevz/aeoNvxzB+34AIAeDGCiytyCI9uOZUWu8u7fvLiq/XMH7fgAgB4MYKL17da3H8RTp1xYOzCYrH5r2kPX9BXElwv8XFv42rqzzg/tc+b4AIA3pzy7bZzgovXl4bHIw+du+ng+i8ft+ACAPhwgou34caCq+yZP24PKQQAeDGCiysiuAQXAMB1EVxcEcEluAAArovg4ooILsEFvIzN3Bl+5cTZ3Hnq9Zef3AfgrRJcXBHB9Swft+ACnrL/4fCTuXL0Q+OjGXDp9QA0c9tJcFEguFr4uAUXvAW7e6yq92Rdej0AggsAAODGCS4AAICZCC4AAICZCC4AAICZCC4AAICZCC4AAICZCC4AAICZCC4AAICZCC4AAICZCC4AAICZCC4AAICZCC4AAICZCC4AAICZCC4AAICZCC4AAICZCC4AAICZCC4AAICZCC4AAICZCC4AAICZCC4AAIBZ9P3/Ac18I7k/AUUbAAAAAElFTkSuQmCC)"
      ]
    },
    {
      "cell_type": "code",
      "execution_count": null,
      "metadata": {
        "id": "kOiVvdbTnvLm"
      },
      "outputs": [],
      "source": [
        "list1 = []\n",
        "list2 = list()"
      ]
    },
    {
      "cell_type": "code",
      "execution_count": null,
      "metadata": {
        "id": "-mYpNhkFpELu"
      },
      "outputs": [],
      "source": [
        "list1 = [1, 2, 3.0, 4.55, \"five\"]"
      ]
    },
    {
      "cell_type": "code",
      "execution_count": null,
      "metadata": {
        "id": "M6zmrpxLpH2c"
      },
      "outputs": [],
      "source": [
        "list1[0]"
      ]
    },
    {
      "cell_type": "code",
      "execution_count": null,
      "metadata": {
        "id": "VVjMD72dqZBn"
      },
      "outputs": [],
      "source": [
        "list1[4]"
      ]
    },
    {
      "cell_type": "markdown",
      "source": [],
      "metadata": {
        "id": "CSqK9Y9xeDPv"
      }
    },
    {
      "cell_type": "code",
      "execution_count": null,
      "metadata": {
        "id": "zjcxvlyXqcBz"
      },
      "outputs": [],
      "source": [
        "list1[-1]"
      ]
    },
    {
      "cell_type": "code",
      "execution_count": null,
      "metadata": {
        "id": "peWVN5-Uqc-0"
      },
      "outputs": [],
      "source": [
        "list1[-3]"
      ]
    },
    {
      "cell_type": "markdown",
      "metadata": {
        "id": "NgravTRHssLt"
      },
      "source": [
        "#### List Method\n",
        "  * Python List Method Document : https://docs.python.org/3/tutorial/datastructures.html"
      ]
    },
    {
      "cell_type": "code",
      "execution_count": null,
      "metadata": {
        "id": "ePioWGbFqnyR"
      },
      "outputs": [],
      "source": [
        "list2.append(1)\n",
        "list2"
      ]
    },
    {
      "cell_type": "code",
      "execution_count": null,
      "metadata": {
        "id": "wE1LK8miBwI3"
      },
      "outputs": [],
      "source": [
        "list2.extend([2, 3])\n",
        "list2"
      ]
    },
    {
      "cell_type": "code",
      "execution_count": null,
      "metadata": {
        "id": "TFTvxjEvB1KB"
      },
      "outputs": [],
      "source": [
        "list2.insert(0, 0)\n",
        "list2"
      ]
    },
    {
      "cell_type": "code",
      "execution_count": null,
      "metadata": {
        "id": "-ErQm2TVB5ja"
      },
      "outputs": [],
      "source": [
        "list2.remove(5)\n",
        "list2"
      ]
    },
    {
      "cell_type": "code",
      "execution_count": null,
      "metadata": {
        "id": "9MRPz6HtrE1T"
      },
      "outputs": [],
      "source": [
        "lastElement = list1.pop()\n",
        "print(lastElement, list1)"
      ]
    },
    {
      "cell_type": "code",
      "execution_count": null,
      "metadata": {
        "id": "uKZYhN0HCLAH"
      },
      "outputs": [],
      "source": [
        "list1.sort(reverse = True)\n",
        "list1"
      ]
    },
    {
      "cell_type": "markdown",
      "metadata": {
        "id": "q0gyNQv4CNUw"
      },
      "source": [
        "#### del function"
      ]
    },
    {
      "cell_type": "code",
      "execution_count": null,
      "metadata": {
        "id": "QHx8qd7wB8Tu"
      },
      "outputs": [],
      "source": [
        "del list2[0]\n",
        "list2"
      ]
    },
    {
      "cell_type": "markdown",
      "metadata": {
        "id": "bZ_0Caeb2fyF"
      },
      "source": [
        "#### len Function"
      ]
    },
    {
      "cell_type": "code",
      "execution_count": null,
      "metadata": {
        "id": "_Ku1Kui_2kfz"
      },
      "outputs": [],
      "source": [
        "list1 = [1, 2, 3, 4, 5]\n",
        "len(list1)"
      ]
    },
    {
      "cell_type": "markdown",
      "metadata": {
        "id": "CTmx221DswPN"
      },
      "source": [
        "#### Call by Memory"
      ]
    },
    {
      "cell_type": "code",
      "execution_count": null,
      "metadata": {
        "id": "rnKfKxZsrMvI"
      },
      "outputs": [],
      "source": [
        "list3 = list1"
      ]
    },
    {
      "cell_type": "code",
      "execution_count": null,
      "metadata": {
        "id": "mWC7G_Je5sJt"
      },
      "outputs": [],
      "source": [
        "hex(id(list1))"
      ]
    },
    {
      "cell_type": "code",
      "execution_count": null,
      "metadata": {
        "id": "UCQwNlPW5uX5"
      },
      "outputs": [],
      "source": [
        "hex(id(list3))"
      ]
    },
    {
      "cell_type": "code",
      "execution_count": null,
      "metadata": {
        "id": "xyDU-sVgrPPo"
      },
      "outputs": [],
      "source": [
        "list3.pop()\n",
        "list1"
      ]
    },
    {
      "cell_type": "markdown",
      "metadata": {
        "id": "vKg80Tsfsyzk"
      },
      "source": [
        "#### Slicing"
      ]
    },
    {
      "cell_type": "code",
      "execution_count": null,
      "metadata": {
        "id": "Kc7pzRD_rQjo"
      },
      "outputs": [],
      "source": [
        "list1[:]"
      ]
    },
    {
      "cell_type": "code",
      "execution_count": null,
      "metadata": {
        "id": "mXYkNtocrbhg"
      },
      "outputs": [],
      "source": [
        "list1[:2]"
      ]
    },
    {
      "cell_type": "code",
      "execution_count": null,
      "metadata": {
        "id": "vUHgWaj2rc2T"
      },
      "outputs": [],
      "source": [
        "list1[1:]"
      ]
    },
    {
      "cell_type": "markdown",
      "metadata": {
        "id": "ie_u_dBu3XCS"
      },
      "source": [
        "#### Extension"
      ]
    },
    {
      "cell_type": "code",
      "execution_count": null,
      "metadata": {
        "id": "g2jV6-fz3YMc"
      },
      "outputs": [],
      "source": [
        "list1 = [1, 2, 3]\n",
        "list2 = [4, 5, 6]\n",
        "list3 = list1 + list2"
      ]
    },
    {
      "cell_type": "code",
      "execution_count": null,
      "metadata": {
        "id": "eb8CwYZX3dKe"
      },
      "outputs": [],
      "source": [
        "list3"
      ]
    },
    {
      "cell_type": "markdown",
      "metadata": {
        "id": "VjbScQAXENGG"
      },
      "source": [
        "#### Finding Item and Index"
      ]
    },
    {
      "cell_type": "code",
      "execution_count": null,
      "metadata": {
        "id": "c_b2nfHsEM2t"
      },
      "outputs": [],
      "source": [
        "list1 = [1, 2, 3, 4, 5, 6, 7, 8, 9, 10]"
      ]
    },
    {
      "cell_type": "code",
      "execution_count": null,
      "metadata": {
        "id": "VByzVjNKEaT7"
      },
      "outputs": [],
      "source": [
        "1 in list1"
      ]
    },
    {
      "cell_type": "code",
      "execution_count": null,
      "metadata": {
        "id": "FOQTupCaEclp"
      },
      "outputs": [],
      "source": [
        "11 in list1"
      ]
    },
    {
      "cell_type": "code",
      "execution_count": null,
      "metadata": {
        "id": "5nsznujJEgvB"
      },
      "outputs": [],
      "source": [
        "list1.index(10)"
      ]
    },
    {
      "cell_type": "markdown",
      "metadata": {
        "id": "k-P4GOj7s0t5"
      },
      "source": [
        "### 2-D List (Array)"
      ]
    },
    {
      "cell_type": "markdown",
      "metadata": {
        "id": "vlTTSSvltby0"
      },
      "source": [
        "![KakaoTalk_20210804_144922969.png](data:image/png;base64,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)"
      ]
    },
    {
      "cell_type": "code",
      "execution_count": null,
      "metadata": {
        "id": "ZkXWcC3_s_r9"
      },
      "outputs": [],
      "source": [
        "list1 = [[1, 2, 3], [4, 5, 6]]\n",
        "list1"
      ]
    },
    {
      "cell_type": "code",
      "execution_count": null,
      "metadata": {
        "id": "OuWOUd_PrfAg"
      },
      "outputs": [],
      "source": [
        "list1[0][0]"
      ]
    },
    {
      "cell_type": "code",
      "execution_count": null,
      "metadata": {
        "id": "2DWt7io9tNsQ"
      },
      "outputs": [],
      "source": [
        "list1[0][1]"
      ]
    },
    {
      "cell_type": "code",
      "execution_count": null,
      "metadata": {
        "id": "xCnRVGCztO--"
      },
      "outputs": [],
      "source": [
        "list1[1][1]"
      ]
    },
    {
      "cell_type": "markdown",
      "metadata": {
        "id": "loEJd3TgazSR"
      },
      "source": [
        "#### len Function"
      ]
    },
    {
      "cell_type": "code",
      "execution_count": null,
      "metadata": {
        "id": "tBxBDY0da0eU"
      },
      "outputs": [],
      "source": [
        "len(list1)"
      ]
    },
    {
      "cell_type": "code",
      "execution_count": null,
      "metadata": {
        "id": "pW9FbPyta66O"
      },
      "outputs": [],
      "source": [
        "len(list1[0])"
      ]
    },
    {
      "cell_type": "markdown",
      "metadata": {
        "id": "uZQ3LsxNtpPF"
      },
      "source": [
        "#### List (Array) Element Modification"
      ]
    },
    {
      "cell_type": "code",
      "execution_count": null,
      "metadata": {
        "id": "XRtp3IUvtlTS"
      },
      "outputs": [],
      "source": [
        "list1[1][1] = 100"
      ]
    },
    {
      "cell_type": "code",
      "execution_count": null,
      "metadata": {
        "id": "rVXgM0brtm2q"
      },
      "outputs": [],
      "source": [
        "list1"
      ]
    },
    {
      "cell_type": "markdown",
      "metadata": {
        "id": "eaRp0x3lNFrz"
      },
      "source": [
        "### List Comprehension"
      ]
    },
    {
      "cell_type": "code",
      "execution_count": null,
      "metadata": {
        "id": "y6hXInXiNJwS"
      },
      "outputs": [],
      "source": [
        "numSampleList = list(range(1, 11))"
      ]
    },
    {
      "cell_type": "code",
      "execution_count": null,
      "metadata": {
        "id": "1AnDKu1cNROI"
      },
      "outputs": [],
      "source": [
        "numEven = 0\n",
        "for i in numSampleList :\n",
        "  if i % 2 == 0 :\n",
        "    numEven += 1"
      ]
    },
    {
      "cell_type": "code",
      "execution_count": null,
      "metadata": {
        "id": "imRYdfI0NRam"
      },
      "outputs": [],
      "source": [
        "numEven"
      ]
    },
    {
      "cell_type": "code",
      "execution_count": null,
      "metadata": {
        "id": "wKwZhBhsNXJI"
      },
      "outputs": [],
      "source": [
        "numEven = len([i for i in numSampleList if i % 2 == 0])"
      ]
    },
    {
      "cell_type": "code",
      "execution_count": null,
      "metadata": {
        "id": "mQZ8cqOPNXYJ"
      },
      "outputs": [],
      "source": [
        "numEven"
      ]
    },
    {
      "cell_type": "markdown",
      "metadata": {
        "id": "ku5EaJO8EDee"
      },
      "source": [
        "## Tuple"
      ]
    },
    {
      "cell_type": "code",
      "execution_count": null,
      "metadata": {
        "id": "sKOk-OJdEEzy"
      },
      "outputs": [],
      "source": [
        "tuple1 = (1, 2, 3, 4)"
      ]
    },
    {
      "cell_type": "code",
      "execution_count": null,
      "metadata": {
        "id": "jgs09_8QEIhe"
      },
      "outputs": [],
      "source": [
        "tuple1[0]"
      ]
    },
    {
      "cell_type": "code",
      "execution_count": null,
      "metadata": {
        "id": "fOjCXDZoEqUU"
      },
      "outputs": [],
      "source": [
        "tuple1[0] = 0"
      ]
    },
    {
      "cell_type": "code",
      "execution_count": null,
      "metadata": {
        "id": "6WpHtsI-Esv_"
      },
      "outputs": [],
      "source": [
        "tuple1.index(4)"
      ]
    },
    {
      "cell_type": "code",
      "execution_count": null,
      "metadata": {
        "id": "H2qQraPKEwW9"
      },
      "outputs": [],
      "source": [
        "list1 = list(tuple1)\n",
        "list1"
      ]
    },
    {
      "cell_type": "markdown",
      "metadata": {
        "id": "oa3jyL92BYQP"
      },
      "source": [
        "## Elements Unpacking"
      ]
    },
    {
      "cell_type": "markdown",
      "metadata": {
        "id": "3_S1iUbDCA-u"
      },
      "source": [
        "### List"
      ]
    },
    {
      "cell_type": "code",
      "execution_count": null,
      "metadata": {
        "id": "XpUC97d1BdQZ"
      },
      "outputs": [],
      "source": [
        "list1 = [1, 2, 3, 4, 5]"
      ]
    },
    {
      "cell_type": "code",
      "execution_count": null,
      "metadata": {
        "id": "dLxLds_0CUvF"
      },
      "outputs": [],
      "source": [
        "num1, num2, num3, num4, num5 = list1[0], list1[1], list1[2], list1[3], list1[4]"
      ]
    },
    {
      "cell_type": "code",
      "execution_count": null,
      "metadata": {
        "id": "RSUz5244CVPr"
      },
      "outputs": [],
      "source": [
        "print(num1, num2, num3, num4, num5)"
      ]
    },
    {
      "cell_type": "code",
      "execution_count": null,
      "metadata": {
        "id": "98jBAqfPB5de"
      },
      "outputs": [],
      "source": [
        "num1, num2, num3, num4, num5 = list1"
      ]
    },
    {
      "cell_type": "code",
      "execution_count": null,
      "metadata": {
        "id": "nBbz_AoKB9EH"
      },
      "outputs": [],
      "source": [
        "print(num1, num2, num3, num4, num5)"
      ]
    },
    {
      "cell_type": "markdown",
      "metadata": {
        "id": "J0LypTKkCCt9"
      },
      "source": [
        "### Tuple"
      ]
    },
    {
      "cell_type": "code",
      "execution_count": null,
      "metadata": {
        "id": "wA-SsrPHB_gh"
      },
      "outputs": [],
      "source": [
        "tuple1 = (1, 2, 3, 4, 5)"
      ]
    },
    {
      "cell_type": "code",
      "execution_count": null,
      "metadata": {
        "id": "VdevRTmLCav7"
      },
      "outputs": [],
      "source": [
        "num1, num2, num3, num4, num5 = tuple1[0], tuple1[1], tuple1[2], tuple1[3], tuple1[4]"
      ]
    },
    {
      "cell_type": "code",
      "execution_count": null,
      "metadata": {
        "id": "MJPhktB6Caoh"
      },
      "outputs": [],
      "source": [
        "print(num1, num2, num3, num4, num5)"
      ]
    },
    {
      "cell_type": "code",
      "execution_count": null,
      "metadata": {
        "id": "H00hDaj9CHqp"
      },
      "outputs": [],
      "source": [
        "num1, num2, num3, num4, num5 = tuple1"
      ]
    },
    {
      "cell_type": "code",
      "execution_count": null,
      "metadata": {
        "id": "wHApgYXGCJ41"
      },
      "outputs": [],
      "source": [
        "print(num1, num2, num3, num4, num5)"
      ]
    },
    {
      "cell_type": "markdown",
      "metadata": {
        "id": "-Fq7gfKLuNNa"
      },
      "source": [
        "## Dictionary"
      ]
    },
    {
      "cell_type": "code",
      "execution_count": null,
      "metadata": {
        "id": "PA8skIebuPgm"
      },
      "outputs": [],
      "source": [
        "dict1 = {}\n",
        "dict1 = dict()"
      ]
    },
    {
      "cell_type": "code",
      "execution_count": null,
      "metadata": {
        "id": "z6RdtmdcuRuI"
      },
      "outputs": [],
      "source": [
        "dict1[\"Apple\"] = 10\n",
        "dict1[\"Banana\"] = 20\n",
        "dict1[\"Mango\"] = 20"
      ]
    },
    {
      "cell_type": "code",
      "execution_count": null,
      "metadata": {
        "id": "PyCkyvkCuZFK"
      },
      "outputs": [],
      "source": [
        "dict1"
      ]
    },
    {
      "cell_type": "code",
      "execution_count": null,
      "metadata": {
        "id": "fBMupiIauZnf"
      },
      "outputs": [],
      "source": [
        "dict1.keys()"
      ]
    },
    {
      "cell_type": "code",
      "execution_count": null,
      "metadata": {
        "id": "tPKHeTU8ubA0"
      },
      "outputs": [],
      "source": [
        "dict1.values()"
      ]
    },
    {
      "cell_type": "code",
      "execution_count": null,
      "metadata": {
        "id": "1CVSKwz1ucL8"
      },
      "outputs": [],
      "source": [
        "dict1[\"Apple\"]"
      ]
    },
    {
      "cell_type": "code",
      "execution_count": null,
      "metadata": {
        "id": "5X20zu5PueKs"
      },
      "outputs": [],
      "source": [
        "dict1[\"Banana\"] + dict1[\"Mango\"]"
      ]
    },
    {
      "cell_type": "markdown",
      "metadata": {
        "id": "EDt25757_Ss0"
      },
      "source": [
        "## Function"
      ]
    },
    {
      "cell_type": "markdown",
      "metadata": {
        "id": "H4s7d4_Nf3oJ"
      },
      "source": [
        "![KakaoTalk_20210805_130813304.png](data:image/png;base64,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)"
      ]
    },
    {
      "cell_type": "markdown",
      "metadata": {
        "id": "tW0fBrhZgAZ-"
      },
      "source": [
        "* Input\n",
        "* Parameter\n",
        "* Output"
      ]
    },
    {
      "cell_type": "code",
      "execution_count": null,
      "metadata": {
        "id": "pCjTgXAm_ThU"
      },
      "outputs": [],
      "source": [
        "def add(num1, num2) :\n",
        "  return num1 + num2"
      ]
    },
    {
      "cell_type": "markdown",
      "metadata": {
        "id": "JvLAKOKL_b0U"
      },
      "source": [
        "### Function Calling"
      ]
    },
    {
      "cell_type": "code",
      "execution_count": null,
      "metadata": {
        "id": "eOdqQ_9C_acw"
      },
      "outputs": [],
      "source": [
        "result = add(1, 2)\n",
        "result"
      ]
    },
    {
      "cell_type": "code",
      "execution_count": null,
      "metadata": {
        "id": "Ogm097S8_dTz"
      },
      "outputs": [],
      "source": [
        "def findMaximum(num1, num2, num3) :\n",
        "  numList = [num1, num2, num3]\n",
        "  maximum = 0\n",
        "\n",
        "  for num in numList :\n",
        "    if maximum < num :\n",
        "      maximum = num\n",
        "\n",
        "  return maximum"
      ]
    },
    {
      "cell_type": "code",
      "execution_count": null,
      "metadata": {
        "id": "cGMHg9JY_lSo"
      },
      "outputs": [],
      "source": [
        "maximum = findMaximum(10, 100, 1000)\n",
        "maximum"
      ]
    },
    {
      "cell_type": "code",
      "execution_count": null,
      "metadata": {
        "id": "QWlXEYjt_n8b"
      },
      "outputs": [],
      "source": [
        "def getName() :\n",
        "  name = input(\"Type in your name: \")\n",
        "  print(f\"Your name is {name}\")"
      ]
    },
    {
      "cell_type": "code",
      "execution_count": null,
      "metadata": {
        "id": "rcz09IPz_ySb"
      },
      "outputs": [],
      "source": [
        "getName()"
      ]
    },
    {
      "cell_type": "markdown",
      "metadata": {
        "id": "akyqTXJW_7sG"
      },
      "source": [
        "### Recursive Function"
      ]
    },
    {
      "cell_type": "markdown",
      "metadata": {
        "id": "2CR0CmgomGWA"
      },
      "source": [
        "![KakaoTalk_20210805_133529935.png](data:image/png;base64,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)"
      ]
    },
    {
      "cell_type": "code",
      "execution_count": null,
      "metadata": {
        "id": "AF79oVWxlHqf"
      },
      "outputs": [],
      "source": [
        "def factorial(num) :\n",
        "  if num > 0 :\n",
        "    return num * factorial(num - 1)\n",
        "  else :\n",
        "    return 1"
      ]
    },
    {
      "cell_type": "code",
      "execution_count": null,
      "metadata": {
        "id": "ykD6g0bs4dNA"
      },
      "outputs": [],
      "source": [
        "num = 5"
      ]
    },
    {
      "cell_type": "code",
      "execution_count": null,
      "metadata": {
        "id": "N6LMSNqzleVL"
      },
      "outputs": [],
      "source": [
        "result = factorial(num)\n",
        "result"
      ]
    },
    {
      "cell_type": "markdown",
      "metadata": {
        "id": "3mCg7Br0AFuF"
      },
      "source": [
        "#### Factorial with For Loop"
      ]
    },
    {
      "cell_type": "code",
      "execution_count": null,
      "metadata": {
        "id": "UE1OhK6nmPC4"
      },
      "outputs": [],
      "source": [
        "result = 1\n",
        "\n",
        "for i in range(1, num + 1) :\n",
        "  result *= i\n",
        "\n",
        "result"
      ]
    },
    {
      "cell_type": "markdown",
      "metadata": {
        "id": "C8D3R7VhmkY2"
      },
      "source": [
        "#### 여러 변수 반환"
      ]
    },
    {
      "cell_type": "code",
      "execution_count": null,
      "metadata": {
        "id": "8jPeH-2gmnOP"
      },
      "outputs": [],
      "source": [
        "def getName(firstName, lastName) :\n",
        "  wholeName = firstName + lastName\n",
        "  return firstName, lastName, wholeName"
      ]
    },
    {
      "cell_type": "code",
      "execution_count": null,
      "metadata": {
        "id": "nJtnzhXznCzA"
      },
      "outputs": [],
      "source": [
        "firstName, lastName, wholeName = getName(\"Jaekyun\", \"Ko\")\n",
        "print(f\"First Name : {firstName}, Last Name : {lastName}, Whole Name : {wholeName}\")"
      ]
    },
    {
      "cell_type": "markdown",
      "metadata": {
        "id": "-RGniDc4IKXj"
      },
      "source": [
        "#### 입력 변수 고정"
      ]
    },
    {
      "cell_type": "code",
      "execution_count": null,
      "metadata": {
        "id": "bxa2szczIMG5"
      },
      "outputs": [],
      "source": [
        "def getValue(x, a, b, c = 0) :\n",
        "  return c * x**2 + b * x + a"
      ]
    },
    {
      "cell_type": "code",
      "execution_count": null,
      "metadata": {
        "id": "4HObkbExIUsY"
      },
      "outputs": [],
      "source": [
        "value1 = getValue(10, 1, 1)\n",
        "value1"
      ]
    },
    {
      "cell_type": "code",
      "execution_count": null,
      "metadata": {
        "id": "bxUGZuhIIcpP"
      },
      "outputs": [],
      "source": [
        "value2 = getValue(10, 1, 1, 1)\n",
        "value2"
      ]
    },
    {
      "cell_type": "markdown",
      "metadata": {
        "id": "hAyP-LumDEJM"
      },
      "source": [
        "#### **반환 변수 타입 명확적 표현**"
      ]
    },
    {
      "cell_type": "code",
      "execution_count": null,
      "metadata": {
        "id": "nSD3JAF5DG6z"
      },
      "outputs": [],
      "source": [
        "def addInteger(num1:int, num2:int) -> int :\n",
        "  return num1+num2"
      ]
    },
    {
      "cell_type": "code",
      "execution_count": null,
      "metadata": {
        "id": "umEo4v1lDSrk"
      },
      "outputs": [],
      "source": [
        "def addString(str1:str, str2:str) -> str :\n",
        "  return str1+str2"
      ]
    },
    {
      "cell_type": "markdown",
      "metadata": {
        "id": "N7SIczcADyfO"
      },
      "source": [
        "# 실습\n"
      ]
    },
    {
      "cell_type": "markdown",
      "metadata": {
        "id": "Xgbr7V_vTMtN"
      },
      "source": [
        "### 1) 1단부터 9까지 각 숫자별 Key를 만든 후 해당 Key에 해당하는 구구단을 List 형태로 저장하시오."
      ]
    },
    {
      "cell_type": "code",
      "execution_count": null,
      "metadata": {
        "id": "k-qI04LDTY7_"
      },
      "outputs": [],
      "source": []
    },
    {
      "cell_type": "markdown",
      "metadata": {
        "id": "RXV5dsPbnhCC"
      },
      "source": [
        "### 2) 입력 List의 평균과 분산을 계산하는 함수를 만드시오."
      ]
    },
    {
      "cell_type": "markdown",
      "metadata": {
        "id": "aRDRTkIFn3EQ"
      },
      "source": [
        "![image.png](data:image/png;base64,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)"
      ]
    },
    {
      "cell_type": "markdown",
      "metadata": {
        "id": "BDRB8I7pVkDG"
      },
      "source": [
        "https://dp-story.tistory.com/10"
      ]
    },
    {
      "cell_type": "code",
      "execution_count": null,
      "metadata": {
        "id": "X0bXSLuYnl7J"
      },
      "outputs": [],
      "source": [
        "def calculateStatistic(inputList:list) -> float :\n",
        "  # Code Block\n",
        "  return mean, var"
      ]
    },
    {
      "cell_type": "code",
      "execution_count": null,
      "metadata": {
        "id": "1mWRU4g8oHro"
      },
      "outputs": [],
      "source": [
        "inputList = [1, 2, 3, 4, 5, 6, 7, 8, 9, 10]\n",
        "mean, var = calculateStatistic(inputList)\n",
        "print(mean, var)"
      ]
    }
  ],
  "metadata": {
    "colab": {
      "provenance": [],
      "authorship_tag": "ABX9TyOmB2WRx4OR4sqGBMbGiPoP",
      "include_colab_link": true
    },
    "kernelspec": {
      "display_name": "Python 3",
      "name": "python3"
    },
    "language_info": {
      "name": "python"
    }
  },
  "nbformat": 4,
  "nbformat_minor": 0
}