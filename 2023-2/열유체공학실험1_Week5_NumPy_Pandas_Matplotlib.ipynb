{
  "cells": [
    {
      "cell_type": "markdown",
      "metadata": {
        "id": "view-in-github",
        "colab_type": "text"
      },
      "source": [
        "<a href=\"https://colab.research.google.com/github/JK-the-Ko/Thermo-Fluid-Dynamics-Experiment/blob/main/2023-2/%EC%97%B4%EC%9C%A0%EC%B2%B4%EA%B3%B5%ED%95%99%EC%8B%A4%ED%97%981_Week5_NumPy_Pandas_Matplotlib.ipynb\" target=\"_parent\"><img src=\"https://colab.research.google.com/assets/colab-badge.svg\" alt=\"Open In Colab\"/></a>"
      ]
    },
    {
      "cell_type": "markdown",
      "source": [
        "# Data Science Libraries"
      ],
      "metadata": {
        "id": "stt9DJzJgU5F"
      }
    },
    {
      "cell_type": "markdown",
      "source": [
        "## Check for Installed Libraries"
      ],
      "metadata": {
        "id": "HiC-477ZcVlx"
      }
    },
    {
      "cell_type": "code",
      "source": [
        "!python3 -m pip list"
      ],
      "metadata": {
        "id": "vxwjaqIgcZ1w"
      },
      "execution_count": null,
      "outputs": []
    },
    {
      "cell_type": "markdown",
      "metadata": {
        "id": "jXTZoastaYb-"
      },
      "source": [
        "## NumPy"
      ]
    },
    {
      "cell_type": "markdown",
      "metadata": {
        "id": "fZjjCB81Ki7t"
      },
      "source": [
        "### Array Operations"
      ]
    },
    {
      "cell_type": "code",
      "execution_count": null,
      "metadata": {
        "id": "CNHyOpTsXQ4b"
      },
      "outputs": [],
      "source": [
        "import numpy as np"
      ]
    },
    {
      "cell_type": "code",
      "execution_count": null,
      "metadata": {
        "id": "-AGmABQye1d-"
      },
      "outputs": [],
      "source": [
        "type(np)"
      ]
    },
    {
      "cell_type": "markdown",
      "metadata": {
        "id": "TF6A1xBYh5Sx"
      },
      "source": [
        "#### list → array\n"
      ]
    },
    {
      "cell_type": "code",
      "execution_count": null,
      "metadata": {
        "id": "agsaPFzRh-JI"
      },
      "outputs": [],
      "source": [
        "list1 = [1, 2, 3, 4, 5]"
      ]
    },
    {
      "cell_type": "code",
      "execution_count": null,
      "metadata": {
        "id": "aO2WVIZWe8wy"
      },
      "outputs": [],
      "source": [
        "array1 = np.array(list1, dtype = \"int32\")\n",
        "array1"
      ]
    },
    {
      "cell_type": "code",
      "execution_count": null,
      "metadata": {
        "id": "hkSUdhSliAtt"
      },
      "outputs": [],
      "source": [
        "array2 = np.array(list1, dtype = \"float32\")\n",
        "array2"
      ]
    },
    {
      "cell_type": "code",
      "execution_count": null,
      "metadata": {
        "id": "W6p7vqryiDLE"
      },
      "outputs": [],
      "source": [
        "array3 = array2.astype(\"uint32\")\n",
        "array3"
      ]
    },
    {
      "cell_type": "markdown",
      "metadata": {
        "id": "alF8BQfmnQhE"
      },
      "source": [
        "###### Character"
      ]
    },
    {
      "cell_type": "code",
      "execution_count": null,
      "metadata": {
        "id": "ljQ8rjV2jilE"
      },
      "outputs": [],
      "source": [
        "list1 = [\"a\", \"b\", \"c\", \"d\", \"e\"]"
      ]
    },
    {
      "cell_type": "code",
      "execution_count": null,
      "metadata": {
        "id": "6oUeSfgYmjNo"
      },
      "outputs": [],
      "source": [
        "array1 = np.array(list1, dtype = \"U\")\n",
        "array1"
      ]
    },
    {
      "cell_type": "markdown",
      "metadata": {
        "id": "tb9qWKAV1jLZ"
      },
      "source": [
        "###### Boolean"
      ]
    },
    {
      "cell_type": "code",
      "execution_count": null,
      "metadata": {
        "id": "coQJXq1n1mhU"
      },
      "outputs": [],
      "source": [
        "list1 = [True, True, True, False, False]"
      ]
    },
    {
      "cell_type": "code",
      "execution_count": null,
      "metadata": {
        "id": "4_H5BY0F1q22"
      },
      "outputs": [],
      "source": [
        "array1 = np.array(list1)\n",
        "array1"
      ]
    },
    {
      "cell_type": "markdown",
      "metadata": {
        "id": "Rl1OOLD391y_"
      },
      "source": [
        "### NumPy Array Attribute and Method Example"
      ]
    },
    {
      "cell_type": "code",
      "execution_count": null,
      "metadata": {
        "id": "Hbq8G_De3p0n"
      },
      "outputs": [],
      "source": [
        "array1.dtype"
      ]
    },
    {
      "cell_type": "code",
      "execution_count": null,
      "metadata": {
        "id": "TmNMKzBg4nC-"
      },
      "outputs": [],
      "source": [
        "array1.shape"
      ]
    },
    {
      "cell_type": "code",
      "execution_count": null,
      "metadata": {
        "id": "9wC6U7o3L6Kh"
      },
      "outputs": [],
      "source": [
        "array1.ndim"
      ]
    },
    {
      "cell_type": "code",
      "execution_count": null,
      "metadata": {
        "id": "JTY9NR0S9iRF"
      },
      "outputs": [],
      "source": [
        "list2 = array1.tolist()"
      ]
    },
    {
      "cell_type": "code",
      "execution_count": null,
      "metadata": {
        "id": "VG1oQYOE9nTI"
      },
      "outputs": [],
      "source": [
        "list2"
      ]
    },
    {
      "cell_type": "code",
      "execution_count": null,
      "metadata": {
        "id": "rVxtEogH9ld1"
      },
      "outputs": [],
      "source": [
        "type(list2)"
      ]
    },
    {
      "cell_type": "code",
      "execution_count": null,
      "metadata": {
        "id": "J2_kLlWm9qms"
      },
      "outputs": [],
      "source": [
        "type(list2[0])"
      ]
    },
    {
      "cell_type": "markdown",
      "metadata": {
        "id": "C6pFA8BFnveM"
      },
      "source": [
        "### Python List vs. NumPy Array"
      ]
    },
    {
      "cell_type": "markdown",
      "metadata": {
        "id": "8MnG7fA4_Fi8"
      },
      "source": [
        "#### Numerical Operation\n"
      ]
    },
    {
      "cell_type": "code",
      "execution_count": null,
      "metadata": {
        "id": "OIkE0NMD_Hlc"
      },
      "outputs": [],
      "source": [
        "list1, list2 = [0, 1, 2, 3, 4], [5, 6, 7, 8, 9]"
      ]
    },
    {
      "cell_type": "code",
      "execution_count": null,
      "metadata": {
        "id": "oVjd0nMJ_oeV"
      },
      "outputs": [],
      "source": [
        "array1, array2 = np.array(list1), np.array(list2)"
      ]
    },
    {
      "cell_type": "code",
      "execution_count": null,
      "metadata": {
        "id": "UlaX0OPD_r1X"
      },
      "outputs": [],
      "source": [
        "list1 + list2"
      ]
    },
    {
      "cell_type": "code",
      "execution_count": null,
      "metadata": {
        "id": "3Jf--QQM_tkG"
      },
      "outputs": [],
      "source": [
        "array1 + array2"
      ]
    },
    {
      "cell_type": "code",
      "execution_count": null,
      "metadata": {
        "id": "qkQxZpJA_4EO"
      },
      "outputs": [],
      "source": [
        "array1 - array2"
      ]
    },
    {
      "cell_type": "code",
      "execution_count": null,
      "metadata": {
        "id": "y1Qlll7W_w0A"
      },
      "outputs": [],
      "source": [
        "array1 * array2"
      ]
    },
    {
      "cell_type": "code",
      "execution_count": null,
      "metadata": {
        "id": "_Oyecv-C_3kt"
      },
      "outputs": [],
      "source": [
        "array1 / array2"
      ]
    },
    {
      "cell_type": "code",
      "execution_count": null,
      "metadata": {
        "id": "URvGiC8Q_7eM"
      },
      "outputs": [],
      "source": [
        "(array1 / array2).dtype"
      ]
    },
    {
      "cell_type": "code",
      "execution_count": null,
      "metadata": {
        "id": "k2lSYrPSCS6g"
      },
      "outputs": [],
      "source": [
        "(array1 + 10) * 5"
      ]
    },
    {
      "cell_type": "markdown",
      "metadata": {
        "id": "rSs-YlfN5BXK"
      },
      "source": [
        "### NumPy 2D Array"
      ]
    },
    {
      "cell_type": "code",
      "execution_count": null,
      "metadata": {
        "id": "kC6HKwKS5DzS"
      },
      "outputs": [],
      "source": [
        "list1 = [[0, 1, 2, 3, 4], [5, 6, 7, 8, 9]]"
      ]
    },
    {
      "cell_type": "code",
      "execution_count": null,
      "metadata": {
        "id": "yKjEMosJ5JWU"
      },
      "outputs": [],
      "source": [
        "array1 = np.array(list1, dtype = \"int64\")\n",
        "array1"
      ]
    },
    {
      "cell_type": "code",
      "execution_count": null,
      "metadata": {
        "id": "5XJlv4QY5QBL"
      },
      "outputs": [],
      "source": [
        "array1.shape"
      ]
    },
    {
      "cell_type": "code",
      "execution_count": null,
      "metadata": {
        "id": "fRc6NPDY5TXX"
      },
      "outputs": [],
      "source": [
        "row, column = array1.shape"
      ]
    },
    {
      "cell_type": "code",
      "execution_count": null,
      "metadata": {
        "id": "z3pBZOWa-Cph"
      },
      "outputs": [],
      "source": [
        "print(f\"Array Row : {row}\")\n",
        "print(f\"Array Column : {column}\")"
      ]
    },
    {
      "cell_type": "code",
      "execution_count": null,
      "metadata": {
        "id": "Sgh-tkmd5hVq"
      },
      "outputs": [],
      "source": [
        "array1[0][0] = 10\n",
        "array1"
      ]
    },
    {
      "cell_type": "markdown",
      "metadata": {
        "id": "Sbzam6iJqti8"
      },
      "source": [
        "### list(numpyArray) vs. numpyArray.to_list()"
      ]
    },
    {
      "cell_type": "code",
      "execution_count": null,
      "metadata": {
        "id": "gMgCtNEAqyS9"
      },
      "outputs": [],
      "source": [
        "array1 = np.array([[1, 2, 3], [4, 5, 6]])"
      ]
    },
    {
      "cell_type": "code",
      "execution_count": null,
      "metadata": {
        "id": "Ow_hl40Kq47J"
      },
      "outputs": [],
      "source": [
        "list1 = list(array1)\n",
        "list2 = array1.tolist()"
      ]
    },
    {
      "cell_type": "code",
      "execution_count": null,
      "metadata": {
        "id": "73_nK0P9q-6O"
      },
      "outputs": [],
      "source": [
        "list1"
      ]
    },
    {
      "cell_type": "code",
      "execution_count": null,
      "metadata": {
        "id": "AfAX1l5hrAnu"
      },
      "outputs": [],
      "source": [
        "list2"
      ]
    },
    {
      "cell_type": "code",
      "execution_count": null,
      "metadata": {
        "id": "-SF9XfUtrBy7"
      },
      "outputs": [],
      "source": [
        "type(list1[0])"
      ]
    },
    {
      "cell_type": "code",
      "execution_count": null,
      "metadata": {
        "id": "0Mvhcnv4rDzf"
      },
      "outputs": [],
      "source": [
        "type(list2[0])"
      ]
    },
    {
      "cell_type": "markdown",
      "metadata": {
        "id": "rGqv1jF3-Un7"
      },
      "source": [
        "### NumPy Array Instantiation with Pre-determined Shape and Element"
      ]
    },
    {
      "cell_type": "markdown",
      "metadata": {
        "id": "4PGr-gBaM5Ed"
      },
      "source": [
        "#### np.zeroes(shape, dtype)\n",
        "  * shape → NumPy Array Size\n",
        "  * dtype → NumPy Array Data Type"
      ]
    },
    {
      "cell_type": "code",
      "execution_count": null,
      "metadata": {
        "id": "60HMkz_E-i7w"
      },
      "outputs": [],
      "source": [
        "row, column = 500, 500"
      ]
    },
    {
      "cell_type": "code",
      "execution_count": null,
      "metadata": {
        "id": "At7diaIgC03X"
      },
      "outputs": [],
      "source": [
        "array1 = np.zeros((row), dtype = \"int32\")\n",
        "array1"
      ]
    },
    {
      "cell_type": "code",
      "execution_count": null,
      "metadata": {
        "id": "ddGMYe6qB4lD"
      },
      "outputs": [],
      "source": [
        "array1 = np.zeros((row, column), dtype = \"int64\")\n",
        "array1"
      ]
    },
    {
      "cell_type": "code",
      "execution_count": null,
      "metadata": {
        "id": "1TRN25p8CDFv"
      },
      "outputs": [],
      "source": [
        "array1.dtype"
      ]
    },
    {
      "cell_type": "markdown",
      "metadata": {
        "id": "ZrB2ns_9M7ja"
      },
      "source": [
        "#### np.ones(shape, dtype)\n",
        "  * shape → NumPy Array Size\n",
        "  * dtype → NumPy Array Data Type"
      ]
    },
    {
      "cell_type": "code",
      "execution_count": null,
      "metadata": {
        "id": "LVaD8xehB9fx"
      },
      "outputs": [],
      "source": [
        "array2 = np.ones((row, column), dtype = \"float64\")\n",
        "array2"
      ]
    },
    {
      "cell_type": "code",
      "execution_count": null,
      "metadata": {
        "id": "IGFTh3diCB8B"
      },
      "outputs": [],
      "source": [
        "array2.dtype"
      ]
    },
    {
      "cell_type": "markdown",
      "metadata": {
        "id": "4MLzthkXCqWA"
      },
      "source": [
        "###### Same Output with List"
      ]
    },
    {
      "cell_type": "code",
      "execution_count": null,
      "metadata": {
        "id": "1kcvq8ZrCGxb"
      },
      "outputs": [],
      "source": [
        "list1 = list()\n",
        "\n",
        "for i in range(row) :\n",
        "  list2 = list()\n",
        "  for j in range(column) :\n",
        "    list2.append(1.)\n",
        "  list1.append(list2)"
      ]
    },
    {
      "cell_type": "code",
      "execution_count": null,
      "metadata": {
        "id": "8iX0gPmpDCeh"
      },
      "outputs": [],
      "source": [
        "len(list1)"
      ]
    },
    {
      "cell_type": "code",
      "execution_count": null,
      "metadata": {
        "id": "31GkBpICDLks"
      },
      "outputs": [],
      "source": [
        "len(list1[0])"
      ]
    },
    {
      "cell_type": "code",
      "execution_count": null,
      "metadata": {
        "id": "kdu8qiEtDRSg"
      },
      "outputs": [],
      "source": [
        "list1[40][50]"
      ]
    },
    {
      "cell_type": "markdown",
      "metadata": {
        "id": "PR6dF3QOD5wY"
      },
      "source": [
        "### NumPy Array Instantiation with Range and Constant Difference\n",
        "\n"
      ]
    },
    {
      "cell_type": "markdown",
      "metadata": {
        "id": "Tn6rIxJTfIfd"
      },
      "source": [
        "#### np.linsapce(start, stop, num, dtype)\n",
        "  * start → Start Number\n",
        "  * stop → End Number\n",
        "  * num → Number of Generated Samples"
      ]
    },
    {
      "cell_type": "code",
      "execution_count": null,
      "metadata": {
        "id": "QZdGxblFEsWb"
      },
      "outputs": [],
      "source": [
        "start, stop, num = 1, 100, 100"
      ]
    },
    {
      "cell_type": "code",
      "execution_count": null,
      "metadata": {
        "id": "E_rwIc-rFIde"
      },
      "outputs": [],
      "source": [
        "array1 = np.linspace(start,stop, num, dtype = \"int64\")\n",
        "array1"
      ]
    },
    {
      "cell_type": "markdown",
      "metadata": {
        "id": "CUqYs22JfH3S"
      },
      "source": [
        "#### np.arange(start, stop, step, dtype)\n",
        "  * start → Start Number\n",
        "  * stop → End Number\n",
        "  * num → Spacing between Values"
      ]
    },
    {
      "cell_type": "code",
      "execution_count": null,
      "metadata": {
        "id": "YnZ-0FCGFMqf"
      },
      "outputs": [],
      "source": [
        "start, stop, step = 1, 100, 1"
      ]
    },
    {
      "cell_type": "code",
      "execution_count": null,
      "metadata": {
        "id": "gFFUjRuZFZkT"
      },
      "outputs": [],
      "source": [
        "array2 = np.arange(start, stop, step, dtype = \"int64\")\n",
        "array2"
      ]
    },
    {
      "cell_type": "code",
      "execution_count": null,
      "metadata": {
        "id": "UCLCD3eXFdsa"
      },
      "outputs": [],
      "source": [
        "start, stop, step = 1, 101, 1\n",
        "\n",
        "array2 = np.arange(start, stop, step, dtype = \"int64\")\n",
        "array2"
      ]
    },
    {
      "cell_type": "markdown",
      "metadata": {
        "id": "O_kviWggFp7B"
      },
      "source": [
        "###### Same Output with List"
      ]
    },
    {
      "cell_type": "code",
      "execution_count": null,
      "metadata": {
        "id": "wnYoJVquFirp"
      },
      "outputs": [],
      "source": [
        "list1 = list(range(1, 101, 1))\n",
        "list1"
      ]
    },
    {
      "cell_type": "markdown",
      "metadata": {
        "id": "em4NucWUF63D"
      },
      "source": [
        "###### NumPy linspace / arange Method Example"
      ]
    },
    {
      "cell_type": "code",
      "execution_count": null,
      "metadata": {
        "id": "rKmrgY5gF-_k"
      },
      "outputs": [],
      "source": [
        "x = np.linspace(1, 100, 100, dtype = \"int64\")\n",
        "y = np.sin(x)"
      ]
    },
    {
      "cell_type": "code",
      "execution_count": null,
      "metadata": {
        "id": "h7G5cIm4GCQy"
      },
      "outputs": [],
      "source": [
        "y"
      ]
    },
    {
      "cell_type": "code",
      "execution_count": null,
      "metadata": {
        "id": "4CpPcRHPGDCF"
      },
      "outputs": [],
      "source": [
        "x = np.arange(1, 101, 1, dtype = \"int64\")\n",
        "y = np.sin(x)"
      ]
    },
    {
      "cell_type": "code",
      "execution_count": null,
      "metadata": {
        "id": "Mqwe7hIHGMyZ"
      },
      "outputs": [],
      "source": [
        "y"
      ]
    },
    {
      "cell_type": "markdown",
      "metadata": {
        "id": "S-MrsOQsroC4"
      },
      "source": [
        "### NumPy 실습"
      ]
    },
    {
      "cell_type": "markdown",
      "metadata": {
        "id": "57Z5E0GUscRK"
      },
      "source": [
        "### Python List [1, 2, 3, 4, 5] 그리고 [6, 7, 8, 9, 10]가 주어졌을 시, 각 Index 간의 곱셈을 List와 NumPy Array를 사용하여 최종 값을 List에 반환하여 출력하세요."
      ]
    },
    {
      "cell_type": "code",
      "execution_count": null,
      "metadata": {
        "id": "IVXQrk4Bs9BN"
      },
      "outputs": [],
      "source": [
        "list1, list2 = [1, 2, 3, 4, 5], [6, 7, 8, 9, 10]"
      ]
    },
    {
      "cell_type": "code",
      "execution_count": null,
      "metadata": {
        "id": "hhCQRKj9tB0J"
      },
      "outputs": [],
      "source": [
        "def vanillaList(list1, list2) :\n",
        "  # Code Block\n",
        "  return multList"
      ]
    },
    {
      "cell_type": "code",
      "execution_count": null,
      "metadata": {
        "id": "WxcdPSHytUjL"
      },
      "outputs": [],
      "source": [
        "def numpyOperation(list1, list2) :\n",
        "  # Code Block\n",
        "  return multList"
      ]
    },
    {
      "cell_type": "code",
      "execution_count": null,
      "metadata": {
        "id": "pDAwZubqtZB2"
      },
      "outputs": [],
      "source": [
        "multList1 = vanillaList(list1, list2)\n",
        "multList2 = numpyOperation(list1, list2)"
      ]
    },
    {
      "cell_type": "code",
      "execution_count": null,
      "metadata": {
        "id": "gwp0ibD-tdXh"
      },
      "outputs": [],
      "source": [
        "print(multList1, multList2)"
      ]
    },
    {
      "cell_type": "markdown",
      "metadata": {
        "id": "2oW7i_8gXlcN"
      },
      "source": [
        "## Pandas"
      ]
    },
    {
      "cell_type": "code",
      "execution_count": null,
      "metadata": {
        "id": "SlIrCBxpUIok"
      },
      "outputs": [],
      "source": [
        "import pandas as pd"
      ]
    },
    {
      "cell_type": "markdown",
      "metadata": {
        "id": "NThGf1xqa4ZN"
      },
      "source": [
        "### Pandas DataFrame (NumPy Array)"
      ]
    },
    {
      "cell_type": "code",
      "execution_count": null,
      "metadata": {
        "id": "46m_wc8SX2dx"
      },
      "outputs": [],
      "source": [
        "x = np.arange(0, 2 * np.pi, 0.1)\n",
        "y = np.cos(x)"
      ]
    },
    {
      "cell_type": "code",
      "execution_count": null,
      "metadata": {
        "id": "fobRZEERbiQQ"
      },
      "outputs": [],
      "source": [
        "df = pd.DataFrame(data = [x, y], index = [\"x\", \"cos(x)\"])"
      ]
    },
    {
      "cell_type": "code",
      "execution_count": null,
      "metadata": {
        "id": "mgbKjiLeb3p0"
      },
      "outputs": [],
      "source": [
        "df"
      ]
    },
    {
      "cell_type": "markdown",
      "metadata": {
        "id": "yGB3We11hREw"
      },
      "source": [
        "### DataFrame Method"
      ]
    },
    {
      "cell_type": "markdown",
      "metadata": {
        "id": "Ho3tczHFcMlA"
      },
      "source": [
        "* info() → Information about DataFrame\n",
        "* transpose() → Transpose DataFrame\n",
        "* head(numRow) → Get First numRow Rows\n",
        "* to_csv(path) → Export DataFrame into CSV Format"
      ]
    },
    {
      "cell_type": "code",
      "execution_count": null,
      "metadata": {
        "id": "W9MI8-P-b4U6"
      },
      "outputs": [],
      "source": [
        "df = df.transpose()"
      ]
    },
    {
      "cell_type": "code",
      "source": [
        "df.info()"
      ],
      "metadata": {
        "id": "idxwY5N5iTXT"
      },
      "execution_count": null,
      "outputs": []
    },
    {
      "cell_type": "code",
      "execution_count": null,
      "metadata": {
        "id": "PS8pnnHrcgcX"
      },
      "outputs": [],
      "source": [
        "df"
      ]
    },
    {
      "cell_type": "code",
      "execution_count": null,
      "metadata": {
        "id": "iUEgJE5khpDd"
      },
      "outputs": [],
      "source": [
        "df.head(5)"
      ]
    },
    {
      "cell_type": "code",
      "execution_count": null,
      "metadata": {
        "id": "d70vUJ6uigwz"
      },
      "outputs": [],
      "source": [
        "df.to_csv(\"sample.csv\")"
      ]
    },
    {
      "cell_type": "markdown",
      "metadata": {
        "id": "2NizIRUKhrv2"
      },
      "source": [
        "### DataFrame Attribute"
      ]
    },
    {
      "cell_type": "markdown",
      "metadata": {
        "id": "jK2aPpJ1hnVZ"
      },
      "source": [
        "* shape → DataFrame Size\n",
        "* ndim → DataFrame Dimension"
      ]
    },
    {
      "cell_type": "code",
      "execution_count": null,
      "metadata": {
        "id": "pOJ5QGFuewmm"
      },
      "outputs": [],
      "source": [
        "df.shape"
      ]
    },
    {
      "cell_type": "code",
      "execution_count": null,
      "metadata": {
        "id": "CfUXkRo6g8Bl"
      },
      "outputs": [],
      "source": [
        "df.ndim"
      ]
    },
    {
      "cell_type": "markdown",
      "metadata": {
        "id": "KVca9VD7cyAW"
      },
      "source": [
        "### Pandas DataFrame (Dictionary)"
      ]
    },
    {
      "cell_type": "code",
      "execution_count": null,
      "metadata": {
        "id": "a9GRlwREcgzC"
      },
      "outputs": [],
      "source": [
        "x = np.arange(0, 2 * np.pi, 0.1)\n",
        "sin = np.sin(x)\n",
        "cos = np.cos(x)\n",
        "sinh = np.sinh(x)\n",
        "cosh = np.cosh(x)"
      ]
    },
    {
      "cell_type": "code",
      "execution_count": null,
      "metadata": {
        "id": "NQFuPfesdKyd"
      },
      "outputs": [],
      "source": [
        "value = dict()\n",
        "value[\"sine\"] = sin\n",
        "value[\"cosine\"] = cos\n",
        "value[\"hyperbolic sine\"] = sinh\n",
        "value[\"hyerbolic cosine\"] = cosh"
      ]
    },
    {
      "cell_type": "code",
      "execution_count": null,
      "metadata": {
        "id": "zL-NJoFQdbMT"
      },
      "outputs": [],
      "source": [
        "df = pd.DataFrame(data = value, index = x)"
      ]
    },
    {
      "cell_type": "code",
      "execution_count": null,
      "metadata": {
        "id": "YvkqQfKnde9L"
      },
      "outputs": [],
      "source": [
        "df"
      ]
    },
    {
      "cell_type": "markdown",
      "metadata": {
        "id": "gPw6_LIae7HT"
      },
      "source": [
        "### DataFrame Indexing"
      ]
    },
    {
      "cell_type": "markdown",
      "metadata": {
        "id": "vlwsaWdmfSMF"
      },
      "source": [
        "#### DataFrame_name[\"column name\"]"
      ]
    },
    {
      "cell_type": "code",
      "execution_count": null,
      "metadata": {
        "id": "i9NjbC7RfXls"
      },
      "outputs": [],
      "source": [
        "df[\"sine\"]"
      ]
    },
    {
      "cell_type": "code",
      "execution_count": null,
      "metadata": {
        "id": "KHDdeYYKfajd"
      },
      "outputs": [],
      "source": [
        "type(df[\"sine\"])"
      ]
    },
    {
      "cell_type": "code",
      "execution_count": null,
      "metadata": {
        "id": "idplvmC_e_lM"
      },
      "outputs": [],
      "source": [
        "np.array(df[\"sine\"])"
      ]
    },
    {
      "cell_type": "code",
      "execution_count": null,
      "metadata": {
        "id": "kBAe3pmGfccI"
      },
      "outputs": [],
      "source": [
        "np.array(df[\"sine\"]).tolist()"
      ]
    },
    {
      "cell_type": "markdown",
      "metadata": {
        "id": "zE-zitRii6RC"
      },
      "source": [
        "### Import Data into DataFrame"
      ]
    },
    {
      "cell_type": "markdown",
      "metadata": {
        "id": "qmjOX0wOyNWc"
      },
      "source": [
        "#### pd.read_csv(csvPath, encoding = encoding_type)"
      ]
    },
    {
      "cell_type": "code",
      "execution_count": null,
      "metadata": {
        "id": "NrDMhfceuQCz"
      },
      "outputs": [],
      "source": [
        "df = pd.read_csv(\"sample.csv\", encoding = \"CP949\")"
      ]
    },
    {
      "cell_type": "code",
      "execution_count": null,
      "metadata": {
        "id": "aukY-0JUx5Kb"
      },
      "outputs": [],
      "source": [
        "df"
      ]
    },
    {
      "cell_type": "code",
      "execution_count": null,
      "metadata": {
        "id": "YhAceTpDj-hq"
      },
      "outputs": [],
      "source": [
        "df.columns"
      ]
    },
    {
      "cell_type": "markdown",
      "metadata": {
        "id": "tPHB0zhskMQR"
      },
      "source": [
        "###### drop Method → Remove Particular Column"
      ]
    },
    {
      "cell_type": "code",
      "execution_count": null,
      "metadata": {
        "id": "0ZtmkQyTjr_d"
      },
      "outputs": [],
      "source": [
        "df = df.drop(\"Unnamed: 0\", axis = 1)"
      ]
    },
    {
      "cell_type": "code",
      "execution_count": null,
      "metadata": {
        "id": "VIYhHaJzx7Mg"
      },
      "outputs": [],
      "source": [
        "df[:10]"
      ]
    },
    {
      "cell_type": "markdown",
      "metadata": {
        "id": "Nua6s05mKGeU"
      },
      "source": [
        "## Matplotlib"
      ]
    },
    {
      "cell_type": "code",
      "execution_count": null,
      "metadata": {
        "id": "5X7WPn9OKOZs"
      },
      "outputs": [],
      "source": [
        "import matplotlib.pyplot as plt"
      ]
    },
    {
      "cell_type": "markdown",
      "metadata": {
        "id": "0Elpb-wzOLSu"
      },
      "source": [
        "### Plot Graph from NumPy Array"
      ]
    },
    {
      "cell_type": "code",
      "execution_count": null,
      "metadata": {
        "id": "TJgVXYroKdll"
      },
      "outputs": [],
      "source": [
        "x = np.arange(0, 2 * np.pi, 0.1)\n",
        "y = np.sin(x)"
      ]
    },
    {
      "cell_type": "code",
      "execution_count": null,
      "metadata": {
        "id": "CA2u08MGMwv7"
      },
      "outputs": [],
      "source": [
        "plt.plot(x, y, label = \"Line Graph\")\n",
        "plt.xlabel(\"x\")\n",
        "plt.ylabel(\"f(x)\")\n",
        "plt.legend()\n",
        "plt.show()"
      ]
    },
    {
      "cell_type": "code",
      "execution_count": null,
      "metadata": {
        "id": "r2qPihMBkStn"
      },
      "outputs": [],
      "source": [
        "plt.scatter(x, y, marker = \".\", label = \"Scatter Graph\")\n",
        "plt.xlabel(\"x\")\n",
        "plt.ylabel(\"f(x)\")\n",
        "plt.legend()\n",
        "plt.show()"
      ]
    },
    {
      "cell_type": "code",
      "execution_count": null,
      "metadata": {
        "id": "XgsBnhMvM066"
      },
      "outputs": [],
      "source": [
        "plt.scatter(x, y, marker = \"*\", label = \"Scatter Graph\")\n",
        "plt.xlabel(\"x\")\n",
        "plt.ylabel(\"f(x)\")\n",
        "plt.legend()\n",
        "plt.show()"
      ]
    },
    {
      "cell_type": "code",
      "execution_count": null,
      "metadata": {
        "id": "6Im2nW5ZkU1D"
      },
      "outputs": [],
      "source": [
        "plt.scatter(x, y, marker = \"s\", label = \"Scatter Graph\")\n",
        "plt.xlabel(\"x\")\n",
        "plt.ylabel(\"f(x)\")\n",
        "plt.legend()\n",
        "plt.show()"
      ]
    },
    {
      "cell_type": "code",
      "execution_count": null,
      "metadata": {
        "id": "rwka5L-6NjTA"
      },
      "outputs": [],
      "source": [
        "plt.bar(x, y, label = \"Bar Chart\")\n",
        "plt.xlabel(\"x\")\n",
        "plt.ylabel(\"f(x)\")\n",
        "plt.legend()\n",
        "plt.show()"
      ]
    },
    {
      "cell_type": "markdown",
      "metadata": {
        "id": "SBNlgqaoOOqn"
      },
      "source": [
        "### Plot Graph from Scratch"
      ]
    },
    {
      "cell_type": "markdown",
      "metadata": {
        "id": "o011g-OsOSLp"
      },
      "source": [
        "#### Input (NumPy) → Function → Output (NumPy)"
      ]
    },
    {
      "cell_type": "code",
      "execution_count": null,
      "metadata": {
        "id": "Zk6cVHRINrxg"
      },
      "outputs": [],
      "source": [
        "def function(x) :\n",
        "  return x**2 + 1"
      ]
    },
    {
      "cell_type": "code",
      "execution_count": null,
      "metadata": {
        "id": "5HmLh1FfOCj2"
      },
      "outputs": [],
      "source": [
        "x = np.arange(-10, 10, 0.1)\n",
        "y = function(x)"
      ]
    },
    {
      "cell_type": "code",
      "execution_count": null,
      "metadata": {
        "id": "DFrCtRQJOb0q"
      },
      "outputs": [],
      "source": [
        "type(x)"
      ]
    },
    {
      "cell_type": "code",
      "execution_count": null,
      "metadata": {
        "id": "uan9vHa3OdDz"
      },
      "outputs": [],
      "source": [
        "type(y)"
      ]
    },
    {
      "cell_type": "code",
      "execution_count": null,
      "metadata": {
        "id": "PvTCapzwOG0Z"
      },
      "outputs": [],
      "source": [
        "plt.plot(x, y, label = \"Line Graph\")\n",
        "plt.xlabel(\"x\")\n",
        "plt.ylabel(\"f(x)\")\n",
        "plt.legend()\n",
        "plt.show()"
      ]
    },
    {
      "cell_type": "markdown",
      "metadata": {
        "id": "-2tJotJyOtBw"
      },
      "source": [
        "#### Save Graph"
      ]
    },
    {
      "cell_type": "code",
      "execution_count": null,
      "metadata": {
        "id": "Q1tq4Q_QOqyY"
      },
      "outputs": [],
      "source": [
        "plt.plot(x, y, label = \"Line Graph\")\n",
        "plt.xlabel(\"x\")\n",
        "plt.ylabel(\"f(x)\")\n",
        "plt.legend()\n",
        "plt.savefig(\"sampleGraph.png\", dpi = 500)"
      ]
    },
    {
      "cell_type": "markdown",
      "metadata": {
        "id": "olXrWIGAO-8Q"
      },
      "source": [
        "### Matplotlib 3D Plot"
      ]
    },
    {
      "cell_type": "code",
      "execution_count": null,
      "metadata": {
        "id": "ioFnt5dYR1F9"
      },
      "outputs": [],
      "source": [
        "ax = plt.axes(projection = \"3d\")"
      ]
    },
    {
      "cell_type": "markdown",
      "metadata": {
        "id": "QxoXI90RSQGC"
      },
      "source": [
        "#### Plot Line Graph"
      ]
    },
    {
      "cell_type": "code",
      "execution_count": null,
      "metadata": {
        "id": "Dx24fvWTR3ZF"
      },
      "outputs": [],
      "source": [
        "ax = plt.axes(projection = \"3d\")\n",
        "\n",
        "z = np.linspace(0, 15, 1000)\n",
        "x = np.sin(z)\n",
        "y = np.cos(z)\n",
        "ax.plot3D(x, y, z)\n",
        "plt.show()"
      ]
    },
    {
      "cell_type": "markdown",
      "metadata": {
        "id": "wK6nyyD_SiRo"
      },
      "source": [
        "#### Plot Scatter Graph"
      ]
    },
    {
      "cell_type": "code",
      "execution_count": null,
      "metadata": {
        "id": "pheZnOu6SSFs"
      },
      "outputs": [],
      "source": [
        "ax = plt.axes(projection = \"3d\")\n",
        "\n",
        "z = 15 * np.random.random(100)\n",
        "x = np.sin(z) + 0.1 * np.random.randn(100)\n",
        "y = np.cos(z) + 0.1 * np.random.randn(100)\n",
        "ax.scatter3D(x, y, z)\n",
        "plt.show()"
      ]
    },
    {
      "cell_type": "markdown",
      "metadata": {
        "id": "RqmflzRGTDcm"
      },
      "source": [
        "#### Plot Graph from Scratch"
      ]
    },
    {
      "cell_type": "code",
      "execution_count": null,
      "metadata": {
        "id": "khvrqmDzSj28"
      },
      "outputs": [],
      "source": [
        "def function(x, y) :\n",
        "  return x * y + x + y"
      ]
    },
    {
      "cell_type": "code",
      "execution_count": null,
      "metadata": {
        "id": "R_2SrIw2TfnM"
      },
      "outputs": [],
      "source": [
        "ax = plt.axes(projection = \"3d\")\n",
        "x = np.arange(0, 10, 0.1)\n",
        "y = np.arange(0, 10, 0.1)\n",
        "z = function(x, y)\n",
        "ax.scatter3D(x, y, z)\n",
        "plt.savefig(\"sampleGraph3d.png\", dpi = 500)"
      ]
    },
    {
      "cell_type": "markdown",
      "metadata": {
        "id": "eqRnuaJZlcTM"
      },
      "source": [
        "### Matplotlib 실습"
      ]
    },
    {
      "cell_type": "markdown",
      "metadata": {
        "id": "lqDNtzsahWzn"
      },
      "source": [
        "아래와 같은 식을 반환하는 function(x)를 만들고,\n",
        "\n",
        "x의 범위를 [-10, 10) 그리고 step size는 0.5로 하여\n",
        "\n",
        "x와 function(x)에 관한 결과를 Line, Scatter 그래프 및 Pandas DataFrame으로 출력하세요.\n",
        "\n",
        "* 그래프\n",
        "  * x축은 \"x\", y축은 \"f(x)\"로, legend는 각 그래프 형태에 맞게 설정 (Line Graph / Scatter Graph)\n",
        "  * Scatter Graph에서 marker는 \".\"으로 설정\n",
        "\n",
        "* DataFrame\n",
        "  * x와 function(x)의 값들을 Python Dictionary에 저장 후 DataFrame 생성\n",
        "  * Column Name은 \"x\" 그리고 \"f(x)\"로 설정\n",
        "  * 상위 10번째 Row까지만 출력\n"
      ]
    },
    {
      "cell_type": "markdown",
      "metadata": {
        "id": "ZLcsfJjiiSl2"
      },
      "source": [
        "![KakaoTalk_20210809_151046278.png](data:image/png;base64,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)"
      ]
    },
    {
      "cell_type": "code",
      "execution_count": null,
      "metadata": {
        "id": "9lfLMDeeb0Uv"
      },
      "outputs": [],
      "source": [
        "def function(x) :\n",
        "  # Code Block\n",
        "  return # Value"
      ]
    },
    {
      "cell_type": "markdown",
      "metadata": {
        "id": "famanDgJmjhA"
      },
      "source": [
        "### Pandas DataFrame"
      ]
    },
    {
      "cell_type": "markdown",
      "metadata": {
        "id": "wE1Xmbx_mqwd"
      },
      "source": [
        "![화면 캡처 2021-08-09 152637.png](data:image/png;base64,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)"
      ]
    }
  ],
  "metadata": {
    "colab": {
      "provenance": [],
      "include_colab_link": true
    },
    "kernelspec": {
      "display_name": "Python 3.9.12 ('base')",
      "language": "python",
      "name": "python3"
    },
    "language_info": {
      "name": "python",
      "version": "3.9.12"
    },
    "vscode": {
      "interpreter": {
        "hash": "6f90ecf8e60f83622f9227a0dbe371322a09fc564ab23fd0d7abeea3b821b948"
      }
    }
  },
  "nbformat": 4,
  "nbformat_minor": 0
}